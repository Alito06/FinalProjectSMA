{
 "cells": [
  {
   "cell_type": "markdown",
   "metadata": {},
   "source": [
    "# Social Media Analytics\n",
    "\n",
    "## Webscraping Project\n",
    "\n",
    "### Introduction to Text Mining\n",
    "\n",
    "### Topic Modeling Analysis \n",
    "\n",
    "Felix Funes 20220306 | Paula Catalan 20221048 | Efstathia Styliagkatzi 20220078 | Alisson Tapia 20221156 | S M Abrar Hossain Asif 20220223\n",
    "\n",
    "Topic modeling analysis can provide valuable insights like:\n",
    "\n",
    "Discovering latent themes: Topic modeling allows you to uncover latent themes or topics within a collection of documents. It helps in identifying the underlying patterns and structures in large text datasets without the need for manual reading and categorization of each document.\n",
    "\n",
    "Understanding large text corpora: When dealing with a large corpus of text data, it can be challenging to gain a comprehensive understanding of the content. Topic modeling helps in summarizing and organizing the textual information into meaningful topics, making it easier to explore and navigate the dataset.\n",
    "\n",
    "Content recommendation and information retrieval: Topic modeling enables content recommendation systems to suggest relevant items based on the topics extracted from users' preferences or queries. It helps in improving search engines, recommender systems, and personalized content delivery by matching users' interests with relevant topics.\n",
    "\n",
    "Text clustering and document classification: By assigning documents to different topics, topic modeling enables text clustering and document classification. It aids in grouping similar documents together based on their thematic content, allowing for easier organization, retrieval, and analysis of the text data.\n",
    "\n",
    "Market research and customer insights: Topic modeling can be applied to customer reviews, feedback, or social media data to identify prevalent topics and sentiments. This helps businesses gain insights into customer preferences, concerns, and trends, aiding in product development, marketing strategies, and customer satisfaction analysis.\n",
    "\n",
    "Exploratory data analysis: Topic modeling serves as a powerful exploratory data analysis tool. It helps researchers and analysts to gain a quick overview of the main themes present in a text dataset, identify outliers or anomalies, and identify areas for further investigation or research."
   ]
  },
  {
   "cell_type": "markdown",
   "metadata": {},
   "source": [
    "### Initial setup"
   ]
  },
  {
   "cell_type": "code",
   "execution_count": 1,
   "metadata": {},
   "outputs": [],
   "source": [
    "# Import packages\n",
    "import csv\n",
    "import pandas as pd\n",
    "import numpy as np\n",
    "import nltk \n",
    "import re\n",
    "from bs4 import BeautifulSoup\n",
    "from nltk.tokenize import word_tokenize\n",
    "from nltk.corpus import stopwords\n",
    "from nltk.stem import WordNetLemmatizer \n",
    "\n",
    "import gensim         \n",
    "import gensim.corpora as corpora\n",
    "from gensim.utils import simple_preprocess\n",
    "from gensim.models import CoherenceModel\n",
    "\n",
    "import spacy\n",
    "\n",
    "import pyLDAvis\n",
    "#import pyLDAvis.gensim\n",
    "\n",
    "# For pyLDAvis new version - replace the previous line\n",
    "import pyLDAvis.gensim_models as gensimvis\n",
    "pyLDAvis.enable_notebook()\n",
    "\n",
    "\n",
    "import matplotlib.pyplot as plt"
   ]
  },
  {
   "cell_type": "code",
   "execution_count": 2,
   "metadata": {},
   "outputs": [],
   "source": [
    "# Just because of versions on my computer\n",
    "import warnings\n",
    "warnings.filterwarnings(\"ignore\", category=DeprecationWarning)"
   ]
  },
  {
   "cell_type": "code",
   "execution_count": 3,
   "metadata": {},
   "outputs": [],
   "source": [
    "# Load dataset\n",
    "dtypes = {'device':'category','user':'category','rating':'integer','ownership_lenght':'category'}\n",
    "ds = pd.read_excel(\"ExtractedReviewsDataCollection_bestbuy.xlsx\", sheet_name=\"Sheet1\", index_col = 0)\n"
   ]
  },
  {
   "cell_type": "markdown",
   "metadata": {},
   "source": [
    "### Functions"
   ]
  },
  {
   "cell_type": "code",
   "execution_count": 4,
   "metadata": {},
   "outputs": [],
   "source": [
    "# Text preprocessing\n",
    "def textPreProcess(rawText, removeHTML=True, charsToRemove = r'\\?|\\.|\\!|\\;|\\.|\\\"|\\,|\\(|\\)|\\&|\\:|\\-', removeNumbers=True, removeLineBreaks=False, specialCharsToRemove = r'[^\\x00-\\xfd]', convertToLower=True, removeConsecutiveSpaces=True):\n",
    "    if type(rawText) != str:\n",
    "        return rawText\n",
    "    procText = rawText\n",
    "        \n",
    "    # Remove HTML\n",
    "    if removeHTML:\n",
    "        procText = BeautifulSoup(procText,'html.parser').get_text()\n",
    "\n",
    "    # Remove punctuation and other special characters\n",
    "    if len(charsToRemove)>0:\n",
    "        procText = re.sub(charsToRemove,' ',procText)\n",
    "\n",
    "    # Remove numbers\n",
    "    if removeNumbers:\n",
    "        procText = re.sub(r'\\d+',' ',procText)\n",
    "\n",
    "    # Remove line breaks\n",
    "    if removeLineBreaks:\n",
    "        procText = procText.replace('\\n',' ').replace('\\r', '')\n",
    "\n",
    "    # Remove special characters\n",
    "    if len(specialCharsToRemove)>0:\n",
    "        procText = re.sub(specialCharsToRemove,' ',procText)\n",
    "\n",
    "    # Normalize to lower case\n",
    "    if convertToLower:\n",
    "        procText = procText.lower() \n",
    "\n",
    "    # Replace multiple consecutive spaces with just one space\n",
    "    if removeConsecutiveSpaces:\n",
    "        procText = re.sub(' +', ' ', procText)\n",
    "\n",
    "    return procText"
   ]
  },
  {
   "cell_type": "code",
   "execution_count": 5,
   "metadata": {},
   "outputs": [],
   "source": [
    "# Tokenize words\n",
    "def tokenize_words(words):\n",
    "    if (type(words) != str) or (word_tokenize(words) == ''):\n",
    "        return np.nan\n",
    "    else:\n",
    "        return word_tokenize(words)"
   ]
  },
  {
   "cell_type": "code",
   "execution_count": 6,
   "metadata": {},
   "outputs": [],
   "source": [
    "# Function to create text from words\n",
    "def recreateText(words):\n",
    "    if type(words) == list:\n",
    "        temp_str = (' ').join(words)\n",
    "        return temp_str\n",
    "    else:\n",
    "        return np.nan"
   ]
  },
  {
   "cell_type": "code",
   "execution_count": 7,
   "metadata": {},
   "outputs": [],
   "source": [
    "# Function to remove stop words\n",
    "def removeStopWords(t, stop_words):\n",
    "    if type(t) == list:\n",
    "        return [w for w in t if not w in stop_words]\n",
    "    else:\n",
    "        return np.nan"
   ]
  },
  {
   "cell_type": "code",
   "execution_count": 8,
   "metadata": {},
   "outputs": [],
   "source": [
    "# Function to lemmatize words\n",
    "def lemmatize(words):\n",
    "    if type(words) == list:\n",
    "        lemmatizer = WordNetLemmatizer()\n",
    "        return [lemmatizer.lemmatize(x) for x in words]\n",
    "    else:\n",
    "        return np.nan"
   ]
  },
  {
   "cell_type": "code",
   "execution_count": 9,
   "metadata": {},
   "outputs": [
    {
     "name": "stdout",
     "output_type": "stream",
     "text": [
      "Index(['device', 'user', 'rating', 'text', 'date', 'ownership_length'], dtype='object')\n"
     ]
    }
   ],
   "source": [
    "# Load dataset and check column names\n",
    "dtypes = {'device': 'category', 'user': 'category', 'rating': 'integer', 'ownership_length': 'category'}\n",
    "ds = pd.read_excel(\"ExtractedReviewsDataCollection_bestbuy.xlsx\", sheet_name=\"Sheet1\", index_col=0)\n",
    "print(ds.columns)  # Check column names"
   ]
  },
  {
   "cell_type": "markdown",
   "metadata": {},
   "source": [
    "### Analysis"
   ]
  },
  {
   "cell_type": "code",
   "execution_count": 10,
   "metadata": {},
   "outputs": [
    {
     "name": "stderr",
     "output_type": "stream",
     "text": [
      "C:\\ProgramData\\Anaconda3\\lib\\site-packages\\bs4\\__init__.py:435: MarkupResemblesLocatorWarning: The input looks more like a filename than markup. You may want to open this file and pass the filehandle into Beautiful Soup.\n",
      "  warnings.warn(\n"
     ]
    }
   ],
   "source": [
    "# Create a dataframe with only the description\n",
    "processedReviews = pd.DataFrame(data=ds.text.apply(textPreProcess).values, index=ds.index, columns=['PreProcessedText'])"
   ]
  },
  {
   "cell_type": "code",
   "execution_count": 11,
   "metadata": {},
   "outputs": [
    {
     "name": "stderr",
     "output_type": "stream",
     "text": [
      "[nltk_data] Downloading package wordnet to C:\\Users\\Paula\n",
      "[nltk_data]     Muñoz\\AppData\\Roaming\\nltk_data...\n",
      "[nltk_data]   Package wordnet is already up-to-date!\n",
      "[nltk_data] Downloading package omw-1.4 to C:\\Users\\Paula\n",
      "[nltk_data]     Muñoz\\AppData\\Roaming\\nltk_data...\n",
      "[nltk_data]   Package omw-1.4 is already up-to-date!\n"
     ]
    },
    {
     "data": {
      "text/plain": [
       "True"
      ]
     },
     "execution_count": 11,
     "metadata": {},
     "output_type": "execute_result"
    }
   ],
   "source": [
    "import nltk\n",
    "nltk.download('wordnet')\n",
    "nltk.download('omw-1.4')"
   ]
  },
  {
   "cell_type": "code",
   "execution_count": 12,
   "metadata": {},
   "outputs": [],
   "source": [
    "# Tokekinze words\n",
    "processedReviews['Words'] =  processedReviews['PreProcessedText'].apply(tokenize_words)\n",
    "\n",
    "# Remove stopwords\n",
    "stop_words = set(stopwords.words('english'))\n",
    "processedReviews['WordsCleaned'] = processedReviews['Words'].apply(removeStopWords,stop_words=stop_words)\n",
    "\n",
    "# Remove all reviews with no words\n",
    "processedReviews = processedReviews[processedReviews['WordsCleaned'].str.len()>0]\n",
    "\n",
    "# Lemmative words\n",
    "processedReviews['WordsLemmatized'] = processedReviews['WordsCleaned'].apply(lemmatize)"
   ]
  },
  {
   "cell_type": "code",
   "execution_count": 13,
   "metadata": {},
   "outputs": [],
   "source": [
    "# Create dictionary (needed for LDA)\n",
    "id2word = corpora.Dictionary(processedReviews['WordsLemmatized'])"
   ]
  },
  {
   "cell_type": "code",
   "execution_count": 14,
   "metadata": {},
   "outputs": [],
   "source": [
    "# Create corpus\n",
    "corpus = processedReviews['WordsLemmatized']"
   ]
  },
  {
   "cell_type": "code",
   "execution_count": 15,
   "metadata": {},
   "outputs": [],
   "source": [
    "# Create TDM (Frequency)\n",
    "tdm = [id2word.doc2bow(text) for text in corpus]"
   ]
  },
  {
   "cell_type": "code",
   "execution_count": 16,
   "metadata": {},
   "outputs": [],
   "source": [
    "# Build LDA model (can take from 2 to 10 minutes depending on the computer)\n",
    "lda_model = gensim.models.ldamodel.LdaModel(corpus=tdm,\n",
    "                                           id2word=id2word,\n",
    "                                           num_topics=8, \n",
    "                                           random_state=123,\n",
    "                                           update_every=1,\n",
    "                                           chunksize=100,\n",
    "                                           passes=10,\n",
    "                                           alpha='auto',\n",
    "                                           per_word_topics=True)"
   ]
  },
  {
   "cell_type": "code",
   "execution_count": 17,
   "metadata": {},
   "outputs": [
    {
     "name": "stdout",
     "output_type": "stream",
     "text": [
      "[(0, '0.031*\"purchase\" + 0.021*\"best\" + 0.020*\"able\" + 0.018*\"buy\" + 0.017*\"far\" + 0.014*\"way\" + 0.014*\"faster\" + 0.013*\"support\" + 0.013*\"going\" + 0.012*\"easy\"'), (1, '0.050*\"phone\" + 0.037*\"iphone\" + 0.034*\"good\" + 0.027*\"great\" + 0.024*\"got\" + 0.023*\"recommend\" + 0.021*\"difference\" + 0.019*\"would\" + 0.018*\"price\" + 0.017*\"better\"'), (2, '0.033*\"iphone\" + 0.032*\"n\\'t\" + 0.029*\"wife\" + 0.025*\"phone\" + 0.021*\"right\" + 0.019*\"\\'s\" + 0.015*\"quality\" + 0.015*\"data\" + 0.014*\"fast\" + 0.014*\"high\"'), (3, '0.063*\"phone\" + 0.040*\"great\" + 0.031*\"easy\" + 0.029*\"apple\" + 0.026*\"love\" + 0.026*\"iphone\" + 0.024*\"service\" + 0.021*\"camera\" + 0.021*\"much\" + 0.021*\"new\"'), (4, '0.025*\"case\" + 0.023*\"battery\" + 0.022*\"great\" + 0.021*\"iphone\" + 0.020*\"phone\" + 0.019*\"setup\" + 0.017*\"think\" + 0.015*\"photo\" + 0.014*\"\\'\" + 0.014*\"excellent\"'), (5, '0.091*\"phone\" + 0.043*\"great\" + 0.042*\"love\" + 0.041*\"iphone\" + 0.034*\"camera\" + 0.024*\"new\" + 0.022*\"battery\" + 0.019*\"upgrade\" + 0.018*\"quality\" + 0.017*\"good\"'), (6, '0.053*\"iphone\" + 0.022*\"son\" + 0.019*\"x\" + 0.018*\"day\" + 0.017*\"upgraded\" + 0.016*\"pretty\" + 0.015*\"improvement\" + 0.014*\"year\" + 0.012*\"happy\" + 0.012*\"updated\"'), (7, '0.020*\"could\" + 0.018*\"lot\" + 0.015*\"time\" + 0.013*\"get\" + 0.013*\"make\" + 0.013*\"issue\" + 0.012*\"upgrade\" + 0.012*\"best\" + 0.011*\"employee\" + 0.011*\"another\"')]\n"
     ]
    }
   ],
   "source": [
    "# Print the keywords in the 10 topics\n",
    "print(lda_model.print_topics())\n",
    "doc_lda = lda_model[tdm]\n",
    "# Interpretation: Topic 0 is represented as 0.055\"walking\" + 0.054\"garden\" + ..."
   ]
  },
  {
   "cell_type": "code",
   "execution_count": 18,
   "metadata": {},
   "outputs": [
    {
     "data": {
      "text/html": [
       "\n",
       "<link rel=\"stylesheet\" type=\"text/css\" href=\"https://cdn.jsdelivr.net/gh/bmabey/pyLDAvis@3.4.0/pyLDAvis/js/ldavis.v1.0.0.css\">\n",
       "\n",
       "\n",
       "<div id=\"ldavis_el888819893081003844177496608\" style=\"background-color:white;\"></div>\n",
       "<script type=\"text/javascript\">\n",
       "\n",
       "var ldavis_el888819893081003844177496608_data = {\"mdsDat\": {\"x\": [0.21015099004412083, 0.1636658211864441, 0.09985510274605758, -0.06357560619739194, -0.039313600024036825, -0.1431796206354779, -0.17976626588783282, -0.04783682123188283], \"y\": [-0.02443498399006314, -0.10956326426767397, 0.0437494904233327, 0.09161985143079356, 0.18914982465261346, -0.07802233296816942, -0.11677721581689944, 0.004278630536066337], \"topics\": [1, 2, 3, 4, 5, 6, 7, 8], \"cluster\": [1, 1, 1, 1, 1, 1, 1, 1], \"Freq\": [27.480026653137063, 19.88542822612475, 13.369369161749267, 9.072603419957913, 8.545513808852284, 8.516650418042811, 7.145669460733986, 5.984738851401927]}, \"tinfo\": {\"Term\": [\"iphone\", \"great\", \"phone\", \"love\", \"easy\", \"camera\", \"good\", \"n't\", \"battery\", \"product\", \"service\", \"got\", \"wife\", \"apple\", \"quality\", \"recommend\", \"purchase\", \"best\", \"upgrade\", \"difference\", \"son\", \"upgraded\", \"buy\", \"much\", \"price\", \"case\", \"nice\", \"fast\", \"right\", \"would\", \"amazing\", \"daughter\", \"look\", \"long\", \"last\", \"charge\", \"well\", \"hour\", \"beautiful\", \"clear\", \"complaint\", \"needed\", \"anyone\", \"two\", \"apps\", \"worth\", \"big\", \"little\", \"hold\", \"thing\", \"navigate\", \"made\", \"need\", \"extra\", \"working\", \"else\", \"run\", \"decided\", \"definitely\", \"around\", \"work\", \"red\", \"quality\", \"color\", \"camera\", \"upgrade\", \"love\", \"size\", \"phone\", \"battery\", \"great\", \"new\", \"one\", \"fast\", \"iphone\", \"life\", \"good\", \"feature\", \"time\", \"really\", \"always\", \"go\", \"service\", \"ever\", \"loved\", \"bit\", \"customer\", \"display\", \"xr\", \"hand\", \"experience\", \"esim\", \"present\", \"larger\", \"transition\", \"ok\", \"version\", \"using\", \"fantastic\", \"know\", \"latest\", \"market\", \"overall\", \"character\", \"recommended\", \"cheaper\", \"let\", \"feel\", \"enjoy\", \"additional\", \"easy\", \"everything\", \"apple\", \"picture\", \"wonderful\", \"nice\", \"iphones\", \"much\", \"product\", \"use\", \"best\", \"upgraded\", \"great\", \"phone\", \"make\", \"buy\", \"love\", \"new\", \"camera\", \"iphone\", \"better\", \"really\", \"good\", \"one\", \"like\", \"feature\", \"excellent\", \"recommend\", \"price\", \"still\", \"'m\", \"worked\", \"though\", \"highly\", \"something\", \"improved\", \"see\", \"longer\", \"sleek\", \"blue\", \"difference\", \"newer\", \"say\", \"process\", \"bigger\", \"storage\", \"people\", \"almost\", \"thanks\", \"special\", \"wanted\", \"read\", \"information\", \"except\", \"guess\", \"g\", \"anything\", \"got\", \"model\", \"would\", \"nothing\", \"design\", \"screen\", \"good\", \"awesome\", \"bought\", \"better\", \"product\", \"phone\", \"iphone\", \"great\", \"issue\", \"apple\", \"love\", \"new\", \"feature\", \"upgrade\", \"x\", \"day\", \"pretty\", \"improvement\", \"updated\", \"replaced\", \"ease\", \"forward\", \"every\", \"upgrading\", \"previous\", \"yet\", \"yr\", \"u\", \"fit\", \"decent\", \"give\", \"item\", \"mini\", \"trade\", \"finally\", \"lightning\", \"extremely\", \"drive\", \"email\", \"along\", \"christmas\", \"bb\", \"date\", \"trust\", \"deal\", \"son\", \"without\", \"year\", \"upgraded\", \"iphone\", \"android\", \"first\", \"gift\", \"happy\", \"got\", \"old\", \"time\", \"life\", \"battery\", \"use\", \"$\", \"n't\", \"wife\", \"right\", \"data\", \"high\", \"sim\", \"helped\", \"transferred\", \"card\", \"side\", \"even\", \"mom\", \"may\", \"slightly\", \"also\", \"month\", \"app\", \"hard\", \"beyond\", \"closed\", \"patient\", \"samsung\", \"paid\", \"move\", \"review\", \"impressed\", \"value\", \"coming\", \"gaming\", \"expected\", \"'s\", \"$\", \"previously\", \"took\", \"used\", \"already\", \"iphone\", \"quality\", \"fast\", \"old\", \"phone\", \"like\", \"screen\", \"picture\", \"new\", \"happy\", \"could\", \"lot\", \"employee\", \"quick\", \"home\", \"wrong\", \"huge\", \"system\", \"star\", \"simple\", \"bestbuy\", \"operating\", \"must\", \"fan\", \"seems\", \"piece\", \"grade\", \"helping\", \"happier\", \"th\", \"a+\", \"build\", \"cam\", \"confortable\", \"endurance\", \"recharging\", \"retrieving\", \"ringtone\", \"five\", \"account\", \"another\", \"issue\", \"make\", \"get\", \"never\", \"button\", \"time\", \"pay\", \"buying\", \"wait\", \"upgrade\", \"would\", \"best\", \"buy\", \"life\", \"battery\", \"went\", \"set\", \"iphones\", \"work\", \"use\", \"able\", \"purchase\", \"support\", \"going\", \"light\", \"friendly\", \"speed\", \"staff\", \"glad\", \"miss\", \"looking\", \"similar\", \"faster\", \"knowledgeable\", \"info\", \"husband\", \"physical\", \"protector\", \"remember\", \"instruction\", \"wow\", \"rather\", \"squared\", \"tell\", \"everyone\", \"person\", \"user\", \"send\", \"many\", \"satisfied\", \"far\", \"way\", \"best\", \"buy\", \"store\", \"easy\", \"screen\", \"enjoying\", \"use\", \"case\", \"setup\", \"'\", \"cellphone\", \"fun\", \"compare\", \"sure\", \"find\", \"expectation\", \"chip\", \"salesperson\", \"think\", \"drop\", \"cell\", \"update\", \"backgroup\", \"droped\", \"lb\", \"lg\", \"exceeding\", \"exceptional\", \"given\", \"hz\", \"rate\", \"refresh\", \"smoothly\", \"attendance\", \"bionic\", \"despite\", \"nearly\", \"put\", \"wish\", \"pro\", \"photo\", \"getting\", \"basically\", \"already\", \"year\", \"battery\", \"excellent\", \"great\", \"life\", \"take\", \"iphone\", \"phone\", \"easy\", \"color\", \"apple\"], \"Freq\": [142.0, 115.0, 224.0, 86.0, 38.0, 66.0, 58.0, 13.0, 48.0, 29.0, 23.0, 20.0, 12.0, 36.0, 30.0, 15.0, 11.0, 38.0, 34.0, 15.0, 13.0, 17.0, 29.0, 29.0, 12.0, 7.0, 27.0, 28.0, 9.0, 17.0, 17.850203342598608, 16.401563174174225, 13.95626283976329, 13.692075398607146, 12.557244578602631, 9.707402737229268, 9.369558506728495, 9.317608983170839, 8.837292496200408, 8.439491502747272, 7.755154361562564, 6.351761498158987, 6.291558211321506, 6.107794400812838, 5.797833697123709, 5.66528402702996, 5.4540447705097685, 9.848660923400626, 5.295025495790127, 5.144922966060767, 4.655581730310581, 4.586836570361521, 9.23833719349144, 4.342454211907919, 4.266517674984916, 4.153769497440045, 4.153538830066958, 3.7839124650519413, 9.255575914681213, 3.3345900738659067, 18.466374236113015, 10.245077912615235, 23.399118522110793, 19.07521523255784, 44.18860221258741, 24.74432756011443, 54.22350295580887, 8.792085879587825, 116.34528653597624, 28.595360939760706, 55.362701796107906, 30.31582719962616, 17.85062698073128, 17.289378258010586, 53.12657697821774, 18.883316732199294, 22.287834323288507, 12.447935169911547, 10.317826393082177, 9.839728022718845, 13.387714972716282, 12.757698172998705, 21.92277576398693, 8.104667893461066, 7.823685714461342, 6.84597310440584, 6.197797065191569, 6.110249171547102, 5.823726863565756, 5.659171393572611, 4.923048675345207, 4.2372577799455975, 4.135693944516443, 4.002447239384811, 3.737516929209367, 3.7321318112613855, 3.285937097342403, 3.034523489505316, 2.9343144851495095, 2.8710262512613753, 2.711906559246758, 2.5949130640864526, 9.945716620331646, 2.548445475810943, 2.548320557701432, 2.547405646209586, 2.547422099894721, 2.3139774316959922, 2.1984608712724047, 2.1428883332332744, 28.96994279825601, 8.533489031348546, 26.785754199863025, 10.464683169156345, 4.9484051031132985, 18.229347783071788, 8.709988577774519, 19.164720731357935, 18.251413040821173, 15.241401861737355, 18.00901215551261, 9.645387505563514, 36.79396624625433, 58.69799173705485, 7.984611414915376, 12.983252216695943, 24.603252537188087, 19.14519800095361, 19.3452522966254, 24.330479881087275, 11.055806055165199, 9.049383936953578, 12.820298383053169, 9.48195911300211, 8.418363462442771, 8.25904156329768, 8.085002275791094, 14.633025550269078, 11.331663782744034, 9.57684507762635, 5.525848078731887, 5.490746744133078, 5.145859494823467, 4.914898896317337, 4.908608614192811, 4.908808314930382, 4.69937434972036, 4.414666888566742, 4.249209296419543, 4.1343100506244825, 12.987370371365767, 3.7410262300023813, 3.7378578002243668, 3.5720462195977425, 3.5711865748775593, 3.458472101728952, 3.4390929791340947, 3.342264612326541, 3.3403333955728343, 3.2421309945359322, 3.059921538039611, 2.9575271681674087, 2.8462999706284924, 2.516353596909364, 2.516226964517464, 2.516025808235159, 2.5159998995388855, 15.164773303719567, 6.0867509754318885, 11.746898091288923, 5.091212523312176, 5.283236135735198, 8.730246696006965, 20.986786891754893, 6.079527398023615, 6.39626033664314, 10.761850623397445, 10.582577582848462, 31.046331358587143, 23.372683216311295, 16.81414186834948, 4.702472331133226, 5.520082374929667, 6.451001045235331, 5.7666004177758055, 5.120271600609215, 4.88954505369639, 8.023425324833019, 7.455618245301454, 6.771911866666994, 6.241948214488735, 4.907988143012314, 4.80360915727485, 4.751977940103537, 4.487920647016503, 4.157497688361937, 3.6174032880184046, 3.523158606342375, 3.463536500296111, 3.192333041222365, 3.0989552080106937, 2.827919666255705, 2.8264901959986184, 2.8221500271832243, 2.4028778666289603, 2.4024306139117075, 2.293983682965022, 2.2763294487203023, 2.182503375042444, 2.133586096841813, 2.019823693782438, 2.0172067517570613, 2.014083687177973, 1.9131570815141472, 1.9122457843477652, 1.7059522464628256, 1.7059522464628256, 2.8678830003708673, 9.257506199615083, 3.286308264989237, 6.0616713908723865, 7.0503243125596455, 22.396377366238806, 4.39589444944593, 3.904667939856336, 3.258254417319447, 5.161611251461593, 4.677918105440785, 4.708508689922522, 4.4208896337671195, 4.192396833693183, 4.203882773395716, 3.712436983542804, 3.169150376194814, 12.767251977183037, 11.7470611365978, 8.364390699204113, 6.083568392316395, 5.431000402919614, 4.521563795269434, 4.185750828051912, 4.035759802686243, 3.976322950567734, 3.576869375258334, 3.2284094141492603, 2.6356444680783007, 2.633330467136161, 2.532454093160129, 4.1408455148186825, 2.425301670794146, 2.3359915800734536, 2.4683250440524, 2.2392908650828316, 2.2385281528070333, 2.2336625359980906, 2.1790633897733325, 2.033920490376419, 1.989161244266025, 1.9890687661003572, 1.9297082038167046, 1.8851599642251577, 1.8850663696228824, 1.8823813395814644, 1.7824922677121382, 7.643925873221525, 5.1147797817298875, 2.461329080123278, 2.619649094727613, 3.7938361770084925, 3.355056494339867, 13.374718532649176, 6.155460583375476, 5.6980699024571875, 4.940134858902837, 10.0625987016577, 4.2945766028200065, 3.7000878786268228, 3.4613483301541135, 3.313837282639589, 2.7350078843781875, 7.994860757011405, 7.06490216342147, 4.42634187410945, 4.128644080121506, 3.5888728769745013, 3.554812695636316, 3.388412794970557, 3.3402247260576816, 2.9238613181461193, 2.9206332894391385, 2.817726360151691, 2.767126773728298, 2.707960403014235, 2.707888450630808, 2.6600951926053433, 2.3520983792401604, 2.2452353669742546, 2.0292832692191074, 1.8127086349918897, 1.672359391456628, 1.5632862541760844, 1.5632862541760844, 1.5632862541760844, 1.5632862541760844, 1.5632862541760844, 1.5632862541760844, 1.5632862541760844, 1.5632862541760844, 1.5631251030905229, 1.5621598655757394, 4.228598180024151, 5.1706577551298745, 5.2279630069777765, 5.34884486557751, 2.303063757156298, 2.506373376077084, 5.899141144687829, 2.3051127310853743, 2.2132619901997312, 1.7825207158143568, 4.780796004855237, 3.5196865805354083, 4.622424729158745, 3.603858629821697, 3.6137761903002024, 3.6877680899973355, 2.4812395555024156, 2.564445254608198, 2.563461101776122, 2.6404735180228793, 2.583579581603947, 6.821985702664117, 10.288595263678957, 4.311747919506923, 4.20444600149053, 3.8133138961956408, 3.6281611564655654, 3.130281352237937, 3.1298961061820343, 2.672171824005903, 2.620782240674804, 2.63008695983276, 2.5385051347130094, 4.593489438346632, 2.3506916143682353, 2.3498115854133945, 2.216613072769213, 2.042874569978164, 2.042204123590892, 2.0421968107618826, 1.8555289150978893, 1.8552637861482695, 1.8550587157517915, 1.8550576266070453, 1.8540316522562283, 1.853918692386848, 1.8097580739197634, 1.7994393610031971, 1.7612248504813393, 3.5567300650695515, 1.6260829924259195, 5.5537021629474195, 4.655630436242709, 7.171600543790683, 6.046825827660978, 3.63893684339917, 3.9998794122535015, 2.96934527916086, 2.2352351140457585, 2.04295858971572, 7.112763428933241, 5.230252731897397, 3.958894715022187, 3.565649880449909, 2.708830466521506, 2.5281318535504016, 2.333145654200853, 2.215924113473493, 2.1269510492329498, 1.9603440309409723, 1.870912914291452, 4.663476012742094, 1.779948657786565, 1.6901722100179013, 1.5599547516113228, 1.3939849669693876, 1.3939849669693876, 1.3939849669693876, 1.3939849669693876, 1.3031497209580671, 1.3031497209580671, 1.3030654080395443, 1.3030654080395443, 1.3030654080395443, 1.3030654080395443, 1.3029535989451198, 1.3027565647367634, 1.3027371480059133, 1.3027371480059133, 1.3027371480059133, 2.3827372879279176, 2.3967548644652807, 2.6981903586429943, 4.098531242595438, 2.050972860162586, 1.9595006411284834, 2.684676574598691, 3.6863565288943896, 6.510394929934575, 3.9454059511948176, 6.042876538884203, 3.85583644147038, 2.263813851194515, 5.82341535482785, 5.635011557550064, 2.9961542977210933, 1.9514717577652152, 1.9502154040596826], \"Total\": [142.0, 115.0, 224.0, 86.0, 38.0, 66.0, 58.0, 13.0, 48.0, 29.0, 23.0, 20.0, 12.0, 36.0, 30.0, 15.0, 11.0, 38.0, 34.0, 15.0, 13.0, 17.0, 29.0, 29.0, 12.0, 7.0, 27.0, 28.0, 9.0, 17.0, 18.50434721694082, 17.05543532750269, 14.61134239751974, 14.346008449492272, 13.21158271026726, 10.36205573896312, 10.024466853124947, 9.97260898969482, 9.491626139312537, 9.093748087377906, 8.409219871298, 7.0059716642479755, 6.949342774799286, 6.762254450017018, 6.452640726489267, 6.320697339163285, 6.112291096427791, 11.048926800866184, 5.949094225387841, 5.799977191182385, 5.310123851467531, 5.241541741955285, 10.592834994632744, 4.997731245095975, 4.921008165519153, 4.808667641227455, 4.808422210001179, 4.438978668684336, 11.05742054518523, 3.989525587365851, 22.59723557148699, 12.725194198160125, 30.82125836689591, 25.456271248973113, 66.29430574890567, 34.88796413505004, 86.3911315429873, 11.082794763091407, 224.7932557870698, 48.24865402375457, 115.90096760158605, 58.89821776435448, 29.200544511111794, 28.310738656582547, 142.6034779250555, 35.165466462384245, 58.567333411465945, 26.278394120842176, 23.481132939775144, 19.447075473572056, 14.076132354076691, 13.425372458949026, 23.31077479402076, 8.770412490914998, 8.489689354851837, 7.513832562418658, 6.865646550365948, 6.775895478315194, 6.490076349141686, 6.325228178530861, 5.589119711301708, 4.904211865787361, 4.803262507019687, 4.669854802766098, 4.402882395968536, 4.399297250351718, 3.9520489603026085, 3.7003454383892826, 3.5998779336532873, 3.5443534788789433, 3.3781475163072603, 3.26021840594226, 12.511078192154125, 3.213745302597518, 3.21369310105446, 3.213376317406813, 3.2134336572014726, 2.979528864050796, 2.8638563108667987, 2.809238204240024, 38.57673544158498, 11.261837955649158, 36.30922135031289, 14.501413842654586, 6.51359336298812, 27.313114984055602, 12.382038514342119, 29.841548320460433, 29.40447020456385, 23.98757433313401, 38.926972352263476, 17.26378099601474, 115.90096760158605, 224.7932557870698, 13.782919538769683, 29.718185248187446, 86.3911315429873, 58.89821776435448, 66.29430574890567, 142.6034779250555, 29.02258624034816, 19.447075473572056, 58.567333411465945, 29.200544511111794, 22.820501502367875, 26.278394120842176, 22.41692481808605, 15.308967764570333, 12.025826591050484, 10.244887815427171, 6.194110537510883, 6.1584634163470655, 5.813204966742214, 5.582073230387597, 5.578267788631949, 5.578519688597784, 5.366150507888193, 5.083164134912458, 4.9161915528488365, 4.801657566629754, 15.19315206319837, 4.408026806976331, 4.407050036733833, 4.2397945818143485, 4.239547212337817, 4.1257714028370245, 4.107763042885441, 4.009184403164003, 4.008569117943399, 3.909473634180365, 3.7270137858958465, 3.6266274555787383, 3.5133153403409336, 3.1830323325629886, 3.1829935487871346, 3.182922793241608, 3.182924605006778, 20.41232094355709, 8.109648007264134, 17.576555806434296, 7.250336456367422, 7.962161782690648, 15.892694688818034, 58.567333411465945, 10.353776128844816, 11.376954529718965, 29.02258624034816, 29.40447020456385, 224.7932557870698, 142.6034779250555, 115.90096760158605, 12.781692733520973, 36.30922135031289, 86.3911315429873, 58.89821776435448, 26.278394120842176, 34.88796413505004, 8.697518351621238, 8.128290347117792, 7.443901793867321, 6.914499146249369, 5.5833897686026495, 5.475319481580393, 5.424015565484741, 5.1596436901867095, 4.829553669750723, 4.288661703490127, 4.1956757218537435, 4.135383905085895, 3.8637612444482383, 3.7709968805207352, 3.4994263341343963, 3.4989998778460243, 3.4976945736587055, 3.0745171817463812, 3.074385491382536, 2.9654507748214307, 2.948483961368646, 2.853886219649749, 2.8051327697099486, 2.692942936660573, 2.6920762002603453, 2.6911087662633015, 2.584509022917626, 2.584223729056784, 2.3794147772667706, 2.3794147772667706, 4.061291497732601, 13.711155833510439, 5.47865455211369, 13.290792461615261, 17.26378099601474, 142.6034779250555, 10.085388162822392, 8.280198078086174, 6.8160120437228215, 20.546658767092676, 20.41232094355709, 20.98049931633829, 23.481132939775144, 35.165466462384245, 48.24865402375457, 23.98757433313401, 8.864500635865205, 13.446122775907316, 12.425980227441684, 9.043208622930429, 6.762315043768409, 6.110365521195344, 5.201067921314264, 4.86404739781795, 4.714546783801383, 4.655700962140858, 4.255452134077864, 3.9070961947844154, 3.3140803773615453, 3.3135116322231584, 3.2120712061722765, 5.274652325903377, 3.1071221626919305, 3.02158859886739, 3.2151513949103374, 2.9180233997603477, 2.9178434530517485, 2.9165024748854758, 2.8572422290570443, 2.712324305327039, 2.6671319233965174, 2.6670965871009638, 2.6102457356344457, 2.5631039325198657, 2.5630879079999476, 2.562374052381014, 2.4610887634128162, 11.103899082381025, 8.864500635865205, 3.6727536930916806, 4.0467318620664, 6.949684400533618, 6.639035131367093, 142.6034779250555, 30.82125836689591, 28.310738656582547, 20.98049931633829, 224.7932557870698, 22.820501502367875, 15.892694688818034, 14.501413842654586, 58.89821776435448, 20.546658767092676, 8.669526082093808, 7.74012103530697, 5.099735745924759, 4.802349364834061, 4.263145819597446, 4.229480821204972, 4.063236553716768, 4.013766721397057, 3.597850687266994, 3.596853849347487, 3.4911915530469, 3.440972819787529, 3.3818296979409284, 3.3818080157517865, 3.3341075501699846, 3.0254985408987465, 2.918647269116733, 2.7026217034918005, 2.4863881825063836, 2.3459370234016546, 2.236715443401774, 2.236715443401774, 2.236715443401774, 2.236715443401774, 2.236715443401774, 2.236715443401774, 2.236715443401774, 2.236715443401774, 2.2365955828517996, 2.2365599782458605, 7.5236488238298795, 12.781692733520973, 13.782919538769683, 15.849153951849624, 4.248259022250341, 5.003865577633236, 23.481132939775144, 4.844617431574437, 4.56536786157907, 3.0718730561876866, 34.88796413505004, 17.576555806434296, 38.926972352263476, 29.718185248187446, 35.165466462384245, 48.24865402375457, 7.652703320193392, 11.447681290924113, 12.382038514342119, 22.59723557148699, 23.98757433313401, 7.508290028723131, 11.501438311420644, 4.9989189427378316, 4.891826101049133, 4.501270585853462, 4.314135266966046, 3.81666651588659, 3.8165410871799748, 3.3585598641757586, 3.307136471500931, 3.319984065274581, 3.226173739341472, 5.886632531607643, 3.0386103559742383, 3.038479821730695, 2.902641156783375, 2.729125050026897, 2.7289908648464607, 2.7290031437534026, 2.541494118719748, 2.5414121141274397, 2.5414117646454426, 2.5414186963705934, 2.541167637974818, 2.541265346304084, 2.499304269742045, 2.485852782273589, 2.448509177109767, 4.946695309852312, 2.3123549737316083, 10.24688277182052, 11.525913555537239, 38.926972352263476, 29.718185248187446, 13.820750142649407, 38.57673544158498, 15.892694688818034, 5.942388448711208, 23.98757433313401, 7.803235235259128, 5.920426220758699, 4.715041194003622, 4.25543810027462, 3.398036715118431, 3.2178958233960584, 3.0240297282717186, 2.9069526134228596, 2.8161861153338954, 2.6497227906837693, 2.56057076692149, 6.40576908702754, 2.4695981528318303, 2.3804863522774853, 2.2497698854031816, 2.0834197134702794, 2.0834197134702794, 2.0834197134702794, 2.0834197134702794, 1.9923603168865287, 1.9923603168865287, 1.9923483521479781, 1.9923483521479781, 1.9923483521479781, 1.9923483521479781, 1.9923214472316209, 1.9922558953787954, 1.9922993551473285, 1.9922993551473285, 1.9922993551473285, 3.7349582030427477, 3.796189851397278, 4.781718050457348, 8.534826857947618, 3.5556970981823817, 3.5039998437409783, 6.639035131367093, 13.290792461615261, 48.24865402375457, 22.41692481808605, 115.90096760158605, 35.165466462384245, 8.639176337035565, 142.6034779250555, 224.7932557870698, 38.57673544158498, 25.456271248973113, 36.30922135031289], \"Category\": [\"Default\", \"Default\", \"Default\", \"Default\", \"Default\", \"Default\", \"Default\", \"Default\", \"Default\", \"Default\", \"Default\", \"Default\", \"Default\", \"Default\", \"Default\", \"Default\", \"Default\", \"Default\", \"Default\", \"Default\", \"Default\", \"Default\", \"Default\", \"Default\", \"Default\", \"Default\", \"Default\", \"Default\", \"Default\", \"Default\", \"Topic1\", \"Topic1\", \"Topic1\", \"Topic1\", \"Topic1\", \"Topic1\", \"Topic1\", \"Topic1\", \"Topic1\", \"Topic1\", \"Topic1\", \"Topic1\", \"Topic1\", \"Topic1\", \"Topic1\", \"Topic1\", \"Topic1\", \"Topic1\", \"Topic1\", \"Topic1\", \"Topic1\", \"Topic1\", \"Topic1\", \"Topic1\", \"Topic1\", \"Topic1\", \"Topic1\", \"Topic1\", \"Topic1\", \"Topic1\", \"Topic1\", \"Topic1\", \"Topic1\", \"Topic1\", \"Topic1\", \"Topic1\", \"Topic1\", \"Topic1\", \"Topic1\", \"Topic1\", \"Topic1\", \"Topic1\", \"Topic1\", \"Topic1\", \"Topic1\", \"Topic1\", \"Topic1\", \"Topic1\", \"Topic1\", \"Topic1\", \"Topic2\", \"Topic2\", \"Topic2\", \"Topic2\", \"Topic2\", \"Topic2\", \"Topic2\", \"Topic2\", \"Topic2\", \"Topic2\", \"Topic2\", \"Topic2\", \"Topic2\", \"Topic2\", \"Topic2\", \"Topic2\", \"Topic2\", \"Topic2\", \"Topic2\", \"Topic2\", \"Topic2\", \"Topic2\", \"Topic2\", \"Topic2\", \"Topic2\", \"Topic2\", \"Topic2\", \"Topic2\", \"Topic2\", \"Topic2\", \"Topic2\", \"Topic2\", \"Topic2\", \"Topic2\", \"Topic2\", \"Topic2\", \"Topic2\", \"Topic2\", \"Topic2\", \"Topic2\", \"Topic2\", \"Topic2\", \"Topic2\", \"Topic2\", \"Topic2\", \"Topic2\", \"Topic2\", \"Topic2\", \"Topic2\", \"Topic2\", \"Topic2\", \"Topic2\", \"Topic2\", \"Topic2\", \"Topic2\", \"Topic2\", \"Topic2\", \"Topic3\", \"Topic3\", \"Topic3\", \"Topic3\", \"Topic3\", \"Topic3\", \"Topic3\", \"Topic3\", \"Topic3\", \"Topic3\", \"Topic3\", \"Topic3\", \"Topic3\", \"Topic3\", \"Topic3\", \"Topic3\", \"Topic3\", \"Topic3\", \"Topic3\", \"Topic3\", \"Topic3\", \"Topic3\", \"Topic3\", \"Topic3\", \"Topic3\", \"Topic3\", \"Topic3\", \"Topic3\", \"Topic3\", \"Topic3\", \"Topic3\", \"Topic3\", \"Topic3\", \"Topic3\", \"Topic3\", \"Topic3\", \"Topic3\", \"Topic3\", \"Topic3\", \"Topic3\", \"Topic3\", \"Topic3\", \"Topic3\", \"Topic3\", \"Topic3\", \"Topic3\", \"Topic3\", \"Topic3\", \"Topic3\", \"Topic3\", \"Topic4\", \"Topic4\", \"Topic4\", \"Topic4\", \"Topic4\", \"Topic4\", \"Topic4\", \"Topic4\", \"Topic4\", \"Topic4\", \"Topic4\", \"Topic4\", \"Topic4\", \"Topic4\", \"Topic4\", \"Topic4\", \"Topic4\", \"Topic4\", \"Topic4\", \"Topic4\", \"Topic4\", \"Topic4\", \"Topic4\", \"Topic4\", \"Topic4\", \"Topic4\", \"Topic4\", \"Topic4\", \"Topic4\", \"Topic4\", \"Topic4\", \"Topic4\", \"Topic4\", \"Topic4\", \"Topic4\", \"Topic4\", \"Topic4\", \"Topic4\", \"Topic4\", \"Topic4\", \"Topic4\", \"Topic4\", \"Topic4\", \"Topic4\", \"Topic4\", \"Topic4\", \"Topic4\", \"Topic5\", \"Topic5\", \"Topic5\", \"Topic5\", \"Topic5\", \"Topic5\", \"Topic5\", \"Topic5\", \"Topic5\", \"Topic5\", \"Topic5\", \"Topic5\", \"Topic5\", \"Topic5\", \"Topic5\", \"Topic5\", \"Topic5\", \"Topic5\", \"Topic5\", \"Topic5\", \"Topic5\", \"Topic5\", \"Topic5\", \"Topic5\", \"Topic5\", \"Topic5\", \"Topic5\", \"Topic5\", \"Topic5\", \"Topic5\", \"Topic5\", \"Topic5\", \"Topic5\", \"Topic5\", \"Topic5\", \"Topic5\", \"Topic5\", \"Topic5\", \"Topic5\", \"Topic5\", \"Topic5\", \"Topic5\", \"Topic5\", \"Topic5\", \"Topic5\", \"Topic5\", \"Topic6\", \"Topic6\", \"Topic6\", \"Topic6\", \"Topic6\", \"Topic6\", \"Topic6\", \"Topic6\", \"Topic6\", \"Topic6\", \"Topic6\", \"Topic6\", \"Topic6\", \"Topic6\", \"Topic6\", \"Topic6\", \"Topic6\", \"Topic6\", \"Topic6\", \"Topic6\", \"Topic6\", \"Topic6\", \"Topic6\", \"Topic6\", \"Topic6\", \"Topic6\", \"Topic6\", \"Topic6\", \"Topic6\", \"Topic6\", \"Topic6\", \"Topic6\", \"Topic6\", \"Topic6\", \"Topic6\", \"Topic6\", \"Topic6\", \"Topic6\", \"Topic6\", \"Topic6\", \"Topic6\", \"Topic6\", \"Topic6\", \"Topic6\", \"Topic6\", \"Topic6\", \"Topic6\", \"Topic6\", \"Topic6\", \"Topic6\", \"Topic6\", \"Topic7\", \"Topic7\", \"Topic7\", \"Topic7\", \"Topic7\", \"Topic7\", \"Topic7\", \"Topic7\", \"Topic7\", \"Topic7\", \"Topic7\", \"Topic7\", \"Topic7\", \"Topic7\", \"Topic7\", \"Topic7\", \"Topic7\", \"Topic7\", \"Topic7\", \"Topic7\", \"Topic7\", \"Topic7\", \"Topic7\", \"Topic7\", \"Topic7\", \"Topic7\", \"Topic7\", \"Topic7\", \"Topic7\", \"Topic7\", \"Topic7\", \"Topic7\", \"Topic7\", \"Topic7\", \"Topic7\", \"Topic7\", \"Topic7\", \"Topic7\", \"Topic7\", \"Topic8\", \"Topic8\", \"Topic8\", \"Topic8\", \"Topic8\", \"Topic8\", \"Topic8\", \"Topic8\", \"Topic8\", \"Topic8\", \"Topic8\", \"Topic8\", \"Topic8\", \"Topic8\", \"Topic8\", \"Topic8\", \"Topic8\", \"Topic8\", \"Topic8\", \"Topic8\", \"Topic8\", \"Topic8\", \"Topic8\", \"Topic8\", \"Topic8\", \"Topic8\", \"Topic8\", \"Topic8\", \"Topic8\", \"Topic8\", \"Topic8\", \"Topic8\", \"Topic8\", \"Topic8\", \"Topic8\", \"Topic8\", \"Topic8\", \"Topic8\", \"Topic8\", \"Topic8\", \"Topic8\", \"Topic8\", \"Topic8\", \"Topic8\", \"Topic8\", \"Topic8\", \"Topic8\", \"Topic8\"], \"logprob\": [30.0, 29.0, 28.0, 27.0, 26.0, 25.0, 24.0, 23.0, 22.0, 21.0, 20.0, 19.0, 18.0, 17.0, 16.0, 15.0, 14.0, 13.0, 12.0, 11.0, 10.0, 9.0, 8.0, 7.0, 6.0, 5.0, 4.0, 3.0, 2.0, 1.0, -4.2765, -4.3611, -4.5226, -4.5417, -4.6282, -4.8856, -4.921, -4.9266, -4.9795, -5.0256, -5.1101, -5.3098, -5.3193, -5.3489, -5.401, -5.4241, -5.4621, -4.8712, -5.4917, -5.5205, -5.6204, -5.6353, -4.9351, -5.69, -5.7077, -5.7345, -5.7345, -5.8277, -4.9333, -5.9541, -4.2425, -4.8317, -4.0058, -4.2101, -3.37, -3.9499, -3.1654, -4.9846, -2.4019, -3.8052, -3.1446, -3.7468, -4.2764, -4.3084, -3.1858, -4.2202, -4.0544, -4.6369, -4.8246, -4.8721, -4.2407, -4.2889, -3.7475, -4.7426, -4.7779, -4.9114, -5.0108, -5.025, -5.0731, -5.1017, -5.2411, -5.3911, -5.4154, -5.4481, -5.5166, -5.518, -5.6454, -5.725, -5.7585, -5.7803, -5.8374, -5.8815, -4.5379, -5.8995, -5.8996, -5.8999, -5.8999, -5.996, -6.0473, -6.0729, -3.4688, -4.691, -3.5471, -4.487, -5.236, -3.932, -4.6705, -3.8819, -3.9308, -4.111, -3.9441, -4.5685, -3.2297, -2.7626, -4.7575, -4.2714, -3.6321, -3.883, -3.8726, -3.6433, -4.4321, -4.6323, -4.284, -4.5856, -4.7046, -4.7237, -4.745, -3.7547, -4.0104, -4.1786, -4.7286, -4.7349, -4.7998, -4.8457, -4.847, -4.847, -4.8906, -4.9531, -4.9913, -5.0187, -3.874, -5.1186, -5.1195, -5.1649, -5.1651, -5.1972, -5.2028, -5.2313, -5.2319, -5.2618, -5.3196, -5.3536, -5.392, -5.5152, -5.5152, -5.5153, -5.5153, -3.719, -4.6319, -3.9744, -4.8105, -4.7735, -4.2712, -3.3941, -4.6331, -4.5823, -4.062, -4.0788, -3.0025, -3.2864, -3.6158, -4.8899, -4.7296, -4.5738, -4.6859, -4.8048, -4.8509, -3.9679, -4.0413, -4.1375, -4.219, -4.4594, -4.4809, -4.4917, -4.5489, -4.6254, -4.7645, -4.7909, -4.808, -4.8895, -4.9192, -5.0107, -5.0113, -5.0128, -5.1736, -5.1738, -5.22, -5.2277, -5.2698, -5.2925, -5.3473, -5.3486, -5.3501, -5.4015, -5.402, -5.5162, -5.5162, -4.9967, -3.8249, -4.8605, -4.2483, -4.0972, -2.9414, -4.5696, -4.6881, -4.8691, -4.409, -4.5074, -4.5009, -4.5639, -4.617, -4.6143, -4.7386, -4.8968, -3.4436, -3.5268, -3.8665, -4.1848, -4.2983, -4.4816, -4.5587, -4.5952, -4.6101, -4.7159, -4.8184, -5.0213, -5.0222, -5.0612, -4.5695, -5.1045, -5.142, -5.0869, -5.1843, -5.1846, -5.1868, -5.2115, -5.2805, -5.3027, -5.3028, -5.3331, -5.3564, -5.3565, -5.3579, -5.4124, -3.9565, -4.3583, -5.0897, -5.0274, -4.6571, -4.78, -3.3971, -4.1731, -4.2503, -4.393, -3.6816, -4.5331, -4.6821, -4.7488, -4.7923, -4.9843, -3.9083, -4.0319, -4.4995, -4.5691, -4.7092, -4.7187, -4.7667, -4.781, -4.9141, -4.9153, -4.9511, -4.9692, -4.9909, -4.9909, -5.0087, -5.1317, -5.1782, -5.2794, -5.3922, -5.4728, -5.5403, -5.5403, -5.5403, -5.5403, -5.5403, -5.5403, -5.5403, -5.5403, -5.5404, -5.541, -4.5452, -4.3441, -4.333, -4.3102, -5.1528, -5.0682, -4.2122, -5.1519, -5.1926, -5.409, -4.4224, -4.7287, -4.4561, -4.705, -4.7023, -4.682, -5.0783, -5.0453, -5.0457, -5.0161, -5.0379, -3.8914, -3.4805, -4.3502, -4.3754, -4.473, -4.5228, -4.6704, -4.6705, -4.8286, -4.8481, -4.8445, -4.88, -4.2869, -4.9568, -4.9572, -5.0156, -5.0972, -5.0975, -5.0975, -5.1934, -5.1935, -5.1936, -5.1936, -5.1942, -5.1942, -5.2183, -5.2241, -5.2455, -4.5427, -5.3254, -4.0971, -4.2735, -3.8414, -4.012, -4.5198, -4.4253, -4.7232, -5.0072, -5.0971, -3.6724, -3.9798, -4.2583, -4.3629, -4.6377, -4.7068, -4.787, -4.8386, -4.8796, -4.9611, -5.0078, -4.0945, -5.0577, -5.1094, -5.1896, -5.3021, -5.3021, -5.3021, -5.3021, -5.3695, -5.3695, -5.3695, -5.3695, -5.3695, -5.3695, -5.3696, -5.3698, -5.3698, -5.3698, -5.3698, -4.766, -4.7601, -4.6417, -4.2236, -4.9159, -4.9616, -4.6467, -4.3296, -3.7608, -4.2617, -3.8354, -4.2847, -4.8172, -3.8724, -3.9052, -4.5369, -4.9657, -4.9663], \"loglift\": [30.0, 29.0, 28.0, 27.0, 26.0, 25.0, 24.0, 23.0, 22.0, 21.0, 20.0, 19.0, 18.0, 17.0, 16.0, 15.0, 14.0, 13.0, 12.0, 11.0, 10.0, 9.0, 8.0, 7.0, 6.0, 5.0, 4.0, 3.0, 2.0, 1.0, 1.2557, 1.2526, 1.2458, 1.2451, 1.2409, 1.2264, 1.2241, 1.2238, 1.2203, 1.217, 1.2107, 1.1937, 1.1923, 1.1899, 1.1847, 1.1822, 1.1778, 1.1767, 1.1752, 1.1719, 1.1602, 1.1583, 1.1549, 1.1512, 1.149, 1.1453, 1.1453, 1.132, 1.1138, 1.1124, 1.0898, 1.0749, 1.0162, 1.0031, 0.8861, 0.9482, 0.8259, 1.0602, 0.6331, 0.7686, 0.5529, 0.6276, 0.7996, 0.7986, 0.3043, 0.6699, 0.3256, 0.5445, 0.4694, 0.6104, 1.565, 1.5642, 1.5538, 1.5362, 1.5335, 1.5221, 1.5128, 1.5118, 1.5068, 1.5039, 1.4883, 1.469, 1.4655, 1.461, 1.4513, 1.4507, 1.4306, 1.4168, 1.4108, 1.4045, 1.3955, 1.3869, 1.3857, 1.3832, 1.3832, 1.3829, 1.3829, 1.3624, 1.3508, 1.3444, 1.3288, 1.3378, 1.311, 1.2889, 1.3404, 1.2108, 1.2634, 1.1724, 1.1383, 1.1617, 0.8444, 1.0331, 0.4678, 0.2724, 1.0693, 0.7871, 0.3592, 0.4914, 0.3835, -0.1532, 0.6501, 0.8502, 0.096, 0.4904, 0.6179, 0.4577, 0.5954, 1.967, 1.9527, 1.9448, 1.898, 1.8974, 1.8903, 1.8849, 1.8843, 1.8843, 1.8795, 1.8712, 1.8664, 1.8626, 1.8553, 1.8481, 1.8475, 1.8408, 1.8406, 1.8358, 1.8345, 1.8303, 1.8298, 1.825, 1.815, 1.8083, 1.8017, 1.7772, 1.7771, 1.7771, 1.7771, 1.715, 1.7253, 1.6092, 1.6587, 1.602, 1.4131, 0.9859, 1.4798, 1.4363, 1.0201, 0.9903, 0.0325, 0.2037, 0.0817, 1.0123, 0.1285, -0.5824, -0.3115, 0.3767, 0.0472, 2.3192, 2.3135, 2.3053, 2.2976, 2.271, 2.269, 2.2676, 2.2604, 2.2501, 2.2297, 2.2252, 2.2226, 2.209, 2.2036, 2.1869, 2.1865, 2.1853, 2.1534, 2.1533, 2.1432, 2.1412, 2.1317, 2.1263, 2.1123, 2.1113, 2.1101, 2.0991, 2.0988, 2.0672, 2.0672, 2.052, 2.0071, 1.8888, 1.6148, 1.5044, 0.5487, 1.5695, 1.6482, 1.6618, 1.0185, 0.9266, 0.9057, 0.7301, 0.2731, -0.0404, 0.5341, 1.3713, 2.408, 2.4036, 2.3817, 2.354, 2.3419, 2.3198, 2.3096, 2.3043, 2.302, 2.2861, 2.269, 2.2307, 2.23, 2.222, 2.2178, 2.212, 2.2024, 2.1954, 2.195, 2.1947, 2.193, 2.1888, 2.1719, 2.1665, 2.1664, 2.1577, 2.1526, 2.1525, 2.1514, 2.1372, 2.0864, 1.9098, 2.0595, 2.0249, 1.8544, 1.7773, 0.0931, 0.8489, 0.8567, 1.0136, -0.6466, 0.7895, 1.0023, 1.0272, -0.4179, 0.4432, 2.3821, 2.3719, 2.3215, 2.312, 2.291, 2.2894, 2.2815, 2.2795, 2.2557, 2.2549, 2.2488, 2.2452, 2.2409, 2.2409, 2.2373, 2.2114, 2.2008, 2.1766, 2.1471, 2.1247, 2.1049, 2.1049, 2.1049, 2.1049, 2.1049, 2.1049, 2.1049, 2.1049, 2.1049, 2.1043, 1.887, 1.5581, 1.4937, 1.3769, 1.8509, 1.7718, 1.0818, 1.7204, 1.7391, 1.9189, 0.4756, 0.855, 0.3324, 0.3534, 0.1878, -0.1082, 1.3368, 0.9671, 0.8883, 0.3163, 0.2348, 2.5428, 2.5272, 2.4908, 2.4872, 2.4728, 2.4655, 2.4404, 2.4403, 2.41, 2.4061, 2.4057, 2.3989, 2.3906, 2.382, 2.3816, 2.369, 2.349, 2.3488, 2.3488, 2.3241, 2.324, 2.3239, 2.3239, 2.3234, 2.3233, 2.3158, 2.3155, 2.3092, 2.3088, 2.2866, 2.0262, 1.7321, 0.9471, 1.0464, 1.3042, 0.3723, 0.9611, 1.6609, 0.1755, 2.7233, 2.692, 2.6412, 2.6391, 2.5893, 2.5747, 2.5566, 2.5445, 2.5353, 2.5146, 2.5022, 2.4985, 2.4885, 2.4735, 2.4498, 2.4141, 2.4141, 2.4141, 2.4141, 2.3914, 2.3914, 2.3914, 2.3914, 2.3914, 2.3914, 2.3913, 2.3912, 2.3911, 2.3911, 2.3911, 2.3665, 2.3561, 2.2437, 2.0824, 2.2657, 2.2347, 1.9106, 1.5335, 0.813, 1.0787, -0.1379, 0.6055, 1.4767, -0.3822, -0.8702, 0.2606, 0.2476, -0.1082]}, \"token.table\": {\"Topic\": [4, 5, 8, 3, 3, 5, 6, 7, 6, 2, 3, 4, 5, 8, 4, 5, 2, 1, 1, 3, 4, 2, 6, 1, 3, 5, 2, 3, 5, 8, 1, 1, 8, 2, 3, 4, 8, 2, 8, 1, 2, 4, 6, 8, 4, 1, 1, 2, 4, 6, 7, 6, 1, 2, 3, 5, 1, 3, 8, 2, 3, 1, 3, 6, 5, 6, 1, 2, 4, 6, 7, 1, 6, 6, 1, 2, 3, 8, 5, 8, 8, 8, 2, 1, 2, 8, 4, 1, 5, 1, 2, 8, 5, 8, 1, 6, 6, 2, 5, 4, 1, 4, 4, 8, 4, 1, 1, 6, 3, 4, 8, 3, 7, 2, 4, 8, 8, 4, 2, 6, 7, 8, 1, 4, 6, 6, 2, 3, 7, 2, 5, 2, 4, 7, 2, 3, 8, 1, 2, 6, 7, 8, 3, 8, 8, 5, 2, 1, 4, 6, 2, 3, 7, 1, 2, 5, 3, 7, 1, 2, 3, 2, 4, 8, 1, 4, 4, 6, 4, 7, 8, 3, 5, 1, 2, 5, 6, 6, 8, 1, 4, 4, 8, 7, 2, 7, 1, 2, 3, 4, 3, 4, 6, 1, 2, 3, 4, 8, 3, 2, 6, 1, 3, 4, 5, 5, 5, 6, 5, 3, 1, 6, 1, 6, 7, 8, 5, 3, 4, 7, 3, 7, 1, 2, 3, 4, 5, 8, 2, 6, 7, 1, 3, 6, 4, 2, 7, 2, 1, 2, 8, 2, 8, 1, 2, 4, 6, 8, 7, 4, 1, 2, 3, 5, 1, 3, 1, 3, 1, 7, 6, 1, 2, 3, 4, 2, 1, 2, 6, 2, 7, 2, 5, 4, 7, 3, 7, 5, 5, 5, 1, 2, 7, 6, 5, 1, 8, 1, 6, 1, 3, 6, 1, 2, 3, 5, 3, 1, 2, 3, 5, 2, 1, 2, 4, 5, 1, 2, 5, 6, 2, 4, 5, 5, 1, 6, 3, 7, 1, 2, 3, 4, 5, 6, 7, 8, 2, 8, 7, 2, 5, 6, 2, 4, 4, 2, 5, 3, 5, 8, 3, 2, 3, 7, 3, 7, 7, 8, 1, 3, 5, 6, 8, 7, 3, 1, 2, 6, 3, 2, 1, 3, 8, 7, 4, 6, 5, 5, 6, 1, 8, 5, 7, 3, 3, 5, 7, 3, 6, 7, 2, 5, 1, 2, 3, 4, 6, 8, 5, 5, 7, 6, 1, 3, 3, 5, 8, 3, 3, 4, 3, 7, 7, 7, 6, 3, 3, 1, 2, 3, 7, 7, 8, 6, 1, 8, 7, 6, 3, 1, 6, 8, 3, 1, 4, 5, 6, 5, 8, 4, 5, 2, 4, 1, 4, 8, 4, 1, 3, 6, 2, 4, 4, 2, 4, 6, 7, 3, 5, 6, 7, 2, 5, 2, 4, 6, 3, 2, 4, 7, 1, 1, 6, 5, 3, 8, 4, 7, 2, 8, 1, 6, 7, 3, 1, 1, 2, 3, 4, 6, 7, 6, 4, 2, 1, 4, 7, 8, 4, 4], \"Freq\": [0.3384285390947112, 0.564047565157852, 0.8483488977969101, 0.9686620804818755, 0.2701753661252391, 0.7204676430006376, 0.8941682796083535, 0.9323028243743041, 0.894230433993818, 0.7119367795088971, 0.7482818694077613, 0.7431880959523869, 0.4518728912618734, 0.4518728912618734, 0.1895859552844997, 0.7583438211379988, 0.9235491449634583, 0.9727443929241077, 0.09915334777954153, 0.3966133911181661, 0.3966133911181661, 0.398742693903789, 0.531656925205052, 0.86339099889533, 0.9425293942812735, 0.6619034771145478, 0.7436127516892436, 0.16524727815316523, 0.05508242605105508, 0.05508242605105508, 0.9298518628766833, 0.7519691086831201, 0.5019435516891098, 0.28974935933202506, 0.5794987186640501, 0.09658311977734169, 0.4799800988415987, 0.28538814058061407, 0.5707762811612281, 0.6010530363338684, 0.10362983385066696, 0.08290386708053357, 0.08290386708053357, 0.14508176739093376, 0.773926799569316, 0.9482042242186179, 0.17982390042191332, 0.46240431537063426, 0.0513782572634038, 0.1284456431585095, 0.17982390042191332, 0.8593054704723326, 0.2411914617818714, 0.37901515422865506, 0.37901515422865506, 0.685395463300348, 0.8180238671751338, 0.9434969820265965, 0.5019326023553579, 0.9316151167662886, 0.8330456606899539, 0.35158793942185235, 0.5273819091327785, 0.8941682796083535, 0.39969099268769215, 0.5995364890315382, 0.1682471509697907, 0.4374425925214558, 0.06729886038791628, 0.13459772077583257, 0.20189658116374884, 0.43808079888402246, 0.43808079888402246, 0.8941682796083535, 0.6637070786539809, 0.28660078396421906, 0.030168503575180954, 0.015084251787590477, 0.8591617100254344, 0.8970638189106888, 0.8401644471040709, 0.9399737243838335, 0.9334902792624052, 0.9650594681129028, 0.933597469972329, 0.7547959382890366, 0.773841368811404, 0.8797252709368512, 0.6854377324144023, 0.7463779676988807, 0.15713220372608014, 0.07856610186304007, 0.7803087805757932, 0.9322862406508553, 0.9513367616067774, 0.8941682796083535, 0.9227724704033523, 0.8739162373105548, 0.8872701081161701, 0.8405428171280823, 0.9381173621642627, 0.8611897091597039, 0.7386812795079805, 0.24622709316932684, 0.8573878550252458, 0.9011081824336759, 0.8139330473343441, 0.09043700525937157, 0.6279701589171117, 0.2511880635668447, 0.5019326023553579, 0.8556486465694808, 0.13163825331838166, 0.8854918171630183, 0.7426819086185806, 0.8098483543594519, 0.4799800988415987, 0.9218262631503259, 0.7517484221523462, 0.05184471876912732, 0.10368943753825464, 0.07776707815369098, 0.8318312469145746, 0.7429210212573418, 0.7843543664387773, 0.8941682796083535, 0.6983590595698089, 0.5048475080168553, 0.33656500534457023, 0.8156254479755859, 0.7678336673677759, 0.912157781436957, 0.82823388526635, 0.7870095119774568, 0.7991590746948569, 0.17759090548774598, 0.5019172443480028, 0.35687321365085606, 0.35687321365085606, 0.08921830341271401, 0.04460915170635701, 0.17843660682542803, 0.9424974950173973, 0.5019172443480028, 0.7101803354224954, 0.8126484626367478, 0.8945952597668547, 0.8003631655713781, 0.7129787301321928, 0.8870994408986551, 0.8333615903902304, 0.3903626194495184, 0.5855439291742777, 0.6004788573768746, 0.17661142864025722, 0.21193371436830866, 0.16987640975219823, 0.8493820487609912, 0.4566489087886251, 0.3044326058590834, 0.19027037866192711, 0.6712470632960793, 0.6783146953499545, 0.6880057111233929, 0.4830802309652635, 0.4830802309652635, 0.8572833697732539, 0.8942161986432409, 0.7752473310526707, 0.9271846505668413, 0.8828627385491453, 0.9425299307824829, 0.7805261679658192, 0.3154742527702238, 0.1892845516621343, 0.12618970110808952, 0.3154742527702238, 0.28123880420274966, 0.5624776084054993, 0.4401400673525567, 0.4401400673525567, 0.8577078234884012, 0.5019202585340492, 0.893239996106559, 0.9683157796739201, 0.8176905550960069, 0.37563601957833, 0.22196673884174042, 0.35856165505204224, 0.034148729052575454, 0.734850291717296, 0.2449500972390987, 0.6852489580233715, 0.47454306153046605, 0.3192380595750408, 0.14667694629123496, 0.008628055664190292, 0.05176833398514175, 0.9425089790531107, 0.9485823800578842, 0.8043796274739031, 0.4380274234375426, 0.19467885486113004, 0.24334856857641254, 0.1460091411458475, 0.622054688673774, 0.822360407465279, 0.7400221782486206, 0.818281653144356, 0.8957245442035915, 0.8404640791639223, 0.9382742625439227, 0.9024719618808014, 0.7383276755707976, 0.6890276448144708, 0.5019202585340492, 0.7662113848885881, 0.8962951247119824, 0.8677418093622268, 0.6582238873848486, 0.8538943161614633, 0.7869386693711807, 0.3716599396534625, 0.16829884059779435, 0.16128638890621957, 0.1542739372146448, 0.09116187199047193, 0.04207471014944859, 0.726859312347906, 0.242286437449302, 0.080762145816434, 0.15647379746149317, 0.391184493653733, 0.391184493653733, 0.650508643072199, 0.8464167069896429, 0.6581956110521978, 0.8565576809006304, 0.9839850595566547, 0.8880606857806426, 0.4799800988415987, 0.9335808110669543, 0.4799800988415987, 0.5403028002009841, 0.11374795793704927, 0.11374795793704927, 0.11374795793704927, 0.11374795793704927, 0.8886379798120004, 0.700798786661318, 0.306741725166455, 0.3505619716188057, 0.13146073935705213, 0.17528098580940285, 0.9050652774001586, 0.09050652774001586, 0.9758812041195669, 0.7869114381979105, 0.9581597377648535, 0.9036187948546324, 0.9043786225136702, 0.6250641591970605, 0.2893815551838243, 0.06945157324411783, 0.011575262207352971, 0.9423195202575957, 0.9539178062778946, 0.580428549807388, 0.3627678436296175, 0.20215516367226102, 0.8086206546890441, 0.9201837504297348, 0.9053838745654827, 0.6505365074113103, 0.9071291813483771, 0.7398594852237189, 0.12330991420395315, 0.9052284973209987, 0.6436824480268428, 0.749869169370916, 0.30159293021097294, 0.6366961860009429, 0.06702065115799398, 0.8870937533686541, 0.9668214560180369, 0.9415976236822002, 0.5019326023553579, 0.8496309066043403, 0.09440343406714892, 0.8564122562211424, 0.23539054345850385, 0.4707810869170077, 0.5093532731334387, 0.3225904063178445, 0.10187065462668775, 0.050935327313343874, 0.9074354978217078, 0.2928995833931834, 0.6590240626346626, 0.6896231685370792, 0.2758492674148317, 0.9092361284930691, 0.33364315569691144, 0.19065323182680655, 0.23831653978350817, 0.23831653978350817, 0.6164268612576862, 0.3082134306288431, 0.03424593673653812, 0.87184646816979, 0.7992916235046107, 0.15985832470092212, 0.7373749503597247, 0.6857528897103149, 0.412829295243242, 0.412829295243242, 0.7303245023336817, 0.8002226956569883, 0.516029716255715, 0.26246339016454473, 0.13790449313730316, 0.004448532036687198, 0.044485320366871986, 0.004448532036687198, 0.004448532036687198, 0.026691192220123193, 0.46866797259925735, 0.46866797259925735, 0.7328356023775051, 0.6895879331838605, 0.20687637995515815, 0.661048079502919, 0.8327673105840528, 0.9403670539779245, 0.9533625249362003, 0.27227526906608646, 0.5445505381321729, 0.9146980389843726, 0.20912985446817695, 0.6273895634045308, 0.9434419339930067, 0.612151821637182, 0.37409277988938894, 0.7328716360919458, 0.08694564739846708, 0.8694564739846709, 0.26774061331806415, 0.5354812266361283, 0.7462381881430102, 0.03244513861491349, 0.19467083168948093, 0.832925657031663, 0.5019202585340492, 0.7869641700029762, 0.8272148261010888, 0.5142161356647006, 0.4627945220982305, 0.8941682796083535, 0.9798178577862461, 0.9335054423882778, 0.7858426240320837, 0.15716852480641674, 0.5019202585340492, 0.732868338601197, 0.9131887220134967, 0.8941682796083535, 0.7498791043686673, 0.884641760858506, 0.8941682796083535, 0.8318737052000721, 0.7810758545855578, 0.6999756547277569, 0.8649191074554011, 0.9076366201107381, 0.5662979234309663, 0.25168796596931836, 0.18876597447698876, 0.9317666346946558, 0.8997910099951782, 0.8168235670494037, 0.943769574130287, 0.04289861700592214, 0.17470786870924063, 0.34941573741848125, 0.08735393435462031, 0.08735393435462031, 0.2620618030638609, 0.8445337909065697, 0.9399706245002284, 0.961341031427358, 0.9298941230029234, 0.8340622459664956, 0.8120695359235871, 0.18045989687190825, 0.8136379465690425, 0.9339768041988723, 0.5019270366182748, 0.8963355990527361, 0.29173324616615404, 0.6563998038738466, 0.7673667303370779, 0.7860262319258765, 0.7869620235564511, 0.7860520642833395, 0.8338311566450428, 0.9760965839900746, 0.7271367477939024, 0.4341298365191206, 0.07235497275318677, 0.14470994550637353, 0.28941989101274707, 0.8001730065679483, 0.6613691596024858, 0.7474275931401915, 0.6945106530906663, 0.23150355103022208, 0.7870397726274756, 0.8525378047446307, 0.7483967250486512, 0.8620723556639882, 0.15610927999654584, 0.7805463999827291, 0.8601107355762232, 0.4258738292418935, 0.1703495316967574, 0.0851747658483787, 0.2555242975451361, 0.7413389624654046, 0.24711298748846822, 0.6744337208296547, 0.8484378633686529, 0.9084957626082786, 0.8405428171280823, 0.8872780585748146, 0.7955456063877018, 0.8889798076577862, 0.8955133363815555, 0.7165795029834905, 0.1433159005966981, 0.1433159005966981, 0.5792473851648402, 0.40547316961538815, 0.932691892378638, 0.6253237526930981, 0.16675300071815952, 0.12506475053861962, 0.08337650035907976, 0.14389142619529843, 0.5755657047811937, 0.28778285239059687, 0.8045528738716287, 0.8107351191800799, 0.7803039020870836, 0.7590999074490944, 0.3255342853395898, 0.6510685706791796, 0.804933969214955, 0.34704407427021994, 0.26028305570266497, 0.4338050928377749, 0.8978033577111796, 0.653363888654401, 0.2613455554617604, 0.9657185815811179, 0.26342202027433537, 0.5268440405486707, 0.5475796970704397, 0.36505313138029316, 0.7676254444146392, 0.15352508888292785, 0.796557611795323, 0.13275960196588718, 0.04425320065529573, 0.8118908341207268, 0.8128415693409058, 0.9492623484474993, 0.05689396779509711, 0.6827276135411654, 0.05689396779509711, 0.22757587118038844, 0.7869640617836882, 0.9457425554327036, 0.9198026007624096, 0.9244883537916315, 0.15048011665039085, 0.4514403499511726, 0.07524005832519542, 0.3009602333007817, 0.7254465531750159, 0.7764454918922955], \"Term\": [\"$\", \"$\", \"'\", \"'m\", \"'s\", \"'s\", \"a+\", \"able\", \"account\", \"additional\", \"almost\", \"along\", \"already\", \"already\", \"also\", \"also\", \"always\", \"amazing\", \"android\", \"android\", \"android\", \"another\", \"another\", \"anyone\", \"anything\", \"app\", \"apple\", \"apple\", \"apple\", \"apple\", \"apps\", \"around\", \"attendance\", \"awesome\", \"awesome\", \"awesome\", \"backgroup\", \"basically\", \"basically\", \"battery\", \"battery\", \"battery\", \"battery\", \"battery\", \"bb\", \"beautiful\", \"best\", \"best\", \"best\", \"best\", \"best\", \"bestbuy\", \"better\", \"better\", \"better\", \"beyond\", \"big\", \"bigger\", \"bionic\", \"bit\", \"blue\", \"bought\", \"bought\", \"build\", \"button\", \"button\", \"buy\", \"buy\", \"buy\", \"buy\", \"buy\", \"buying\", \"buying\", \"cam\", \"camera\", \"camera\", \"camera\", \"camera\", \"card\", \"case\", \"cell\", \"cellphone\", \"character\", \"charge\", \"cheaper\", \"chip\", \"christmas\", \"clear\", \"closed\", \"color\", \"color\", \"color\", \"coming\", \"compare\", \"complaint\", \"confortable\", \"could\", \"customer\", \"data\", \"date\", \"daughter\", \"day\", \"deal\", \"deal\", \"decent\", \"decided\", \"definitely\", \"definitely\", \"design\", \"design\", \"despite\", \"difference\", \"difference\", \"display\", \"drive\", \"drop\", \"droped\", \"ease\", \"easy\", \"easy\", \"easy\", \"easy\", \"else\", \"email\", \"employee\", \"endurance\", \"enjoy\", \"enjoying\", \"enjoying\", \"esim\", \"even\", \"ever\", \"every\", \"everyone\", \"everything\", \"everything\", \"exceeding\", \"excellent\", \"excellent\", \"excellent\", \"excellent\", \"excellent\", \"except\", \"exceptional\", \"expectation\", \"expected\", \"experience\", \"extra\", \"extremely\", \"fan\", \"fantastic\", \"far\", \"far\", \"fast\", \"fast\", \"fast\", \"faster\", \"faster\", \"feature\", \"feature\", \"feature\", \"feel\", \"finally\", \"find\", \"first\", \"first\", \"fit\", \"five\", \"forward\", \"friendly\", \"fun\", \"g\", \"gaming\", \"get\", \"get\", \"get\", \"get\", \"getting\", \"getting\", \"gift\", \"gift\", \"give\", \"given\", \"glad\", \"go\", \"going\", \"good\", \"good\", \"good\", \"good\", \"got\", \"got\", \"grade\", \"great\", \"great\", \"great\", \"great\", \"great\", \"guess\", \"hand\", \"happier\", \"happy\", \"happy\", \"happy\", \"happy\", \"hard\", \"helped\", \"helping\", \"high\", \"highly\", \"hold\", \"home\", \"hour\", \"huge\", \"husband\", \"hz\", \"impressed\", \"improved\", \"improvement\", \"info\", \"information\", \"instruction\", \"iphone\", \"iphone\", \"iphone\", \"iphone\", \"iphone\", \"iphone\", \"iphones\", \"iphones\", \"iphones\", \"issue\", \"issue\", \"issue\", \"item\", \"know\", \"knowledgeable\", \"larger\", \"last\", \"latest\", \"lb\", \"let\", \"lg\", \"life\", \"life\", \"life\", \"life\", \"life\", \"light\", \"lightning\", \"like\", \"like\", \"like\", \"like\", \"little\", \"little\", \"long\", \"longer\", \"look\", \"looking\", \"lot\", \"love\", \"love\", \"love\", \"love\", \"loved\", \"made\", \"make\", \"make\", \"many\", \"many\", \"market\", \"may\", \"mini\", \"miss\", \"model\", \"model\", \"mom\", \"month\", \"move\", \"much\", \"much\", \"much\", \"must\", \"n't\", \"navigate\", \"nearly\", \"need\", \"need\", \"needed\", \"never\", \"never\", \"new\", \"new\", \"new\", \"new\", \"newer\", \"nice\", \"nice\", \"nothing\", \"nothing\", \"ok\", \"old\", \"old\", \"old\", \"old\", \"one\", \"one\", \"one\", \"operating\", \"overall\", \"overall\", \"paid\", \"patient\", \"pay\", \"pay\", \"people\", \"person\", \"phone\", \"phone\", \"phone\", \"phone\", \"phone\", \"phone\", \"phone\", \"phone\", \"photo\", \"photo\", \"physical\", \"picture\", \"picture\", \"piece\", \"present\", \"pretty\", \"previous\", \"previously\", \"previously\", \"price\", \"pro\", \"pro\", \"process\", \"product\", \"product\", \"protector\", \"purchase\", \"purchase\", \"put\", \"put\", \"quality\", \"quality\", \"quality\", \"quick\", \"rate\", \"rather\", \"read\", \"really\", \"really\", \"recharging\", \"recommend\", \"recommended\", \"red\", \"red\", \"refresh\", \"remember\", \"replaced\", \"retrieving\", \"review\", \"right\", \"ringtone\", \"run\", \"salesperson\", \"samsung\", \"satisfied\", \"say\", \"screen\", \"screen\", \"screen\", \"see\", \"seems\", \"send\", \"service\", \"service\", \"set\", \"set\", \"set\", \"set\", \"set\", \"setup\", \"side\", \"sim\", \"similar\", \"simple\", \"size\", \"size\", \"sleek\", \"slightly\", \"smoothly\", \"something\", \"son\", \"son\", \"special\", \"speed\", \"squared\", \"staff\", \"star\", \"still\", \"storage\", \"store\", \"store\", \"store\", \"store\", \"support\", \"sure\", \"system\", \"take\", \"take\", \"tell\", \"th\", \"thanks\", \"thing\", \"think\", \"think\", \"though\", \"time\", \"time\", \"time\", \"time\", \"took\", \"took\", \"trade\", \"transferred\", \"transition\", \"trust\", \"two\", \"u\", \"update\", \"updated\", \"upgrade\", \"upgrade\", \"upgrade\", \"upgraded\", \"upgraded\", \"upgrading\", \"use\", \"use\", \"use\", \"use\", \"used\", \"used\", \"used\", \"user\", \"using\", \"value\", \"version\", \"wait\", \"wait\", \"wanted\", \"way\", \"way\", \"way\", \"well\", \"went\", \"went\", \"wife\", \"wish\", \"wish\", \"without\", \"without\", \"wonderful\", \"wonderful\", \"work\", \"work\", \"work\", \"worked\", \"working\", \"worth\", \"would\", \"would\", \"would\", \"would\", \"wow\", \"wrong\", \"x\", \"xr\", \"year\", \"year\", \"year\", \"year\", \"yet\", \"yr\"]}, \"R\": 30, \"lambda.step\": 0.01, \"plot.opts\": {\"xlab\": \"PC1\", \"ylab\": \"PC2\"}, \"topic.order\": [6, 4, 2, 7, 3, 8, 1, 5]};\n",
       "\n",
       "function LDAvis_load_lib(url, callback){\n",
       "  var s = document.createElement('script');\n",
       "  s.src = url;\n",
       "  s.async = true;\n",
       "  s.onreadystatechange = s.onload = callback;\n",
       "  s.onerror = function(){console.warn(\"failed to load library \" + url);};\n",
       "  document.getElementsByTagName(\"head\")[0].appendChild(s);\n",
       "}\n",
       "\n",
       "if(typeof(LDAvis) !== \"undefined\"){\n",
       "   // already loaded: just create the visualization\n",
       "   !function(LDAvis){\n",
       "       new LDAvis(\"#\" + \"ldavis_el888819893081003844177496608\", ldavis_el888819893081003844177496608_data);\n",
       "   }(LDAvis);\n",
       "}else if(typeof define === \"function\" && define.amd){\n",
       "   // require.js is available: use it to load d3/LDAvis\n",
       "   require.config({paths: {d3: \"https://d3js.org/d3.v5\"}});\n",
       "   require([\"d3\"], function(d3){\n",
       "      window.d3 = d3;\n",
       "      LDAvis_load_lib(\"https://cdn.jsdelivr.net/gh/bmabey/pyLDAvis@3.4.0/pyLDAvis/js/ldavis.v3.0.0.js\", function(){\n",
       "        new LDAvis(\"#\" + \"ldavis_el888819893081003844177496608\", ldavis_el888819893081003844177496608_data);\n",
       "      });\n",
       "    });\n",
       "}else{\n",
       "    // require.js not available: dynamically load d3 & LDAvis\n",
       "    LDAvis_load_lib(\"https://d3js.org/d3.v5.js\", function(){\n",
       "         LDAvis_load_lib(\"https://cdn.jsdelivr.net/gh/bmabey/pyLDAvis@3.4.0/pyLDAvis/js/ldavis.v3.0.0.js\", function(){\n",
       "                 new LDAvis(\"#\" + \"ldavis_el888819893081003844177496608\", ldavis_el888819893081003844177496608_data);\n",
       "            })\n",
       "         });\n",
       "}\n",
       "</script>"
      ],
      "text/plain": [
       "<IPython.core.display.HTML object>"
      ]
     },
     "execution_count": 18,
     "metadata": {},
     "output_type": "execute_result"
    }
   ],
   "source": [
    "# Visualize the topics (can take some mintues to run)\n",
    "#vis = pyLDAvis.gensim.prepare(lda_model, tdm, id2word)\n",
    "#pyLDAvis.show(vis)\n",
    "\n",
    "# If it is a newwer version of puLDavis, use this instead of the previous\n",
    "vis = gensimvis.prepare(lda_model, tdm, id2word)\n",
    "pyLDAvis.display(vis)\n",
    "\n",
    "#pyLDAvis.enable_notebook() # Remove remarks to see in notebook instead of the browser"
   ]
  },
  {
   "cell_type": "markdown",
   "metadata": {},
   "source": [
    "#### Insights of graphs: \n",
    "\n",
    "The LDA model identifies eight topics (as specified by num_topics=8) and assigns keywords to each topic. The keywords provide an insight into the main themes or areas of discussion in the analyzed dataset. Each topic is represented by a list of words and their corresponding weights.\n",
    "\n",
    "We can see here that in Topic 1 there are several words that show a higher weight. Some of them are:\"Camara\", \"baterry\",\"Upgraded\", \"long\" and \"charge\". This reflex what we have been seeing so far, this are the most fequent words use by customers within the reviews but also the ones that have more weight. The weight of a keyword indicates the likelihood of that word occurring in the given topic. The higher the weight, the more representative and important the word is for the topic.\n",
    "\n",
    "In topic 2 we can see that the words that have more weight are: \"easy\", \"service\" and \"use\", which complements the previous insights that we got from the pther analysis within Best Buy and Reddit. \n",
    "\n",
    " \n"
   ]
  },
  {
   "cell_type": "markdown",
   "metadata": {},
   "source": [
    "### Evaluation of topic models\n",
    "Good description at: https://towardsdatascience.com/evaluate-topic-model-in-python-latent-dirichlet-allocation-lda-7d57484bb5d0"
   ]
  },
  {
   "cell_type": "code",
   "execution_count": 19,
   "metadata": {},
   "outputs": [
    {
     "name": "stdout",
     "output_type": "stream",
     "text": [
      "\n",
      "Perplexity:  -6.747659725356143\n"
     ]
    }
   ],
   "source": [
    "# Compute Perplexity\n",
    "print('\\nPerplexity: ', lda_model.log_perplexity(tdm))  # lower value is better (some liteture do not recommend the use of this measure)"
   ]
  },
  {
   "cell_type": "code",
   "execution_count": 20,
   "metadata": {},
   "outputs": [
    {
     "name": "stdout",
     "output_type": "stream",
     "text": [
      "\n",
      "Coherence Score:  0.3207052449766973\n"
     ]
    }
   ],
   "source": [
    "# Compute Coherence Score\n",
    "coherence_model_lda = CoherenceModel(model=lda_model, texts=corpus, dictionary=id2word, coherence='c_v')\n",
    "coherence_lda = coherence_model_lda.get_coherence()\n",
    "print('\\nCoherence Score: ', coherence_lda)"
   ]
  },
  {
   "cell_type": "code",
   "execution_count": 21,
   "metadata": {},
   "outputs": [
    {
     "data": {
      "image/png": "[encoded data removed]",
      "text/plain": [
       "<Figure size 432x288 with 1 Axes>"
      ]
     },
     "metadata": {
      "needs_background": "light"
     },
     "output_type": "display_data"
    }
   ],
   "source": [
    "# HOW TO SELECT K (based on https://www.machinelearningplus.com/nlp/topic-modeling-gensim-python/)\n",
    "def compute_coherence_values(dictionary, corpus, texts, limit, start=2, step=3):\n",
    "    \"\"\"\n",
    "    Compute c_v coherence for various number of topics\n",
    "\n",
    "    Parameters:\n",
    "    ----------\n",
    "    dictionary : Gensim dictionary\n",
    "    corpus : Gensim corpus\n",
    "    texts : List of input texts\n",
    "    limit : Max num of topics\n",
    "\n",
    "    Returns:\n",
    "    -------\n",
    "    model_list : List of LDA topic models\n",
    "    coherence_values : Coherence values corresponding to the LDA model with respective number of topics\n",
    "    \"\"\"\n",
    "    coherence_values = []\n",
    "    model_list = []\n",
    "    for num_topics in range(start, limit, step):\n",
    "        model = gensim.models.ldamodel.LdaModel(corpus=corpus,\n",
    "                                           id2word=id2word,\n",
    "                                           num_topics=num_topics,\n",
    "                                           random_state=123,\n",
    "                                           update_every=1,\n",
    "                                           chunksize=100,\n",
    "                                           passes=10,\n",
    "                                           alpha='auto',\n",
    "                                           per_word_topics=True)\n",
    "        model_list.append(model)\n",
    "        coherencemodel = CoherenceModel(model=model, texts=texts, dictionary=dictionary, coherence='c_v')\n",
    "        coherence_values.append(coherencemodel.get_coherence())\n",
    "\n",
    "    return model_list, coherence_values\n",
    "\n",
    "# ATTENTION!!!! Can take a LONG time to run.\n",
    "lowerBound = 2\n",
    "upperBound = 20\n",
    "step = 6\n",
    "model_list, coherence_values = compute_coherence_values(dictionary=id2word, corpus=tdm, texts=corpus, start=lowerBound, limit=upperBound, step= step)\n",
    "\n",
    "# Show graph\n",
    "x = range(lowerBound, upperBound, step)\n",
    "plt.plot(x, coherence_values)\n",
    "plt.xlabel(\"Num Topics\")\n",
    "plt.ylabel(\"Coherence score\")\n",
    "plt.legend((\"coherence_values\"), loc='best')\n",
    "plt.show()\n",
    "# The coherence score is decreasing. A higher value should be chosen, because as K increases the probability of having repeated keywords increases.\n",
    "# ...So, in this case we may choose 8, as there is an inflaction at K=8"
   ]
  },
  {
   "cell_type": "markdown",
   "metadata": {},
   "source": [
    "#### Insights from the graph: \n",
    "\n",
    "This code snippet computes the perplexity of an LDA (Latent Dirichlet Allocation) model. The perplexity is a measure of how well the model predicts a sample or a set of documents. A lower perplexity value indicates better performance. \n",
    "\n",
    "Then code calculates the coherence score of an LDA model. Coherence is a measure of the interpretability and consistency of the topics generated by the model. The code creates a CoherenceModel object with the LDA model (lda_model), the corpus, the dictionary, and the coherence measure ('c_v'). The coherence score is obtained using the get_coherence method of the coherence_model_lda object. The code then prints the coherence score.\n",
    "\n",
    "Finally the code defines a function called compute_coherence_values that computes the coherence values for different numbers of topics in an LDA model. The function takes in a Gensim dictionary, a Gensim corpus, a list of input texts, a limit on the maximum number of topics to consider, and the start and step values for the range of topics.\n",
    "\n",
    "The coherence score (0.3207052449766973) provides a measure of how coherent and interpretable the topics generated by the model are. A higher coherence score indicates better topic quality. In the context of the graph, a coherence score of 0.32 suggests that the topics might not be highly coherent or distinct."
   ]
  },
  {
   "cell_type": "code",
   "execution_count": null,
   "metadata": {},
   "outputs": [],
   "source": []
  }
 ],
 "metadata": {
  "kernelspec": {
   "display_name": "Python 3 (ipykernel)",
   "language": "python",
   "name": "python3"
  },
  "language_info": {
   "codemirror_mode": {
    "name": "ipython",
    "version": 3
   },
   "file_extension": ".py",
   "mimetype": "text/x-python",
   "name": "python",
   "nbconvert_exporter": "python",
   "pygments_lexer": "ipython3",
   "version": "3.9.12"
  },
  "vscode": {
   "interpreter": {
    "hash": "d7a18bc08bf6b314cad8b0dd8f53415ad78d1015cc806d14e4873c235fb4e191"
   }
  }
 },
 "nbformat": 4,
 "nbformat_minor": 2
}
