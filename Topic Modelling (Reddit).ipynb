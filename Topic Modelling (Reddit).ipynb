{
 "cells": [
  {
   "attachments": {},
   "cell_type": "markdown",
   "id": "cc595b57",
   "metadata": {},
   "source": [
    "# Social Media Analytics\n",
    "## Project 3\n",
    "## Text Mining - Topic Modeling (Reddit Posts)\n",
    "Felix Funes 20220306 | Paula Catalan 20221048 | Efstathia Styliagkatzi 20220078 | Alisson Tapia 20221156 | S M Abrar Hossain Asif 20220223"
   ]
  },
  {
   "attachments": {},
   "cell_type": "markdown",
   "id": "43327dee",
   "metadata": {},
   "source": [
    "In this notebook, our main goal is to gain valuable insights about the iPhone 14 by analyzing a collection of posts from Reddit. By applying various text mining techniques, we aim to uncover hidden patterns and themes within the data, providing us with a deeper understanding of people's experiences and opinions regarding the different models of the iPhone 14.\n",
    "\n",
    "By performing topic modeling analysis, we can achieve a range of valuable outcomes. Firstly, topic modeling allows us to uncover the underlying themes or topics within the collected documents, revealing patterns and structures without requiring manual reading and categorization of each individual review. This not only saves time but also provides a holistic view of the dataset.\n",
    "\n",
    "Furthermore, topic modeling helps us enhance our understanding of the text corpus by summarizing and organizing the textual information into meaningful topics. With large amounts of text data, it's easy to feel overwhelmed, but topic modeling simplifies the exploration and comprehension of the dataset, making it more approachable and manageable.\n",
    "\n",
    "Topic modeling also plays a significant role in market research and customer insights. By applying it to customer reviews, and social media data, we can identify prevalent topics and sentiments. This empowers businesses with valuable information about customer preferences, concerns, and trends. It can guide product development, inform marketing strategies, and contribute to customer satisfaction analysis.\n",
    "\n",
    "Throughout this notebook, we will leverage the power of topic modeling to gain insights into the iPhone 14 reviews and uncover the key topics that emerge from Reddit posts. By doing so, we hope to shed light on the experiences, opinions, and trends surrounding the iPhone 14 models, contributing to a comprehensive understanding of this popular device."
   ]
  },
  {
   "attachments": {},
   "cell_type": "markdown",
   "id": "21760362",
   "metadata": {},
   "source": [
    "## Initial Setup"
   ]
  },
  {
   "cell_type": "code",
   "execution_count": 1,
   "id": "fbd15c92",
   "metadata": {},
   "outputs": [
    {
     "name": "stdout",
     "output_type": "stream",
     "text": [
      "Collecting numpy==1.21.2\n",
      "  Using cached numpy-1.21.2-cp39-cp39-win_amd64.whl (14.0 MB)\n",
      "Installing collected packages: numpy\n",
      "Successfully installed numpy-1.21.2\n"
     ]
    },
    {
     "name": "stderr",
     "output_type": "stream",
     "text": [
      "WARNING: Ignoring invalid distribution -cipy (c:\\users\\felix\\anaconda3\\lib\\site-packages)\n",
      "WARNING: Ignoring invalid distribution -cipy (c:\\users\\felix\\anaconda3\\lib\\site-packages)\n",
      "  WARNING: The script f2py.exe is installed in 'C:\\Users\\Felix\\AppData\\Roaming\\Python\\Python39\\Scripts' which is not on PATH.\n",
      "  Consider adding this directory to PATH or, if you prefer to suppress this warning, use --no-warn-script-location.\n",
      "ERROR: pip's dependency resolver does not currently take into account all the packages that are installed. This behaviour is the source of the following dependency conflicts.\n",
      "daal4py 2021.5.0 requires daal==2021.4.0, which is not installed.\n",
      "pandas-profiling 3.3.0 requires joblib~=1.1.0, but you have joblib 1.2.0 which is incompatible.\n",
      "pandas-profiling 3.3.0 requires pandas!=1.4.0,<1.5,>1.1, but you have pandas 2.0.2 which is incompatible.\n",
      "pandas-profiling 3.3.0 requires scipy<1.10,>=1.4.1, but you have scipy 1.10.1 which is incompatible.\n",
      "pyldavis 3.4.1 requires numpy>=1.24.2, but you have numpy 1.21.2 which is incompatible.\n"
     ]
    },
    {
     "name": "stdout",
     "output_type": "stream",
     "text": [
      "Requirement already satisfied: pyLDAvis in c:\\users\\felix\\anaconda3\\lib\\site-packages (3.4.1)\n",
      "Collecting numpy>=1.24.2 (from pyLDAvis)\n",
      "  Using cached numpy-1.24.3-cp39-cp39-win_amd64.whl (14.9 MB)\n",
      "Requirement already satisfied: scipy in c:\\users\\felix\\anaconda3\\lib\\site-packages (from pyLDAvis) (1.10.1)\n",
      "Requirement already satisfied: pandas>=2.0.0 in c:\\users\\felix\\anaconda3\\lib\\site-packages (from pyLDAvis) (2.0.2)\n",
      "Requirement already satisfied: joblib>=1.2.0 in c:\\users\\felix\\anaconda3\\lib\\site-packages (from pyLDAvis) (1.2.0)\n",
      "Requirement already satisfied: jinja2 in c:\\users\\felix\\anaconda3\\lib\\site-packages (from pyLDAvis) (2.11.3)\n",
      "Requirement already satisfied: numexpr in c:\\users\\felix\\anaconda3\\lib\\site-packages (from pyLDAvis) (2.8.1)\n",
      "Requirement already satisfied: funcy in c:\\users\\felix\\anaconda3\\lib\\site-packages (from pyLDAvis) (2.0)\n",
      "Requirement already satisfied: scikit-learn>=1.0.0 in c:\\users\\felix\\anaconda3\\lib\\site-packages (from pyLDAvis) (1.0.2)\n",
      "Requirement already satisfied: gensim in c:\\users\\felix\\anaconda3\\lib\\site-packages (from pyLDAvis) (4.1.2)\n",
      "Requirement already satisfied: setuptools in c:\\users\\felix\\anaconda3\\lib\\site-packages (from pyLDAvis) (61.2.0)\n",
      "Requirement already satisfied: python-dateutil>=2.8.2 in c:\\users\\felix\\anaconda3\\lib\\site-packages (from pandas>=2.0.0->pyLDAvis) (2.8.2)\n",
      "Requirement already satisfied: pytz>=2020.1 in c:\\users\\felix\\anaconda3\\lib\\site-packages (from pandas>=2.0.0->pyLDAvis) (2021.3)\n",
      "Requirement already satisfied: tzdata>=2022.1 in c:\\users\\felix\\anaconda3\\lib\\site-packages (from pandas>=2.0.0->pyLDAvis) (2023.3)\n",
      "Requirement already satisfied: threadpoolctl>=2.0.0 in c:\\users\\felix\\anaconda3\\lib\\site-packages (from scikit-learn>=1.0.0->pyLDAvis) (2.2.0)\n",
      "Requirement already satisfied: smart-open>=1.8.1 in c:\\users\\felix\\anaconda3\\lib\\site-packages (from gensim->pyLDAvis) (6.3.0)\n",
      "Requirement already satisfied: MarkupSafe>=0.23 in c:\\users\\felix\\anaconda3\\lib\\site-packages (from jinja2->pyLDAvis) (2.0.1)\n",
      "Requirement already satisfied: packaging in c:\\users\\felix\\anaconda3\\lib\\site-packages (from numexpr->pyLDAvis) (21.3)\n",
      "Requirement already satisfied: six>=1.5 in c:\\users\\felix\\anaconda3\\lib\\site-packages (from python-dateutil>=2.8.2->pandas>=2.0.0->pyLDAvis) (1.16.0)\n",
      "Requirement already satisfied: pyparsing!=3.0.5,>=2.0.2 in c:\\users\\felix\\anaconda3\\lib\\site-packages (from packaging->numexpr->pyLDAvis) (3.0.4)\n",
      "Installing collected packages: numpy\n",
      "  Attempting uninstall: numpy\n",
      "    Found existing installation: numpy 1.21.2\n",
      "    Uninstalling numpy-1.21.2:\n",
      "      Successfully uninstalled numpy-1.21.2\n"
     ]
    },
    {
     "name": "stderr",
     "output_type": "stream",
     "text": [
      "WARNING: Ignoring invalid distribution -cipy (c:\\users\\felix\\anaconda3\\lib\\site-packages)\n",
      "WARNING: Ignoring invalid distribution -cipy (c:\\users\\felix\\anaconda3\\lib\\site-packages)\n",
      "ERROR: Could not install packages due to an OSError: [WinError 5] Access is denied: 'C:\\\\Users\\\\Felix\\\\AppData\\\\Roaming\\\\Python\\\\Python39\\\\site-packages\\\\~.mpy\\\\.libs\\\\libopenblas.XWYDX2IKJW2NMTWSFYNGFUWKQU3LYTCZ.gfortran-win_amd64.dll'\n",
      "Consider using the `--user` option or check the permissions.\n",
      "\n"
     ]
    },
    {
     "name": "stdout",
     "output_type": "stream",
     "text": [
      "Requirement already satisfied: pandas in c:\\users\\felix\\anaconda3\\lib\\site-packages (2.0.2)\n",
      "Requirement already satisfied: numpy in c:\\users\\felix\\anaconda3\\lib\\site-packages (1.24.3)\n",
      "Requirement already satisfied: scipy in c:\\users\\felix\\anaconda3\\lib\\site-packages (1.10.1)\n",
      "Requirement already satisfied: pyLDAvis in c:\\users\\felix\\anaconda3\\lib\\site-packages (3.4.1)\n",
      "Requirement already satisfied: python-dateutil>=2.8.2 in c:\\users\\felix\\anaconda3\\lib\\site-packages (from pandas) (2.8.2)\n",
      "Requirement already satisfied: pytz>=2020.1 in c:\\users\\felix\\anaconda3\\lib\\site-packages (from pandas) (2021.3)\n",
      "Requirement already satisfied: tzdata>=2022.1 in c:\\users\\felix\\anaconda3\\lib\\site-packages (from pandas) (2023.3)\n",
      "Requirement already satisfied: joblib>=1.2.0 in c:\\users\\felix\\anaconda3\\lib\\site-packages (from pyLDAvis) (1.2.0)\n",
      "Requirement already satisfied: jinja2 in c:\\users\\felix\\anaconda3\\lib\\site-packages (from pyLDAvis) (2.11.3)\n",
      "Requirement already satisfied: numexpr in c:\\users\\felix\\anaconda3\\lib\\site-packages (from pyLDAvis) (2.8.1)\n",
      "Requirement already satisfied: funcy in c:\\users\\felix\\anaconda3\\lib\\site-packages (from pyLDAvis) (2.0)\n",
      "Requirement already satisfied: scikit-learn>=1.0.0 in c:\\users\\felix\\anaconda3\\lib\\site-packages (from pyLDAvis) (1.0.2)\n",
      "Requirement already satisfied: gensim in c:\\users\\felix\\anaconda3\\lib\\site-packages (from pyLDAvis) (4.1.2)\n",
      "Requirement already satisfied: setuptools in c:\\users\\felix\\anaconda3\\lib\\site-packages (from pyLDAvis) (61.2.0)\n",
      "Requirement already satisfied: six>=1.5 in c:\\users\\felix\\anaconda3\\lib\\site-packages (from python-dateutil>=2.8.2->pandas) (1.16.0)\n",
      "Requirement already satisfied: threadpoolctl>=2.0.0 in c:\\users\\felix\\anaconda3\\lib\\site-packages (from scikit-learn>=1.0.0->pyLDAvis) (2.2.0)\n",
      "Requirement already satisfied: smart-open>=1.8.1 in c:\\users\\felix\\anaconda3\\lib\\site-packages (from gensim->pyLDAvis) (6.3.0)\n",
      "Requirement already satisfied: MarkupSafe>=0.23 in c:\\users\\felix\\anaconda3\\lib\\site-packages (from jinja2->pyLDAvis) (2.0.1)\n",
      "Requirement already satisfied: packaging in c:\\users\\felix\\anaconda3\\lib\\site-packages (from numexpr->pyLDAvis) (21.3)\n",
      "Requirement already satisfied: pyparsing!=3.0.5,>=2.0.2 in c:\\users\\felix\\anaconda3\\lib\\site-packages (from packaging->numexpr->pyLDAvis) (3.0.4)\n"
     ]
    },
    {
     "name": "stderr",
     "output_type": "stream",
     "text": [
      "WARNING: Ignoring invalid distribution -cipy (c:\\users\\felix\\anaconda3\\lib\\site-packages)\n",
      "WARNING: Ignoring invalid distribution -cipy (c:\\users\\felix\\anaconda3\\lib\\site-packages)\n"
     ]
    }
   ],
   "source": [
    "# Import packages\n",
    "!pip install --user numpy==1.21.2\n",
    "\n",
    "\n",
    "import csv\n",
    "import pandas as pd\n",
    "import numpy as np\n",
    "import matplotlib.pyplot as plt\n",
    "import nltk \n",
    "import re\n",
    "from bs4 import BeautifulSoup\n",
    "from nltk.tokenize import word_tokenize\n",
    "from nltk.corpus import stopwords\n",
    "from nltk.stem import WordNetLemmatizer \n",
    "\n",
    "import gensim         \n",
    "import gensim.corpora as corpora\n",
    "from gensim.utils import simple_preprocess\n",
    "from gensim.models import CoherenceModel\n",
    "\n",
    "!pip install pyLDAvis\n",
    "import spacy\n",
    "\n",
    "import pyLDAvis\n",
    "import pyLDAvis.gensim_models as gensimvis\n",
    "pyLDAvis.enable_notebook()\n",
    "\n",
    "!pip install --upgrade pandas numpy scipy pyLDAvis"
   ]
  },
  {
   "cell_type": "code",
   "execution_count": 2,
   "id": "5ca975ef",
   "metadata": {},
   "outputs": [],
   "source": [
    "# Just because of versions on my computer\n",
    "import warnings\n",
    "warnings.filterwarnings(\"ignore\", category=DeprecationWarning)"
   ]
  },
  {
   "cell_type": "code",
   "execution_count": 3,
   "id": "6003b8ff",
   "metadata": {},
   "outputs": [],
   "source": [
    "# Load dataset\n",
    "dtypes = {'type':'category','subreddit':'category','score':'float64','title':'category','reviews':'category','author':'category'}\n",
    "ds= pd.read_excel(\"https://github.com/felix-funes/social-media-analytics/blob/main/iphone-subreddit-comments.xlsx?raw=true\", sheet_name=\"Sheet1\", engine='openpyxl', dtype=dtypes)"
   ]
  },
  {
   "attachments": {},
   "cell_type": "markdown",
   "id": "f0bacd04",
   "metadata": {},
   "source": [
    "## Text Preprocessing"
   ]
  },
  {
   "cell_type": "code",
   "execution_count": 4,
   "id": "5fdebbc4",
   "metadata": {},
   "outputs": [],
   "source": [
    "# Text preprocessing\n",
    "def textPreProcess(rawText, removeHTML=True, charsToRemove = r'\\?|\\.|\\!|\\;|\\.|\\\"|\\,|\\(|\\)|\\&|\\:|\\-', removeNumbers=True, removeLineBreaks=False, specialCharsToRemove = r'[^\\x00-\\xfd]', convertToLower=True, removeConsecutiveSpaces=True):\n",
    "    if type(rawText) != str:\n",
    "        return rawText\n",
    "    procText = rawText\n",
    "        \n",
    "    # Remove HTML\n",
    "    if removeHTML:\n",
    "        procText = BeautifulSoup(procText,'html.parser').get_text()\n",
    "\n",
    "    # Remove punctuation and other special characters\n",
    "    if len(charsToRemove)>0:\n",
    "        procText = re.sub(charsToRemove,' ',procText)\n",
    "\n",
    "    # Remove numbers\n",
    "    if removeNumbers:\n",
    "        procText = re.sub(r'\\d+',' ',procText)\n",
    "\n",
    "    # Remove line breaks\n",
    "    if removeLineBreaks:\n",
    "        procText = procText.replace('\\n',' ').replace('\\r', '')\n",
    "\n",
    "    # Remove special characters\n",
    "    if len(specialCharsToRemove)>0:\n",
    "        procText = re.sub(specialCharsToRemove,' ',procText)\n",
    "\n",
    "    # Normalize to lower case\n",
    "    if convertToLower:\n",
    "        procText = procText.lower() \n",
    "\n",
    "    # Replace multiple consecutive spaces with just one space\n",
    "    if removeConsecutiveSpaces:\n",
    "        procText = re.sub(' +', ' ', procText)\n",
    "\n",
    "    return procText"
   ]
  },
  {
   "cell_type": "code",
   "execution_count": 5,
   "id": "7139cf1a",
   "metadata": {},
   "outputs": [],
   "source": [
    "# Tokenize words\n",
    "def tokenize_words(words):\n",
    "    if (type(words) != str) or (word_tokenize(words) == ''):\n",
    "        return np.nan\n",
    "    else:\n",
    "        return word_tokenize(words)"
   ]
  },
  {
   "cell_type": "code",
   "execution_count": 6,
   "id": "3961728f",
   "metadata": {},
   "outputs": [],
   "source": [
    "# Function to create text from words\n",
    "def recreateText(words):\n",
    "    if type(words) == list:\n",
    "        temp_str = (' ').join(words)\n",
    "        return temp_str\n",
    "    else:\n",
    "        return np.nan"
   ]
  },
  {
   "cell_type": "code",
   "execution_count": 7,
   "id": "6a6b940c",
   "metadata": {},
   "outputs": [],
   "source": [
    "# Function to remove stop words\n",
    "def removeStopWords(t, stop_words):\n",
    "    if type(t) == list:\n",
    "        return [w for w in t if not w in stop_words]\n",
    "    else:\n",
    "        return np.nan"
   ]
  },
  {
   "cell_type": "code",
   "execution_count": 8,
   "id": "a169ef74",
   "metadata": {},
   "outputs": [],
   "source": [
    "# Function to lemmatize words\n",
    "def lemmatize(words):\n",
    "    if type(words) == list:\n",
    "        lemmatizer = WordNetLemmatizer()\n",
    "        return [lemmatizer.lemmatize(x) for x in words]\n",
    "    else:\n",
    "        return np.nan"
   ]
  },
  {
   "cell_type": "code",
   "execution_count": 9,
   "id": "2d5d2c15",
   "metadata": {},
   "outputs": [
    {
     "name": "stderr",
     "output_type": "stream",
     "text": [
      "c:\\Users\\Felix\\anaconda3\\lib\\site-packages\\bs4\\__init__.py:435: MarkupResemblesLocatorWarning: The input looks more like a filename than markup. You may want to open this file and pass the filehandle into Beautiful Soup.\n",
      "  warnings.warn(\n",
      "c:\\Users\\Felix\\anaconda3\\lib\\site-packages\\bs4\\__init__.py:404: MarkupResemblesLocatorWarning: The input looks more like a URL than markup. You may want to use an HTTP client like requests to get the document behind the URL, and feed that document to Beautiful Soup.\n",
      "  warnings.warn(\n"
     ]
    }
   ],
   "source": [
    "# Create a dataframe with only the description\n",
    "processedReviews = pd.DataFrame(data=ds.body.apply(textPreProcess).values, index=ds.index, columns=['PreProcessedText'])"
   ]
  },
  {
   "cell_type": "code",
   "execution_count": 10,
   "id": "223dba3c",
   "metadata": {},
   "outputs": [
    {
     "name": "stderr",
     "output_type": "stream",
     "text": [
      "[nltk_data] Downloading package wordnet to\n",
      "[nltk_data]     C:\\Users\\Felix\\AppData\\Roaming\\nltk_data...\n",
      "[nltk_data]   Package wordnet is already up-to-date!\n",
      "[nltk_data] Downloading package omw-1.4 to\n",
      "[nltk_data]     C:\\Users\\Felix\\AppData\\Roaming\\nltk_data...\n",
      "[nltk_data]   Package omw-1.4 is already up-to-date!\n"
     ]
    },
    {
     "data": {
      "text/plain": [
       "True"
      ]
     },
     "execution_count": 10,
     "metadata": {},
     "output_type": "execute_result"
    }
   ],
   "source": [
    "import nltk\n",
    "nltk.download('wordnet')\n",
    "nltk.download('omw-1.4')"
   ]
  },
  {
   "cell_type": "code",
   "execution_count": 11,
   "id": "0ffb68f3",
   "metadata": {},
   "outputs": [],
   "source": [
    "# Tokenize words\n",
    "processedReviews['Words'] =  processedReviews['PreProcessedText'].apply(tokenize_words)\n",
    "\n",
    "# Remove stopwords\n",
    "stop_words = set(stopwords.words('english'))\n",
    "processedReviews['WordsCleaned'] = processedReviews['Words'].apply(removeStopWords,stop_words=stop_words)\n",
    "\n",
    "# Remove all reviews with no words\n",
    "processedReviews = processedReviews[processedReviews['WordsCleaned'].str.len()>0]\n",
    "\n",
    "# Lemmatize words\n",
    "processedReviews['WordsLemmatized'] = processedReviews['WordsCleaned'].apply(lemmatize)"
   ]
  },
  {
   "attachments": {},
   "cell_type": "markdown",
   "id": "4a1c4769",
   "metadata": {},
   "source": [
    "## Analysis"
   ]
  },
  {
   "cell_type": "code",
   "execution_count": 12,
   "id": "4b69925c",
   "metadata": {},
   "outputs": [],
   "source": [
    "# Create dictionary (needed for LDA)\n",
    "id2word = corpora.Dictionary(processedReviews['WordsLemmatized'])"
   ]
  },
  {
   "cell_type": "code",
   "execution_count": 13,
   "id": "f85cf674",
   "metadata": {},
   "outputs": [],
   "source": [
    "# Create corpus\n",
    "corpus = processedReviews['WordsLemmatized']"
   ]
  },
  {
   "cell_type": "code",
   "execution_count": 14,
   "id": "e9a41182",
   "metadata": {},
   "outputs": [],
   "source": [
    "# Create TDM (Frequency)\n",
    "tdm = [id2word.doc2bow(text) for text in corpus]"
   ]
  },
  {
   "cell_type": "code",
   "execution_count": 15,
   "id": "57846446",
   "metadata": {},
   "outputs": [],
   "source": [
    "# Build LDA model (can take from 2 to 10 minutes depending on the computer)\n",
    "lda_model = gensim.models.ldamodel.LdaModel(corpus=tdm,\n",
    "                                           id2word=id2word,\n",
    "                                           num_topics=8, \n",
    "                                           random_state=123,\n",
    "                                           update_every=1,\n",
    "                                           chunksize=100,\n",
    "                                           passes=10,\n",
    "                                           alpha='auto',\n",
    "                                           per_word_topics=True)"
   ]
  },
  {
   "cell_type": "code",
   "execution_count": 16,
   "id": "1678c16e",
   "metadata": {},
   "outputs": [
    {
     "name": "stdout",
     "output_type": "stream",
     "text": [
      "[(0, '0.064*\"phone\" + 0.026*\"need\" + 0.023*\"icloud\" + 0.022*\"use\" + 0.020*\"iphone\" + 0.018*\"want\" + 0.014*\"get\" + 0.014*\"apps\" + 0.013*\"got\" + 0.012*\"backup\"'), (1, '0.040*\"carrier\" + 0.037*\"sim\" + 0.036*\"esim\" + 0.022*\"phone\" + 0.021*\"]\" + 0.021*\"[\" + 0.021*\"know\" + 0.020*\"apple\" + 0.015*\"support\" + 0.014*\"take\"'), (2, '0.044*\"photo\" + 0.026*\"device\" + 0.024*\"think\" + 0.023*\"right\" + 0.017*\"like\" + 0.016*\"check\" + 0.015*\"thank\" + 0.014*\"video\" + 0.014*\"make\" + 0.013*\"show\"'), (3, '0.026*\"e\" + 0.024*\"http\" + 0.021*\"call\" + 0.021*\"someone\" + 0.019*\"sound\" + 0.019*\"%\" + 0.019*\"every\" + 0.018*\"fine\" + 0.017*\"//www\" + 0.013*\"lol\"'), (4, '0.025*\"u\" + 0.023*\"since\" + 0.022*\"problem\" + 0.020*\"case\" + 0.017*\"thanks\" + 0.016*\"http\" + 0.016*\"review\" + 0.015*\"battery\" + 0.015*\"thing\" + 0.013*\"good\"'), (5, '0.034*\"iphone\" + 0.031*\"new\" + 0.026*\"phone\" + 0.024*\"work\" + 0.023*\"n\\'t\" + 0.021*\"get\" + 0.019*\"apple\" + 0.018*\"esim\" + 0.016*\"one\" + 0.014*\"would\"'), (6, '0.063*\"*\" + 0.038*\"even\" + 0.020*\"io\" + 0.014*\"looking\" + 0.013*\"issue\" + 0.013*\"said\" + 0.013*\"version\" + 0.012*\"link\" + 0.012*\"send\" + 0.011*\"running\"'), (7, '0.023*\"go\" + 0.018*\"iphone\" + 0.018*\"screen\" + 0.018*\"different\" + 0.015*\"using\" + 0.014*\"button\" + 0.014*\"gb\" + 0.013*\"use\" + 0.012*\"\\'s\" + 0.011*\"case\"')]\n"
     ]
    }
   ],
   "source": [
    "# Print the keywords in the 10 topics\n",
    "print(lda_model.print_topics())\n",
    "doc_lda = lda_model[tdm]\n",
    "# Interpretation: Topic 0 is represented as 0.055\"walking\" + 0.054\"garden\" + ..."
   ]
  },
  {
   "cell_type": "code",
   "execution_count": 17,
   "id": "0d59b9c9",
   "metadata": {},
   "outputs": [
    {
     "data": {
      "text/html": [
       "\n",
       "<link rel=\"stylesheet\" type=\"text/css\" href=\"https://cdn.jsdelivr.net/gh/bmabey/pyLDAvis@3.4.0/pyLDAvis/js/ldavis.v1.0.0.css\">\n",
       "\n",
       "\n",
       "<div id=\"ldavis_el1314027136700961445685483669\" style=\"background-color:white;\"></div>\n",
       "<script type=\"text/javascript\">\n",
       "\n",
       "var ldavis_el1314027136700961445685483669_data = {\"mdsDat\": {\"x\": [0.23397936049228535, 0.08169518568213172, 0.1348413648837795, 0.07108694305492747, -0.08503647280975432, -0.13682738115993326, -0.16242424349548698, -0.13731475664794865], \"y\": [0.07453213376574643, 0.13242476964350358, 0.03324372051809852, -0.3222062723703015, 0.040078918643427164, 0.04352658722085007, 0.027531509228963913, -0.029131366650287992], \"topics\": [1, 2, 3, 4, 5, 6, 7, 8], \"cluster\": [1, 1, 1, 1, 1, 1, 1, 1], \"Freq\": [23.13812119300006, 16.768121359163874, 15.630491291965459, 13.601606350610949, 9.202999361562293, 9.092501289567894, 7.124046701040126, 5.442112453089338]}, \"tinfo\": {\"Term\": [\"phone\", \"esim\", \"carrier\", \"new\", \"*\", \"sim\", \"photo\", \"work\", \"n't\", \"apple\", \"iphone\", \"need\", \"device\", \"icloud\", \"use\", \"even\", \"http\", \"go\", \"]\", \"[\", \"case\", \"u\", \"think\", \"get\", \"different\", \"right\", \"want\", \"since\", \"e\", \"know\", \"new\", \"work\", \"n't\", \"way\", \"store\", \"charge\", \"year\", \"people\", \"turn\", \"yes\", \"price\", \"website\", \"charger\", \"product\", \"mean\", \"buy\", \"anyone\", \"charging\", \"option\", \"fee\", \"mobile\", \"service\", \"anything\", \"pocket\", \"already\", \"close\", \"android\", \"sell\", \"'ll\", \"power\", \"country\", \"old\", \"one\", \"app\", \"transfer\", \"get\", \"iphone\", \"apple\", \"would\", \"still\", \"also\", \"download\", \"esim\", \"going\", \"'s\", \"phone\", \"time\", \"like\", \"see\", \"probably\", \"device\", \"different\", \"button\", \"gb\", \"'m\", \"sure\", \"last\", \"always\", \"car\", \"scratch\", \"feel\", \"camera\", \"let\", \"glass\", \"bit\", \"protector\", \"currently\", \"side\", \"upgrade\", \"definitely\", \"le\", \"worth\", \"keeping\", \"thought\", \"thinking\", \"tell\", \"plus\", \"small\", \"yet\", \"activated\", \"metal\", \"screen\", \"using\", \"go\", \"little\", \"really\", \"next\", \"say\", \"reason\", \"much\", \"maybe\", \"case\", \"use\", \"iphone\", \"'s\", \"time\", \"would\", \"back\", \"could\", \"phone\", \"never\", \"also\", \"change\", \"icloud\", \"want\", \"apps\", \"backup\", \"update\", \"keep\", \"another\", \"code\", \"enough\", \"longer\", \"remove\", \"need\", \"info\", \"ago\", \"dont\", \"possible\", \"minute\", \"qr\", \"else\", \"activate\", \"file\", \"part\", \"full\", \"lost\", \"scan\", \"ram\", \"space\", \"big\", \"done\", \"deal\", \"tried\", \"got\", \"phone\", \"use\", \"back\", \"everything\", \"iphone\", \"get\", \"never\", \"know\", \"help\", \"sim\", \"[\", \"]\", \"support\", \"take\", \"physical\", \"message\", \"number\", \"card\", \"start\", \"bar\", \"long\", \"yeah\", \"tray\", \"deleted\", \"activation\", \"hope\", \"location\", \"software\", \"id\", \"sims\", \"open\", \"carrier\", \"//support\", \"information\", \"unless\", \"left\", \"imei\", \"process\", \"play\", \"might\", \"question\", \"know\", \"esim\", \"apple\", \"phone\", \"help\", \"right\", \"check\", \"thank\", \"show\", \"lot\", \"many\", \"idea\", \"sorry\", \"stop\", \"pc\", \"available\", \"cost\", \"put\", \"live\", \"add\", \"normal\", \"week\", \"hour\", \"ask\", \"via\", \"usually\", \"manage\", \"simple\", \"leave\", \"think\", \"suggestion\", \"amazon\", \"downloaded\", \"end\", \"click\", \"photo\", \"video\", \"something\", \"first\", \"device\", \"make\", \"like\", \"storage\", \"case\", \"go\", \"u\", \"since\", \"problem\", \"thanks\", \"review\", \"$\", \"samsung\", \"'ve\", \"life\", \"answer\", \"saying\", \"pretty\", \"'re\", \"getting\", \"fix\", \"love\", \"agree\", \"come\", \"guess\", \"solid\", \"canada\", \"'d\", \"worry\", \"great\", \"basically\", \"person\", \"g\", \"panama\", \"cause\", \"ignore\", \"battery\", \"easy\", \"thing\", \"good\", \"c\", \"case\", \"http\", \"better\", \"'s\", \"e\", \"call\", \"someone\", \"%\", \"sound\", \"every\", \"fine\", \"//www\", \"lol\", \"ring\", \"im\", \"depends\", \"pay\", \"safari\", \"friend\", \"annoying\", \"playing\", \"similar\", \"single\", \"bad\", \"exactly\", \"bought\", \"tap\", \"type\", \"na\", \"ad\", \"international\", \"headset\", \"mess\", \"protection\", \"two\", \"http\", \"pro\", \"switch\", \"thing\", \"like\", \"etc\", \"*\", \"even\", \"said\", \"version\", \"link\", \"send\", \"running\", \"please\", \"noise\", \"\\\\\", \"chat\", \"recommend\", \"concern\", \"search\", \"action\", \"known\", \"/message/compose/\", \"bot\", \"moderator\", \"performed\", \"subreddit\", \"to=/r/iphone\", \"instagram\", \"ringtone\", \"group\", \"basic\", \"working\", \"believe\", \"smaller\", \"true\", \"io\", \"looking\", \"contact\", \"issue\", \"find\", \"look\"], \"Freq\": [261.0, 115.0, 73.0, 91.0, 43.0, 63.0, 63.0, 69.0, 68.0, 90.0, 178.0, 53.0, 50.0, 45.0, 70.0, 26.0, 39.0, 58.0, 36.0, 36.0, 56.0, 28.0, 30.0, 96.0, 37.0, 27.0, 35.0, 26.0, 23.0, 56.0, 90.40670069898194, 69.19830417382158, 67.85752904125289, 32.95120295901183, 32.44526439554593, 25.692996440756435, 25.620938614151996, 25.210334567016233, 21.638124182114836, 24.39940656065488, 17.108740941605085, 15.755583528208398, 15.51021022422468, 15.243220922415647, 14.979743376405718, 14.796236921413355, 14.38689391999707, 14.278996201932731, 13.192030148139285, 12.668620565818943, 12.651125244156205, 12.65222967177776, 12.201349120511642, 11.992107341687404, 11.352079383591686, 11.237113598780592, 11.135001974325272, 10.847621941275964, 10.643677499582745, 10.413470498133178, 10.461563055443467, 34.020159281700224, 47.43852553398956, 38.924765730931476, 19.936338933211086, 60.31614080008171, 97.70647042005149, 56.17804762489066, 41.092595133323464, 30.650269775882123, 30.37484334912553, 17.653468137271076, 52.979209384812044, 21.875499161856386, 36.53867820783658, 75.2473163642593, 32.33393593104348, 31.63411496359786, 18.650443592247978, 17.33184342209545, 20.118045630233357, 36.88577049091818, 30.342494543796164, 28.371389811313115, 22.624344248514994, 21.989580248157328, 18.9106761245127, 18.351346989435186, 15.735635990979484, 14.528559753601241, 14.07831157066167, 12.741757535633008, 12.582594431640695, 12.398512069204951, 12.048113127887625, 11.50714565465829, 11.538341693489448, 10.908038463480597, 10.198810223898064, 10.412474176585116, 8.883126605965304, 8.718774762082715, 8.721827537579163, 8.46289836052781, 8.201783807171548, 8.10073351365126, 8.020689642289057, 7.873034621310032, 7.782926375346401, 7.8186257472616605, 7.734961597265849, 37.2220337118518, 30.936447240962547, 47.41348596404048, 15.033819538058998, 23.015522204052004, 10.444270985978715, 14.164152290879226, 12.964593513160985, 18.131866129592243, 14.333232022966568, 23.92812399891898, 26.838665597027198, 38.72254723083546, 24.48852943304973, 21.16676723412591, 20.63846682229946, 16.539589310237183, 14.580875715217914, 20.53631821451803, 13.821000756004906, 14.095576385929235, 13.093196573217233, 45.057506319408304, 35.04710014253662, 26.582049972304866, 24.004286507740954, 22.89183572720796, 22.86308361118783, 21.592567334056913, 17.232836663697675, 15.94728763766929, 14.619072857443921, 14.565495089667921, 50.804770110609624, 13.853200725515345, 13.606709976787245, 13.178647845974904, 13.123670961780467, 12.966328737229366, 15.4381150615559, 12.552615302306783, 11.802658803690962, 11.251688764665042, 11.235089990415252, 10.725992204097372, 10.502149994419264, 10.439289171293282, 9.920256199091398, 19.23951254631421, 9.815148262209151, 9.757779928699755, 9.737343161041364, 21.640691831255435, 25.323624104067584, 125.6467980839319, 43.36479435005918, 23.405313276916548, 14.663943998537766, 38.902557880459035, 26.642412633846686, 15.830489690920592, 15.311337237460027, 12.674041095670319, 62.864925104617896, 35.54411505367665, 35.54411505367665, 25.862628881323154, 24.611211175589194, 21.730693064472778, 21.71869260547692, 15.468202741892537, 15.135107461917924, 14.75837400492545, 14.249983131322505, 13.960792705232327, 13.416211558527996, 11.908235627207466, 11.699601456851564, 11.536031708541007, 11.48108040040364, 11.410975338059407, 11.296220155230397, 10.988562356129934, 10.427334540974607, 10.316559669115454, 68.68356670475544, 9.369790123559188, 8.665940186698963, 8.127579119171251, 7.990238945523062, 7.468649948068129, 7.431212801879276, 7.3557789642904545, 15.271092028161027, 14.24655442875226, 35.459867386911306, 61.815462742358214, 33.652925258769656, 38.04844893515675, 11.530930719786618, 26.402327792322893, 18.510324881895908, 17.134520829964018, 15.538245858756982, 14.400977862440309, 13.14998113324313, 10.773151574590917, 10.591954605407766, 10.087638721977438, 10.011241024109312, 9.93460811429954, 9.510067744063708, 8.961373596602254, 8.112874978835483, 8.107388311237786, 8.015524085672562, 7.994886117340658, 7.887899052760193, 7.116107989688785, 7.097349568835782, 7.006845061618152, 6.53086093987122, 6.508526545686216, 6.46948512246804, 28.096783879664958, 6.137105409285533, 5.88217916264073, 5.642228076280683, 5.533975807740133, 5.356710851882845, 51.1163708571973, 15.973154886913566, 14.529527095698732, 8.72959263462621, 29.46522977172373, 15.953302569427843, 20.06763200074323, 12.554441681431102, 9.050980217138534, 8.603155475720506, 27.982557076920454, 25.85835208559486, 25.550492352798695, 19.83511255557884, 17.79440270107428, 14.290552655802124, 13.090488201460415, 11.881557992932525, 11.188348334018812, 11.067977814346309, 11.000002787726002, 10.236400844497656, 10.157525874490101, 9.73598181198279, 9.54376844115274, 9.474899941758673, 7.979087510249895, 7.908566298450685, 7.8057904011792685, 7.611553452463755, 7.123566637309188, 6.583519646675473, 6.526543248677522, 6.302230648148848, 6.041014014216576, 5.888716168158212, 5.7800541741218945, 5.260435027155228, 5.25571935850132, 5.233712551072567, 17.371730655718384, 7.475595440736441, 16.572659328955947, 14.523267296025136, 9.63003843700392, 23.19882744473662, 18.171374993523376, 10.45114203835256, 10.304050103728954, 23.02842621847283, 18.723482767817668, 18.57064891720521, 16.755711814322197, 16.804631682948163, 16.62095437063812, 15.977576620519292, 15.210271307897925, 11.83387501897105, 10.669934661381717, 9.380633399115968, 8.953994611473398, 8.691663894479088, 8.022626492670877, 7.995037150038584, 7.364489641466931, 6.862398773989588, 6.840339105834374, 6.644579400750592, 6.336958313541035, 6.2072437567222, 5.485997448213849, 5.182754539593422, 5.096246436424385, 4.904348191738858, 4.879684147504943, 4.551749342583995, 3.9385121012578703, 3.92065892656481, 3.9062352973864014, 8.773677838065227, 21.1908017366798, 8.307514889399375, 8.343064103245553, 7.4425677139097095, 7.63507288422571, 5.2252551304209325, 42.826990565874375, 26.091255072215233, 8.888310758631686, 8.739240667741987, 8.034803780863342, 8.007167322997889, 7.741150696910377, 7.38071130594588, 6.16056620051297, 6.160498878167662, 6.075968052235717, 5.582581636966354, 5.270499060985285, 5.216581801349284, 5.116859942245145, 4.911379759593647, 4.625888557334594, 4.625888557334594, 4.625888557334594, 4.625888557334594, 4.625888557334594, 4.625888557334594, 4.636186335700878, 4.636186335700878, 4.583272242521614, 4.507267220018126, 4.419293745286722, 4.277838065697957, 4.184554382201258, 3.556638867512286, 13.902611776522773, 9.619503831955058, 7.428316460592779, 9.020988493555322, 5.9072163372068305, 6.953350328162772], \"Total\": [261.0, 115.0, 73.0, 91.0, 43.0, 63.0, 63.0, 69.0, 68.0, 90.0, 178.0, 53.0, 50.0, 45.0, 70.0, 26.0, 39.0, 58.0, 36.0, 36.0, 56.0, 28.0, 30.0, 96.0, 37.0, 27.0, 35.0, 26.0, 23.0, 56.0, 91.0480851576073, 69.83955475468869, 68.49916060549197, 33.59604152575769, 33.08637108550895, 26.334470265726388, 26.262575018966174, 25.862229910326008, 22.279160819559035, 25.153032004676717, 17.749765475913495, 16.397605031377502, 16.150613669243352, 15.884081819960043, 15.621460575376767, 15.437610121918025, 15.02894464955007, 14.91948907517136, 13.833212921888203, 13.309876621700194, 13.29192579747212, 13.293227515870258, 12.842276723315448, 12.633620386297732, 11.993237693571572, 11.879030353919232, 11.775949741605782, 11.488949352527742, 11.284853797413056, 11.054791898545297, 11.106538162099389, 37.125511671480545, 53.54887451228608, 44.62014001000972, 23.116456538649942, 96.8907150534845, 178.7315294147599, 90.38882536820103, 62.26810708918807, 44.38239714172561, 45.00793467304928, 21.392695444893754, 115.35372115335278, 29.964556084347475, 71.77218331256672, 261.9611737041383, 66.14877283288251, 65.11739296181753, 25.94331445532806, 24.902438856921403, 50.1207894482928, 37.52316153660326, 30.9798418369145, 29.007670218467663, 23.26083172834371, 22.625843462460157, 19.548358854106652, 18.9877514074337, 16.372769805154018, 15.164987268351828, 14.715873130837407, 13.377796243583713, 13.219835253442405, 13.034402340367118, 12.686028539677682, 12.142967218764513, 12.17621662159067, 11.544506265779471, 10.835687716273434, 11.068109510174764, 9.520209866399, 9.354860428303313, 9.360828997126182, 9.099423843146464, 8.838287047244638, 8.73705967857968, 8.65698870895537, 8.509546649102724, 8.419923612225585, 8.458809538348929, 8.370901671215123, 42.163374906400186, 35.92650648331171, 58.09779985997996, 17.229418096483755, 28.55190664407189, 12.1786186930321, 18.97384442389935, 16.839718904434676, 28.526413854129732, 20.182944089159385, 56.615379555184774, 70.73835606331798, 178.7315294147599, 71.77218331256672, 66.14877283288251, 62.26810708918807, 40.479547424783966, 28.73179815450362, 261.9611737041383, 30.185633245751344, 45.00793467304928, 19.60349200441513, 45.69548498994839, 35.68577900935989, 27.231363671384734, 24.64238526621914, 23.530132195136073, 23.501532100626576, 22.233100119447467, 17.87309850579257, 16.58572160090686, 15.2578751833742, 15.203380991443368, 53.143643809830856, 14.492368866510853, 14.245523701085766, 13.817664837856318, 13.763397434535293, 13.605686088847344, 16.216109986301632, 13.191212779981605, 12.442119475117329, 11.89000600488757, 11.875924834202472, 11.364119396835415, 11.14057328193125, 11.078449578218802, 10.559097436999393, 20.490976263346734, 10.45395335816999, 10.396630859139417, 10.37706893673335, 26.42835454828831, 32.08407025030813, 261.9611737041383, 70.73835606331798, 40.479547424783966, 20.517746732887122, 178.7315294147599, 96.8907150534845, 30.185633245751344, 56.8582740771814, 26.87919267506298, 63.522121821061695, 36.20191670747074, 36.20191670747074, 26.52005730804505, 25.26934262594604, 22.3879340771329, 22.376690951298556, 16.125578830020462, 15.792409901687064, 15.417219443733366, 14.90866967687092, 14.619730689188588, 14.073589621961636, 12.565253783240713, 12.356471215833208, 12.194104627030573, 12.138525741393071, 12.068521448393001, 11.958797325334224, 11.663774510405965, 11.085028791994146, 10.975498366133113, 73.13460870325873, 10.027341931331858, 9.324339330041743, 8.785870256448463, 8.648088362494784, 8.126332374540082, 8.088695194573663, 8.014398978923674, 17.72063306144318, 18.015200668841256, 56.8582740771814, 115.35372115335278, 90.38882536820103, 261.9611737041383, 26.87919267506298, 27.04023502505911, 19.150515743819334, 17.773157413197843, 16.175668323919826, 15.039638451565965, 13.786684473500333, 11.410405478925906, 11.23069583690072, 10.72639968062773, 10.649609956863832, 10.572412477875158, 10.15035650911137, 9.599301371069105, 8.752037471005366, 8.747757755492811, 8.653905225205172, 8.632531016330901, 8.527601159119227, 7.7529989356252305, 7.736719569221209, 7.643798487773288, 7.169296375661397, 7.146878024183246, 7.110509742765247, 30.983985980519456, 6.779354172559781, 6.519254900181958, 6.279682990577375, 6.172829388747664, 5.9944776074153525, 63.654597742866905, 18.87459652692757, 17.63467694403928, 10.277890065544275, 50.1207894482928, 28.65433560304271, 65.11739296181753, 27.60845768188496, 56.615379555184774, 58.09779985997996, 28.626753902221576, 26.504507096857964, 26.195395489016203, 20.47994383614964, 18.44075814757056, 14.934537599269483, 13.735783109483034, 12.526436545959124, 11.835591226548724, 11.713612910474156, 11.646264657653745, 10.881385681394802, 10.802359960050108, 10.380899258553445, 10.18850220966089, 10.119368587662224, 8.624319437658343, 8.553105855833664, 8.451869260971689, 8.257139784259099, 7.767392716938533, 7.228266800667873, 7.172969445513911, 6.9470510843269535, 6.6866652825257376, 6.534825060527924, 6.424036125182349, 5.905242860922847, 5.901036209348553, 5.880624489746006, 20.50455863082346, 8.718735286284188, 24.57573816566749, 24.76465295150895, 13.907289131565669, 56.615379555184774, 39.92240114399534, 24.939834932102478, 71.77218331256672, 23.68408298439581, 19.38049963063911, 19.228286788574145, 17.410765472593084, 17.465969452697955, 17.27946506080744, 16.63467101081896, 15.86815838934475, 12.489640068227255, 11.327050339319783, 10.036765312430594, 9.61126699206407, 9.349119025499114, 8.678272801439944, 8.651936777175088, 8.021745675351148, 7.518535067265665, 7.496567775338322, 7.30167251248498, 6.993480895475367, 6.862984157408281, 6.142091386659078, 5.838824334032467, 5.752572587414245, 5.559497233519387, 5.53522021087932, 5.207535281985667, 4.59443520420699, 4.577688485669312, 4.5627741654758855, 12.699713580506693, 39.92240114399534, 16.342053453837448, 19.836054778267354, 24.57573816566749, 65.11739296181753, 7.908807513014455, 43.499909427894536, 26.766411414336435, 9.562817011483434, 9.412931194659379, 8.707847762483288, 8.681590718235224, 8.415353858455964, 8.054315247640776, 6.834410092590465, 6.8346106299456935, 6.748938004703076, 6.255848347059401, 5.943672980596077, 5.889823983281197, 5.78990811894484, 5.59203569913145, 5.298603235837311, 5.298603235837311, 5.298603235837311, 5.298603235837311, 5.298603235837311, 5.298603235837311, 5.310418235778106, 5.310418235778106, 5.256242100532975, 5.181526514614504, 5.093734814790271, 4.952309471471232, 4.8582495526533, 4.229886945603296, 16.689398933738435, 13.283719418882107, 11.087722881737303, 29.90970025594359, 11.037658163203647, 25.099344624434202], \"Category\": [\"Default\", \"Default\", \"Default\", \"Default\", \"Default\", \"Default\", \"Default\", \"Default\", \"Default\", \"Default\", \"Default\", \"Default\", \"Default\", \"Default\", \"Default\", \"Default\", \"Default\", \"Default\", \"Default\", \"Default\", \"Default\", \"Default\", \"Default\", \"Default\", \"Default\", \"Default\", \"Default\", \"Default\", \"Default\", \"Default\", \"Topic1\", \"Topic1\", \"Topic1\", \"Topic1\", \"Topic1\", \"Topic1\", \"Topic1\", \"Topic1\", \"Topic1\", \"Topic1\", \"Topic1\", \"Topic1\", \"Topic1\", \"Topic1\", \"Topic1\", \"Topic1\", \"Topic1\", \"Topic1\", \"Topic1\", \"Topic1\", \"Topic1\", \"Topic1\", \"Topic1\", \"Topic1\", \"Topic1\", \"Topic1\", \"Topic1\", \"Topic1\", \"Topic1\", \"Topic1\", \"Topic1\", \"Topic1\", \"Topic1\", \"Topic1\", \"Topic1\", \"Topic1\", \"Topic1\", \"Topic1\", \"Topic1\", \"Topic1\", \"Topic1\", \"Topic1\", \"Topic1\", \"Topic1\", \"Topic1\", \"Topic1\", \"Topic1\", \"Topic1\", \"Topic1\", \"Topic1\", \"Topic1\", \"Topic2\", \"Topic2\", \"Topic2\", \"Topic2\", \"Topic2\", \"Topic2\", \"Topic2\", \"Topic2\", \"Topic2\", \"Topic2\", \"Topic2\", \"Topic2\", \"Topic2\", \"Topic2\", \"Topic2\", \"Topic2\", \"Topic2\", \"Topic2\", \"Topic2\", \"Topic2\", \"Topic2\", \"Topic2\", \"Topic2\", \"Topic2\", \"Topic2\", \"Topic2\", \"Topic2\", \"Topic2\", \"Topic2\", \"Topic2\", \"Topic2\", \"Topic2\", \"Topic2\", \"Topic2\", \"Topic2\", \"Topic2\", \"Topic2\", \"Topic2\", \"Topic2\", \"Topic2\", \"Topic2\", \"Topic2\", \"Topic2\", \"Topic2\", \"Topic2\", \"Topic2\", \"Topic2\", \"Topic2\", \"Topic2\", \"Topic2\", \"Topic2\", \"Topic2\", \"Topic3\", \"Topic3\", \"Topic3\", \"Topic3\", \"Topic3\", \"Topic3\", \"Topic3\", \"Topic3\", \"Topic3\", \"Topic3\", \"Topic3\", \"Topic3\", \"Topic3\", \"Topic3\", \"Topic3\", \"Topic3\", \"Topic3\", \"Topic3\", \"Topic3\", \"Topic3\", \"Topic3\", \"Topic3\", \"Topic3\", \"Topic3\", \"Topic3\", \"Topic3\", \"Topic3\", \"Topic3\", \"Topic3\", \"Topic3\", \"Topic3\", \"Topic3\", \"Topic3\", \"Topic3\", \"Topic3\", \"Topic3\", \"Topic3\", \"Topic3\", \"Topic3\", \"Topic3\", \"Topic3\", \"Topic4\", \"Topic4\", \"Topic4\", \"Topic4\", \"Topic4\", \"Topic4\", \"Topic4\", \"Topic4\", \"Topic4\", \"Topic4\", \"Topic4\", \"Topic4\", \"Topic4\", \"Topic4\", \"Topic4\", \"Topic4\", \"Topic4\", \"Topic4\", \"Topic4\", \"Topic4\", \"Topic4\", \"Topic4\", \"Topic4\", \"Topic4\", \"Topic4\", \"Topic4\", \"Topic4\", \"Topic4\", \"Topic4\", \"Topic4\", \"Topic4\", \"Topic4\", \"Topic4\", \"Topic4\", \"Topic4\", \"Topic4\", \"Topic4\", \"Topic5\", \"Topic5\", \"Topic5\", \"Topic5\", \"Topic5\", \"Topic5\", \"Topic5\", \"Topic5\", \"Topic5\", \"Topic5\", \"Topic5\", \"Topic5\", \"Topic5\", \"Topic5\", \"Topic5\", \"Topic5\", \"Topic5\", \"Topic5\", \"Topic5\", \"Topic5\", \"Topic5\", \"Topic5\", \"Topic5\", \"Topic5\", \"Topic5\", \"Topic5\", \"Topic5\", \"Topic5\", \"Topic5\", \"Topic5\", \"Topic5\", \"Topic5\", \"Topic5\", \"Topic5\", \"Topic5\", \"Topic5\", \"Topic5\", \"Topic5\", \"Topic5\", \"Topic5\", \"Topic6\", \"Topic6\", \"Topic6\", \"Topic6\", \"Topic6\", \"Topic6\", \"Topic6\", \"Topic6\", \"Topic6\", \"Topic6\", \"Topic6\", \"Topic6\", \"Topic6\", \"Topic6\", \"Topic6\", \"Topic6\", \"Topic6\", \"Topic6\", \"Topic6\", \"Topic6\", \"Topic6\", \"Topic6\", \"Topic6\", \"Topic6\", \"Topic6\", \"Topic6\", \"Topic6\", \"Topic6\", \"Topic6\", \"Topic6\", \"Topic6\", \"Topic6\", \"Topic6\", \"Topic6\", \"Topic6\", \"Topic6\", \"Topic6\", \"Topic6\", \"Topic6\", \"Topic7\", \"Topic7\", \"Topic7\", \"Topic7\", \"Topic7\", \"Topic7\", \"Topic7\", \"Topic7\", \"Topic7\", \"Topic7\", \"Topic7\", \"Topic7\", \"Topic7\", \"Topic7\", \"Topic7\", \"Topic7\", \"Topic7\", \"Topic7\", \"Topic7\", \"Topic7\", \"Topic7\", \"Topic7\", \"Topic7\", \"Topic7\", \"Topic7\", \"Topic7\", \"Topic7\", \"Topic7\", \"Topic7\", \"Topic7\", \"Topic7\", \"Topic7\", \"Topic7\", \"Topic7\", \"Topic7\", \"Topic7\", \"Topic7\", \"Topic8\", \"Topic8\", \"Topic8\", \"Topic8\", \"Topic8\", \"Topic8\", \"Topic8\", \"Topic8\", \"Topic8\", \"Topic8\", \"Topic8\", \"Topic8\", \"Topic8\", \"Topic8\", \"Topic8\", \"Topic8\", \"Topic8\", \"Topic8\", \"Topic8\", \"Topic8\", \"Topic8\", \"Topic8\", \"Topic8\", \"Topic8\", \"Topic8\", \"Topic8\", \"Topic8\", \"Topic8\", \"Topic8\", \"Topic8\", \"Topic8\", \"Topic8\", \"Topic8\", \"Topic8\", \"Topic8\", \"Topic8\"], \"logprob\": [30.0, 29.0, 28.0, 27.0, 26.0, 25.0, 24.0, 23.0, 22.0, 21.0, 20.0, 19.0, 18.0, 17.0, 16.0, 15.0, 14.0, 13.0, 12.0, 11.0, 10.0, 9.0, 8.0, 7.0, 6.0, 5.0, 4.0, 3.0, 2.0, 1.0, -3.468, -3.7353, -3.7549, -4.4772, -4.4927, -4.7261, -4.7289, -4.745, -4.8978, -4.7777, -5.1327, -5.2151, -5.2308, -5.2481, -5.2656, -5.2779, -5.306, -5.3135, -5.3927, -5.4331, -5.4345, -5.4344, -5.4707, -5.488, -5.5429, -5.5531, -5.5622, -5.5883, -5.6073, -5.6292, -5.6246, -4.4453, -4.1128, -4.3106, -4.9797, -3.8727, -3.3903, -3.9437, -4.2564, -4.5496, -4.5587, -5.1013, -4.0024, -4.8869, -4.3739, -3.6515, -4.4962, -4.518, -5.0464, -5.1197, -4.9707, -4.0424, -4.2377, -4.3049, -4.5312, -4.5597, -4.7105, -4.7406, -4.8943, -4.9742, -5.0056, -5.1054, -5.118, -5.1327, -5.1614, -5.2073, -5.2046, -5.2608, -5.328, -5.3073, -5.4661, -5.4848, -5.4844, -5.5146, -5.5459, -5.5583, -5.5682, -5.5868, -5.5983, -5.5938, -5.6045, -4.0334, -4.2183, -3.7914, -4.94, -4.5141, -5.3042, -4.9996, -5.088, -4.7526, -4.9877, -4.4752, -4.3604, -3.9938, -4.4521, -4.5978, -4.6231, -4.8445, -4.9706, -4.6281, -5.0241, -5.0044, -5.0782, -3.7721, -4.0233, -4.2998, -4.4018, -4.4492, -4.4505, -4.5077, -4.7332, -4.8107, -4.8977, -4.9014, -3.652, -4.9515, -4.9695, -5.0014, -5.0056, -5.0177, -4.8432, -5.0501, -5.1117, -5.1595, -5.161, -5.2073, -5.2284, -5.2344, -5.2854, -4.623, -5.2961, -5.3019, -5.304, -4.5054, -4.3483, -2.7465, -3.8104, -4.4271, -4.8946, -3.919, -4.2975, -4.8181, -4.8514, -5.0405, -3.3, -3.8702, -3.8702, -4.1882, -4.2378, -4.3623, -4.3628, -4.7022, -4.724, -4.7492, -4.7842, -4.8047, -4.8445, -4.9637, -4.9814, -4.9955, -5.0003, -5.0064, -5.0165, -5.0441, -5.0965, -5.1072, -3.2115, -5.2035, -5.2816, -5.3457, -5.3628, -5.4303, -5.4353, -5.4455, -4.715, -4.7845, -3.8726, -3.3168, -3.9249, -3.8021, -4.9959, -3.7769, -4.132, -4.2092, -4.307, -4.383, -4.4739, -4.6733, -4.6902, -4.739, -4.7466, -4.7543, -4.798, -4.8574, -4.9569, -4.9575, -4.9689, -4.9715, -4.985, -5.088, -5.0906, -5.1034, -5.1738, -5.1772, -5.1832, -3.7147, -5.236, -5.2784, -5.32, -5.3394, -5.372, -3.1162, -4.2794, -4.3741, -4.8836, -3.6671, -4.2807, -4.0512, -4.5202, -4.8474, -4.8982, -3.7067, -3.7856, -3.7976, -4.0508, -4.1594, -4.3786, -4.4664, -4.5633, -4.6234, -4.6342, -4.6403, -4.7123, -4.72, -4.7624, -4.7824, -4.7896, -4.9614, -4.9703, -4.9834, -5.0086, -5.0748, -5.1537, -5.1624, -5.1973, -5.2397, -5.2652, -5.2838, -5.378, -5.3789, -5.3831, -4.1834, -5.0266, -4.2305, -4.3625, -4.7734, -3.8941, -4.1384, -4.6915, -4.7057, -3.6575, -3.8645, -3.8727, -3.9755, -3.9726, -3.9836, -4.0231, -4.0723, -4.3233, -4.4268, -4.5556, -4.6022, -4.6319, -4.712, -4.7154, -4.7976, -4.8682, -4.8714, -4.9005, -4.9479, -4.9685, -5.0921, -5.1489, -5.1658, -5.2041, -5.2092, -5.2788, -5.4235, -5.428, -5.4317, -4.6225, -3.7407, -4.6771, -4.6728, -4.7871, -4.7615, -5.1408, -2.7678, -3.2634, -4.3402, -4.3571, -4.4412, -4.4446, -4.4784, -4.5261, -4.7068, -4.7068, -4.7206, -4.8053, -4.8628, -4.8731, -4.8924, -4.9334, -4.9933, -4.9933, -4.9933, -4.9933, -4.9933, -4.9933, -4.9911, -4.9911, -5.0025, -5.0193, -5.039, -5.0715, -5.0936, -5.2561, -3.8929, -4.2612, -4.5197, -4.3254, -4.7488, -4.5857], \"loglift\": [30.0, 29.0, 28.0, 27.0, 26.0, 25.0, 24.0, 23.0, 22.0, 21.0, 20.0, 19.0, 18.0, 17.0, 16.0, 15.0, 14.0, 13.0, 12.0, 11.0, 10.0, 9.0, 8.0, 7.0, 6.0, 5.0, 4.0, 3.0, 2.0, 1.0, 1.4566, 1.4545, 1.4543, 1.4443, 1.4441, 1.439, 1.439, 1.4382, 1.4345, 1.4333, 1.4269, 1.4237, 1.4232, 1.4225, 1.4217, 1.4213, 1.42, 1.4198, 1.4162, 1.4143, 1.4143, 1.4143, 1.4125, 1.4116, 1.4087, 1.4081, 1.4077, 1.4062, 1.4052, 1.4039, 1.4039, 1.3763, 1.3425, 1.3271, 1.3157, 0.9897, 0.8598, 0.9881, 1.0481, 1.0935, 1.0705, 1.2716, 0.6856, 1.149, 0.7886, 0.2163, 0.7479, 0.7417, 1.1336, 1.1013, 0.5509, 1.7686, 1.7649, 1.7635, 1.7579, 1.7572, 1.7525, 1.7516, 1.746, 1.7428, 1.7414, 1.737, 1.7363, 1.7357, 1.7341, 1.7319, 1.7319, 1.729, 1.7251, 1.7246, 1.7164, 1.7153, 1.715, 1.7132, 1.7109, 1.7101, 1.7093, 1.7079, 1.707, 1.707, 1.7067, 1.661, 1.6362, 1.5825, 1.6494, 1.5701, 1.6321, 1.4933, 1.5242, 1.3325, 1.4434, 0.9245, 0.8165, 0.2562, 0.7104, 0.6462, 0.6814, 0.8907, 1.1074, -0.7603, 1.0045, 0.6247, 1.3821, 1.8419, 1.8379, 1.8318, 1.8297, 1.8284, 1.8284, 1.8267, 1.8195, 1.8167, 1.8132, 1.8131, 1.8109, 1.8108, 1.8101, 1.8086, 1.8084, 1.8078, 1.8068, 1.8063, 1.8032, 1.8008, 1.8005, 1.7982, 1.7969, 1.7965, 1.7935, 1.7929, 1.7929, 1.7925, 1.7923, 1.6561, 1.6193, 1.1212, 1.3666, 1.3081, 1.52, 0.3311, 0.5649, 1.2105, 0.544, 1.1042, 1.9846, 1.9766, 1.9766, 1.9699, 1.9686, 1.9652, 1.9651, 1.9534, 1.9525, 1.9513, 1.9498, 1.9489, 1.9471, 1.9413, 1.9404, 1.9395, 1.9393, 1.939, 1.938, 1.9353, 1.9338, 1.9331, 1.9322, 1.9272, 1.9218, 1.9171, 1.9159, 1.9106, 1.9102, 1.9092, 1.8462, 1.7603, 1.5228, 1.3711, 1.007, 0.0656, 1.1487, 2.3618, 2.3516, 2.349, 2.3454, 2.3422, 2.3384, 2.3282, 2.3271, 2.3242, 2.3238, 2.3234, 2.3205, 2.3169, 2.3098, 2.3096, 2.309, 2.3089, 2.3077, 2.2999, 2.2994, 2.2986, 2.2924, 2.2921, 2.2912, 2.2878, 2.2861, 2.2828, 2.2786, 2.2764, 2.2732, 2.1663, 2.2187, 2.192, 2.2224, 1.8544, 1.8, 1.2086, 1.5976, 0.5522, 0.4756, 2.375, 2.373, 2.3728, 2.3657, 2.362, 2.3536, 2.3496, 2.3449, 2.3415, 2.341, 2.3406, 2.3366, 2.3362, 2.3336, 2.3323, 2.3319, 2.32, 2.3194, 2.3182, 2.3163, 2.3112, 2.3043, 2.3033, 2.3003, 2.2962, 2.2936, 2.2921, 2.2821, 2.2819, 2.2812, 2.2319, 2.2439, 2.0037, 1.8641, 2.0302, 1.5055, 1.6106, 1.528, 0.4568, 2.6136, 2.6072, 2.6069, 2.6033, 2.6031, 2.6028, 2.6014, 2.5994, 2.5878, 2.5819, 2.5741, 2.5709, 2.5688, 2.5631, 2.5627, 2.5562, 2.5504, 2.5501, 2.5474, 2.5431, 2.5413, 2.5287, 2.5225, 2.5206, 2.5163, 2.5156, 2.5071, 2.4877, 2.4868, 2.4863, 2.2719, 2.0083, 1.9651, 1.7756, 1.4472, 0.4983, 2.2272, 2.8954, 2.8855, 2.8379, 2.8367, 2.8306, 2.8301, 2.8275, 2.8237, 2.8072, 2.8072, 2.806, 2.7971, 2.7908, 2.7896, 2.7874, 2.7812, 2.7752, 2.7752, 2.7752, 2.7752, 2.7752, 2.7752, 2.7752, 2.7752, 2.774, 2.7716, 2.769, 2.7646, 2.7617, 2.7376, 2.7283, 2.5883, 2.5105, 1.7124, 2.2859, 1.6274]}, \"token.table\": {\"Topic\": [6, 7, 6, 1, 2, 6, 1, 2, 6, 6, 8, 4, 7, 8, 4, 8, 4, 8, 3, 2, 4, 7, 5, 3, 6, 1, 1, 2, 2, 5, 1, 7, 3, 6, 1, 1, 1, 5, 1, 4, 3, 5, 5, 2, 3, 3, 7, 4, 8, 6, 1, 6, 8, 1, 3, 6, 3, 2, 8, 7, 2, 1, 6, 7, 7, 2, 6, 2, 4, 2, 4, 2, 5, 6, 6, 2, 4, 1, 1, 1, 8, 5, 5, 1, 3, 6, 8, 1, 8, 5, 1, 2, 1, 2, 3, 2, 4, 7, 1, 5, 2, 3, 3, 1, 3, 5, 7, 3, 6, 3, 5, 3, 1, 4, 2, 7, 8, 7, 3, 4, 7, 1, 2, 3, 7, 8, 7, 5, 7, 6, 7, 3, 6, 2, 1, 2, 3, 6, 2, 2, 3, 5, 1, 3, 2, 6, 1, 3, 6, 8, 6, 7, 3, 4, 6, 4, 5, 6, 7, 3, 4, 5, 6, 7, 4, 3, 4, 8, 7, 4, 8, 1, 2, 3, 6, 1, 2, 3, 8, 3, 2, 3, 4, 6, 8, 2, 2, 5, 4, 2, 6, 1, 3, 5, 7, 8, 8, 2, 5, 5, 4, 7, 4, 3, 2, 6, 8, 4, 8, 3, 5, 6, 1, 4, 5, 5, 5, 1, 2, 1, 7, 4, 2, 4, 6, 3, 1, 8, 1, 2, 6, 1, 7, 3, 6, 2, 3, 1, 2, 4, 8, 5, 4, 1, 2, 1, 2, 7, 4, 1, 6, 3, 7, 5, 1, 8, 6, 1, 2, 3, 4, 5, 3, 5, 4, 4, 7, 8, 2, 1, 3, 1, 6, 1, 3, 7, 1, 3, 6, 4, 1, 7, 2, 5, 3, 2, 4, 3, 2, 7, 2, 4, 8, 3, 6, 5, 7, 8, 8, 7, 8, 6, 2, 6, 7, 6, 3, 2, 2, 5, 8, 1, 3, 5, 1, 8, 1, 5, 2, 4, 7, 5, 4, 6, 7, 2, 8, 4, 6, 7, 3, 5, 5, 7, 3, 5, 4, 1, 2, 4, 5, 2, 5, 6, 1, 8, 5, 4, 2, 1, 7, 4, 7, 2, 5, 6, 6, 7, 5, 7, 2, 2, 1, 2, 3, 5, 8, 1, 5, 4, 3, 8, 8, 1, 6, 7, 7, 6, 4, 3, 2, 2, 3, 2, 6, 5, 8, 5, 2, 5, 3, 1, 1, 5, 1, 8, 6, 2, 1, 2, 4, 1, 1, 2], \"Freq\": [0.9374244034636067, 0.9764073858073796, 0.9684202580006065, 0.9747578654959308, 0.9887866551209396, 0.9257236415915189, 0.5155200565498417, 0.3343913880323297, 0.13932974501347073, 0.9579739581941246, 0.9885078053157056, 0.8975459360648925, 0.9452892788158892, 0.943644914981047, 0.9944224857180264, 0.8778846850047513, 0.9944224857180264, 0.8635715623257949, 0.9644659034177006, 0.9457595615235376, 0.9840820927023783, 0.9033064285631563, 0.9145200660108259, 0.9827648525784242, 0.9276094256281563, 0.9171835230028041, 0.6665491366784262, 0.31105626378326556, 0.9479795481708806, 0.920350575620618, 0.9341072475144606, 0.8726280143123059, 0.9895156267819092, 0.9390783257114419, 0.9315358015121259, 0.9344137537710681, 0.8740447697217233, 0.1120570217591953, 0.619545610553989, 0.3761526921220648, 0.9915037794589826, 0.902876429897961, 0.9458579128393786, 0.41996516961035973, 0.5681881706493103, 0.9739316929234221, 0.8579418589506511, 0.9390509216070019, 0.964966595441998, 0.8973082615156168, 0.14630892837118925, 0.8290839274367391, 0.8077039658048025, 0.4410614597068096, 0.12028948901094808, 0.4009649633698269, 0.9565759150996005, 0.9459225132962603, 0.943644914981047, 0.8140549668245322, 0.968371632041486, 0.9716529878354219, 0.7190473934494386, 0.28761895737977544, 0.9803668822842126, 0.9717594559892544, 0.9012033065786591, 0.9772323309012337, 0.9498233704279413, 0.05469366789435995, 0.9434657711777091, 0.42391308136698885, 0.1589674055126208, 0.406250036310031, 0.8473088153702376, 0.6631471575101068, 0.3060679188508185, 0.9872991458589659, 0.9906744305617207, 0.9383699354221486, 0.8890287621280312, 0.99214038170915, 0.8341010388986768, 0.9260015062063366, 0.9511501318302698, 0.9353327475239399, 0.8412306693728231, 0.2705695328065359, 0.6313289098819171, 0.9851870711165264, 0.48726501295588226, 0.5220696567384453, 0.9003705613801963, 0.9855278016918485, 0.963663252211944, 0.9034966622626144, 0.9711510503600383, 0.9364009976448695, 0.3990360132023267, 0.5786022191433737, 0.9860576370652316, 0.961850058493637, 0.9408246728046147, 0.8414086970184227, 0.14023478283640378, 0.9554622437156401, 0.9711163406729103, 0.11469553406136121, 0.8028687384295286, 0.9855045337247701, 0.972001593132849, 0.9646851903703222, 0.4594563527737531, 0.5374772428674093, 0.2528826244296464, 0.6322065610741159, 0.9713666728620208, 0.9838267527481906, 0.7310744301155188, 0.2436914767051729, 0.874255260158698, 0.9767182949543667, 0.9513536760970519, 0.9251467152731697, 0.45299464126082023, 0.5435935695129843, 0.9618464945651057, 0.8756661087640654, 0.09729623430711837, 0.9814985357237153, 0.9246484580313878, 0.9679588550489172, 0.9339922570609279, 0.9652619389672277, 0.6192543833212448, 0.09288815749818673, 0.27866447249456017, 0.9633076818234606, 0.9206406006692299, 0.8089807206688293, 0.034424711517822525, 0.15491120183020138, 0.7342007649995554, 0.2669820963634747, 0.4038013381241704, 0.6057020071862556, 0.1870086916401256, 0.7792028818338566, 0.8636758139775927, 0.9512499432803918, 0.946536174777538, 0.8706184377869378, 0.4836454783874769, 0.44644198004997865, 0.07440699667499644, 0.9062055997862547, 0.9381301787836287, 0.45087468399198105, 0.5260204646573112, 0.9847800063813443, 0.9430909342585652, 0.9640323492724345, 0.8502498346422999, 0.8967032425131477, 0.8613972056977515, 0.9660256462524477, 0.965215837973982, 0.9415454259917398, 0.9601471193668932, 0.11983655061159228, 0.8388558542811458, 0.5483084060260216, 0.21820436566341678, 0.21820436566341678, 0.016784951204878214, 0.20060381577403782, 0.16716984647836486, 0.3343396929567297, 0.3009057236610567, 0.9786595997878281, 0.9614533074755496, 0.26381384668198826, 0.6155656422579726, 0.1055255386727953, 0.8941287697388262, 0.9719485989489366, 0.9453573110572857, 0.8438213597984081, 0.9250599282373863, 0.9833708023414921, 0.9294001279231081, 0.49142016509726727, 0.015356880159289602, 0.30713760318579203, 0.12285504127431682, 0.07678440079644801, 0.9187115138217087, 0.8706039818640919, 0.11608053091521225, 0.9140728689180329, 0.911462108016945, 0.9607963027315044, 0.9576099791190488, 0.9830988797407916, 0.4781001328743064, 0.19920838869762766, 0.2788917441766787, 0.22584036182935768, 0.7528012060978589, 0.9873818628203592, 0.9308734412124305, 0.8893835541254042, 0.24429112916708817, 0.17449366369077726, 0.5583797238104873, 0.976385914768968, 0.9429388207866485, 0.24773392711748074, 0.6936549959289461, 0.9602175115202518, 0.8738034517906154, 0.9831659224271184, 0.9556915508289225, 0.846470887805765, 0.11286278504076866, 0.9554828705519064, 0.9780373587755329, 0.943644914981047, 0.1402209201778416, 0.6309941408002873, 0.2103313802667624, 0.992712894565719, 0.8993619009024665, 0.9596632135820106, 0.03763385151302002, 0.46379679650982686, 0.5300534817255164, 0.9884886633717443, 0.8211111828077368, 0.08211111828077368, 0.8779104441661919, 0.9244381342078231, 0.9301991673052376, 0.9158122937365054, 0.05387131139626502, 0.877702854225563, 0.09337264406654926, 0.018674528813309853, 0.9111203579471899, 0.9397672162936338, 0.8467052274999272, 0.9262436529002085, 0.9626575483158452, 0.9390015259248862, 0.9666606509448071, 0.943644914981047, 0.9181577080374487, 0.2863019696373242, 0.08016455149845077, 0.48098730899070463, 0.14505966461624425, 0.007634719190328644, 0.18851741155405718, 0.801198999104743, 0.9826721806578331, 0.8734279411854403, 0.9310324334958185, 0.8690993318209639, 0.924108863827472, 0.94984649158962, 0.9445342301443853, 0.90458509683171, 0.9190006027539478, 0.9577591333851182, 0.42834274283665724, 0.489534563241894, 0.6826640594391021, 0.281096965651395, 0.9925408460010412, 0.865405338143534, 0.9443416478219661, 0.876659649356722, 0.9882263357720685, 0.9375682304469248, 0.9250060595710731, 0.16652603849085856, 0.77712151295734, 0.9470506413701327, 0.805550406378041, 0.17511965356044368, 0.7719843825051319, 0.1781502421165689, 0.9591025336827955, 0.9866226471889488, 0.9760986970251748, 0.961530104154232, 0.9711266102363395, 0.9415454259917398, 0.9506433282019857, 0.9218424199193875, 0.9411452701847605, 0.9464331153441803, 0.7378578472144357, 0.10540826388777653, 0.10540826388777653, 0.9445088466859604, 0.902653383886936, 0.9891205138895076, 0.8775388612068525, 0.09486906607641649, 0.8489218038082219, 0.7323659447105807, 0.2312734562243939, 0.038545576037398985, 0.9574417696932256, 0.9214901116216434, 0.977941586005341, 0.9891399650139923, 0.9528341660315512, 0.9917804725961062, 0.9337606501775525, 0.9794486454524273, 0.902117638812289, 0.9809652337614015, 0.9586844641458301, 0.9401205880742833, 0.8233418140933966, 0.9198249373034317, 0.9688584920471742, 0.9881275544158309, 0.1701193625219221, 0.8505968126096105, 0.979458455624564, 0.9733212946490081, 0.9272374217711764, 0.04880196956690402, 0.9729380874900271, 0.6984751161819446, 0.13518873216424734, 0.15772018752495523, 0.932279264034918, 0.39842863106465926, 0.47087020034914273, 0.10866235392672524, 0.9671656017306547, 0.943644914981047, 0.8850400565124171, 0.9803900383017918, 0.9723394416876202, 0.554545756349279, 0.4033060046176575, 0.9893411304784206, 0.8563367750005334, 0.9156398484507664, 0.9564985896865057, 0.9765651781084242, 0.6917391406679755, 0.2848337638044605, 0.9036926371450215, 0.06454947408178724, 0.9051527696754343, 0.8791765432517431, 0.4837580295078856, 0.3174662068645499, 0.16629182264333567, 0.015117438422121425, 0.943644914981047, 0.8651845046649199, 0.086518450466492, 0.9550145350828777, 0.8324392636629312, 0.1513525933932602, 0.9456517517939224, 0.9874698682854357, 0.23622579997432558, 0.7086773999229767, 0.8691763422402076, 0.9781060086532222, 0.9105529408573195, 0.9774700715346744, 0.9228763565215738, 0.3816882594194339, 0.6078738946309503, 0.8628726540500081, 0.11133840697419459, 0.9157750575446119, 0.956131497604735, 0.9047762346005042, 0.10596252996172324, 0.8477002396937859, 0.9807828488435122, 0.9822585787286662, 0.9757522497574086, 0.926727049675896, 0.9879788071725596, 0.785278414648819, 0.9758859358278615, 0.9620667319386534, 0.6584430122674958, 0.3372512989662783, 0.9237160063068547, 0.9900019316926635, 0.9541593234381313, 0.9501273845743846], \"Term\": [\"$\", \"%\", \"'d\", \"'ll\", \"'m\", \"'re\", \"'s\", \"'s\", \"'s\", \"'ve\", \"*\", \"//support\", \"//www\", \"/message/compose/\", \"[\", \"\\\\\", \"]\", \"action\", \"activate\", \"activated\", \"activation\", \"ad\", \"add\", \"ago\", \"agree\", \"already\", \"also\", \"also\", \"always\", \"amazon\", \"android\", \"annoying\", \"another\", \"answer\", \"anyone\", \"anything\", \"app\", \"app\", \"apple\", \"apple\", \"apps\", \"ask\", \"available\", \"back\", \"back\", \"backup\", \"bad\", \"bar\", \"basic\", \"basically\", \"battery\", \"battery\", \"believe\", \"better\", \"better\", \"better\", \"big\", \"bit\", \"bot\", \"bought\", \"button\", \"buy\", \"c\", \"c\", \"call\", \"camera\", \"canada\", \"car\", \"card\", \"carrier\", \"carrier\", \"case\", \"case\", \"case\", \"cause\", \"change\", \"change\", \"charge\", \"charger\", \"charging\", \"chat\", \"check\", \"click\", \"close\", \"code\", \"come\", \"concern\", \"contact\", \"contact\", \"cost\", \"could\", \"could\", \"country\", \"currently\", \"deal\", \"definitely\", \"deleted\", \"depends\", \"device\", \"device\", \"different\", \"done\", \"dont\", \"download\", \"download\", \"downloaded\", \"e\", \"easy\", \"easy\", \"else\", \"end\", \"enough\", \"esim\", \"esim\", \"etc\", \"etc\", \"even\", \"every\", \"everything\", \"everything\", \"exactly\", \"fee\", \"feel\", \"file\", \"find\", \"find\", \"fine\", \"first\", \"first\", \"fix\", \"friend\", \"full\", \"g\", \"gb\", \"get\", \"get\", \"get\", \"getting\", \"glass\", \"go\", \"go\", \"go\", \"going\", \"going\", \"good\", \"good\", \"got\", \"got\", \"great\", \"group\", \"guess\", \"headset\", \"help\", \"help\", \"help\", \"hope\", \"hour\", \"http\", \"http\", \"icloud\", \"id\", \"idea\", \"ignore\", \"im\", \"imei\", \"info\", \"information\", \"instagram\", \"international\", \"io\", \"io\", \"iphone\", \"iphone\", \"iphone\", \"iphone\", \"issue\", \"issue\", \"issue\", \"issue\", \"keep\", \"keeping\", \"know\", \"know\", \"know\", \"known\", \"last\", \"le\", \"leave\", \"left\", \"let\", \"life\", \"like\", \"like\", \"like\", \"like\", \"like\", \"link\", \"little\", \"little\", \"live\", \"location\", \"lol\", \"long\", \"longer\", \"look\", \"look\", \"look\", \"looking\", \"looking\", \"lost\", \"lot\", \"love\", \"make\", \"make\", \"make\", \"manage\", \"many\", \"maybe\", \"maybe\", \"mean\", \"mess\", \"message\", \"metal\", \"might\", \"might\", \"minute\", \"mobile\", \"moderator\", \"much\", \"much\", \"much\", \"n't\", \"na\", \"need\", \"need\", \"never\", \"never\", \"new\", \"next\", \"next\", \"noise\", \"normal\", \"number\", \"old\", \"old\", \"one\", \"one\", \"one\", \"open\", \"option\", \"panama\", \"part\", \"pay\", \"pc\", \"people\", \"performed\", \"person\", \"phone\", \"phone\", \"phone\", \"phone\", \"phone\", \"photo\", \"photo\", \"physical\", \"play\", \"playing\", \"please\", \"plus\", \"pocket\", \"possible\", \"power\", \"pretty\", \"price\", \"pro\", \"pro\", \"probably\", \"probably\", \"problem\", \"process\", \"product\", \"protection\", \"protector\", \"put\", \"qr\", \"question\", \"question\", \"ram\", \"really\", \"really\", \"reason\", \"reason\", \"recommend\", \"remove\", \"review\", \"right\", \"ring\", \"ringtone\", \"running\", \"safari\", \"said\", \"samsung\", \"say\", \"say\", \"say\", \"saying\", \"scan\", \"scratch\", \"screen\", \"screen\", \"search\", \"see\", \"see\", \"see\", \"sell\", \"send\", \"service\", \"show\", \"side\", \"sim\", \"similar\", \"simple\", \"sims\", \"since\", \"single\", \"small\", \"smaller\", \"software\", \"solid\", \"someone\", \"something\", \"something\", \"sorry\", \"sound\", \"space\", \"space\", \"start\", \"still\", \"still\", \"still\", \"stop\", \"storage\", \"storage\", \"storage\", \"store\", \"subreddit\", \"suggestion\", \"support\", \"sure\", \"switch\", \"switch\", \"take\", \"tap\", \"tell\", \"thank\", \"thanks\", \"thing\", \"thing\", \"think\", \"think\", \"thinking\", \"thought\", \"time\", \"time\", \"time\", \"time\", \"to=/r/iphone\", \"transfer\", \"transfer\", \"tray\", \"tried\", \"tried\", \"true\", \"turn\", \"two\", \"two\", \"type\", \"u\", \"unless\", \"update\", \"upgrade\", \"use\", \"use\", \"using\", \"using\", \"usually\", \"version\", \"via\", \"video\", \"video\", \"want\", \"way\", \"website\", \"week\", \"work\", \"working\", \"worry\", \"worth\", \"would\", \"would\", \"yeah\", \"year\", \"yes\", \"yet\"]}, \"R\": 30, \"lambda.step\": 0.01, \"plot.opts\": {\"xlab\": \"PC1\", \"ylab\": \"PC2\"}, \"topic.order\": [6, 8, 1, 2, 3, 5, 4, 7]};\n",
       "\n",
       "function LDAvis_load_lib(url, callback){\n",
       "  var s = document.createElement('script');\n",
       "  s.src = url;\n",
       "  s.async = true;\n",
       "  s.onreadystatechange = s.onload = callback;\n",
       "  s.onerror = function(){console.warn(\"failed to load library \" + url);};\n",
       "  document.getElementsByTagName(\"head\")[0].appendChild(s);\n",
       "}\n",
       "\n",
       "if(typeof(LDAvis) !== \"undefined\"){\n",
       "   // already loaded: just create the visualization\n",
       "   !function(LDAvis){\n",
       "       new LDAvis(\"#\" + \"ldavis_el1314027136700961445685483669\", ldavis_el1314027136700961445685483669_data);\n",
       "   }(LDAvis);\n",
       "}else if(typeof define === \"function\" && define.amd){\n",
       "   // require.js is available: use it to load d3/LDAvis\n",
       "   require.config({paths: {d3: \"https://d3js.org/d3.v5\"}});\n",
       "   require([\"d3\"], function(d3){\n",
       "      window.d3 = d3;\n",
       "      LDAvis_load_lib(\"https://cdn.jsdelivr.net/gh/bmabey/pyLDAvis@3.4.0/pyLDAvis/js/ldavis.v3.0.0.js\", function(){\n",
       "        new LDAvis(\"#\" + \"ldavis_el1314027136700961445685483669\", ldavis_el1314027136700961445685483669_data);\n",
       "      });\n",
       "    });\n",
       "}else{\n",
       "    // require.js not available: dynamically load d3 & LDAvis\n",
       "    LDAvis_load_lib(\"https://d3js.org/d3.v5.js\", function(){\n",
       "         LDAvis_load_lib(\"https://cdn.jsdelivr.net/gh/bmabey/pyLDAvis@3.4.0/pyLDAvis/js/ldavis.v3.0.0.js\", function(){\n",
       "                 new LDAvis(\"#\" + \"ldavis_el1314027136700961445685483669\", ldavis_el1314027136700961445685483669_data);\n",
       "            })\n",
       "         });\n",
       "}\n",
       "</script>"
      ],
      "text/plain": [
       "<IPython.core.display.HTML object>"
      ]
     },
     "execution_count": 17,
     "metadata": {},
     "output_type": "execute_result"
    }
   ],
   "source": [
    "# Prepare the data for visualization using pyLDAvis\n",
    "vis = gensimvis.prepare(lda_model, tdm, id2word)\n",
    "\n",
    "# Display the visualization\n",
    "pyLDAvis.display(vis)"
   ]
  },
  {
   "attachments": {},
   "cell_type": "markdown",
   "id": "20acb8b0",
   "metadata": {},
   "source": [
    "### Insights of the graph"
   ]
  },
  {
   "attachments": {},
   "cell_type": "markdown",
   "id": "2c09b3f6",
   "metadata": {},
   "source": [
    "The LDA model identifies eight topics (as specified by num_topics=8) and assigns keywords to each topic. The keywords provide an insight into the main themes or areas of discussion in the analyzed dataset. Each topic is represented by a list of words and their corresponding weights.\n",
    "\n",
    "We can see here that in Topic 1 there are several words that show a higher weight. Some of them are:\"work\", \"esim\",\"app\", \"time\" and \"charge\". The weight of a keyword indicates the likelihood of that word occurring in the given topic. The higher the weight, the more representative and important the word is for the topic.\n",
    "\n",
    "In topic 2 we can see that the words that have more weight are: \"screen\", \"button\" , \"gb\", and \"use\", which complements the previous insights that we got from the other analysis from Best Buy and Reddit."
   ]
  },
  {
   "attachments": {},
   "cell_type": "markdown",
   "id": "80ab6a13",
   "metadata": {},
   "source": [
    "### Evaluation of topic models"
   ]
  },
  {
   "cell_type": "code",
   "execution_count": 18,
   "id": "898b477b",
   "metadata": {},
   "outputs": [
    {
     "name": "stdout",
     "output_type": "stream",
     "text": [
      "\n",
      "Perplexity:  -7.6676216003398885\n"
     ]
    }
   ],
   "source": [
    "# Compute Perplexity\n",
    "print('\\nPerplexity: ', lda_model.log_perplexity(tdm))  # lower value is better (some liteture do not recommend the use of this measure)"
   ]
  },
  {
   "cell_type": "code",
   "execution_count": 19,
   "id": "49188a69",
   "metadata": {},
   "outputs": [
    {
     "name": "stdout",
     "output_type": "stream",
     "text": [
      "\n",
      "Coherence Score:  0.3888959415226483\n"
     ]
    }
   ],
   "source": [
    "# Compute Coherence Score\n",
    "coherence_model_lda = CoherenceModel(model=lda_model, texts=corpus, dictionary=id2word, coherence='c_v')\n",
    "coherence_lda = coherence_model_lda.get_coherence()\n",
    "print('\\nCoherence Score: ', coherence_lda)"
   ]
  },
  {
   "cell_type": "code",
   "execution_count": 20,
   "id": "7120d10d",
   "metadata": {},
   "outputs": [
    {
     "data": {
      "image/png": "[encoded data removed]",
      "text/plain": [
       "<Figure size 432x288 with 1 Axes>"
      ]
     },
     "metadata": {
      "needs_background": "light"
     },
     "output_type": "display_data"
    }
   ],
   "source": [
    "# HOW TO SELECT K (based on https://www.machinelearningplus.com/nlp/topic-modeling-gensim-python/)\n",
    "def compute_coherence_values(dictionary, corpus, texts, limit, start=2, step=3):\n",
    "    \"\"\"\n",
    "    Compute c_v coherence for various number of topics\n",
    "\n",
    "    Parameters:\n",
    "    ----------\n",
    "    dictionary : Gensim dictionary\n",
    "    corpus : Gensim corpus\n",
    "    texts : List of input texts\n",
    "    limit : Max num of topics\n",
    "\n",
    "    Returns:\n",
    "    -------\n",
    "    model_list : List of LDA topic models\n",
    "    coherence_values : Coherence values corresponding to the LDA model with respective number of topics\n",
    "    \"\"\"\n",
    "    coherence_values = []\n",
    "    model_list = []\n",
    "    for num_topics in range(start, limit, step):\n",
    "        model = gensim.models.ldamodel.LdaModel(corpus=corpus,\n",
    "                                           id2word=id2word,\n",
    "                                           num_topics=num_topics,\n",
    "                                           random_state=123,\n",
    "                                           update_every=1,\n",
    "                                           chunksize=100,\n",
    "                                           passes=10,\n",
    "                                           alpha='auto',\n",
    "                                           per_word_topics=True)\n",
    "        model_list.append(model)\n",
    "        coherencemodel = CoherenceModel(model=model, texts=texts, dictionary=dictionary, coherence='c_v')\n",
    "        coherence_values.append(coherencemodel.get_coherence())\n",
    "\n",
    "    return model_list, coherence_values\n",
    "\n",
    "# ATTENTION!!!! Can take a LONG time to run.\n",
    "lowerBound = 2\n",
    "upperBound = 20\n",
    "step = 6\n",
    "model_list, coherence_values = compute_coherence_values(dictionary=id2word, corpus=tdm, texts=corpus, start=lowerBound, limit=upperBound, step= step)\n",
    "\n",
    "# Show graph\n",
    "x = range(lowerBound, upperBound, step)\n",
    "plt.plot(x, coherence_values)\n",
    "plt.xlabel(\"Num Topics\")\n",
    "plt.ylabel(\"Coherence score\")\n",
    "plt.legend((\"coherence_values\"), loc='best')\n",
    "plt.title(\"Coherence Score - Topic Modeling - Reddit\")\n",
    "plt.show()\n",
    "# The coherence score is decreasing. A higher value should be chosen, because as K increases the probability of having repeated keywords increases.\n",
    "# ...So, in this case we may choose 8, as there is an inflaction at K=8"
   ]
  },
  {
   "attachments": {},
   "cell_type": "markdown",
   "id": "8f8b9d88",
   "metadata": {},
   "source": [
    "## Conclusions"
   ]
  },
  {
   "attachments": {},
   "cell_type": "markdown",
   "id": "2d26cdfd",
   "metadata": {},
   "source": [
    "This code snippet computes the perplexity of an LDA (Latent Dirichlet Allocation) model. The perplexity is a measure of how well the model predicts a sample or a set of documents. A lower perplexity value indicates better performance.\n",
    "\n",
    "Then code calculates the coherence score of an LDA model. Coherence is a measure of the interpretability and consistency of the topics generated by the model. The code creates a CoherenceModel object with the LDA model (lda_model), the corpus, the dictionary, and the coherence measure ('c_v'). The coherence score is obtained using the get_coherence method of the coherence_model_lda object. The code then prints the coherence score.\n",
    "\n",
    "Finally, the code defines a function called compute_coherence_values that computes the coherence values for different numbers of topics in an LDA model. The function takes in a Gensim dictionary, a Gensim corpus, a list of input texts, a limit on the maximum number of topics to consider, and the start and step values for the range of topics.\n",
    "\n",
    "A perplexity value of -7.6676216003398885 suggests a very low perplexity, which indicates that the LDA model is performing well in predicting the sample or set of documents. Lower perplexity values generally indicate better model performance. In this case, the negative value may be due to the logarithmic transformation typically applied to perplexity calculations. Therefore, a lower negative value still indicates a good performance.\n",
    "\n",
    "A coherence score of 0.3888959415226483 indicates a moderate level of coherence and interpretability for the topics generated by the LDA model. Coherence scores typically range between 0 and 1, where higher values indicate better topic quality.\n",
    "\n",
    "It also suggests that the topics have some level of coherence and are reasonably interpretable. However, there is room for improvement, as a higher coherence score would indicate more distinct and coherent topics."
   ]
  }
 ],
 "metadata": {
  "kernelspec": {
   "display_name": "Python 3 (ipykernel)",
   "language": "python",
   "name": "python3"
  },
  "language_info": {
   "codemirror_mode": {
    "name": "ipython",
    "version": 3
   },
   "file_extension": ".py",
   "mimetype": "text/x-python",
   "name": "python",
   "nbconvert_exporter": "python",
   "pygments_lexer": "ipython3",
   "version": "3.9.12"
  }
 },
 "nbformat": 4,
 "nbformat_minor": 5
}
