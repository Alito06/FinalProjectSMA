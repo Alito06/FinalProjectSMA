{
 "cells": [
  {
   "attachments": {},
   "cell_type": "markdown",
   "metadata": {},
   "source": [
    "# Social Media Analytics\n",
    "## Project 3\n",
    "## Graph Analysis - Creating Graphs to Analyze in Gephi (Reddit Posts)\n",
    "Felix Funes 20220306 | Paula Catalan 20221048 | Efstathia Styliagkatzi 20220078 | Alisson Tapia 20221156 | S M Abrar Hossain Asif 20220223"
   ]
  },
  {
   "attachments": {},
   "cell_type": "markdown",
   "metadata": {},
   "source": [
    "NOTE: To run properly, this code requires the latest version of the packages. If it gives an error, run \"pip install --upgrade pip\" and then \"pip install --upgrade networkx scipy pandas-profiling numpy\" in your terminal."
   ]
  },
  {
   "attachments": {},
   "cell_type": "markdown",
   "metadata": {},
   "source": [
    "### Initial Setup"
   ]
  },
  {
   "cell_type": "code",
   "execution_count": 1,
   "metadata": {},
   "outputs": [],
   "source": [
    "import pandas as pd\n",
    "from collections import Counter\n",
    "import networkx as nx\n",
    "import matplotlib.pyplot as plt\n",
    "import scipy.sparse as sp\n",
    "from scipy.sparse import coo_matrix\n",
    "import numpy as np\n",
    "# Import packages\n",
    "import csv\n",
    "import pandas as pd\n",
    "import numpy as np\n",
    "import nltk\n",
    "import re\n",
    "from nltk.tokenize import word_tokenize\n",
    "import re\n",
    "from bs4 import BeautifulSoup\n",
    "from rake_nltk import Rake\n",
    "from nltk.corpus import stopwords"
   ]
  },
  {
   "cell_type": "code",
   "execution_count": 2,
   "metadata": {},
   "outputs": [],
   "source": [
    "# Import data\n",
    "df = pd.DataFrame(pd.read_excel(\"https://github.com/felix-funes/social-media-analytics/blob/main/iphone-subreddit-comments.xlsx?raw=true\"))\n",
    "df[\"body\"] = df[\"body\"].astype(str)"
   ]
  },
  {
   "attachments": {},
   "cell_type": "markdown",
   "metadata": {},
   "source": [
    "### Data Preprocessing"
   ]
  },
  {
   "cell_type": "code",
   "execution_count": 3,
   "metadata": {},
   "outputs": [],
   "source": [
    "# Defining the text preprocessing function\n",
    "def textPreProcess(rawText, removeHTML=True, charsToRemove = r'\\?|\\.|\\!|\\;|\\.|\\\"|\\,|\\(|\\)|\\&|\\:|\\-|\\$', removeNumbers=True, removeLineBreaks=False, specialCharsToRemove = r'[^\\x00-\\xfd]', convertToLower=True, removeConsecutiveSpaces=True):\n",
    "    if type(rawText) != str:\n",
    "        return rawText\n",
    "    procText = rawText\n",
    "        \n",
    "    # Remove HTML\n",
    "    if removeHTML:\n",
    "        procText = BeautifulSoup(procText,'html.parser').get_text()\n",
    "\n",
    "    # Remove punctuation and other special characters\n",
    "    if len(charsToRemove)>0:\n",
    "        procText = re.sub(charsToRemove,' ',procText)\n",
    "\n",
    "    # Remove numbers\n",
    "    if removeNumbers:\n",
    "        procText = re.sub(r'\\d+',' ',procText)\n",
    "\n",
    "    # Remove line breaks\n",
    "    if removeLineBreaks:\n",
    "        procText = procText.replace('\\n',' ').replace('\\r', '')\n",
    "\n",
    "    # Remove special characters\n",
    "    if len(specialCharsToRemove)>0:\n",
    "        procText = re.sub(specialCharsToRemove,' ',procText)\n",
    "\n",
    "    # Normalize to lower case\n",
    "    if convertToLower:\n",
    "        procText = procText.lower() \n",
    "\n",
    "    # Replace multiple consecutive spaces with just one space\n",
    "    if removeConsecutiveSpaces:\n",
    "        procText = re.sub(' +', ' ', procText)\n",
    "\n",
    "    return procText"
   ]
  },
  {
   "cell_type": "code",
   "execution_count": 4,
   "metadata": {},
   "outputs": [],
   "source": [
    "# Tokenize words\n",
    "def tokenize_words(words):\n",
    "    if (type(words) != str) or (word_tokenize(words) == ''):\n",
    "        return np.nan\n",
    "    else:\n",
    "        return word_tokenize(words)"
   ]
  },
  {
   "cell_type": "code",
   "execution_count": 5,
   "metadata": {},
   "outputs": [
    {
     "name": "stderr",
     "output_type": "stream",
     "text": [
      "c:\\Users\\Felix\\anaconda3\\lib\\site-packages\\bs4\\__init__.py:435: MarkupResemblesLocatorWarning: The input looks more like a filename than markup. You may want to open this file and pass the filehandle into Beautiful Soup.\n",
      "  warnings.warn(\n",
      "c:\\Users\\Felix\\anaconda3\\lib\\site-packages\\bs4\\__init__.py:404: MarkupResemblesLocatorWarning: The input looks more like a URL than markup. You may want to use an HTTP client like requests to get the document behind the URL, and feed that document to Beautiful Soup.\n",
      "  warnings.warn(\n"
     ]
    }
   ],
   "source": [
    "# Create a dataframe with only the description and apply the text preprocessing function\n",
    "processedReviews = pd.DataFrame(data=df.body.apply(textPreProcess, removeNumbers=False).values, index=df.index, columns=['PreProcessedText'])"
   ]
  },
  {
   "attachments": {},
   "cell_type": "markdown",
   "metadata": {},
   "source": [
    "### Graph Creation"
   ]
  },
  {
   "cell_type": "code",
   "execution_count": 6,
   "metadata": {},
   "outputs": [],
   "source": [
    "# Extracting the 'PreProcessedText' column from the 'processedReviews' DataFrame and converting it to a list\n",
    "reviews = processedReviews['PreProcessedText'].tolist()"
   ]
  },
  {
   "cell_type": "code",
   "execution_count": 7,
   "metadata": {},
   "outputs": [],
   "source": [
    "# Creating an empty list to store words\n",
    "words = []\n",
    "# Iterating over each review in the 'reviews' list\n",
    "for review in reviews:\n",
    "    # Converting the review text to lowercase and splitting it into individual words\n",
    "    words += review.lower().split()\n",
    "# Counting the frequency of each word\n",
    "word_freq = Counter(words)"
   ]
  },
  {
   "cell_type": "code",
   "execution_count": 8,
   "metadata": {},
   "outputs": [],
   "source": [
    "# Creating a graph\n",
    "G = nx.Graph()\n",
    "# Defining stop words\n",
    "stop_words = set(stopwords.words('english'))\n",
    "# Adding to the graph the words not in the stop words list\n",
    "for word, freq in word_freq.items():\n",
    "    if word not in stop_words:\n",
    "        G.add_node(word, size=freq)\n",
    "    else:\n",
    "        continue"
   ]
  },
  {
   "cell_type": "code",
   "execution_count": 9,
   "metadata": {},
   "outputs": [],
   "source": [
    "# Iterate over each review\n",
    "for review in reviews:\n",
    "    # Convert the review to lowercase and split it into individual words\n",
    "    review_words = review.lower().split()\n",
    "\n",
    "    # Iterate over each word in the review\n",
    "    for i in range(len(review_words)):\n",
    "        # Iterate over the remaining words in the review\n",
    "        for j in range(i+1, len(review_words)):\n",
    "            # Check if there is an edge between the two words in the graph G\n",
    "            if G.has_edge(review_words[i], review_words[j]):\n",
    "                # If an edge exists, increment the weight attribute of the edge by 1\n",
    "                G[review_words[i]][review_words[j]]['weight'] += 1\n",
    "            else:\n",
    "                # If an edge does not exist, add a new edge with weight 1 to the graph G\n",
    "                G.add_edge(review_words[i], review_words[j], weight=1)"
   ]
  },
  {
   "cell_type": "code",
   "execution_count": 10,
   "metadata": {},
   "outputs": [],
   "source": [
    "# Create a dictionary that maps each node name to a unique integer index\n",
    "node_index = {node_name: i for i, node_name in enumerate(G.nodes())}"
   ]
  },
  {
   "cell_type": "code",
   "execution_count": 11,
   "metadata": {},
   "outputs": [],
   "source": [
    "# Convert the graph to a sparse matrix\n",
    "n = len(G.nodes())\n",
    "row, col, data = [], [], []\n",
    "for u, v, d in G.edges(data=True):\n",
    "    row.append(node_index[u])\n",
    "    col.append(node_index[v])\n",
    "    data.append(d['weight'])\n",
    "mat = sp.coo_matrix((data, (row, col)), shape=(n, n)).tocsr()"
   ]
  },
  {
   "cell_type": "code",
   "execution_count": 12,
   "metadata": {},
   "outputs": [],
   "source": [
    "# Calculate the pagerank\n",
    "pr = nx.pagerank(G, weight='weight')\n",
    "\n",
    "# Add the pagerank to the node attributes\n",
    "for i, (node_id, _) in enumerate(G.nodes(data=True)):\n",
    "    G.nodes[node_id]['pagerank'] = pr.get(i, 0)"
   ]
  },
  {
   "cell_type": "code",
   "execution_count": 13,
   "metadata": {},
   "outputs": [],
   "source": [
    "# Save the data so it can be loaded into Gephi\n",
    "nx.write_gexf(G, \"reddit graph.gexf\")"
   ]
  }
 ],
 "metadata": {
  "kernelspec": {
   "display_name": "base",
   "language": "python",
   "name": "python3"
  },
  "language_info": {
   "codemirror_mode": {
    "name": "ipython",
    "version": 3
   },
   "file_extension": ".py",
   "mimetype": "text/x-python",
   "name": "python",
   "nbconvert_exporter": "python",
   "pygments_lexer": "ipython3",
   "version": "3.9.12"
  },
  "orig_nbformat": 4
 },
 "nbformat": 4,
 "nbformat_minor": 2
}
