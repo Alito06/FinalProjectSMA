{
 "cells": [
  {
   "cell_type": "markdown",
   "id": "5a23c0fc",
   "metadata": {},
   "source": [
    "## Sentiment Reddit \n",
    "Felix Funes 20220306 | Paula Catalan 20221048 | Efstathia Styliagkatzi 20220078 | Alisson Tapia 20221156 | S M Abrar Hossain Asif 20220223"
   ]
  },
  {
   "cell_type": "markdown",
   "id": "a2f33d2a",
   "metadata": {},
   "source": [
    "Sentiment analysis, also known as opinion mining, is a subfield of natural language processing (NLP) that involves the use of computational techniques to determine the sentiment or subjective information expressed in text. It aims to automatically identify and extract the emotional tone, attitude, or opinion present in a piece of text, such as reviews, social media posts, customer feedback, and more.\n",
    "\n",
    "The goal of sentiment analysis is to classify the text into different categories or sentiment polarities, typically being positive, negative, or neutral. This analysis helps businesses and organizations gain insights into public opinion, customer feedback, brand perception, and market trends. By understanding the sentiment expressed in large volumes of text data, companies can make data-driven decisions, improve their products or services, and enhance customer experiences.\n",
    "\n",
    "There are various approaches to sentiment analysis, ranging from rule-based methods to machine learning techniques. Rule-based methods involve defining a set of rules or patterns to identify sentiment-bearing words or phrases and assign sentiment scores accordingly. On the other hand, machine learning approaches utilize algorithms to automatically learn patterns and relationships from labeled training data, enabling the system to classify new, unseen text.\n",
    "\n",
    "Sentiment analysis faces several challenges, including sarcasm, irony, context ambiguity, and language nuances. Interpreting sentiment accurately becomes more complex when dealing with these linguistic subtleties. Researchers and developers continuously strive to improve the performance of sentiment analysis models by leveraging advanced techniques such as deep learning, contextual word embeddings, and domain-specific training data.\n",
    "\n",
    "The applications of sentiment analysis are diverse and span across various industries. Some common use cases include brand monitoring, reputation management, customer feedback analysis, social media sentiment tracking, market research, political analysis, and customer support optimization.\n",
    "\n",
    "In summary, sentiment analysis is a valuable tool that allows businesses and organizations to gain insights from text data by automatically classifying the sentiment expressed within it. It has become increasingly important in today's digital age, where massive amounts of textual information are generated daily, and understanding the sentiment behind that information can provide a competitive advantage."
   ]
  },
  {
   "cell_type": "code",
   "execution_count": 4,
   "id": "db97936d",
   "metadata": {},
   "outputs": [],
   "source": [
    "# Import packages\n",
    "import csv\n",
    "import pandas as pd\n",
    "import numpy as np\n",
    "import nltk \n",
    "import re\n",
    "from bs4 import BeautifulSoup\n",
    "from nltk.tokenize import sent_tokenize\n",
    "from nltk.tokenize import word_tokenize\n",
    "from nltk.corpus import stopwords\n",
    "from vaderSentiment.vaderSentiment import SentimentIntensityAnalyzer "
   ]
  },
  {
   "cell_type": "code",
   "execution_count": 5,
   "id": "f60e6ace",
   "metadata": {},
   "outputs": [],
   "source": [
    "# Load dataset\n",
    "dtypes = {'Id':'category','type':'category','subreddit':'category','score':'float64','title':'category','reviews':'category','author':'category'}\n",
    "ds= pd.read_excel(\"reddit_FINAL_v12.xlsx\", sheet_name=\"Sheet1\", engine='openpyxl', dtype=dtypes)\n"
   ]
  },
  {
   "cell_type": "code",
   "execution_count": 6,
   "id": "cd7f7344",
   "metadata": {},
   "outputs": [
    {
     "data": {
      "text/html": [
       "<div>\n",
       "<style scoped>\n",
       "    .dataframe tbody tr th:only-of-type {\n",
       "        vertical-align: middle;\n",
       "    }\n",
       "\n",
       "    .dataframe tbody tr th {\n",
       "        vertical-align: top;\n",
       "    }\n",
       "\n",
       "    .dataframe thead th {\n",
       "        text-align: right;\n",
       "    }\n",
       "</style>\n",
       "<table border=\"1\" class=\"dataframe\">\n",
       "  <thead>\n",
       "    <tr style=\"text-align: right;\">\n",
       "      <th></th>\n",
       "      <th>Id</th>\n",
       "      <th>type</th>\n",
       "      <th>subreddit</th>\n",
       "      <th>title</th>\n",
       "      <th>reviews</th>\n",
       "      <th>author</th>\n",
       "      <th>date_published</th>\n",
       "      <th>score</th>\n",
       "    </tr>\n",
       "  </thead>\n",
       "  <tbody>\n",
       "    <tr>\n",
       "      <th>0</th>\n",
       "      <td>1</td>\n",
       "      <td>post</td>\n",
       "      <td>iphone</td>\n",
       "      <td>Iphone 14 leather cases like andar brand but i...</td>\n",
       "      <td>Are there any? I don't wanna wait a month to r...</td>\n",
       "      <td>New-Analysis8054</td>\n",
       "      <td>2023-04-29 07:22:04</td>\n",
       "      <td>1.0</td>\n",
       "    </tr>\n",
       "    <tr>\n",
       "      <th>1</th>\n",
       "      <td>2</td>\n",
       "      <td>comment</td>\n",
       "      <td>iphone</td>\n",
       "      <td>Iphone 14 leather cases like andar brand but i...</td>\n",
       "      <td>Mujjo and Solo Pelle both make great leather c...</td>\n",
       "      <td>ShortOnCoffee</td>\n",
       "      <td>2023-04-29 07:52:29</td>\n",
       "      <td>1.0</td>\n",
       "    </tr>\n",
       "    <tr>\n",
       "      <th>2</th>\n",
       "      <td>3</td>\n",
       "      <td>comment</td>\n",
       "      <td>iphone</td>\n",
       "      <td>Iphone 14 leather cases like andar brand but i...</td>\n",
       "      <td>I use Mujjo. Another brand is Decoded.</td>\n",
       "      <td>uwGrootsheid</td>\n",
       "      <td>2023-04-29 10:29:29</td>\n",
       "      <td>1.0</td>\n",
       "    </tr>\n",
       "    <tr>\n",
       "      <th>3</th>\n",
       "      <td>4</td>\n",
       "      <td>post</td>\n",
       "      <td>iphone</td>\n",
       "      <td>Why is my screen time incorrect?</td>\n",
       "      <td>Barely used my phone today but it shows 3 hours.</td>\n",
       "      <td>tyler_ness</td>\n",
       "      <td>2023-04-28 21:07:35</td>\n",
       "      <td>1.0</td>\n",
       "    </tr>\n",
       "    <tr>\n",
       "      <th>4</th>\n",
       "      <td>5</td>\n",
       "      <td>comment</td>\n",
       "      <td>iphone</td>\n",
       "      <td>Why is my screen time incorrect?</td>\n",
       "      <td>It shows your usage from your other devices li...</td>\n",
       "      <td>lovekorra</td>\n",
       "      <td>2023-04-29 05:45:35</td>\n",
       "      <td>1.0</td>\n",
       "    </tr>\n",
       "  </tbody>\n",
       "</table>\n",
       "</div>"
      ],
      "text/plain": [
       "  Id     type subreddit                                              title  \\\n",
       "0  1     post    iphone  Iphone 14 leather cases like andar brand but i...   \n",
       "1  2  comment    iphone  Iphone 14 leather cases like andar brand but i...   \n",
       "2  3  comment    iphone  Iphone 14 leather cases like andar brand but i...   \n",
       "3  4     post    iphone                   Why is my screen time incorrect?   \n",
       "4  5  comment    iphone                   Why is my screen time incorrect?   \n",
       "\n",
       "                                             reviews            author  \\\n",
       "0  Are there any? I don't wanna wait a month to r...  New-Analysis8054   \n",
       "1  Mujjo and Solo Pelle both make great leather c...     ShortOnCoffee   \n",
       "2             I use Mujjo. Another brand is Decoded.      uwGrootsheid   \n",
       "3   Barely used my phone today but it shows 3 hours.        tyler_ness   \n",
       "4  It shows your usage from your other devices li...         lovekorra   \n",
       "\n",
       "       date_published  score  \n",
       "0 2023-04-29 07:22:04    1.0  \n",
       "1 2023-04-29 07:52:29    1.0  \n",
       "2 2023-04-29 10:29:29    1.0  \n",
       "3 2023-04-28 21:07:35    1.0  \n",
       "4 2023-04-29 05:45:35    1.0  "
      ]
     },
     "execution_count": 6,
     "metadata": {},
     "output_type": "execute_result"
    }
   ],
   "source": [
    "# Check first rows\n",
    "ds.head()"
   ]
  },
  {
   "cell_type": "code",
   "execution_count": 7,
   "id": "51b69152",
   "metadata": {},
   "outputs": [],
   "source": [
    "# Text preprocessing\n",
    "def textPreProcess(rawText, removeHTML=True, charsToRemove = r'\\?|\\.|\\!|\\;|\\.|\\\"|\\,|\\(|\\)|\\&|\\:|\\-', removeNumbers=True, removeLineBreaks=False, specialCharsToRemove = r'[^\\x00-\\xfd]', convertToLower=True, removeConsecutiveSpaces=True):\n",
    "    if type(rawText) != str:\n",
    "        return rawText\n",
    "    procText = rawText\n",
    "        \n",
    "    # Remove HTML\n",
    "    if removeHTML:\n",
    "        procText = BeautifulSoup(procText,'html.parser').get_text()\n",
    "\n",
    "    # Remove punctuation and other special characters\n",
    "    if len(charsToRemove)>0:\n",
    "        procText = re.sub(charsToRemove,' ',procText)\n",
    "\n",
    "    # Remove numbers\n",
    "    if removeNumbers:\n",
    "        procText = re.sub(r'\\d+',' ',procText)\n",
    "\n",
    "    # Remove line breaks\n",
    "    if removeLineBreaks:\n",
    "        procText = procText.replace('\\n',' ').replace('\\r', '')\n",
    "\n",
    "    # Remove special characters\n",
    "    if len(specialCharsToRemove)>0:\n",
    "        procText = re.sub(specialCharsToRemove,' ',procText)\n",
    "\n",
    "    # Normalize to lower case\n",
    "    if convertToLower:\n",
    "        procText = procText.lower() \n",
    "\n",
    "    # Replace multiple consecutive spaces with just one space\n",
    "    if removeConsecutiveSpaces:\n",
    "        procText = re.sub(' +', ' ', procText)\n",
    "\n",
    "    return procText"
   ]
  },
  {
   "cell_type": "code",
   "execution_count": 8,
   "id": "06840f69",
   "metadata": {},
   "outputs": [],
   "source": [
    "# Tokenize words\n",
    "def tokenize_words(words):\n",
    "    if (type(words) != str) or (word_tokenize(words) == ''):\n",
    "        return np.nan\n",
    "    else:\n",
    "        return word_tokenize(words)"
   ]
  },
  {
   "cell_type": "code",
   "execution_count": 9,
   "id": "a8e4f165",
   "metadata": {},
   "outputs": [],
   "source": [
    "# Function to create text from words\n",
    "def recreateText(words):\n",
    "    if type(words) == list:\n",
    "        temp_str = (' ').join(words)\n",
    "        return temp_str\n",
    "    else:\n",
    "        return np.nan"
   ]
  },
  {
   "cell_type": "code",
   "execution_count": 10,
   "id": "ec4e87cc",
   "metadata": {},
   "outputs": [],
   "source": [
    "# Function to break texts into sentences\n",
    "def tokenize_sentences(texts):\n",
    "    s_token = sent_tokenize(texts)\n",
    "    return s_token"
   ]
  },
  {
   "cell_type": "code",
   "execution_count": 11,
   "id": "a68dae95",
   "metadata": {},
   "outputs": [],
   "source": [
    "# Function to remove stop words\n",
    "def removeStopWords(t, stop_words):\n",
    "    if type(t) == list:\n",
    "        return [w for w in t if not w in stop_words]\n",
    "    else:\n",
    "        return np.nan"
   ]
  },
  {
   "cell_type": "code",
   "execution_count": 12,
   "id": "0e0ceec7",
   "metadata": {},
   "outputs": [],
   "source": [
    "## Analysis"
   ]
  },
  {
   "cell_type": "code",
   "execution_count": 13,
   "id": "6040d88a",
   "metadata": {},
   "outputs": [],
   "source": [
    "def tokenize_sentences(text):\n",
    "    sentences = nltk.sent_tokenize(text)\n",
    "    return \". \".join(sentences)"
   ]
  },
  {
   "cell_type": "code",
   "execution_count": 14,
   "id": "3ea95f48",
   "metadata": {},
   "outputs": [],
   "source": [
    "# Because a review can express multiple opinions, let's analyze opinions by sentence\n",
    "\n",
    "# Break reviews' into a list of lists sentences\n",
    "listOfSentences = ds.reviews.apply(tokenize_sentences)"
   ]
  },
  {
   "cell_type": "code",
   "execution_count": 15,
   "id": "c52778d0",
   "metadata": {},
   "outputs": [
    {
     "name": "stderr",
     "output_type": "stream",
     "text": [
      "C:\\Users\\asifa\\anaconda3\\lib\\site-packages\\bs4\\__init__.py:431: MarkupResemblesLocatorWarning: \"https://iaohi.com/products/aohi-magcube-65w-pd-fast-charger\" looks like a URL. Beautiful Soup is not an HTTP client. You should probably use an HTTP client like requests to get the document behind the URL, and feed that document to Beautiful Soup.\n",
      "  warnings.warn(\n",
      "C:\\Users\\asifa\\anaconda3\\lib\\site-packages\\bs4\\__init__.py:431: MarkupResemblesLocatorWarning: \"https://preview.redd.it/yqvdvjj1r8wa1.jpeg?width=640&format=pjpg&auto=webp&v=enabled&s=10f145dc1c4c69eb3b08c6716b4ab2676564fe19\" looks like a URL. Beautiful Soup is not an HTTP client. You should probably use an HTTP client like requests to get the document behind the URL, and feed that document to Beautiful Soup.\n",
      "  warnings.warn(\n"
     ]
    }
   ],
   "source": [
    "# Create a dataframe with only the description\n",
    "processedReviews = pd.DataFrame(data=ds.reviews.apply(textPreProcess,charsToRemove ='', removeLineBreaks=False, removeNumbers=False).values, index=ds.index, columns=['PreProcessedText'])"
   ]
  },
  {
   "cell_type": "code",
   "execution_count": 16,
   "id": "2e76fb00",
   "metadata": {},
   "outputs": [
    {
     "data": {
      "text/plain": [
       "\"Are there any? I don't wanna wait a month to receive it, i live in italy if that matters\""
      ]
     },
     "execution_count": 16,
     "metadata": {},
     "output_type": "execute_result"
    }
   ],
   "source": [
    "# Check first review\n",
    "ds.reviews[0]"
   ]
  },
  {
   "cell_type": "code",
   "execution_count": 17,
   "id": "d64dd092",
   "metadata": {},
   "outputs": [
    {
     "data": {
      "text/plain": [
       "\"Are there any?. I don't wanna wait a month to receive it, i live in italy if that matters\""
      ]
     },
     "execution_count": 17,
     "metadata": {},
     "output_type": "execute_result"
    }
   ],
   "source": [
    "listOfSentences[0]"
   ]
  },
  {
   "cell_type": "code",
   "execution_count": 18,
   "id": "d87eb544",
   "metadata": {},
   "outputs": [],
   "source": [
    "# Split sentences and count the number of sentences per review\n",
    "reviews_str = ds['reviews'].astype(str)\n",
    "sentences = pd.DataFrame(reviews_str.str.split('.').tolist(), index=ds['Id']).stack()\n",
    "sentencesPerReview = [len(elem) for elem in reviews_str.str.split('.')]\n",
    " \n",
    "# Create a new DataFrame with the sentences and their respective IDs\n",
    "sentences.name = 'sentence'\n",
    "sentences.index.names = ['Id', 'sentence_no']\n",
    "sentences = sentences.reset_index().set_index('Id')\n",
    "\n",
    "\n",
    "\n",
    "\n",
    "\n",
    "\n",
    "\n",
    "\n",
    "\n"
   ]
  },
  {
   "cell_type": "code",
   "execution_count": 19,
   "id": "6d685c51",
   "metadata": {},
   "outputs": [],
   "source": [
    "import re\n",
    "import string\n",
    "\n",
    "def text_preprocess(text):\n",
    "    \"\"\"\n",
    "    Preprocess text data by converting to lowercase, removing punctuation and digits, and removing extra whitespaces.\n",
    "    \"\"\"\n",
    "    # Convert to lowercase\n",
    "    text = text.lower()\n",
    "    # Remove punctuation\n",
    "    text = re.sub(r'[^\\w\\s]', '', text)\n",
    "    # Remove digits\n",
    "    text = re.sub(r'\\d+', '', text)\n",
    "    # Remove extra whitespaces\n",
    "    text = re.sub(r'\\s+', ' ', text)\n",
    "    return text.strip()\n",
    "\n",
    "# Preprocess text \n",
    "sentences['PreProcessedText'] = sentences['sentence'].apply(text_preprocess)\n"
   ]
  },
  {
   "cell_type": "code",
   "execution_count": 20,
   "id": "e921f8a6",
   "metadata": {},
   "outputs": [],
   "source": [
    "# Get words\n",
    "sentences['Words'] =  sentences['PreProcessedText'].apply(tokenize_words)\n",
    "\n"
   ]
  },
  {
   "cell_type": "code",
   "execution_count": 21,
   "id": "e87f7a0b",
   "metadata": {},
   "outputs": [
    {
     "name": "stderr",
     "output_type": "stream",
     "text": [
      "[nltk_data] Downloading package stopwords to\n",
      "[nltk_data]     C:\\Users\\asifa\\AppData\\Roaming\\nltk_data...\n",
      "[nltk_data]   Package stopwords is already up-to-date!\n"
     ]
    },
    {
     "data": {
      "text/plain": [
       "True"
      ]
     },
     "execution_count": 21,
     "metadata": {},
     "output_type": "execute_result"
    }
   ],
   "source": [
    "import nltk\n",
    "nltk.download('stopwords')"
   ]
  },
  {
   "cell_type": "code",
   "execution_count": 22,
   "id": "53462829",
   "metadata": {},
   "outputs": [],
   "source": [
    "# Remove stopwords\n",
    "stop_words = set(stopwords.words('english'))\n",
    "sentences['WordsCleaned'] = sentences['Words'].apply(removeStopWords,stop_words=stop_words)"
   ]
  },
  {
   "cell_type": "code",
   "execution_count": 23,
   "id": "17bcf75b",
   "metadata": {},
   "outputs": [],
   "source": [
    "# Recreate sentence without stopwords\n",
    "sentences['ProcessedText'] = sentences['WordsCleaned'].apply(recreateText)\n"
   ]
  },
  {
   "cell_type": "code",
   "execution_count": 24,
   "id": "c3519244",
   "metadata": {},
   "outputs": [],
   "source": [
    "# Create sentiment analysis object\n",
    "analyser = SentimentIntensityAnalyzer()"
   ]
  },
  {
   "cell_type": "code",
   "execution_count": 25,
   "id": "8f446087",
   "metadata": {},
   "outputs": [
    {
     "name": "stdout",
     "output_type": "stream",
     "text": [
      "dont wan na wait month receive live italy matters {'neg': 0.0, 'neu': 0.879, 'pos': 0.121, 'compound': 0.0258}\n"
     ]
    }
   ],
   "source": [
    "# To test, let's evaluate first sentence of first review\n",
    "# Scales:\n",
    "#   compound: -1:most extreme negative, 1:most extreme positive\n",
    "#     positive: compound >=0.05\n",
    "#     neutral: -0.05<compound<0.05\n",
    "#     negative: compound <= -0.05\n",
    "#   pos, neu, neg: proportion of text that are positive, neutral or negative\n",
    "score = analyser.polarity_scores(sentences['ProcessedText'][0])\n",
    "print(sentences['ProcessedText'][0],score)"
   ]
  },
  {
   "cell_type": "code",
   "execution_count": 26,
   "id": "6e80c4a5",
   "metadata": {},
   "outputs": [],
   "source": [
    "# Process sentiment for all sentences\n",
    "all_scores = []\n",
    "for t in (sentences['ProcessedText'][:]):\n",
    "  score = analyser.polarity_scores(t)\n",
    "  all_scores.append(score)\n",
    "sentences['Sentiment'] = [c['compound'] for c in all_scores]"
   ]
  },
  {
   "cell_type": "code",
   "execution_count": 27,
   "id": "1970fffa",
   "metadata": {},
   "outputs": [],
   "source": [
    "# Compute review's sentiment as the mean sentiment from its sentences\n",
    "meanByReview = sentences.groupby('Id')['Sentiment'].mean()\n",
    "\n",
    "# Consider sentences with no result as neutral (0)\n",
    "meanByReview = meanByReview.fillna(0)\n",
    "\n",
    "# Add column Sentiment to reviews Dataframe\n",
    "ds['Sentiment'] = meanByReview[ds['Id']].values"
   ]
  },
  {
   "cell_type": "code",
   "execution_count": 28,
   "id": "63013fd4",
   "metadata": {},
   "outputs": [],
   "source": [
    "bins = pd.IntervalIndex.from_tuples([(-1.1, -0.05), (-0.05, 0.05), (0.05, 1)], closed='right')\n",
    "x = pd.cut(ds['Sentiment'].to_list(), bins)\n",
    "x = x.set_categories(['Negative','Neutral','Positive'])\n",
    "ds['Polarity'] = x"
   ]
  },
  {
   "cell_type": "code",
   "execution_count": 47,
   "id": "8f3d2379",
   "metadata": {},
   "outputs": [
    {
     "name": "stdout",
     "output_type": "stream",
     "text": [
      "0       Neutral\n",
      "1      Positive\n",
      "2       Neutral\n",
      "3       Neutral\n",
      "4       Neutral\n",
      "         ...   \n",
      "777    Negative\n",
      "778     Neutral\n",
      "779     Neutral\n",
      "780     Neutral\n",
      "781     Neutral\n",
      "Name: Polarity, Length: 782, dtype: category\n",
      "Categories (3, object): ['Negative' < 'Neutral' < 'Positive']\n"
     ]
    }
   ],
   "source": [
    "import pandas as pd\n",
    "\n",
    "# Define the interval bins and categories\n",
    "bins = pd.IntervalIndex.from_tuples([(-1.1, -0.05), (-0.05, 0.05), (0.05, 1)], closed='right')\n",
    "categories = ['Negative', 'Neutral', 'Positive']\n",
    "\n",
    "# Bin the 'Sentiment' column into the specified categories\n",
    "ds['Polarity'] = pd.cut(ds['Sentiment'], bins=len(categories), labels=categories,right=False)\n",
    "\n",
    "# Print the 'Polarity' column\n",
    "print(ds['Polarity'])\n"
   ]
  },
  {
   "cell_type": "code",
   "execution_count": 44,
   "id": "fecff421",
   "metadata": {},
   "outputs": [],
   "source": [
    "import pandas as pd\n",
    "import matplotlib.pyplot as plt\n",
    "\n",
    "# Define the categories\n",
    "categories = ['Negative', 'Neutral', 'Positive']\n",
    "\n",
    "# Bin the 'Sentiment' column into the specified categories\n",
    "ds['Polarity'] = pd.cut(ds['Sentiment'], bins=len(categories), labels=categories, right=False)\n",
    "\n",
    "# Calculate the polarity counts\n",
    "polarity_counts = ds['Polarity'].value_counts()\n",
    "\n"
   ]
  },
  {
   "cell_type": "code",
   "execution_count": 45,
   "id": "1c93cce9",
   "metadata": {},
   "outputs": [
    {
     "data": {
      "text/plain": [
       "Neutral     605\n",
       "Negative    104\n",
       "Positive     73\n",
       "Name: Polarity, dtype: int64"
      ]
     },
     "execution_count": 45,
     "metadata": {},
     "output_type": "execute_result"
    }
   ],
   "source": [
    "polarity_counts"
   ]
  },
  {
   "cell_type": "code",
   "execution_count": 46,
   "id": "a4d3b971",
   "metadata": {},
   "outputs": [
    {
     "data": {
      "image/png": "[encoded data removed]",
      "text/plain": [
       "<Figure size 432x288 with 1 Axes>"
      ]
     },
     "metadata": {
      "needs_background": "light"
     },
     "output_type": "display_data"
    }
   ],
   "source": [
    "# Plot a bar chart of polarity counts\n",
    "plt.bar(polarity_counts.index, polarity_counts.values)\n",
    "plt.xlabel('Polarity')\n",
    "plt.ylabel('Count')\n",
    "plt.title('Polarity Distribution')\n",
    "plt.show()"
   ]
  },
  {
   "cell_type": "markdown",
   "id": "1676df13",
   "metadata": {},
   "source": [
    "This distribution of polarity categories provides an overview of the sentiment expressed in the reviews. It indicates that the majority of the reviews fall under the \"Neutral\" category, while a smaller number of reviews are classified as either \"Negative\" or \"Positive\". This distribution suggests a relatively balanced sentiment among the reviewers, with a slight inclination towards neutrality."
   ]
  },
  {
   "cell_type": "code",
   "execution_count": 48,
   "id": "804bd08b",
   "metadata": {},
   "outputs": [
    {
     "data": {
      "text/html": [
       "<div>\n",
       "<style scoped>\n",
       "    .dataframe tbody tr th:only-of-type {\n",
       "        vertical-align: middle;\n",
       "    }\n",
       "\n",
       "    .dataframe tbody tr th {\n",
       "        vertical-align: top;\n",
       "    }\n",
       "\n",
       "    .dataframe thead th {\n",
       "        text-align: right;\n",
       "    }\n",
       "</style>\n",
       "<table border=\"1\" class=\"dataframe\">\n",
       "  <thead>\n",
       "    <tr style=\"text-align: right;\">\n",
       "      <th></th>\n",
       "      <th>Sentiment</th>\n",
       "    </tr>\n",
       "    <tr>\n",
       "      <th>title</th>\n",
       "      <th></th>\n",
       "    </tr>\n",
       "  </thead>\n",
       "  <tbody>\n",
       "    <tr>\n",
       "      <th>Apple 20w charger or Anker 20w Nano</th>\n",
       "      <td>0.129564</td>\n",
       "    </tr>\n",
       "    <tr>\n",
       "      <th>Apple care</th>\n",
       "      <td>0.000000</td>\n",
       "    </tr>\n",
       "    <tr>\n",
       "      <th>Applecare+, is it worth it?</th>\n",
       "      <td>0.034008</td>\n",
       "    </tr>\n",
       "    <tr>\n",
       "      <th>BEST CASE FOR IPHONE 14</th>\n",
       "      <td>0.206869</td>\n",
       "    </tr>\n",
       "    <tr>\n",
       "      <th>Black Bar at Top</th>\n",
       "      <td>0.133020</td>\n",
       "    </tr>\n",
       "    <tr>\n",
       "      <th>...</th>\n",
       "      <td>...</td>\n",
       "    </tr>\n",
       "    <tr>\n",
       "      <th>iPhone not turning on</th>\n",
       "      <td>0.203391</td>\n",
       "    </tr>\n",
       "    <tr>\n",
       "      <th>my iphone 14 camera automatically edits my photos, i cant figure out how to stop it</th>\n",
       "      <td>0.044548</td>\n",
       "    </tr>\n",
       "    <tr>\n",
       "      <th>phone getting really hot</th>\n",
       "      <td>0.002800</td>\n",
       "    </tr>\n",
       "    <tr>\n",
       "      <th>weird group chat text issue</th>\n",
       "      <td>-0.000131</td>\n",
       "    </tr>\n",
       "    <tr>\n",
       "      <th>what tf is this and why is it happening??!! (iphone 14)</th>\n",
       "      <td>0.037205</td>\n",
       "    </tr>\n",
       "  </tbody>\n",
       "</table>\n",
       "<p>74 rows × 1 columns</p>\n",
       "</div>"
      ],
      "text/plain": [
       "                                                    Sentiment\n",
       "title                                                        \n",
       "Apple 20w charger or Anker 20w Nano                  0.129564\n",
       "Apple care                                           0.000000\n",
       "Applecare+, is it worth it?                          0.034008\n",
       "BEST CASE FOR IPHONE 14                              0.206869\n",
       "Black Bar at Top                                     0.133020\n",
       "...                                                       ...\n",
       "iPhone not turning on                                0.203391\n",
       "my iphone 14 camera automatically edits my phot...   0.044548\n",
       "phone getting really hot                             0.002800\n",
       "weird group chat text issue                         -0.000131\n",
       "what tf is this and why is it happening??!! (ip...   0.037205\n",
       "\n",
       "[74 rows x 1 columns]"
      ]
     },
     "execution_count": 48,
     "metadata": {},
     "output_type": "execute_result"
    }
   ],
   "source": [
    "# Analysis examples:\n",
    "# By title\n",
    "ex1 = ds.groupby('title')['Sentiment'].mean().to_frame()\n",
    "ex1"
   ]
  },
  {
   "cell_type": "markdown",
   "id": "d6cc85c6",
   "metadata": {},
   "source": [
    "These sentiment scores represent the sentiment expressed in the corresponding titles. Positive sentiment scores indicate positive sentiment, while negative sentiment scores indicate negative sentiment. A sentiment score of 0 suggests a neutral sentiment.\n",
    "\n",
    "These scores can be used to gauge the overall sentiment associated with each title. Titles with higher positive sentiment scores generally indicate positive experiences or opinions, while titles with negative sentiment scores may indicate negative experiences or issues. Titles with scores close to 0 suggest a neutral sentiment or mixed opinions.\n",
    "\n",
    "It's important to note that the sentiment scores are numerical representations of sentiment and should be interpreted in the context of the specific analysis or application."
   ]
  },
  {
   "cell_type": "code",
   "execution_count": 49,
   "id": "30d1b57d",
   "metadata": {},
   "outputs": [
    {
     "data": {
      "text/html": [
       "<div>\n",
       "<style scoped>\n",
       "    .dataframe tbody tr th:only-of-type {\n",
       "        vertical-align: middle;\n",
       "    }\n",
       "\n",
       "    .dataframe tbody tr th {\n",
       "        vertical-align: top;\n",
       "    }\n",
       "\n",
       "    .dataframe thead th {\n",
       "        text-align: right;\n",
       "    }\n",
       "</style>\n",
       "<table border=\"1\" class=\"dataframe\">\n",
       "  <thead>\n",
       "    <tr style=\"text-align: right;\">\n",
       "      <th></th>\n",
       "      <th>reviews</th>\n",
       "      <th>Sentiment</th>\n",
       "    </tr>\n",
       "  </thead>\n",
       "  <tbody>\n",
       "    <tr>\n",
       "      <th>0</th>\n",
       "      <td>\\nHello guys, I bought my IPhone 14 yesterday,...</td>\n",
       "      <td>0.137667</td>\n",
       "    </tr>\n",
       "    <tr>\n",
       "      <th>1</th>\n",
       "      <td>\\nSorry for your loss. \\n\\nIs it a normal 4 or...</td>\n",
       "      <td>0.047525</td>\n",
       "    </tr>\n",
       "    <tr>\n",
       "      <th>2</th>\n",
       "      <td>Apple unless ya don’t mind fires on ur bedroo...</td>\n",
       "      <td>0.000000</td>\n",
       "    </tr>\n",
       "    <tr>\n",
       "      <th>3</th>\n",
       "      <td>Why not ? I saw that the size is really similar</td>\n",
       "      <td>0.000000</td>\n",
       "    </tr>\n",
       "    <tr>\n",
       "      <th>4</th>\n",
       "      <td>\"In 2016, the Samsung Gear S2 Classic 3G smart...</td>\n",
       "      <td>0.133967</td>\n",
       "    </tr>\n",
       "    <tr>\n",
       "      <th>...</th>\n",
       "      <td>...</td>\n",
       "      <td>...</td>\n",
       "    </tr>\n",
       "    <tr>\n",
       "      <th>762</th>\n",
       "      <td>you know that could be done with physical sims...</td>\n",
       "      <td>0.000000</td>\n",
       "    </tr>\n",
       "    <tr>\n",
       "      <th>763</th>\n",
       "      <td>☝️ Yup. They have machine learning models of w...</td>\n",
       "      <td>0.126225</td>\n",
       "    </tr>\n",
       "    <tr>\n",
       "      <th>764</th>\n",
       "      <td>👍</td>\n",
       "      <td>0.000000</td>\n",
       "    </tr>\n",
       "    <tr>\n",
       "      <th>765</th>\n",
       "      <td>😭fair enough</td>\n",
       "      <td>0.318200</td>\n",
       "    </tr>\n",
       "    <tr>\n",
       "      <th>766</th>\n",
       "      <td>🦦</td>\n",
       "      <td>0.000000</td>\n",
       "    </tr>\n",
       "  </tbody>\n",
       "</table>\n",
       "<p>767 rows × 2 columns</p>\n",
       "</div>"
      ],
      "text/plain": [
       "                                               reviews  Sentiment\n",
       "0    \\nHello guys, I bought my IPhone 14 yesterday,...   0.137667\n",
       "1    \\nSorry for your loss. \\n\\nIs it a normal 4 or...   0.047525\n",
       "2     Apple unless ya don’t mind fires on ur bedroo...   0.000000\n",
       "3      Why not ? I saw that the size is really similar   0.000000\n",
       "4    \"In 2016, the Samsung Gear S2 Classic 3G smart...   0.133967\n",
       "..                                                 ...        ...\n",
       "762  you know that could be done with physical sims...   0.000000\n",
       "763  ☝️ Yup. They have machine learning models of w...   0.126225\n",
       "764                                                  👍   0.000000\n",
       "765                                       😭fair enough   0.318200\n",
       "766                                                  🦦   0.000000\n",
       "\n",
       "[767 rows x 2 columns]"
      ]
     },
     "execution_count": 49,
     "metadata": {},
     "output_type": "execute_result"
    }
   ],
   "source": [
    "# Analysis examples:\n",
    "# By Comment type and score\n",
    "ex2 = ds[['author','Sentiment','reviews']].groupby(['reviews'], as_index=False).mean()\n",
    "ex2"
   ]
  },
  {
   "cell_type": "markdown",
   "id": "6503c181",
   "metadata": {},
   "source": [
    "The sentiment scores represent the sentiment expressed in each review. Positive sentiment scores indicate positive sentiment, negative scores indicate negative sentiment, and a score of 0 suggests a neutral sentiment.\n",
    "\n",
    "These scores can be used to analyze the sentiment of the reviews. Higher positive sentiment scores indicate more positive opinions or experiences expressed in the review, while negative sentiment scores may indicate negative experiences or issues. Reviews with scores close to 0 suggest a neutral sentiment or mixed opinions.\n",
    "\n",
    "It's important to note that the sentiment scores are numerical representations of sentiment and should be interpreted in the context of the specific analysis or application."
   ]
  },
  {
   "cell_type": "code",
   "execution_count": 50,
   "id": "635d4af5",
   "metadata": {},
   "outputs": [
    {
     "data": {
      "text/html": [
       "<div>\n",
       "<style scoped>\n",
       "    .dataframe tbody tr th:only-of-type {\n",
       "        vertical-align: middle;\n",
       "    }\n",
       "\n",
       "    .dataframe tbody tr th {\n",
       "        vertical-align: top;\n",
       "    }\n",
       "\n",
       "    .dataframe thead th {\n",
       "        text-align: right;\n",
       "    }\n",
       "</style>\n",
       "<table border=\"1\" class=\"dataframe\">\n",
       "  <thead>\n",
       "    <tr style=\"text-align: right;\">\n",
       "      <th></th>\n",
       "      <th></th>\n",
       "      <th>Sentiment</th>\n",
       "    </tr>\n",
       "    <tr>\n",
       "      <th>title</th>\n",
       "      <th>Polarity</th>\n",
       "      <th></th>\n",
       "    </tr>\n",
       "  </thead>\n",
       "  <tbody>\n",
       "    <tr>\n",
       "      <th rowspan=\"3\" valign=\"top\">Apple 20w charger or Anker 20w Nano</th>\n",
       "      <th>Negative</th>\n",
       "      <td>-0.251434</td>\n",
       "    </tr>\n",
       "    <tr>\n",
       "      <th>Neutral</th>\n",
       "      <td>0.082653</td>\n",
       "    </tr>\n",
       "    <tr>\n",
       "      <th>Positive</th>\n",
       "      <td>0.551665</td>\n",
       "    </tr>\n",
       "    <tr>\n",
       "      <th rowspan=\"2\" valign=\"top\">Apple care</th>\n",
       "      <th>Negative</th>\n",
       "      <td>NaN</td>\n",
       "    </tr>\n",
       "    <tr>\n",
       "      <th>Neutral</th>\n",
       "      <td>0.000000</td>\n",
       "    </tr>\n",
       "    <tr>\n",
       "      <th>...</th>\n",
       "      <th>...</th>\n",
       "      <td>...</td>\n",
       "    </tr>\n",
       "    <tr>\n",
       "      <th rowspan=\"2\" valign=\"top\">weird group chat text issue</th>\n",
       "      <th>Neutral</th>\n",
       "      <td>0.200754</td>\n",
       "    </tr>\n",
       "    <tr>\n",
       "      <th>Positive</th>\n",
       "      <td>NaN</td>\n",
       "    </tr>\n",
       "    <tr>\n",
       "      <th rowspan=\"3\" valign=\"top\">what tf is this and why is it happening??!! (iphone 14)</th>\n",
       "      <th>Negative</th>\n",
       "      <td>-0.340000</td>\n",
       "    </tr>\n",
       "    <tr>\n",
       "      <th>Neutral</th>\n",
       "      <td>0.091092</td>\n",
       "    </tr>\n",
       "    <tr>\n",
       "      <th>Positive</th>\n",
       "      <td>NaN</td>\n",
       "    </tr>\n",
       "  </tbody>\n",
       "</table>\n",
       "<p>222 rows × 1 columns</p>\n",
       "</div>"
      ],
      "text/plain": [
       "                                                             Sentiment\n",
       "title                                              Polarity           \n",
       "Apple 20w charger or Anker 20w Nano                Negative  -0.251434\n",
       "                                                   Neutral    0.082653\n",
       "                                                   Positive   0.551665\n",
       "Apple care                                         Negative        NaN\n",
       "                                                   Neutral    0.000000\n",
       "...                                                                ...\n",
       "weird group chat text issue                        Neutral    0.200754\n",
       "                                                   Positive        NaN\n",
       "what tf is this and why is it happening??!! (ip... Negative  -0.340000\n",
       "                                                   Neutral    0.091092\n",
       "                                                   Positive        NaN\n",
       "\n",
       "[222 rows x 1 columns]"
      ]
     },
     "execution_count": 50,
     "metadata": {},
     "output_type": "execute_result"
    }
   ],
   "source": [
    "# Analysis examples:\n",
    "# By title and polarity\n",
    "ex3 = ds.groupby(['title', 'Polarity'])['Sentiment'].mean().to_frame()\n",
    "ex3\n"
   ]
  },
  {
   "cell_type": "markdown",
   "id": "727f67b9",
   "metadata": {},
   "source": [
    "The sentiment scores for each polarity category (negative, neutral, positive) represent the sentiment expressed in the respective titles. Negative scores indicate negative sentiment, positive scores indicate positive sentiment, and NaN values indicate missing sentiment data.\n",
    "\n",
    "These scores can be used to analyze the sentiment distribution across different titles and polarities. It appears that some titles have sentiment scores for multiple polarities, while others have scores for only one or two polarities.\n",
    "\n",
    "It's important to consider that the interpretation of sentiment scores depends on the specific sentiment analysis method used and the context of the data. The absence of sentiment scores (NaN values) for certain polarities may indicate a lack of sentiment information or missing data for those categories."
   ]
  },
  {
   "cell_type": "code",
   "execution_count": 52,
   "id": "2224ee5c",
   "metadata": {},
   "outputs": [
    {
     "name": "stdout",
     "output_type": "stream",
     "text": [
      "                                                reviews  Polarity  Sentiment\n",
      "0     \\nHello guys, I bought my IPhone 14 yesterday,...  Negative        NaN\n",
      "1     \\nHello guys, I bought my IPhone 14 yesterday,...   Neutral   0.137667\n",
      "2     \\nHello guys, I bought my IPhone 14 yesterday,...  Positive        NaN\n",
      "3     \\nSorry for your loss. \\n\\nIs it a normal 4 or...  Negative        NaN\n",
      "4     \\nSorry for your loss. \\n\\nIs it a normal 4 or...   Neutral   0.047525\n",
      "...                                                 ...       ...        ...\n",
      "2296                                       😭fair enough   Neutral   0.318200\n",
      "2297                                       😭fair enough  Positive        NaN\n",
      "2298                                                  🦦  Negative        NaN\n",
      "2299                                                  🦦   Neutral   0.000000\n",
      "2300                                                  🦦  Positive        NaN\n",
      "\n",
      "[2301 rows x 3 columns]\n"
     ]
    }
   ],
   "source": [
    "# Analysis examples:\n",
    "# By reviews and polarity\n",
    "# Calculate the mean sentiment polarity for each combination of reviews and polarity\n",
    "ex4 = ds.groupby(['reviews', 'Polarity'], as_index=False)['Sentiment'].mean()\n",
    "\n",
    "# Print the result\n",
    "print(ex4)\n",
    "\n"
   ]
  },
  {
   "cell_type": "markdown",
   "id": "7f773b1c",
   "metadata": {},
   "source": [
    "The sentiment scores indicate the sentiment expressed in each review, with higher scores indicating more positive sentiment. However, it's important to note that the sentiment scores might have been generated using a specific sentiment analysis method, and the interpretation of the scores may vary.\n",
    "\n",
    "The data can be further analyzed to examine the sentiment distribution across different polarities and to gain insights into the overall sentiment expressed in the reviews."
   ]
  },
  {
   "cell_type": "markdown",
   "id": "f4e80006",
   "metadata": {},
   "source": [
    "Conclusion"
   ]
  },
  {
   "cell_type": "markdown",
   "id": "fc02fa41",
   "metadata": {},
   "source": [
    "Based on the provided data, which includes reviews, polarity, and sentiment scores, we can draw the following overall conclusions:\n",
    "\n",
    "Polarity Distribution: The majority of the reviews fall under the \"Neutral\" category (605 reviews), followed by \"Negative\" (104 reviews) and \"Positive\" (73 reviews) polarities. This indicates that a significant number of reviews expressed a neutral sentiment.\n",
    "\n",
    "Sentiment Scores: The sentiment scores assigned to the reviews range from negative values to positive values. However, it's worth noting that there are missing sentiment scores (NaN values) for some reviews. The sentiment scores indicate the sentiment expressed in each review, with higher scores indicating more positive sentiment.\n",
    "\n",
    "Analysis of Individual Reviews: Individual reviews exhibit a range of sentiments, with some expressing negative opinions, some expressing positive opinions, and others being more neutral. The sentiment scores can provide further insights into the sentiment intensity of each review.\n",
    "\n",
    "Interpretation of Sentiment: It's important to consider the methodology used to generate the sentiment scores and the context of the reviews. The sentiment scores might have been calculated using a specific sentiment analysis technique, which may have limitations in accurately capturing the nuanced sentiment expressed in the text. Therefore, interpreting the sentiment scores should be done with caution.\n",
    "\n",
    "Overall, the data suggests a mix of sentiments expressed in the reviews, with a notable number of reviews falling under the neutral polarity. Further analysis and exploration of the reviews and sentiment scores can provide more detailed insights into the sentiments of the reviewers towards the subject of the reviews (e.g., Apple products, specific topics, etc.)."
   ]
  },
  {
   "cell_type": "code",
   "execution_count": null,
   "id": "2d49ff7b",
   "metadata": {},
   "outputs": [],
   "source": []
  }
 ],
 "metadata": {
  "kernelspec": {
   "display_name": "Python 3 (ipykernel)",
   "language": "python",
   "name": "python3"
  },
  "language_info": {
   "codemirror_mode": {
    "name": "ipython",
    "version": 3
   },
   "file_extension": ".py",
   "mimetype": "text/x-python",
   "name": "python",
   "nbconvert_exporter": "python",
   "pygments_lexer": "ipython3",
   "version": "3.9.7"
  }
 },
 "nbformat": 4,
 "nbformat_minor": 5
}
