{
 "cells": [
  {
   "cell_type": "markdown",
   "id": "cc595b57",
   "metadata": {},
   "source": [
    "### Topic Modeling Analysis\n",
    "Felix Funes 20220306 | Paula Catalan 20221048 | Efstathia Styliagkatzi 20220078 | Alisson Tapia 20221156 | S M Abrar Hossain Asif 20220223"
   ]
  },
  {
   "cell_type": "markdown",
   "id": "43327dee",
   "metadata": {},
   "source": [
    "\n",
    "Topic modeling analysis offers valuable insights in various ways:\n",
    "\n",
    "Uncovering underlying themes: Topic modeling allows for the discovery of latent themes or topics within a collection of documents. It reveals patterns and structures in large text datasets, eliminating the need for manual reading and categorization of each document.\n",
    "\n",
    "Enhancing understanding of text corpora: Dealing with large amounts of text data can be overwhelming. Topic modeling helps by summarizing and organizing textual information into meaningful topics, facilitating exploration and comprehension of the dataset.\n",
    "\n",
    "Enabling content recommendation and information retrieval: Topic modeling supports content recommendation systems by suggesting relevant items based on extracted topics from user preferences or queries. This improves search engines, recommender systems, and personalized content delivery by matching users' interests with relevant topics.\n",
    "\n",
    "Facilitating text clustering and document classification: By assigning documents to different topics, topic modeling enables text clustering and document classification. It groups similar documents together based on thematic content, facilitating organization, retrieval, and analysis of the text data.\n",
    "\n",
    "Driving market research and customer insights: Topic modeling can be applied to customer reviews, feedback, or social media data to identify prevalent topics and sentiments. It provides businesses with insights into customer preferences, concerns, and trends, aiding in product development, marketing strategies, and customer satisfaction analysis.\n",
    "\n",
    "Supporting exploratory data analysis: Topic modeling serves as a powerful tool for exploratory data analysis. It offers a quick overview of the main themes present in a text dataset, identifies outliers or anomalies, and highlights areas for further investigation or research."
   ]
  },
  {
   "cell_type": "code",
   "execution_count": 3,
   "id": "fbd15c92",
   "metadata": {},
   "outputs": [
    {
     "name": "stdout",
     "output_type": "stream",
     "text": [
      "Requirement already satisfied: numpy==1.21.2 in c:\\users\\asifa\\anaconda3\\lib\\site-packages (1.21.2)\n"
     ]
    }
   ],
   "source": [
    "# Import packages\n",
    "!pip install --user numpy==1.21.2\n",
    "\n",
    "\n",
    "import csv\n",
    "import pandas as pd\n",
    "import numpy as np\n",
    "import nltk \n",
    "import re\n",
    "from bs4 import BeautifulSoup\n",
    "from nltk.tokenize import word_tokenize\n",
    "from nltk.corpus import stopwords\n",
    "from nltk.stem import WordNetLemmatizer \n",
    "\n",
    "import gensim         \n",
    "import gensim.corpora as corpora\n",
    "from gensim.utils import simple_preprocess\n",
    "from gensim.models import CoherenceModel\n"
   ]
  },
  {
   "cell_type": "code",
   "execution_count": 6,
   "id": "98700f62",
   "metadata": {},
   "outputs": [
    {
     "name": "stdout",
     "output_type": "stream",
     "text": [
      "Collecting pyLDAvis\n",
      "  Downloading pyLDAvis-3.4.1-py3-none-any.whl (2.6 MB)\n",
      "Requirement already satisfied: gensim in c:\\users\\asifa\\anaconda3\\lib\\site-packages (from pyLDAvis) (4.3.1)\n",
      "Requirement already satisfied: scipy in c:\\users\\asifa\\anaconda3\\lib\\site-packages (from pyLDAvis) (1.7.1)\n",
      "Collecting pandas>=2.0.0\n",
      "  Downloading pandas-2.0.2-cp39-cp39-win_amd64.whl (10.7 MB)\n",
      "Collecting numpy>=1.24.2\n",
      "  Using cached numpy-1.24.3-cp39-cp39-win_amd64.whl (14.9 MB)\n",
      "Requirement already satisfied: numexpr in c:\\users\\asifa\\anaconda3\\lib\\site-packages (from pyLDAvis) (2.7.3)\n",
      "Collecting funcy\n",
      "  Downloading funcy-2.0-py2.py3-none-any.whl (30 kB)\n",
      "Requirement already satisfied: scikit-learn>=1.0.0 in c:\\users\\asifa\\anaconda3\\lib\\site-packages (from pyLDAvis) (1.1.3)\n",
      "Collecting joblib>=1.2.0\n",
      "  Downloading joblib-1.2.0-py3-none-any.whl (297 kB)\n",
      "Requirement already satisfied: jinja2 in c:\\users\\asifa\\anaconda3\\lib\\site-packages (from pyLDAvis) (2.11.3)\n",
      "Requirement already satisfied: setuptools in c:\\users\\asifa\\anaconda3\\lib\\site-packages (from pyLDAvis) (58.0.4)\n",
      "Collecting tzdata>=2022.1\n",
      "  Downloading tzdata-2023.3-py2.py3-none-any.whl (341 kB)\n",
      "Requirement already satisfied: pytz>=2020.1 in c:\\users\\asifa\\anaconda3\\lib\\site-packages (from pandas>=2.0.0->pyLDAvis) (2021.3)\n",
      "Requirement already satisfied: python-dateutil>=2.8.2 in c:\\users\\asifa\\anaconda3\\lib\\site-packages (from pandas>=2.0.0->pyLDAvis) (2.8.2)\n",
      "Requirement already satisfied: six>=1.5 in c:\\users\\asifa\\anaconda3\\lib\\site-packages (from python-dateutil>=2.8.2->pandas>=2.0.0->pyLDAvis) (1.16.0)\n",
      "Requirement already satisfied: threadpoolctl>=2.0.0 in c:\\users\\asifa\\anaconda3\\lib\\site-packages (from scikit-learn>=1.0.0->pyLDAvis) (2.2.0)\n",
      "Collecting scipy\n",
      "  Downloading scipy-1.10.1-cp39-cp39-win_amd64.whl (42.5 MB)\n",
      "Requirement already satisfied: smart-open>=1.8.1 in c:\\users\\asifa\\anaconda3\\lib\\site-packages (from gensim->pyLDAvis) (6.3.0)\n",
      "Requirement already satisfied: MarkupSafe>=0.23 in c:\\users\\asifa\\anaconda3\\lib\\site-packages (from jinja2->pyLDAvis) (1.1.1)\n",
      "Installing collected packages: numpy, tzdata, scipy, joblib, pandas, funcy, pyLDAvis\n",
      "  Attempting uninstall: numpy\n",
      "    Found existing installation: numpy 1.21.2\n",
      "    Uninstalling numpy-1.21.2:\n",
      "      Successfully uninstalled numpy-1.21.2\n",
      "  Attempting uninstall: scipy\n",
      "    Found existing installation: scipy 1.7.1\n",
      "    Uninstalling scipy-1.7.1:\n",
      "      Successfully uninstalled scipy-1.7.1\n",
      "  Attempting uninstall: joblib\n",
      "    Found existing installation: joblib 1.1.0\n",
      "    Uninstalling joblib-1.1.0:\n",
      "      Successfully uninstalled joblib-1.1.0\n",
      "  Attempting uninstall: pandas\n",
      "    Found existing installation: pandas 1.3.4\n",
      "    Uninstalling pandas-1.3.4:\n",
      "      Successfully uninstalled pandas-1.3.4\n",
      "Successfully installed funcy-2.0 joblib-1.2.0 numpy-1.24.3 pandas-2.0.2 pyLDAvis-3.4.1 scipy-1.10.1 tzdata-2023.3\n"
     ]
    },
    {
     "name": "stderr",
     "output_type": "stream",
     "text": [
      "ERROR: pip's dependency resolver does not currently take into account all the packages that are installed. This behaviour is the source of the following dependency conflicts.\n",
      "daal4py 2021.3.0 requires daal==2021.2.3, which is not installed.\n",
      "pandas-profiling 3.3.0 requires joblib~=1.1.0, but you have joblib 1.2.0 which is incompatible.\n",
      "pandas-profiling 3.3.0 requires numpy<1.24,>=1.16.0, but you have numpy 1.24.3 which is incompatible.\n",
      "pandas-profiling 3.3.0 requires pandas!=1.4.0,<1.5,>1.1, but you have pandas 2.0.2 which is incompatible.\n",
      "pandas-profiling 3.3.0 requires scipy<1.10,>=1.4.1, but you have scipy 1.10.1 which is incompatible.\n",
      "numba 0.54.1 requires numpy<1.21,>=1.17, but you have numpy 1.24.3 which is incompatible.\n"
     ]
    },
    {
     "ename": "NameError",
     "evalue": "name 'pyLDAvis' is not defined",
     "output_type": "error",
     "traceback": [
      "\u001b[1;31m---------------------------------------------------------------------------\u001b[0m",
      "\u001b[1;31mNameError\u001b[0m                                 Traceback (most recent call last)",
      "\u001b[1;32m~\\AppData\\Local\\Temp/ipykernel_3988/1806356822.py\u001b[0m in \u001b[0;36m<module>\u001b[1;34m\u001b[0m\n\u001b[0;32m      3\u001b[0m \u001b[1;33m\u001b[0m\u001b[0m\n\u001b[0;32m      4\u001b[0m \u001b[1;32mimport\u001b[0m \u001b[0mpyLDAvis\u001b[0m\u001b[1;33m.\u001b[0m\u001b[0mgensim_models\u001b[0m \u001b[1;32mas\u001b[0m \u001b[0mgensimvis\u001b[0m\u001b[1;33m\u001b[0m\u001b[1;33m\u001b[0m\u001b[0m\n\u001b[1;32m----> 5\u001b[1;33m \u001b[0mpyLDAvis\u001b[0m\u001b[1;33m.\u001b[0m\u001b[0menable_notebook\u001b[0m\u001b[1;33m(\u001b[0m\u001b[1;33m)\u001b[0m\u001b[1;33m\u001b[0m\u001b[1;33m\u001b[0m\u001b[0m\n\u001b[0m",
      "\u001b[1;31mNameError\u001b[0m: name 'pyLDAvis' is not defined"
     ]
    }
   ],
   "source": [
    "!pip install pyLDAvis\n",
    "import spacy\n",
    "\n",
    "import pyLDAvis.gensim_models as gensimvis\n",
    "pyLDAvis.enable_notebook()\n"
   ]
  },
  {
   "cell_type": "code",
   "execution_count": 7,
   "id": "5ca975ef",
   "metadata": {},
   "outputs": [],
   "source": [
    "# Just because of versions on my computer\n",
    "import warnings\n",
    "warnings.filterwarnings(\"ignore\", category=DeprecationWarning)"
   ]
  },
  {
   "cell_type": "code",
   "execution_count": 8,
   "id": "6003b8ff",
   "metadata": {},
   "outputs": [],
   "source": [
    "# Load dataset\n",
    "dtypes = {'type':'category','subreddit':'category','score':'float64','title':'category','reviews':'category','author':'category'}\n",
    "ds= pd.read_excel(\"reddit_FINAL_v12.xlsx\", sheet_name=\"Sheet1\", engine='openpyxl', dtype=dtypes)"
   ]
  },
  {
   "cell_type": "code",
   "execution_count": 9,
   "id": "5fdebbc4",
   "metadata": {},
   "outputs": [],
   "source": [
    "# Text preprocessing\n",
    "def textPreProcess(rawText, removeHTML=True, charsToRemove = r'\\?|\\.|\\!|\\;|\\.|\\\"|\\,|\\(|\\)|\\&|\\:|\\-', removeNumbers=True, removeLineBreaks=False, specialCharsToRemove = r'[^\\x00-\\xfd]', convertToLower=True, removeConsecutiveSpaces=True):\n",
    "    if type(rawText) != str:\n",
    "        return rawText\n",
    "    procText = rawText\n",
    "        \n",
    "    # Remove HTML\n",
    "    if removeHTML:\n",
    "        procText = BeautifulSoup(procText,'html.parser').get_text()\n",
    "\n",
    "    # Remove punctuation and other special characters\n",
    "    if len(charsToRemove)>0:\n",
    "        procText = re.sub(charsToRemove,' ',procText)\n",
    "\n",
    "    # Remove numbers\n",
    "    if removeNumbers:\n",
    "        procText = re.sub(r'\\d+',' ',procText)\n",
    "\n",
    "    # Remove line breaks\n",
    "    if removeLineBreaks:\n",
    "        procText = procText.replace('\\n',' ').replace('\\r', '')\n",
    "\n",
    "    # Remove special characters\n",
    "    if len(specialCharsToRemove)>0:\n",
    "        procText = re.sub(specialCharsToRemove,' ',procText)\n",
    "\n",
    "    # Normalize to lower case\n",
    "    if convertToLower:\n",
    "        procText = procText.lower() \n",
    "\n",
    "    # Replace multiple consecutive spaces with just one space\n",
    "    if removeConsecutiveSpaces:\n",
    "        procText = re.sub(' +', ' ', procText)\n",
    "\n",
    "    return procText"
   ]
  },
  {
   "cell_type": "code",
   "execution_count": 10,
   "id": "7139cf1a",
   "metadata": {},
   "outputs": [],
   "source": [
    "# Tokenize words\n",
    "def tokenize_words(words):\n",
    "    if (type(words) != str) or (word_tokenize(words) == ''):\n",
    "        return np.nan\n",
    "    else:\n",
    "        return word_tokenize(words)"
   ]
  },
  {
   "cell_type": "code",
   "execution_count": 11,
   "id": "3961728f",
   "metadata": {},
   "outputs": [],
   "source": [
    "# Function to create text from words\n",
    "def recreateText(words):\n",
    "    if type(words) == list:\n",
    "        temp_str = (' ').join(words)\n",
    "        return temp_str\n",
    "    else:\n",
    "        return np.nan"
   ]
  },
  {
   "cell_type": "code",
   "execution_count": 12,
   "id": "6a6b940c",
   "metadata": {},
   "outputs": [],
   "source": [
    "# Function to remove stop words\n",
    "def removeStopWords(t, stop_words):\n",
    "    if type(t) == list:\n",
    "        return [w for w in t if not w in stop_words]\n",
    "    else:\n",
    "        return np.nan"
   ]
  },
  {
   "cell_type": "code",
   "execution_count": 13,
   "id": "a169ef74",
   "metadata": {},
   "outputs": [],
   "source": [
    "# Function to lemmatize words\n",
    "def lemmatize(words):\n",
    "    if type(words) == list:\n",
    "        lemmatizer = WordNetLemmatizer()\n",
    "        return [lemmatizer.lemmatize(x) for x in words]\n",
    "    else:\n",
    "        return np.nan"
   ]
  },
  {
   "cell_type": "code",
   "execution_count": 15,
   "id": "c9dd2b1d",
   "metadata": {},
   "outputs": [
    {
     "name": "stdout",
     "output_type": "stream",
     "text": [
      "Index(['type', 'subreddit', 'title', 'reviews', 'author', 'date_published',\n",
      "       'score'],\n",
      "      dtype='object')\n"
     ]
    }
   ],
   "source": [
    "dtypes = {'type':'category','subreddit':'category','score':'float64','title':'category','reviews':'category','author':'category'}\n",
    "ds= pd.read_excel(\"reddit_FINAL_v12.xlsx\", sheet_name=\"Sheet1\", engine='openpyxl', dtype=dtypes)\n",
    "print(ds.columns)  # Check column names"
   ]
  },
  {
   "cell_type": "code",
   "execution_count": 16,
   "id": "2d5d2c15",
   "metadata": {},
   "outputs": [
    {
     "name": "stderr",
     "output_type": "stream",
     "text": [
      "C:\\Users\\asifa\\anaconda3\\lib\\site-packages\\bs4\\__init__.py:431: MarkupResemblesLocatorWarning: \"https://iaohi.com/products/aohi-magcube-65w-pd-fast-charger\" looks like a URL. Beautiful Soup is not an HTTP client. You should probably use an HTTP client like requests to get the document behind the URL, and feed that document to Beautiful Soup.\n",
      "  warnings.warn(\n",
      "C:\\Users\\asifa\\anaconda3\\lib\\site-packages\\bs4\\__init__.py:431: MarkupResemblesLocatorWarning: \"https://preview.redd.it/yqvdvjj1r8wa1.jpeg?width=640&format=pjpg&auto=webp&v=enabled&s=10f145dc1c4c69eb3b08c6716b4ab2676564fe19\" looks like a URL. Beautiful Soup is not an HTTP client. You should probably use an HTTP client like requests to get the document behind the URL, and feed that document to Beautiful Soup.\n",
      "  warnings.warn(\n"
     ]
    }
   ],
   "source": [
    "# Create a dataframe with only the description\n",
    "processedReviews = pd.DataFrame(data=ds.reviews.apply(textPreProcess).values, index=ds.index, columns=['PreProcessedText'])"
   ]
  },
  {
   "cell_type": "code",
   "execution_count": 17,
   "id": "223dba3c",
   "metadata": {},
   "outputs": [
    {
     "name": "stderr",
     "output_type": "stream",
     "text": [
      "[nltk_data] Downloading package wordnet to\n",
      "[nltk_data]     C:\\Users\\asifa\\AppData\\Roaming\\nltk_data...\n",
      "[nltk_data] Downloading package omw-1.4 to\n",
      "[nltk_data]     C:\\Users\\asifa\\AppData\\Roaming\\nltk_data...\n"
     ]
    },
    {
     "data": {
      "text/plain": [
       "True"
      ]
     },
     "execution_count": 17,
     "metadata": {},
     "output_type": "execute_result"
    }
   ],
   "source": [
    "import nltk\n",
    "nltk.download('wordnet')\n",
    "nltk.download('omw-1.4')"
   ]
  },
  {
   "cell_type": "code",
   "execution_count": 18,
   "id": "0ffb68f3",
   "metadata": {},
   "outputs": [],
   "source": [
    "# Tokekinze words\n",
    "processedReviews['Words'] =  processedReviews['PreProcessedText'].apply(tokenize_words)\n",
    "\n",
    "# Remove stopwords\n",
    "stop_words = set(stopwords.words('english'))\n",
    "processedReviews['WordsCleaned'] = processedReviews['Words'].apply(removeStopWords,stop_words=stop_words)\n",
    "\n",
    "# Remove all reviews with no words\n",
    "processedReviews = processedReviews[processedReviews['WordsCleaned'].str.len()>0]\n",
    "\n",
    "# Lemmative words\n",
    "processedReviews['WordsLemmatized'] = processedReviews['WordsCleaned'].apply(lemmatize)"
   ]
  },
  {
   "cell_type": "code",
   "execution_count": 19,
   "id": "4b69925c",
   "metadata": {},
   "outputs": [],
   "source": [
    "# Create dictionary (needed for LDA)\n",
    "id2word = corpora.Dictionary(processedReviews['WordsLemmatized'])"
   ]
  },
  {
   "cell_type": "code",
   "execution_count": 20,
   "id": "f85cf674",
   "metadata": {},
   "outputs": [],
   "source": [
    "# Create corpus\n",
    "corpus = processedReviews['WordsLemmatized']"
   ]
  },
  {
   "cell_type": "code",
   "execution_count": 21,
   "id": "e9a41182",
   "metadata": {},
   "outputs": [],
   "source": [
    "# Create TDM (Frequency)\n",
    "tdm = [id2word.doc2bow(text) for text in corpus]"
   ]
  },
  {
   "cell_type": "code",
   "execution_count": 22,
   "id": "57846446",
   "metadata": {},
   "outputs": [],
   "source": [
    "# Build LDA model (can take from 2 to 10 minutes depending on the computer)\n",
    "lda_model = gensim.models.ldamodel.LdaModel(corpus=tdm,\n",
    "                                           id2word=id2word,\n",
    "                                           num_topics=8, \n",
    "                                           random_state=123,\n",
    "                                           update_every=1,\n",
    "                                           chunksize=100,\n",
    "                                           passes=10,\n",
    "                                           alpha='auto',\n",
    "                                           per_word_topics=True)"
   ]
  },
  {
   "cell_type": "code",
   "execution_count": 23,
   "id": "1678c16e",
   "metadata": {},
   "outputs": [
    {
     "name": "stdout",
     "output_type": "stream",
     "text": [
      "[(0, '0.064*\"phone\" + 0.026*\"need\" + 0.023*\"icloud\" + 0.022*\"use\" + 0.020*\"iphone\" + 0.018*\"want\" + 0.014*\"get\" + 0.014*\"apps\" + 0.013*\"got\" + 0.012*\"backup\"'), (1, '0.040*\"carrier\" + 0.037*\"sim\" + 0.036*\"esim\" + 0.022*\"phone\" + 0.021*\"[\" + 0.021*\"]\" + 0.021*\"know\" + 0.020*\"apple\" + 0.015*\"support\" + 0.014*\"take\"'), (2, '0.044*\"photo\" + 0.026*\"device\" + 0.024*\"think\" + 0.023*\"right\" + 0.017*\"like\" + 0.016*\"check\" + 0.015*\"thank\" + 0.014*\"video\" + 0.014*\"make\" + 0.013*\"show\"'), (3, '0.026*\"e\" + 0.024*\"http\" + 0.021*\"call\" + 0.021*\"someone\" + 0.019*\"sound\" + 0.019*\"%\" + 0.019*\"every\" + 0.018*\"fine\" + 0.017*\"//www\" + 0.013*\"lol\"'), (4, '0.025*\"u\" + 0.023*\"since\" + 0.022*\"problem\" + 0.020*\"case\" + 0.017*\"thanks\" + 0.016*\"http\" + 0.016*\"review\" + 0.015*\"battery\" + 0.015*\"thing\" + 0.013*\"good\"'), (5, '0.034*\"iphone\" + 0.031*\"new\" + 0.026*\"phone\" + 0.024*\"work\" + 0.023*\"n\\'t\" + 0.021*\"get\" + 0.019*\"apple\" + 0.018*\"esim\" + 0.016*\"one\" + 0.014*\"would\"'), (6, '0.063*\"*\" + 0.038*\"even\" + 0.020*\"io\" + 0.014*\"looking\" + 0.013*\"issue\" + 0.013*\"said\" + 0.013*\"version\" + 0.012*\"link\" + 0.012*\"send\" + 0.011*\"running\"'), (7, '0.023*\"go\" + 0.018*\"iphone\" + 0.018*\"screen\" + 0.018*\"different\" + 0.015*\"using\" + 0.014*\"button\" + 0.014*\"gb\" + 0.013*\"use\" + 0.012*\"\\'s\" + 0.011*\"case\"')]\n"
     ]
    }
   ],
   "source": [
    "# Print the keywords in the 10 topics\n",
    "print(lda_model.print_topics())\n",
    "doc_lda = lda_model[tdm]\n",
    "# Interpretation: Topic 0 is represented as 0.055\"walking\" + 0.054\"garden\" + ..."
   ]
  },
  {
   "cell_type": "code",
   "execution_count": 25,
   "id": "f06a5eab",
   "metadata": {},
   "outputs": [
    {
     "name": "stdout",
     "output_type": "stream",
     "text": [
      "Requirement already satisfied: pandas in c:\\users\\asifa\\anaconda3\\lib\\site-packages (2.0.2)\n",
      "Requirement already satisfied: numpy in c:\\users\\asifa\\anaconda3\\lib\\site-packages (1.24.3)\n",
      "Requirement already satisfied: scipy in c:\\users\\asifa\\anaconda3\\lib\\site-packages (1.10.1)\n",
      "Requirement already satisfied: pyLDAvis in c:\\users\\asifa\\anaconda3\\lib\\site-packages (3.4.1)\n",
      "Requirement already satisfied: pytz>=2020.1 in c:\\users\\asifa\\anaconda3\\lib\\site-packages (from pandas) (2021.3)\n",
      "Requirement already satisfied: python-dateutil>=2.8.2 in c:\\users\\asifa\\anaconda3\\lib\\site-packages (from pandas) (2.8.2)\n",
      "Requirement already satisfied: tzdata>=2022.1 in c:\\users\\asifa\\anaconda3\\lib\\site-packages (from pandas) (2023.3)\n",
      "Requirement already satisfied: joblib>=1.2.0 in c:\\users\\asifa\\anaconda3\\lib\\site-packages (from pyLDAvis) (1.2.0)\n",
      "Requirement already satisfied: scikit-learn>=1.0.0 in c:\\users\\asifa\\anaconda3\\lib\\site-packages (from pyLDAvis) (1.1.3)\n",
      "Requirement already satisfied: numexpr in c:\\users\\asifa\\anaconda3\\lib\\site-packages (from pyLDAvis) (2.7.3)\n",
      "Requirement already satisfied: setuptools in c:\\users\\asifa\\anaconda3\\lib\\site-packages (from pyLDAvis) (58.0.4)\n",
      "Requirement already satisfied: jinja2 in c:\\users\\asifa\\anaconda3\\lib\\site-packages (from pyLDAvis) (2.11.3)\n",
      "Requirement already satisfied: gensim in c:\\users\\asifa\\anaconda3\\lib\\site-packages (from pyLDAvis) (4.3.1)\n",
      "Requirement already satisfied: funcy in c:\\users\\asifa\\anaconda3\\lib\\site-packages (from pyLDAvis) (2.0)\n",
      "Requirement already satisfied: six>=1.5 in c:\\users\\asifa\\anaconda3\\lib\\site-packages (from python-dateutil>=2.8.2->pandas) (1.16.0)\n",
      "Requirement already satisfied: threadpoolctl>=2.0.0 in c:\\users\\asifa\\anaconda3\\lib\\site-packages (from scikit-learn>=1.0.0->pyLDAvis) (2.2.0)\n",
      "Requirement already satisfied: smart-open>=1.8.1 in c:\\users\\asifa\\anaconda3\\lib\\site-packages (from gensim->pyLDAvis) (6.3.0)\n",
      "Requirement already satisfied: MarkupSafe>=0.23 in c:\\users\\asifa\\anaconda3\\lib\\site-packages (from jinja2->pyLDAvis) (1.1.1)\n"
     ]
    }
   ],
   "source": [
    "!pip install --upgrade pandas numpy scipy pyLDAvis\n"
   ]
  },
  {
   "cell_type": "code",
   "execution_count": 26,
   "id": "103dac94",
   "metadata": {},
   "outputs": [],
   "source": [
    "import pandas as pd\n",
    "import numpy as np\n",
    "import scipy\n",
    "import pyLDAvis.gensim_models as gensimvis\n",
    "import gensim\n",
    "\n",
    "# Rest of your code\n"
   ]
  },
  {
   "cell_type": "code",
   "execution_count": 56,
   "id": "641fc8ec",
   "metadata": {},
   "outputs": [],
   "source": [
    "# Visualize the topics (can take some mintues to run)\n",
    "#vis = pyLDAvis.gensim.prepare(lda_model, tdm, id2word)\n",
    "#pyLDAvis.show(vis)\n",
    "\n",
    "# If it is a newwer version of puLDavis, use this instead of the previous\n",
    "#vis = gensimvis.prepare(lda_model, tdm, id2word)\n",
    "#pyLDAvis.display(vis)\n",
    "\n",
    "#pyLDAvis.enable_notebook() # Remove remarks to see in notebook instead of the browser"
   ]
  },
  {
   "cell_type": "code",
   "execution_count": 30,
   "id": "82d3ae96",
   "metadata": {},
   "outputs": [
    {
     "name": "stdout",
     "output_type": "stream",
     "text": [
      "Requirement already satisfied: pyLDAvis in c:\\users\\asifa\\anaconda3\\lib\\site-packages (3.4.1)\n",
      "Requirement already satisfied: scipy in c:\\users\\asifa\\anaconda3\\lib\\site-packages (from pyLDAvis) (1.10.1)\n",
      "Requirement already satisfied: scikit-learn>=1.0.0 in c:\\users\\asifa\\anaconda3\\lib\\site-packages (from pyLDAvis) (1.1.3)\n",
      "Requirement already satisfied: funcy in c:\\users\\asifa\\anaconda3\\lib\\site-packages (from pyLDAvis) (2.0)\n",
      "Requirement already satisfied: numpy>=1.24.2 in c:\\users\\asifa\\anaconda3\\lib\\site-packages (from pyLDAvis) (1.24.3)\n",
      "Requirement already satisfied: jinja2 in c:\\users\\asifa\\anaconda3\\lib\\site-packages (from pyLDAvis) (2.11.3)\n",
      "Requirement already satisfied: setuptools in c:\\users\\asifa\\anaconda3\\lib\\site-packages (from pyLDAvis) (58.0.4)\n",
      "Requirement already satisfied: gensim in c:\\users\\asifa\\anaconda3\\lib\\site-packages (from pyLDAvis) (4.3.1)\n",
      "Requirement already satisfied: pandas>=2.0.0 in c:\\users\\asifa\\anaconda3\\lib\\site-packages (from pyLDAvis) (2.0.2)\n",
      "Requirement already satisfied: joblib>=1.2.0 in c:\\users\\asifa\\anaconda3\\lib\\site-packages (from pyLDAvis) (1.2.0)\n",
      "Requirement already satisfied: numexpr in c:\\users\\asifa\\anaconda3\\lib\\site-packages (from pyLDAvis) (2.7.3)\n",
      "Requirement already satisfied: pytz>=2020.1 in c:\\users\\asifa\\anaconda3\\lib\\site-packages (from pandas>=2.0.0->pyLDAvis) (2021.3)\n",
      "Requirement already satisfied: tzdata>=2022.1 in c:\\users\\asifa\\anaconda3\\lib\\site-packages (from pandas>=2.0.0->pyLDAvis) (2023.3)\n",
      "Requirement already satisfied: python-dateutil>=2.8.2 in c:\\users\\asifa\\anaconda3\\lib\\site-packages (from pandas>=2.0.0->pyLDAvis) (2.8.2)\n",
      "Requirement already satisfied: six>=1.5 in c:\\users\\asifa\\anaconda3\\lib\\site-packages (from python-dateutil>=2.8.2->pandas>=2.0.0->pyLDAvis) (1.16.0)\n",
      "Requirement already satisfied: threadpoolctl>=2.0.0 in c:\\users\\asifa\\anaconda3\\lib\\site-packages (from scikit-learn>=1.0.0->pyLDAvis) (2.2.0)\n",
      "Requirement already satisfied: smart-open>=1.8.1 in c:\\users\\asifa\\anaconda3\\lib\\site-packages (from gensim->pyLDAvis) (6.3.0)\n",
      "Requirement already satisfied: MarkupSafe>=0.23 in c:\\users\\asifa\\anaconda3\\lib\\site-packages (from jinja2->pyLDAvis) (1.1.1)\n"
     ]
    }
   ],
   "source": [
    "!pip install pyLDAvis\n",
    "\n"
   ]
  },
  {
   "cell_type": "code",
   "execution_count": 31,
   "id": "8691250a",
   "metadata": {
    "scrolled": true
   },
   "outputs": [
    {
     "data": {
      "text/html": [
       "\n",
       "<link rel=\"stylesheet\" type=\"text/css\" href=\"https://cdn.jsdelivr.net/gh/bmabey/pyLDAvis@3.4.0/pyLDAvis/js/ldavis.v1.0.0.css\">\n",
       "\n",
       "\n",
       "<div id=\"ldavis_el398825950539076321283186209\" style=\"background-color:white;\"></div>\n",
       "<script type=\"text/javascript\">\n",
       "\n",
       "var ldavis_el398825950539076321283186209_data = {\"mdsDat\": {\"x\": [0.23397593432791775, 0.08164284745543737, 0.13485061804622359, 0.071134831470711, -0.08504213453790974, -0.13683081238011968, -0.16242292393740948, -0.13730836044485129], \"y\": [0.07453468147421102, 0.132496000355452, 0.03325991357359182, -0.3221960126190407, 0.04005526973425029, 0.04351149557843641, 0.027492071863590095, -0.029153419960491037], \"topics\": [1, 2, 3, 4, 5, 6, 7, 8], \"cluster\": [1, 1, 1, 1, 1, 1, 1, 1], \"Freq\": [23.138433066618983, 16.769205395710372, 15.630577098381188, 13.60000403644888, 9.202990624367201, 9.09252914482412, 7.124107031256662, 5.442153602392596]}, \"tinfo\": {\"Term\": [\"phone\", \"esim\", \"carrier\", \"new\", \"*\", \"sim\", \"photo\", \"work\", \"n't\", \"apple\", \"iphone\", \"need\", \"device\", \"icloud\", \"use\", \"even\", \"http\", \"go\", \"]\", \"[\", \"case\", \"u\", \"think\", \"get\", \"different\", \"right\", \"want\", \"since\", \"e\", \"know\", \"new\", \"work\", \"n't\", \"way\", \"store\", \"charge\", \"year\", \"people\", \"turn\", \"yes\", \"price\", \"website\", \"charger\", \"product\", \"mean\", \"buy\", \"anyone\", \"charging\", \"option\", \"fee\", \"mobile\", \"service\", \"anything\", \"pocket\", \"already\", \"close\", \"android\", \"sell\", \"'ll\", \"power\", \"country\", \"old\", \"one\", \"app\", \"transfer\", \"get\", \"iphone\", \"apple\", \"would\", \"still\", \"also\", \"download\", \"esim\", \"going\", \"'s\", \"phone\", \"time\", \"like\", \"see\", \"probably\", \"device\", \"different\", \"button\", \"gb\", \"'m\", \"sure\", \"last\", \"always\", \"car\", \"scratch\", \"feel\", \"camera\", \"let\", \"glass\", \"bit\", \"protector\", \"currently\", \"side\", \"upgrade\", \"definitely\", \"le\", \"worth\", \"keeping\", \"thought\", \"thinking\", \"tell\", \"plus\", \"small\", \"yet\", \"activated\", \"metal\", \"screen\", \"using\", \"go\", \"little\", \"really\", \"next\", \"say\", \"reason\", \"much\", \"maybe\", \"case\", \"use\", \"iphone\", \"'s\", \"time\", \"would\", \"back\", \"could\", \"phone\", \"never\", \"also\", \"change\", \"icloud\", \"want\", \"apps\", \"backup\", \"update\", \"keep\", \"another\", \"code\", \"enough\", \"longer\", \"remove\", \"need\", \"info\", \"ago\", \"dont\", \"possible\", \"minute\", \"qr\", \"else\", \"activate\", \"file\", \"part\", \"full\", \"lost\", \"scan\", \"ram\", \"big\", \"space\", \"done\", \"deal\", \"tried\", \"got\", \"phone\", \"use\", \"back\", \"everything\", \"iphone\", \"get\", \"never\", \"know\", \"help\", \"sim\", \"[\", \"]\", \"support\", \"take\", \"physical\", \"message\", \"number\", \"card\", \"start\", \"bar\", \"long\", \"yeah\", \"tray\", \"deleted\", \"activation\", \"hope\", \"location\", \"software\", \"id\", \"sims\", \"open\", \"carrier\", \"//support\", \"information\", \"unless\", \"left\", \"imei\", \"process\", \"play\", \"might\", \"question\", \"know\", \"esim\", \"apple\", \"phone\", \"help\", \"right\", \"check\", \"thank\", \"show\", \"lot\", \"many\", \"idea\", \"sorry\", \"stop\", \"pc\", \"available\", \"cost\", \"put\", \"live\", \"add\", \"normal\", \"week\", \"hour\", \"ask\", \"via\", \"usually\", \"manage\", \"simple\", \"leave\", \"think\", \"suggestion\", \"amazon\", \"downloaded\", \"end\", \"click\", \"photo\", \"video\", \"something\", \"first\", \"device\", \"make\", \"like\", \"storage\", \"case\", \"go\", \"u\", \"since\", \"problem\", \"thanks\", \"review\", \"$\", \"samsung\", \"'ve\", \"life\", \"answer\", \"saying\", \"pretty\", \"'re\", \"getting\", \"fix\", \"love\", \"agree\", \"come\", \"guess\", \"solid\", \"canada\", \"'d\", \"worry\", \"great\", \"basically\", \"person\", \"g\", \"panama\", \"cause\", \"ignore\", \"battery\", \"easy\", \"thing\", \"good\", \"c\", \"case\", \"http\", \"better\", \"'s\", \"e\", \"call\", \"someone\", \"%\", \"sound\", \"every\", \"fine\", \"//www\", \"lol\", \"ring\", \"im\", \"depends\", \"pay\", \"safari\", \"friend\", \"annoying\", \"playing\", \"similar\", \"single\", \"bad\", \"exactly\", \"bought\", \"tap\", \"type\", \"na\", \"ad\", \"international\", \"headset\", \"mess\", \"protection\", \"two\", \"http\", \"pro\", \"switch\", \"thing\", \"etc\", \"like\", \"*\", \"even\", \"said\", \"version\", \"link\", \"send\", \"running\", \"please\", \"noise\", \"\\\\\", \"chat\", \"recommend\", \"concern\", \"search\", \"action\", \"known\", \"/message/compose/\", \"bot\", \"moderator\", \"performed\", \"subreddit\", \"to=/r/iphone\", \"instagram\", \"ringtone\", \"group\", \"basic\", \"working\", \"believe\", \"smaller\", \"true\", \"io\", \"looking\", \"contact\", \"issue\", \"find\", \"look\"], \"Freq\": [261.0, 115.0, 73.0, 91.0, 43.0, 63.0, 63.0, 69.0, 68.0, 90.0, 178.0, 53.0, 50.0, 45.0, 70.0, 26.0, 39.0, 58.0, 36.0, 36.0, 56.0, 28.0, 30.0, 96.0, 37.0, 27.0, 35.0, 26.0, 23.0, 56.0, 90.4076546122297, 69.19904243859679, 67.85823843298668, 32.95155257985317, 32.445615298135834, 25.693269834594187, 25.62121373710622, 25.210601455292295, 21.638355073894353, 24.399794835904764, 17.108924285800747, 15.755751334210139, 15.510376073134717, 15.243383172708375, 14.979904775762794, 14.796393147028871, 14.387045978454085, 14.279149506437971, 13.192171502312842, 12.66875621538673, 12.651262008087384, 12.652363750246545, 12.201479822131963, 11.99223252269241, 11.352199988497699, 11.23723332920652, 11.135119653351795, 10.847737772109877, 10.643789231375756, 10.413581152340715, 10.461673682779791, 34.02126860664388, 47.44137922022402, 38.925784542441065, 19.93694923938132, 60.31876300508578, 97.7131016431552, 56.1770765981324, 41.097161717941326, 30.650172529920173, 30.378541781066478, 17.65342794378563, 52.966718761663955, 21.875132425570822, 36.542961983879785, 75.24514957532789, 32.337047789535035, 31.63390676237291, 18.65071522500512, 17.331973066062552, 20.11717994477362, 36.88729400157005, 30.343747690856134, 28.372560541411104, 22.625280433759933, 21.99048909617079, 18.911454422527175, 18.352104783994413, 15.7362843735756, 14.529159456174035, 14.078890972068224, 12.742283800553253, 12.583113342473844, 12.399021036444205, 12.048609227569978, 11.507620480903332, 11.538815600957257, 10.908491193200177, 10.199229823876282, 10.412883126669692, 8.883492461662128, 8.719134885282664, 8.72218785813612, 8.463246834315868, 8.202121271426595, 8.101067869977134, 8.021020780941651, 7.873358660596064, 7.783247035572042, 7.818945290584816, 7.735281602938313, 37.22259653037048, 30.935398173585256, 47.41442583062795, 15.033951882705338, 23.015595184939023, 10.444237744984871, 14.163278272992013, 12.963351326202641, 18.130746638813783, 14.332895377925112, 23.923516041981475, 26.8337076175917, 38.71485443453092, 24.48464071024378, 21.16762484563923, 20.634996547709747, 16.538310127348428, 14.579247781309551, 20.54295920134739, 13.817845158309579, 14.092630328425725, 13.090998861053155, 45.05696197683792, 35.04667596727433, 26.58171431611322, 24.00399507399268, 22.891561900729087, 22.8628041544227, 21.59230644102625, 17.232628452675563, 15.947092435406619, 14.618894990109293, 14.565317840298647, 50.804279206942624, 13.853032335129878, 13.606544793691432, 13.178489433827412, 13.123512247842319, 12.9661718958023, 15.43788058120888, 12.552461662291176, 11.802518376294685, 11.251551697298144, 11.234954656082245, 10.725862283799069, 10.502022493662045, 10.439160413391551, 9.920135536913115, 9.815029759277365, 19.238507251702895, 9.757661110849668, 9.737225143081167, 21.64053700317917, 25.323845202632977, 125.64931196208154, 43.370220283681086, 23.40695945221353, 14.662246859430217, 38.90479259226197, 26.643512916136544, 15.833960391754498, 15.307599690552236, 12.690674875168773, 62.860979433867456, 35.54188005548058, 35.54188005548058, 25.860999518731088, 24.60966257311379, 21.729326666973332, 21.71732603449914, 15.4672296710999, 15.134157759187012, 14.7574464622883, 14.249088496967543, 13.959914679615043, 13.41536753018584, 11.907487504292726, 11.698867595148464, 11.535307592887177, 11.480359583859748, 11.41026039937952, 11.295510799244768, 10.987881307456364, 10.426679927561395, 10.315910963089289, 68.6823892706851, 9.369201367172716, 8.66539625414395, 8.127069244731457, 7.989738107957833, 7.468180399220652, 7.430746869673802, 7.3553163633471526, 15.270329464401001, 14.246518860150228, 35.46221020391672, 61.82247793500207, 33.65211930272335, 38.04060188020801, 11.51686937737962, 26.402036360693078, 18.51011827484156, 17.134331639843225, 15.538076442993708, 14.400818118900387, 13.149837614086513, 10.773032867155358, 10.59183714407328, 10.087528183726706, 10.011130558410184, 9.934498795401499, 9.509964198463939, 8.961274331165088, 8.112786185415931, 8.107300597054799, 8.01543592171602, 7.994797972983107, 7.887810472990595, 7.116029809090939, 7.097271406052002, 7.006767521795662, 6.530788685187862, 6.508455386238983, 6.46941453710982, 28.096666979165306, 6.137038361652354, 5.8821145051522565, 5.642165794715651, 5.5339141659906765, 5.356651526526508, 51.116025882973396, 15.973860389416245, 14.529269493705051, 8.729501107484223, 29.46603308607302, 15.952072695731673, 20.06848505257885, 12.555784105943964, 9.05227871158908, 8.604720753926422, 27.98247513575559, 25.85827212649448, 25.55041357291037, 19.83505234652105, 17.794346852118768, 14.290509418572766, 13.090448716052965, 11.88152223218878, 11.18831363319096, 11.067943805925832, 10.999969632214459, 10.236369594406224, 10.15749650505294, 9.735951151242231, 9.543739313880298, 9.474871664658217, 7.979063670717575, 7.908542242892834, 7.805767091925877, 7.6115306093449036, 7.1235454827592655, 6.58350002122009, 6.5265234486880335, 6.302211752731454, 6.040995910324249, 5.888698128303827, 5.780035270839047, 5.260419837812548, 5.255703624145868, 5.233696749304316, 17.371627883207296, 7.475564753197779, 16.572631571514606, 14.525231377590876, 9.630050958257415, 23.202635825818792, 18.17148583636637, 10.450244498931003, 10.30478944473814, 23.028489866087032, 18.723533239585628, 18.57069809473631, 16.75575726226129, 16.80467588232942, 16.62100200306413, 15.977620467478934, 15.210311982764344, 11.833907055522435, 10.66996432409106, 9.380658794982455, 8.954018888687527, 8.691687613032395, 8.022647871289227, 7.995059126435208, 7.364510435283057, 6.862417810205489, 6.840357955243259, 6.644597839533317, 6.336975810132282, 6.2072609862688015, 5.48601231141288, 5.182768497676531, 5.096260077640348, 4.904361870734521, 4.879697617639054, 4.551761698504775, 3.938522589773991, 3.92067009530761, 3.906246343986152, 8.773749641618759, 21.19071513406493, 8.307475493213838, 8.343059927404598, 7.442570046434976, 5.226116241546175, 7.63613772866452, 42.82731438086205, 26.09145742923321, 8.888380503657647, 8.739308015406067, 8.034867072520813, 8.00722977057476, 7.741210498013576, 7.380769016887169, 6.160615321055193, 6.160545457715791, 6.07601653313112, 5.582624482001978, 5.270540181485004, 5.216622831741096, 5.116899901079084, 4.9114172121094875, 4.625924168811342, 4.625924168811342, 4.625924168811342, 4.625924168811342, 4.625924168811342, 4.625924168811342, 4.636222977721056, 4.636222977721056, 4.583307849336928, 4.5073025697199, 4.419328112260188, 4.277871045564027, 4.184586656749152, 3.5566670295105993, 13.90246284569986, 9.619439378854956, 7.428376436840568, 9.021066228091923, 5.907266082655143, 6.953461333619379], \"Total\": [261.0, 115.0, 73.0, 91.0, 43.0, 63.0, 63.0, 69.0, 68.0, 90.0, 178.0, 53.0, 50.0, 45.0, 70.0, 26.0, 39.0, 58.0, 36.0, 36.0, 56.0, 28.0, 30.0, 96.0, 37.0, 27.0, 35.0, 26.0, 23.0, 56.0, 91.0490362431952, 69.84029018693121, 68.49986714666957, 33.5963876542941, 33.08671913353544, 26.334741063393057, 26.262847205839236, 25.86249221819229, 22.279388830477263, 25.15328697241493, 17.74994594110411, 16.397769930375627, 16.150776676767578, 15.884241195972074, 15.62161888366691, 15.437763483629412, 15.029093893912007, 14.919639528396075, 13.833351400156438, 13.31000942196163, 13.292059694236308, 13.293358734715547, 12.842404576857115, 12.633742533642302, 11.993355458008306, 11.879147199684327, 11.776064589318604, 11.489062369712054, 11.28496263327211, 11.054899677766807, 11.106647194015027, 37.12592370936972, 53.54949702475661, 44.62048096877056, 23.11662279724951, 96.89130186191734, 178.73333240947, 90.38705098433468, 62.26919632509475, 44.3820433941181, 45.008679983229996, 21.39285038917705, 115.34824800445938, 29.964711033542525, 71.77331087031526, 261.96032205654257, 66.14975637570898, 65.11734997615741, 25.94342973066796, 24.902535224294663, 50.12072537867951, 37.52467934584387, 30.981088037299887, 29.008834963440147, 23.26176202825963, 22.62674625875168, 19.54913116639862, 18.988503288444104, 16.37341235736765, 15.16558121438576, 14.716446814073876, 13.378316543143374, 13.220348383959399, 13.034905282621192, 12.686519420909205, 12.143436012752149, 12.176684860258666, 11.54495245672596, 10.83610144274301, 11.068530781180714, 9.520570034726681, 9.355214552022845, 9.361183702017147, 9.099766322222937, 8.838618615233598, 8.73738808919653, 8.657313907001265, 8.509864954043724, 8.420238410727222, 8.459124321494807, 8.371215642994876, 42.16484693016511, 35.927580519071945, 58.09964338317418, 17.23001398199167, 28.552702369988165, 12.17888168919171, 18.97420766900867, 16.839687400956098, 28.527073060814175, 20.183541872505838, 56.61587382323961, 70.73881928255346, 178.73333240947, 71.77331087031526, 66.14975637570898, 62.26919632509475, 40.47990967644031, 28.73244048893827, 261.96032205654257, 30.18594355313757, 45.008679983229996, 19.603107430567558, 45.694940115226736, 35.68535435265308, 27.23103821366277, 24.642093297801722, 23.529857789978077, 23.501252047040165, 22.232838680585836, 17.872889938228397, 16.5855258636097, 15.257696738264958, 15.203203192698721, 53.14302964438794, 14.49219987940798, 14.245357947609435, 13.817505860553545, 13.763238062714215, 13.605528633489122, 16.215905823037286, 13.191058607503306, 12.4419785456492, 11.889868382700266, 11.875788812114545, 11.363988879538718, 11.14044524341435, 11.078320343987636, 10.558976163042844, 10.45383431102584, 20.490745995092013, 10.396511584603157, 10.376950370100367, 26.428160315033807, 32.08384561508738, 261.96032205654257, 70.73881928255346, 40.47990967644031, 20.51695729275505, 178.73333240947, 96.89130186191734, 30.18594355313757, 56.8549218456906, 26.881393887601753, 63.51817941790866, 36.19968491492089, 36.19968491492089, 26.518431169521644, 25.26779694531575, 22.38657094370663, 22.375327357314216, 16.124608945332824, 15.791463449419414, 15.416294891579899, 14.90777817855357, 14.618855513105808, 14.072748815583475, 12.564508989705242, 12.355740697206025, 12.193383642846776, 12.137808079340221, 12.067809795637677, 11.958089257859838, 11.663085099318208, 11.084377322042453, 10.974852970073592, 73.12965196418789, 10.026756501859046, 9.323798645736835, 8.785363289147298, 8.647590463765345, 8.125866069281367, 8.088232573695754, 8.013939642129241, 17.719638485100592, 18.01422243726882, 56.8549218456906, 115.34824800445938, 90.38705098433468, 261.96032205654257, 26.881393887601753, 27.039942916207032, 19.15030862873961, 17.772967604262714, 16.175498269602837, 15.039478023269549, 13.786540292224425, 11.410286125619121, 11.230577683657177, 10.726288537280313, 10.649498771254486, 10.572302541269769, 10.150252242845516, 9.599201481418493, 8.751947920087108, 8.747669237519244, 8.65381640562322, 8.632442177178993, 8.527511969265522, 7.752920103984528, 7.736640852705717, 7.643720287499997, 7.169223373669811, 7.146805905382427, 7.110438532703651, 30.98371776534429, 6.779286532559598, 6.519189590319063, 6.279620134283888, 6.172767176820716, 5.994417633294508, 63.6538805399358, 18.874510591416957, 17.63448648580313, 10.277796950147396, 50.12072537867951, 28.65359128350696, 65.11734997615741, 27.60873655188371, 56.61587382323961, 58.09964338317418, 28.62667047390064, 26.504425556071443, 26.19531524773919, 20.479882065299627, 18.440700695370758, 14.93449282774699, 13.735742118444433, 12.526399283801874, 11.835555060178173, 11.713577397659478, 11.646229984952972, 10.881352904414946, 10.802329093180985, 10.380867043524814, 10.188471574075798, 10.119338829555815, 8.624294049200921, 8.553080263800304, 8.451844437147983, 8.25711537993458, 7.767370056461677, 7.228245655582893, 7.172948067317841, 6.9470305796312894, 6.686645781982523, 6.534805601911348, 6.424015764834136, 5.905226303360903, 5.901019047206166, 5.880607179875341, 20.504531915156072, 8.718704411124092, 24.57571100020093, 24.764837132561205, 13.9072740872449, 56.61587382323961, 39.922423695093926, 24.939963362153183, 71.77331087031526, 23.68414459549516, 19.380548122343953, 19.22833394349787, 17.410808902539216, 17.466011602054742, 17.27951062837132, 16.634712802414906, 15.868197118899992, 12.489670037159936, 11.327077937088468, 10.03678876715858, 9.61128926414385, 9.34914075722391, 8.67829217021399, 8.651956711702686, 8.021764412748139, 7.518551963877477, 7.496584616933331, 7.301688975228295, 6.9934963796870475, 6.862999372011025, 6.142104174243682, 5.838836295101875, 5.752584195753671, 5.55950887736255, 5.53523166204125, 5.207545616046653, 4.594443656481126, 4.577697712171902, 4.5627831985813705, 12.699717681159322, 39.922423695093926, 16.34199732872711, 19.836194967408883, 24.57571100020093, 7.908711607365129, 65.11734997615741, 43.500230936828416, 26.766611346666846, 9.56288447022783, 9.412996269374165, 8.707908748967405, 8.681650857995715, 8.415411317548067, 8.05437067327841, 6.8344568863023945, 6.834654871427113, 6.7489841468459275, 6.255888854640997, 5.943711784186265, 5.889862709901889, 5.789945768752775, 5.592070942789263, 5.298636549534735, 5.298636549534735, 5.298636549534735, 5.298636549534735, 5.298636549534735, 5.298636549534735, 5.31045255717305, 5.31045255717305, 5.256275389535066, 5.181559510461965, 5.09376688992031, 4.952340240636629, 4.858279464929629, 4.229912793311075, 16.68943473829142, 13.28363572486937, 11.087808895513612, 29.909860205832153, 11.03771305538784, 25.09978917549506], \"Category\": [\"Default\", \"Default\", \"Default\", \"Default\", \"Default\", \"Default\", \"Default\", \"Default\", \"Default\", \"Default\", \"Default\", \"Default\", \"Default\", \"Default\", \"Default\", \"Default\", \"Default\", \"Default\", \"Default\", \"Default\", \"Default\", \"Default\", \"Default\", \"Default\", \"Default\", \"Default\", \"Default\", \"Default\", \"Default\", \"Default\", \"Topic1\", \"Topic1\", \"Topic1\", \"Topic1\", \"Topic1\", \"Topic1\", \"Topic1\", \"Topic1\", \"Topic1\", \"Topic1\", \"Topic1\", \"Topic1\", \"Topic1\", \"Topic1\", \"Topic1\", \"Topic1\", \"Topic1\", \"Topic1\", \"Topic1\", \"Topic1\", \"Topic1\", \"Topic1\", \"Topic1\", \"Topic1\", \"Topic1\", \"Topic1\", \"Topic1\", \"Topic1\", \"Topic1\", \"Topic1\", \"Topic1\", \"Topic1\", \"Topic1\", \"Topic1\", \"Topic1\", \"Topic1\", \"Topic1\", \"Topic1\", \"Topic1\", \"Topic1\", \"Topic1\", \"Topic1\", \"Topic1\", \"Topic1\", \"Topic1\", \"Topic1\", \"Topic1\", \"Topic1\", \"Topic1\", \"Topic1\", \"Topic1\", \"Topic2\", \"Topic2\", \"Topic2\", \"Topic2\", \"Topic2\", \"Topic2\", \"Topic2\", \"Topic2\", \"Topic2\", \"Topic2\", \"Topic2\", \"Topic2\", \"Topic2\", \"Topic2\", \"Topic2\", \"Topic2\", \"Topic2\", \"Topic2\", \"Topic2\", \"Topic2\", \"Topic2\", \"Topic2\", \"Topic2\", \"Topic2\", \"Topic2\", \"Topic2\", \"Topic2\", \"Topic2\", \"Topic2\", \"Topic2\", \"Topic2\", \"Topic2\", \"Topic2\", \"Topic2\", \"Topic2\", \"Topic2\", \"Topic2\", \"Topic2\", \"Topic2\", \"Topic2\", \"Topic2\", \"Topic2\", \"Topic2\", \"Topic2\", \"Topic2\", \"Topic2\", \"Topic2\", \"Topic2\", \"Topic2\", \"Topic2\", \"Topic2\", \"Topic2\", \"Topic3\", \"Topic3\", \"Topic3\", \"Topic3\", \"Topic3\", \"Topic3\", \"Topic3\", \"Topic3\", \"Topic3\", \"Topic3\", \"Topic3\", \"Topic3\", \"Topic3\", \"Topic3\", \"Topic3\", \"Topic3\", \"Topic3\", \"Topic3\", \"Topic3\", \"Topic3\", \"Topic3\", \"Topic3\", \"Topic3\", \"Topic3\", \"Topic3\", \"Topic3\", \"Topic3\", \"Topic3\", \"Topic3\", \"Topic3\", \"Topic3\", \"Topic3\", \"Topic3\", \"Topic3\", \"Topic3\", \"Topic3\", \"Topic3\", \"Topic3\", \"Topic3\", \"Topic3\", \"Topic3\", \"Topic4\", \"Topic4\", \"Topic4\", \"Topic4\", \"Topic4\", \"Topic4\", \"Topic4\", \"Topic4\", \"Topic4\", \"Topic4\", \"Topic4\", \"Topic4\", \"Topic4\", \"Topic4\", \"Topic4\", \"Topic4\", \"Topic4\", \"Topic4\", \"Topic4\", \"Topic4\", \"Topic4\", \"Topic4\", \"Topic4\", \"Topic4\", \"Topic4\", \"Topic4\", \"Topic4\", \"Topic4\", \"Topic4\", \"Topic4\", \"Topic4\", \"Topic4\", \"Topic4\", \"Topic4\", \"Topic4\", \"Topic4\", \"Topic4\", \"Topic5\", \"Topic5\", \"Topic5\", \"Topic5\", \"Topic5\", \"Topic5\", \"Topic5\", \"Topic5\", \"Topic5\", \"Topic5\", \"Topic5\", \"Topic5\", \"Topic5\", \"Topic5\", \"Topic5\", \"Topic5\", \"Topic5\", \"Topic5\", \"Topic5\", \"Topic5\", \"Topic5\", \"Topic5\", \"Topic5\", \"Topic5\", \"Topic5\", \"Topic5\", \"Topic5\", \"Topic5\", \"Topic5\", \"Topic5\", \"Topic5\", \"Topic5\", \"Topic5\", \"Topic5\", \"Topic5\", \"Topic5\", \"Topic5\", \"Topic5\", \"Topic5\", \"Topic5\", \"Topic6\", \"Topic6\", \"Topic6\", \"Topic6\", \"Topic6\", \"Topic6\", \"Topic6\", \"Topic6\", \"Topic6\", \"Topic6\", \"Topic6\", \"Topic6\", \"Topic6\", \"Topic6\", \"Topic6\", \"Topic6\", \"Topic6\", \"Topic6\", \"Topic6\", \"Topic6\", \"Topic6\", \"Topic6\", \"Topic6\", \"Topic6\", \"Topic6\", \"Topic6\", \"Topic6\", \"Topic6\", \"Topic6\", \"Topic6\", \"Topic6\", \"Topic6\", \"Topic6\", \"Topic6\", \"Topic6\", \"Topic6\", \"Topic6\", \"Topic6\", \"Topic6\", \"Topic7\", \"Topic7\", \"Topic7\", \"Topic7\", \"Topic7\", \"Topic7\", \"Topic7\", \"Topic7\", \"Topic7\", \"Topic7\", \"Topic7\", \"Topic7\", \"Topic7\", \"Topic7\", \"Topic7\", \"Topic7\", \"Topic7\", \"Topic7\", \"Topic7\", \"Topic7\", \"Topic7\", \"Topic7\", \"Topic7\", \"Topic7\", \"Topic7\", \"Topic7\", \"Topic7\", \"Topic7\", \"Topic7\", \"Topic7\", \"Topic7\", \"Topic7\", \"Topic7\", \"Topic7\", \"Topic7\", \"Topic7\", \"Topic7\", \"Topic8\", \"Topic8\", \"Topic8\", \"Topic8\", \"Topic8\", \"Topic8\", \"Topic8\", \"Topic8\", \"Topic8\", \"Topic8\", \"Topic8\", \"Topic8\", \"Topic8\", \"Topic8\", \"Topic8\", \"Topic8\", \"Topic8\", \"Topic8\", \"Topic8\", \"Topic8\", \"Topic8\", \"Topic8\", \"Topic8\", \"Topic8\", \"Topic8\", \"Topic8\", \"Topic8\", \"Topic8\", \"Topic8\", \"Topic8\", \"Topic8\", \"Topic8\", \"Topic8\", \"Topic8\", \"Topic8\", \"Topic8\"], \"logprob\": [30.0, 29.0, 28.0, 27.0, 26.0, 25.0, 24.0, 23.0, 22.0, 21.0, 20.0, 19.0, 18.0, 17.0, 16.0, 15.0, 14.0, 13.0, 12.0, 11.0, 10.0, 9.0, 8.0, 7.0, 6.0, 5.0, 4.0, 3.0, 2.0, 1.0, -3.468, -3.7353, -3.7549, -4.4772, -4.4927, -4.7261, -4.7289, -4.745, -4.8978, -4.7777, -5.1327, -5.2151, -5.2308, -5.2481, -5.2656, -5.2779, -5.306, -5.3135, -5.3927, -5.4331, -5.4345, -5.4344, -5.4707, -5.488, -5.5429, -5.5531, -5.5622, -5.5883, -5.6073, -5.6292, -5.6246, -4.4453, -4.1128, -4.3106, -4.9797, -3.8726, -3.3903, -3.9438, -4.2563, -4.5496, -4.5585, -5.1014, -4.0026, -4.8869, -4.3738, -3.6515, -4.4961, -4.5181, -5.0464, -5.1197, -4.9707, -4.0425, -4.2377, -4.3049, -4.5313, -4.5597, -4.7106, -4.7406, -4.8944, -4.9742, -5.0057, -5.1054, -5.118, -5.1327, -5.1614, -5.2073, -5.2046, -5.2608, -5.328, -5.3073, -5.4661, -5.4848, -5.4845, -5.5146, -5.5459, -5.5583, -5.5683, -5.5869, -5.5984, -5.5938, -5.6045, -4.0334, -4.2184, -3.7914, -4.94, -4.5142, -5.3043, -4.9997, -5.0882, -4.7527, -4.9878, -4.4755, -4.3607, -3.9941, -4.4523, -4.5979, -4.6233, -4.8447, -4.9707, -4.6278, -5.0244, -5.0047, -5.0784, -3.7721, -4.0233, -4.2998, -4.4018, -4.4493, -4.4505, -4.5077, -4.7332, -4.8107, -4.8977, -4.9014, -3.652, -4.9515, -4.9695, -5.0014, -5.0056, -5.0177, -4.8432, -5.0501, -5.1117, -5.1595, -5.161, -5.2074, -5.2285, -5.2345, -5.2855, -5.2961, -4.6231, -5.302, -5.3041, -4.5055, -4.3483, -2.7465, -3.8102, -4.427, -4.8947, -3.9189, -4.2975, -4.8179, -4.8517, -5.0392, -3.2999, -3.8701, -3.8701, -4.1881, -4.2377, -4.3622, -4.3628, -4.7021, -4.7239, -4.7491, -4.7842, -4.8047, -4.8445, -4.9637, -4.9814, -4.9954, -5.0002, -5.0063, -5.0165, -5.0441, -5.0965, -5.1072, -3.2114, -5.2034, -5.2815, -5.3457, -5.3627, -5.4302, -5.4352, -5.4454, -4.7149, -4.7843, -3.8724, -3.3166, -3.9248, -3.8022, -4.997, -3.7769, -4.132, -4.2092, -4.307, -4.383, -4.4739, -4.6733, -4.6902, -4.739, -4.7466, -4.7543, -4.798, -4.8574, -4.9569, -4.9576, -4.9689, -4.9715, -4.985, -5.088, -5.0906, -5.1034, -5.1738, -5.1772, -5.1832, -3.7147, -5.236, -5.2784, -5.3201, -5.3394, -5.372, -3.1162, -4.2794, -4.3742, -4.8836, -3.6671, -4.2807, -4.0512, -4.5201, -4.8473, -4.898, -3.7067, -3.7856, -3.7976, -4.0508, -4.1594, -4.3786, -4.4664, -4.5633, -4.6234, -4.6342, -4.6404, -4.7123, -4.72, -4.7624, -4.7824, -4.7896, -4.9614, -4.9703, -4.9834, -5.0086, -5.0748, -5.1537, -5.1624, -5.1973, -5.2397, -5.2652, -5.2838, -5.378, -5.3789, -5.3831, -4.1834, -5.0266, -4.2305, -4.3624, -4.7734, -3.894, -4.1384, -4.6916, -4.7056, -3.6575, -3.8645, -3.8727, -3.9755, -3.9726, -3.9836, -4.0231, -4.0723, -4.3233, -4.4268, -4.5556, -4.6022, -4.6319, -4.712, -4.7155, -4.7976, -4.8682, -4.8714, -4.9005, -4.9479, -4.9686, -5.0921, -5.1489, -5.1658, -5.2042, -5.2092, -5.2788, -5.4235, -5.428, -5.4317, -4.6225, -3.7407, -4.6771, -4.6728, -4.7871, -5.1406, -4.7614, -2.7678, -3.2634, -4.3402, -4.3571, -4.4412, -4.4446, -4.4784, -4.5261, -4.7068, -4.7068, -4.7206, -4.8053, -4.8628, -4.8731, -4.8924, -4.9334, -4.9933, -4.9933, -4.9933, -4.9933, -4.9933, -4.9933, -4.9911, -4.9911, -5.0025, -5.0193, -5.039, -5.0715, -5.0936, -5.2561, -3.8929, -4.2612, -4.5197, -4.3254, -4.7488, -4.5857], \"loglift\": [30.0, 29.0, 28.0, 27.0, 26.0, 25.0, 24.0, 23.0, 22.0, 21.0, 20.0, 19.0, 18.0, 17.0, 16.0, 15.0, 14.0, 13.0, 12.0, 11.0, 10.0, 9.0, 8.0, 7.0, 6.0, 5.0, 4.0, 3.0, 2.0, 1.0, 1.4566, 1.4545, 1.4543, 1.4443, 1.4441, 1.439, 1.4389, 1.4381, 1.4345, 1.4333, 1.4269, 1.4237, 1.4232, 1.4225, 1.4217, 1.4212, 1.42, 1.4198, 1.4162, 1.4143, 1.4143, 1.4143, 1.4125, 1.4116, 1.4087, 1.4081, 1.4077, 1.4062, 1.4052, 1.4039, 1.4038, 1.3763, 1.3426, 1.3271, 1.3157, 0.9897, 0.8598, 0.9881, 1.0481, 1.0935, 1.0706, 1.2715, 0.6854, 1.149, 0.7887, 0.2162, 0.748, 0.7417, 1.1336, 1.1013, 0.5508, 1.7685, 1.7648, 1.7634, 1.7579, 1.7571, 1.7525, 1.7515, 1.7459, 1.7428, 1.7413, 1.7369, 1.7362, 1.7356, 1.734, 1.7318, 1.7318, 1.7289, 1.7251, 1.7246, 1.7164, 1.7152, 1.7149, 1.7131, 1.7109, 1.71, 1.7093, 1.7079, 1.707, 1.7069, 1.7066, 1.661, 1.636, 1.5824, 1.6493, 1.57, 1.632, 1.4932, 1.524, 1.3324, 1.4433, 0.9242, 0.8163, 0.256, 0.7102, 0.6462, 0.6811, 0.8905, 1.1072, -0.76, 1.0042, 0.6244, 1.3819, 1.8419, 1.8379, 1.8318, 1.8297, 1.8284, 1.8284, 1.8267, 1.8195, 1.8167, 1.8132, 1.8131, 1.8109, 1.8108, 1.8101, 1.8086, 1.8083, 1.8078, 1.8068, 1.8063, 1.8032, 1.8008, 1.8005, 1.7981, 1.7969, 1.7965, 1.7935, 1.7929, 1.7929, 1.7925, 1.7923, 1.6561, 1.6193, 1.1212, 1.3667, 1.3082, 1.52, 0.3312, 0.5649, 1.2107, 0.5438, 1.1054, 1.9847, 1.9768, 1.9768, 1.97, 1.9687, 1.9653, 1.9653, 1.9535, 1.9526, 1.9514, 1.9499, 1.949, 1.9473, 1.9414, 1.9405, 1.9396, 1.9394, 1.9391, 1.9381, 1.9355, 1.9339, 1.9332, 1.9324, 1.9273, 1.9219, 1.9172, 1.916, 1.9107, 1.9103, 1.9093, 1.8463, 1.7605, 1.5231, 1.3714, 1.0071, 0.0656, 1.1475, 2.3618, 2.3516, 2.349, 2.3454, 2.3422, 2.3384, 2.3282, 2.3271, 2.3242, 2.3238, 2.3234, 2.3205, 2.3169, 2.3098, 2.3096, 2.309, 2.3089, 2.3077, 2.2999, 2.2994, 2.2986, 2.2924, 2.2921, 2.2912, 2.2878, 2.2861, 2.2828, 2.2786, 2.2764, 2.2732, 2.1663, 2.2188, 2.192, 2.2224, 1.8544, 1.8, 1.2086, 1.5977, 0.5524, 0.4758, 2.375, 2.373, 2.3728, 2.3657, 2.362, 2.3536, 2.3496, 2.3449, 2.3415, 2.341, 2.3406, 2.3366, 2.3362, 2.3336, 2.3323, 2.3319, 2.32, 2.3194, 2.3182, 2.3163, 2.3112, 2.3043, 2.3033, 2.3003, 2.2962, 2.2936, 2.2921, 2.2821, 2.2819, 2.2812, 2.2319, 2.2439, 2.0037, 1.8642, 2.0302, 1.5057, 1.6106, 1.5279, 0.4568, 2.6136, 2.6072, 2.6069, 2.6033, 2.6031, 2.6028, 2.6014, 2.5993, 2.5878, 2.5819, 2.5741, 2.5708, 2.5688, 2.5631, 2.5627, 2.5562, 2.5504, 2.5501, 2.5474, 2.5431, 2.5413, 2.5287, 2.5225, 2.5205, 2.5163, 2.5156, 2.5071, 2.4876, 2.4868, 2.4863, 2.2719, 2.0083, 1.9651, 1.7756, 1.4471, 2.2274, 0.4984, 2.8954, 2.8854, 2.8379, 2.8367, 2.8306, 2.8301, 2.8275, 2.8237, 2.8072, 2.8072, 2.806, 2.7971, 2.7908, 2.7896, 2.7874, 2.7812, 2.7752, 2.7752, 2.7752, 2.7752, 2.7752, 2.7752, 2.7752, 2.7752, 2.774, 2.7716, 2.769, 2.7646, 2.7617, 2.7376, 2.7283, 2.5882, 2.5105, 1.7124, 2.2859, 1.6274]}, \"token.table\": {\"Topic\": [6, 7, 6, 1, 2, 6, 1, 2, 6, 6, 8, 4, 7, 8, 4, 8, 4, 8, 3, 2, 4, 7, 5, 3, 6, 1, 1, 2, 2, 5, 1, 7, 3, 6, 1, 1, 1, 5, 1, 4, 3, 5, 5, 2, 3, 3, 7, 4, 8, 6, 1, 6, 8, 1, 3, 6, 3, 2, 8, 7, 2, 1, 6, 7, 7, 2, 6, 2, 4, 2, 4, 2, 5, 6, 6, 2, 4, 1, 1, 1, 8, 5, 5, 1, 3, 6, 8, 1, 8, 5, 1, 2, 1, 2, 3, 2, 4, 7, 1, 5, 2, 3, 3, 1, 3, 5, 7, 3, 6, 3, 5, 3, 1, 4, 2, 7, 8, 7, 3, 4, 7, 1, 2, 3, 7, 8, 7, 5, 7, 6, 7, 3, 6, 2, 1, 2, 3, 6, 2, 2, 3, 5, 1, 3, 2, 6, 1, 3, 6, 8, 6, 7, 3, 4, 6, 4, 5, 6, 7, 3, 4, 5, 6, 7, 4, 3, 4, 8, 7, 4, 8, 1, 2, 3, 6, 1, 2, 3, 8, 3, 2, 3, 4, 6, 8, 2, 2, 5, 4, 2, 6, 1, 3, 5, 7, 8, 8, 2, 5, 5, 4, 7, 4, 3, 2, 6, 8, 4, 8, 3, 5, 6, 1, 4, 5, 5, 5, 1, 2, 1, 7, 4, 2, 4, 6, 3, 1, 8, 1, 2, 6, 1, 7, 3, 6, 2, 3, 1, 2, 4, 8, 5, 4, 1, 2, 1, 2, 7, 4, 1, 6, 3, 7, 5, 1, 8, 6, 1, 2, 3, 4, 5, 3, 5, 4, 4, 7, 8, 2, 1, 3, 1, 6, 1, 3, 7, 1, 3, 6, 4, 1, 7, 2, 5, 3, 2, 4, 3, 2, 7, 2, 4, 8, 3, 6, 5, 7, 8, 8, 7, 8, 6, 2, 6, 7, 6, 3, 2, 2, 5, 8, 1, 3, 5, 1, 8, 1, 5, 2, 4, 7, 5, 4, 6, 7, 2, 8, 4, 6, 7, 3, 5, 5, 7, 3, 5, 4, 1, 2, 4, 5, 2, 5, 6, 1, 8, 5, 4, 2, 1, 7, 4, 7, 2, 5, 6, 6, 7, 5, 7, 2, 2, 1, 2, 3, 5, 8, 1, 5, 4, 3, 8, 8, 1, 6, 7, 7, 6, 4, 3, 2, 2, 3, 2, 6, 5, 8, 5, 2, 5, 3, 1, 1, 5, 1, 8, 6, 2, 1, 2, 4, 1, 1, 2], \"Freq\": [0.9374272137309689, 0.9764049502329956, 0.9684230909603075, 0.9747484646132599, 0.9887471109049424, 0.9257262867794448, 0.5155119577366862, 0.3343861347481208, 0.13932755614505032, 0.9579768078698744, 0.9885004992834439, 0.8975983408324839, 0.9452869716455743, 0.9436389820771991, 0.9944837941161587, 0.8778790023595101, 0.9944837941161587, 0.8635659468494575, 0.964476827859203, 0.9457243676714666, 0.9841402806217596, 0.9033045598232703, 0.9145293200716313, 0.982776287650209, 0.927612156352813, 0.9171745170493538, 0.6665380991217216, 0.31105111292347004, 0.9479420113619128, 0.9203597957804365, 0.934098137503209, 0.8726259760104202, 0.9895272626257503, 0.9390811727762981, 0.9315265510232208, 0.9344044511434264, 0.8740380908779474, 0.11205616549717273, 0.61955777282418, 0.37616007635753784, 0.9915156296337299, 0.9028856103395709, 0.945867748389176, 0.41996141137375514, 0.568183085976257, 0.9739432324177183, 0.8579399593924569, 0.939107077682474, 0.9649604505949642, 0.897310878373022, 0.14630911899932367, 0.8290850076628342, 0.8076989474951332, 0.4410591884305927, 0.12028886957197985, 0.4009628985732661, 0.9565868084835463, 0.9458859125870471, 0.9436389820771991, 0.8140532719987092, 0.9683326797264609, 0.9716433352477755, 0.719048171285524, 0.2876192685142096, 0.9803644293266806, 0.9717216630415829, 0.901205935743553, 0.9771939807526058, 0.9498802975446514, 0.05469737503959172, 0.9435297194329572, 0.42390938051985894, 0.1589660176949471, 0.4062464896648648, 0.8473112796284308, 0.6631601671339521, 0.30607392329259325, 0.9872889935546635, 0.9906644318236122, 0.938360472674574, 0.8890226839255567, 0.9921511119400951, 0.8341093840757339, 0.9259923978627279, 0.951161231270083, 0.93533554617263, 0.8412251773888014, 0.27056743386097415, 0.631324012342273, 0.9851971912371515, 0.4872541197950057, 0.522057985494649, 0.9003617226077588, 0.9854899044948336, 0.9636742629909368, 0.9034622749572613, 0.9712084685229379, 0.9363988277385072, 0.3990365232923715, 0.5786029587739386, 0.9860177527166003, 0.9618610933699746, 0.9408354974621451, 0.84140260285775, 0.14023376714295835, 0.9554718074812696, 0.9711138144450745, 0.11469594022755397, 0.8028715815928779, 0.9855160519569954, 0.9720113894025565, 0.9646965752895178, 0.4594781534779012, 0.5375027455779222, 0.25288569103183184, 0.6322142275795796, 0.9713594172703408, 0.9838241583119611, 0.731102559992987, 0.24370085333099567, 0.8742533220197359, 0.9767085497738183, 0.9513165899944875, 0.9251574236099179, 0.4529923884512788, 0.5435908661415346, 0.9618440781061899, 0.8756740421760258, 0.0972971157973362, 0.9815014869791306, 0.9246463275965255, 0.9679699722168776, 0.9339952172665498, 0.9652231823611123, 0.6192506328948678, 0.09288759493423017, 0.2786627848026905, 0.9633106712639784, 0.9206050784273069, 0.8089550514110613, 0.034423619208981335, 0.15490628644041599, 0.7341969684063757, 0.2669807157841366, 0.4037983349727683, 0.6056975024591524, 0.1870100009825041, 0.7792083374271004, 0.8636783631832591, 0.9512439188317082, 0.9465389548390156, 0.8706168361336681, 0.4836058745449158, 0.44640542265684535, 0.07440090377614089, 0.9062591802487893, 0.938139990753838, 0.450874429305053, 0.5260201675225619, 0.9847917490760609, 0.9431466808591691, 0.9640424331956129, 0.8502523373965598, 0.8967011470291114, 0.8614466372344559, 0.9660369106482344, 0.9652718105527851, 0.9415393407942778, 0.9601452140126978, 0.11983629352115192, 0.8388540546480634, 0.5483028748968123, 0.21820216449975186, 0.21820216449975186, 0.016784781884596298, 0.20060274299878053, 0.16716895249898375, 0.3343379049979675, 0.3009041144981708, 0.9786712620231102, 0.961416877019589, 0.263829401449383, 0.615601936715227, 0.10553176057975319, 0.8941231345513037, 0.9719102009329972, 0.9453215476775151, 0.8438298105529897, 0.9251131900291945, 0.9833326340910385, 0.92940296792759, 0.49142048949652795, 0.015356890296766498, 0.30713780593532997, 0.12285512237413199, 0.07678445148383249, 0.9187050795575517, 0.8705738727593362, 0.11607651636791148, 0.9140822218147266, 0.911515857995734, 0.9607939973031279, 0.957667307639028, 0.9831103774910745, 0.4780916650772353, 0.19920486044884803, 0.2788868046283872, 0.22584178474447753, 0.7528059491482584, 0.9873932109223935, 0.9308833709746285, 0.889386169550274, 0.2442974749915278, 0.17449819642251985, 0.5583942285520636, 0.9763958570057515, 0.9429486821528363, 0.24772658989109514, 0.6936344516950663, 0.9602077807494818, 0.8738016906105818, 0.9832258383834762, 0.9556557065513521, 0.846518398928546, 0.11286911985713947, 0.9554939282551174, 0.9780275065750006, 0.9436389820771991, 0.14021767993767806, 0.6309795597195513, 0.2103265199065171, 0.9927026552387427, 0.8993600172776444, 0.9596743042553607, 0.037634286441386694, 0.4637920287419613, 0.5300480328479558, 0.988478337756446, 0.8210934513695635, 0.08210934513695634, 0.8779044333464432, 0.924447622300102, 0.9302551181770932, 0.9158021296967539, 0.053870713511573756, 0.8776926509369697, 0.09337155861031592, 0.018674311722063183, 0.9111739380261552, 0.9397578087876077, 0.8467076015620769, 0.9262542618456512, 0.9626553106547107, 0.9390113295277674, 0.9666508466811411, 0.9436389820771991, 0.9181604420252495, 0.2863029004209718, 0.08016481211787209, 0.48098887270723256, 0.14506013621329236, 0.007634744011225914, 0.18851953562314747, 0.8012080263983767, 0.9827320162306812, 0.8734780036526647, 0.9310303411655815, 0.8690933511693913, 0.9240741511671781, 0.9498373081488155, 0.9445451674063611, 0.9045762776220954, 0.919003370981806, 0.9577493957675987, 0.4283442139410284, 0.48953624450403244, 0.6826614176782679, 0.2810958778675221, 0.9925438863441032, 0.8654548365442826, 0.9443321726821738, 0.8766579138021839, 0.9881881855677814, 0.9375779868170921, 0.9250177056831511, 0.16653508140287165, 0.777163713213401, 0.9470615186158579, 0.8055279567574442, 0.17511477320814003, 0.7719858267239513, 0.1781505753978349, 0.9590963233863781, 0.986634185564506, 0.9761017380710816, 0.9615404914341104, 0.9711242441426565, 0.9415393407942778, 0.9506368373603037, 0.9218403624918214, 0.9411386311337064, 0.9464359397475529, 0.7378437215519021, 0.10540624593598602, 0.10540624593598602, 0.944511658640787, 0.9026639137969271, 0.989081775894702, 0.8775082253062768, 0.09486575408716506, 0.8489162220358932, 0.7323626905636123, 0.23127242859903546, 0.03854540476650591, 0.9574323513987234, 0.9214837282510709, 0.9779319327364994, 0.9891503639221653, 0.9527973407626744, 0.9918420297518388, 0.9337585524197723, 0.9794585291211191, 0.9021706596106166, 0.9809682516980304, 0.958682302649181, 0.9400854235881327, 0.823336744803325, 0.9198794023693959, 0.9688613555577302, 0.9881251311648308, 0.17012119986681715, 0.8506059993340856, 0.9794687601874019, 0.973318945809018, 0.9272478417599301, 0.04880251798736474, 0.9729964369190115, 0.6984806833862092, 0.13518980968765337, 0.15772144463559562, 0.9322889240993264, 0.39842460662146756, 0.47086544418900717, 0.10866125635130934, 0.9671554278576391, 0.9436389820771991, 0.8850488869563432, 0.9804501568660859, 0.9723006458116238, 0.5545418371856669, 0.4033031543168486, 0.9894016504131598, 0.856335020763373, 0.91560543246233, 0.9565088047492235, 0.9765681235971216, 0.6917399053016619, 0.2848340786536255, 0.9037004600951529, 0.0645500328639395, 0.9051188141789243, 0.8791434545371621, 0.48375083678691827, 0.3174614866414151, 0.16628935014550317, 0.015117213649591196, 0.9436389820771991, 0.8651782821139282, 0.08651782821139282, 0.95507114602188, 0.8324453816592439, 0.15135370575622614, 0.9456459732043069, 0.9874597623568977, 0.23622572369861833, 0.708677171095855, 0.8691745882990816, 0.97810885920275, 0.910605485134864, 0.9774814707888393, 0.9228411207516933, 0.3816857600089898, 0.6078699140883911, 0.8628468589345679, 0.1113350785722023, 0.9157844265242552, 0.956124887596325, 0.9047854402536867, 0.10596301240835802, 0.8477040992668642, 0.9807945201866232, 0.9822484589584181, 0.9757424374128589, 0.9267365869126888, 0.9879684035578584, 0.7852734697999849, 0.9758888443503662, 0.9620303147461179, 0.6584314945378029, 0.33724539964131367, 0.9237711956888219, 0.98999167136072, 0.954149651547342, 0.9500918631719683], \"Term\": [\"$\", \"%\", \"'d\", \"'ll\", \"'m\", \"'re\", \"'s\", \"'s\", \"'s\", \"'ve\", \"*\", \"//support\", \"//www\", \"/message/compose/\", \"[\", \"\\\\\", \"]\", \"action\", \"activate\", \"activated\", \"activation\", \"ad\", \"add\", \"ago\", \"agree\", \"already\", \"also\", \"also\", \"always\", \"amazon\", \"android\", \"annoying\", \"another\", \"answer\", \"anyone\", \"anything\", \"app\", \"app\", \"apple\", \"apple\", \"apps\", \"ask\", \"available\", \"back\", \"back\", \"backup\", \"bad\", \"bar\", \"basic\", \"basically\", \"battery\", \"battery\", \"believe\", \"better\", \"better\", \"better\", \"big\", \"bit\", \"bot\", \"bought\", \"button\", \"buy\", \"c\", \"c\", \"call\", \"camera\", \"canada\", \"car\", \"card\", \"carrier\", \"carrier\", \"case\", \"case\", \"case\", \"cause\", \"change\", \"change\", \"charge\", \"charger\", \"charging\", \"chat\", \"check\", \"click\", \"close\", \"code\", \"come\", \"concern\", \"contact\", \"contact\", \"cost\", \"could\", \"could\", \"country\", \"currently\", \"deal\", \"definitely\", \"deleted\", \"depends\", \"device\", \"device\", \"different\", \"done\", \"dont\", \"download\", \"download\", \"downloaded\", \"e\", \"easy\", \"easy\", \"else\", \"end\", \"enough\", \"esim\", \"esim\", \"etc\", \"etc\", \"even\", \"every\", \"everything\", \"everything\", \"exactly\", \"fee\", \"feel\", \"file\", \"find\", \"find\", \"fine\", \"first\", \"first\", \"fix\", \"friend\", \"full\", \"g\", \"gb\", \"get\", \"get\", \"get\", \"getting\", \"glass\", \"go\", \"go\", \"go\", \"going\", \"going\", \"good\", \"good\", \"got\", \"got\", \"great\", \"group\", \"guess\", \"headset\", \"help\", \"help\", \"help\", \"hope\", \"hour\", \"http\", \"http\", \"icloud\", \"id\", \"idea\", \"ignore\", \"im\", \"imei\", \"info\", \"information\", \"instagram\", \"international\", \"io\", \"io\", \"iphone\", \"iphone\", \"iphone\", \"iphone\", \"issue\", \"issue\", \"issue\", \"issue\", \"keep\", \"keeping\", \"know\", \"know\", \"know\", \"known\", \"last\", \"le\", \"leave\", \"left\", \"let\", \"life\", \"like\", \"like\", \"like\", \"like\", \"like\", \"link\", \"little\", \"little\", \"live\", \"location\", \"lol\", \"long\", \"longer\", \"look\", \"look\", \"look\", \"looking\", \"looking\", \"lost\", \"lot\", \"love\", \"make\", \"make\", \"make\", \"manage\", \"many\", \"maybe\", \"maybe\", \"mean\", \"mess\", \"message\", \"metal\", \"might\", \"might\", \"minute\", \"mobile\", \"moderator\", \"much\", \"much\", \"much\", \"n't\", \"na\", \"need\", \"need\", \"never\", \"never\", \"new\", \"next\", \"next\", \"noise\", \"normal\", \"number\", \"old\", \"old\", \"one\", \"one\", \"one\", \"open\", \"option\", \"panama\", \"part\", \"pay\", \"pc\", \"people\", \"performed\", \"person\", \"phone\", \"phone\", \"phone\", \"phone\", \"phone\", \"photo\", \"photo\", \"physical\", \"play\", \"playing\", \"please\", \"plus\", \"pocket\", \"possible\", \"power\", \"pretty\", \"price\", \"pro\", \"pro\", \"probably\", \"probably\", \"problem\", \"process\", \"product\", \"protection\", \"protector\", \"put\", \"qr\", \"question\", \"question\", \"ram\", \"really\", \"really\", \"reason\", \"reason\", \"recommend\", \"remove\", \"review\", \"right\", \"ring\", \"ringtone\", \"running\", \"safari\", \"said\", \"samsung\", \"say\", \"say\", \"say\", \"saying\", \"scan\", \"scratch\", \"screen\", \"screen\", \"search\", \"see\", \"see\", \"see\", \"sell\", \"send\", \"service\", \"show\", \"side\", \"sim\", \"similar\", \"simple\", \"sims\", \"since\", \"single\", \"small\", \"smaller\", \"software\", \"solid\", \"someone\", \"something\", \"something\", \"sorry\", \"sound\", \"space\", \"space\", \"start\", \"still\", \"still\", \"still\", \"stop\", \"storage\", \"storage\", \"storage\", \"store\", \"subreddit\", \"suggestion\", \"support\", \"sure\", \"switch\", \"switch\", \"take\", \"tap\", \"tell\", \"thank\", \"thanks\", \"thing\", \"thing\", \"think\", \"think\", \"thinking\", \"thought\", \"time\", \"time\", \"time\", \"time\", \"to=/r/iphone\", \"transfer\", \"transfer\", \"tray\", \"tried\", \"tried\", \"true\", \"turn\", \"two\", \"two\", \"type\", \"u\", \"unless\", \"update\", \"upgrade\", \"use\", \"use\", \"using\", \"using\", \"usually\", \"version\", \"via\", \"video\", \"video\", \"want\", \"way\", \"website\", \"week\", \"work\", \"working\", \"worry\", \"worth\", \"would\", \"would\", \"yeah\", \"year\", \"yes\", \"yet\"]}, \"R\": 30, \"lambda.step\": 0.01, \"plot.opts\": {\"xlab\": \"PC1\", \"ylab\": \"PC2\"}, \"topic.order\": [6, 8, 1, 2, 3, 5, 4, 7]};\n",
       "\n",
       "function LDAvis_load_lib(url, callback){\n",
       "  var s = document.createElement('script');\n",
       "  s.src = url;\n",
       "  s.async = true;\n",
       "  s.onreadystatechange = s.onload = callback;\n",
       "  s.onerror = function(){console.warn(\"failed to load library \" + url);};\n",
       "  document.getElementsByTagName(\"head\")[0].appendChild(s);\n",
       "}\n",
       "\n",
       "if(typeof(LDAvis) !== \"undefined\"){\n",
       "   // already loaded: just create the visualization\n",
       "   !function(LDAvis){\n",
       "       new LDAvis(\"#\" + \"ldavis_el398825950539076321283186209\", ldavis_el398825950539076321283186209_data);\n",
       "   }(LDAvis);\n",
       "}else if(typeof define === \"function\" && define.amd){\n",
       "   // require.js is available: use it to load d3/LDAvis\n",
       "   require.config({paths: {d3: \"https://d3js.org/d3.v5\"}});\n",
       "   require([\"d3\"], function(d3){\n",
       "      window.d3 = d3;\n",
       "      LDAvis_load_lib(\"https://cdn.jsdelivr.net/gh/bmabey/pyLDAvis@3.4.0/pyLDAvis/js/ldavis.v3.0.0.js\", function(){\n",
       "        new LDAvis(\"#\" + \"ldavis_el398825950539076321283186209\", ldavis_el398825950539076321283186209_data);\n",
       "      });\n",
       "    });\n",
       "}else{\n",
       "    // require.js not available: dynamically load d3 & LDAvis\n",
       "    LDAvis_load_lib(\"https://d3js.org/d3.v5.js\", function(){\n",
       "         LDAvis_load_lib(\"https://cdn.jsdelivr.net/gh/bmabey/pyLDAvis@3.4.0/pyLDAvis/js/ldavis.v3.0.0.js\", function(){\n",
       "                 new LDAvis(\"#\" + \"ldavis_el398825950539076321283186209\", ldavis_el398825950539076321283186209_data);\n",
       "            })\n",
       "         });\n",
       "}\n",
       "</script>"
      ],
      "text/plain": [
       "<IPython.core.display.HTML object>"
      ]
     },
     "execution_count": 31,
     "metadata": {},
     "output_type": "execute_result"
    }
   ],
   "source": [
    "import pandas as pd\n",
    "import numpy as np\n",
    "import scipy\n",
    "import pyLDAvis.gensim_models as gensimvis\n",
    "import gensim\n",
    "import pyLDAvis\n",
    "\n",
    "# Your code before preparing the visualization\n",
    "\n",
    "# Set n_jobs=1 in the prepare function call\n",
    "vis = gensimvis.prepare(lda_model, tdm, id2word, n_jobs=1)\n",
    "\n",
    "# Display the visualization\n",
    "pyLDAvis.display(vis)\n",
    "\n",
    "# Rest of your code\n"
   ]
  },
  {
   "cell_type": "code",
   "execution_count": 32,
   "id": "898b477b",
   "metadata": {},
   "outputs": [
    {
     "name": "stdout",
     "output_type": "stream",
     "text": [
      "\n",
      "Perplexity:  -7.6675784890663685\n"
     ]
    }
   ],
   "source": [
    "# Compute Perplexity\n",
    "print('\\nPerplexity: ', lda_model.log_perplexity(tdm))  # lower value is better (some liteture do not recommend the use of this measure)"
   ]
  },
  {
   "cell_type": "code",
   "execution_count": 38,
   "id": "b6efdd34",
   "metadata": {},
   "outputs": [
    {
     "name": "stdout",
     "output_type": "stream",
     "text": [
      "\n",
      "Coherence Score:  -8.759232250404624\n"
     ]
    }
   ],
   "source": [
    "# Compute Coherence Score\n",
    "coherence_model_lda = CoherenceModel(model=lda_model, texts=corpus, dictionary=id2word, coherence='u_mass')\n",
    "coherence_lda = coherence_model_lda.get_coherence()\n",
    "print('\\nCoherence Score: ', coherence_lda)\n"
   ]
  },
  {
   "cell_type": "code",
   "execution_count": null,
   "id": "c40b88a8",
   "metadata": {},
   "outputs": [],
   "source": [
    "\n"
   ]
  },
  {
   "cell_type": "code",
   "execution_count": null,
   "id": "0221a8ea",
   "metadata": {},
   "outputs": [],
   "source": []
  },
  {
   "cell_type": "code",
   "execution_count": null,
   "id": "a38c58fd",
   "metadata": {},
   "outputs": [],
   "source": []
  },
  {
   "cell_type": "code",
   "execution_count": null,
   "id": "4ef263d2",
   "metadata": {},
   "outputs": [],
   "source": []
  },
  {
   "cell_type": "code",
   "execution_count": 52,
   "id": "0049e9de",
   "metadata": {},
   "outputs": [
    {
     "data": {
      "image/png": "[encoded data removed]",
      "text/plain": [
       "<Figure size 432x288 with 1 Axes>"
      ]
     },
     "metadata": {
      "needs_background": "light"
     },
     "output_type": "display_data"
    }
   ],
   "source": [
    "texts = processedReviews['WordsLemmatized'].tolist()\n",
    "\n",
    "# Compute coherence values\n",
    "model_list, coherence_values = compute_coherence_values(dictionary=id2word, corpus=corpus, texts=texts, limit=upperBound, start=lowerBound, step=step)\n",
    "\n",
    "# Show graph\n",
    "x = range(lowerBound, upperBound, step)\n",
    "plt.plot(x, coherence_values)\n",
    "plt.xlabel(\"Num Topics\")\n",
    "plt.ylabel(\"Coherence score\")\n",
    "plt.legend((\"coherence_values\"), loc='best')\n",
    "plt.show()\n"
   ]
  },
  {
   "cell_type": "code",
   "execution_count": null,
   "id": "49547505",
   "metadata": {},
   "outputs": [],
   "source": []
  },
  {
   "cell_type": "code",
   "execution_count": null,
   "id": "42fa1b64",
   "metadata": {},
   "outputs": [],
   "source": []
  },
  {
   "cell_type": "code",
   "execution_count": 55,
   "id": "b5af28b2",
   "metadata": {},
   "outputs": [
    {
     "data": {
      "image/png": "[encoded data removed]",
      "text/plain": [
       "<Figure size 432x288 with 1 Axes>"
      ]
     },
     "metadata": {
      "needs_background": "light"
     },
     "output_type": "display_data"
    }
   ],
   "source": [
    "from gensim.models import CoherenceModel\n",
    "import matplotlib.pyplot as plt\n",
    "import gensim\n",
    "from bs4 import BeautifulSoup\n",
    "import re\n",
    "import numpy as np\n",
    "from nltk.tokenize import word_tokenize\n",
    "from nltk.corpus import stopwords\n",
    "from nltk.stem import WordNetLemmatizer\n",
    "import pandas as pd\n",
    "\n",
    "def textPreProcess(rawText, removeHTML=True, charsToRemove=r'\\?|\\.|\\!|\\;|\\.|\\\"|\\,|\\(|\\)|\\&|\\:|\\-', removeNumbers=True, removeLineBreaks=False, specialCharsToRemove=r'[^\\x00-\\xfd]', convertToLower=True, removeConsecutiveSpaces=True):\n",
    "    if type(rawText) != str:\n",
    "        return rawText\n",
    "    procText = rawText\n",
    "        \n",
    "    # Remove HTML\n",
    "    if removeHTML:\n",
    "        procText = BeautifulSoup(procText,'html.parser').get_text()\n",
    "\n",
    "    # Remove punctuation and other special characters\n",
    "    if len(charsToRemove)>0:\n",
    "        procText = re.sub(charsToRemove,' ',procText)\n",
    "\n",
    "    # Remove numbers\n",
    "    if removeNumbers:\n",
    "        procText = re.sub(r'\\d+',' ',procText)\n",
    "\n",
    "    # Remove line breaks\n",
    "    if removeLineBreaks:\n",
    "        procText = procText.replace('\\n',' ').replace('\\r', '')\n",
    "\n",
    "    # Remove special characters\n",
    "    if len(specialCharsToRemove)>0:\n",
    "        procText = re.sub(specialCharsToRemove,' ',procText)\n",
    "\n",
    "    # Normalize to lower case\n",
    "    if convertToLower:\n",
    "        procText = procText.lower() \n",
    "\n",
    "    # Replace multiple consecutive spaces with just one space\n",
    "    if removeConsecutiveSpaces:\n",
    "        procText = re.sub(' +', ' ', procText)\n",
    "\n",
    "    return procText\n",
    "\n",
    "def tokenize_words(words):\n",
    "    if (type(words) != str) or (word_tokenize(words) == ''):\n",
    "        return np.nan\n",
    "    else:\n",
    "        return word_tokenize(words)\n",
    "\n",
    "def compute_coherence_values(dictionary, corpus, texts, limit, start=2, step=3):\n",
    "    \"\"\"\n",
    "    Compute UMass coherence for various numbers of topics\n",
    "\n",
    "    Parameters:\n",
    "    ----------\n",
    "    dictionary : Gensim dictionary\n",
    "    corpus : Gensim corpus\n",
    "    texts : List of input texts\n",
    "    limit : Max number of topics\n",
    "\n",
    "    Returns:\n",
    "    -------\n",
    "    model_list : List of LDA topic models\n",
    "    coherence_values : Coherence values corresponding to the LDA model with respective number of topics\n",
    "    \"\"\"\n",
    "    coherence_values = []\n",
    "    model_list = []\n",
    "    for num_topics in range(start, limit, step):\n",
    "        model = gensim.models.ldamodel.LdaModel(corpus=corpus,\n",
    "                                               id2word=dictionary,\n",
    "                                               num_topics=num_topics,\n",
    "                                               random_state=123,\n",
    "                                               update_every=1,\n",
    "                                               chunksize=100,\n",
    "                                               passes=10,\n",
    "                                               alpha='auto',\n",
    "                                               per_word_topics=True)\n",
    "        model_list.append(model)\n",
    "        coherencemodel = CoherenceModel(model=model, texts=texts, dictionary=dictionary, coherence='u_mass')\n",
    "        coherence_values.append(coherencemodel.get_coherence())\n",
    "\n",
    "    return model_list, coherence_values\n",
    "\n",
    "# Load and preprocess your texts\n",
    "texts = processedReviews['PreProcessedText'].tolist()\n",
    "processed_texts = [textPreProcess(doc) for doc in texts]\n",
    "tokenized_texts = [tokenize_words(doc) for doc in processed_texts if isinstance(doc, str)]\n",
    "\n",
    "# Create the dictionary and corpus\n",
    "id2word = gensim.corpora.Dictionary(tokenized_texts)\n",
    "corpus = [id2word.doc2bow(text) for text in tokenized_texts]\n",
    "\n",
    "# Compute coherence values\n",
    "lowerBound = 2\n",
    "upperBound = 20\n",
    "step = 6\n",
    "model_list, coherence_values = compute_coherence_values(dictionary=id2word, corpus=corpus, texts=tokenized_texts, limit=upperBound, start=lowerBound, step=step)\n",
    "\n",
    "# Show graph\n",
    "x = range(lowerBound, upperBound, step)\n",
    "plt.plot(x, coherence_values)\n",
    "plt.xlabel(\"Num Topics\")\n",
    "plt.ylabel(\"Coherence score\")\n",
    "plt.legend((\"coherence_values\"), loc='best')\n",
    "plt.show()\n",
    "\n"
   ]
  },
  {
   "cell_type": "code",
   "execution_count": null,
   "id": "78e8e6e8",
   "metadata": {},
   "outputs": [],
   "source": []
  }
 ],
 "metadata": {
  "kernelspec": {
   "display_name": "Python 3 (ipykernel)",
   "language": "python",
   "name": "python3"
  },
  "language_info": {
   "codemirror_mode": {
    "name": "ipython",
    "version": 3
   },
   "file_extension": ".py",
   "mimetype": "text/x-python",
   "name": "python",
   "nbconvert_exporter": "python",
   "pygments_lexer": "ipython3",
   "version": "3.9.7"
  }
 },
 "nbformat": 4,
 "nbformat_minor": 5
}
