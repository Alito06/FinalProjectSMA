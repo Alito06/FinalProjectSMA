{
 "cells": [
  {
   "cell_type": "markdown",
   "id": "6cf2bdee",
   "metadata": {},
   "source": [
    "### Topic Modeling Analysis\n",
    "Felix Funes 20220306 | Paula Catalan 20221048 | Efstathia Styliagkatzi 20220078 | Alisson Tapia 20221156 | S M Abrar Hossain Asif 20220223"
   ]
  },
  {
   "cell_type": "markdown",
   "id": "a52953c4",
   "metadata": {},
   "source": [
    "\n",
    "Topic modeling analysis offers valuable insights in various ways:\n",
    "\n",
    "Uncovering underlying themes: Topic modeling allows for the discovery of latent themes or topics within a collection of documents. It reveals patterns and structures in large text datasets, eliminating the need for manual reading and categorization of each document.\n",
    "\n",
    "Enhancing understanding of text corpora: Dealing with large amounts of text data can be overwhelming. Topic modeling helps by summarizing and organizing textual information into meaningful topics, facilitating exploration and comprehension of the dataset.\n",
    "\n",
    "Enabling content recommendation and information retrieval: Topic modeling supports content recommendation systems by suggesting relevant items based on extracted topics from user preferences or queries. This improves search engines, recommender systems, and personalized content delivery by matching users' interests with relevant topics.\n",
    "\n",
    "Facilitating text clustering and document classification: By assigning documents to different topics, topic modeling enables text clustering and document classification. It groups similar documents together based on thematic content, facilitating organization, retrieval, and analysis of the text data.\n",
    "\n",
    "Driving market research and customer insights: Topic modeling can be applied to customer reviews, feedback, or social media data to identify prevalent topics and sentiments. It provides businesses with insights into customer preferences, concerns, and trends, aiding in product development, marketing strategies, and customer satisfaction analysis.\n",
    "\n",
    "Supporting exploratory data analysis: Topic modeling serves as a powerful tool for exploratory data analysis. It offers a quick overview of the main themes present in a text dataset, identifies outliers or anomalies, and highlights areas for further investigation or research."
   ]
  },
  {
   "cell_type": "code",
   "execution_count": 1,
   "id": "f2c3f022",
   "metadata": {},
   "outputs": [
    {
     "name": "stderr",
     "output_type": "stream",
     "text": [
      "ERROR: Exception:\n",
      "Traceback (most recent call last):\n",
      "  File \"C:\\Users\\asifa\\anaconda3\\lib\\site-packages\\pip\\_internal\\cli\\base_command.py\", line 173, in _main\n",
      "    status = self.run(options, args)\n",
      "  File \"C:\\Users\\asifa\\anaconda3\\lib\\site-packages\\pip\\_internal\\commands\\uninstall.py\", line 97, in run\n",
      "    uninstall_pathset.commit()\n",
      "  File \"C:\\Users\\asifa\\anaconda3\\lib\\site-packages\\pip\\_internal\\req\\req_uninstall.py\", line 436, in commit\n",
      "    self._moved_paths.commit()\n",
      "  File \"C:\\Users\\asifa\\anaconda3\\lib\\site-packages\\pip\\_internal\\req\\req_uninstall.py\", line 287, in commit\n",
      "    save_dir.cleanup()\n",
      "  File \"C:\\Users\\asifa\\anaconda3\\lib\\site-packages\\pip\\_internal\\utils\\temp_dir.py\", line 184, in cleanup\n",
      "    rmtree(self._path)\n",
      "  File \"C:\\Users\\asifa\\anaconda3\\lib\\site-packages\\pip\\_vendor\\tenacity\\__init__.py\", line 326, in wrapped_f\n",
      "    return self(f, *args, **kw)\n",
      "  File \"C:\\Users\\asifa\\anaconda3\\lib\\site-packages\\pip\\_vendor\\tenacity\\__init__.py\", line 406, in __call__\n",
      "    do = self.iter(retry_state=retry_state)\n",
      "  File \"C:\\Users\\asifa\\anaconda3\\lib\\site-packages\\pip\\_vendor\\tenacity\\__init__.py\", line 362, in iter\n",
      "    raise retry_exc.reraise()\n",
      "  File \"C:\\Users\\asifa\\anaconda3\\lib\\site-packages\\pip\\_vendor\\tenacity\\__init__.py\", line 195, in reraise\n",
      "    raise self.last_attempt.result()\n",
      "  File \"C:\\Users\\asifa\\anaconda3\\lib\\concurrent\\futures\\_base.py\", line 438, in result\n",
      "    return self.__get_result()\n",
      "  File \"C:\\Users\\asifa\\anaconda3\\lib\\concurrent\\futures\\_base.py\", line 390, in __get_result\n",
      "    raise self._exception\n",
      "  File \"C:\\Users\\asifa\\anaconda3\\lib\\site-packages\\pip\\_vendor\\tenacity\\__init__.py\", line 409, in __call__\n",
      "    result = fn(*args, **kwargs)\n",
      "  File \"C:\\Users\\asifa\\anaconda3\\lib\\site-packages\\pip\\_internal\\utils\\misc.py\", line 135, in rmtree\n",
      "    shutil.rmtree(dir, ignore_errors=ignore_errors, onerror=rmtree_errorhandler)\n",
      "  File \"C:\\Users\\asifa\\anaconda3\\lib\\shutil.py\", line 748, in rmtree\n",
      "    return _rmtree_unsafe(path, onerror)\n",
      "  File \"C:\\Users\\asifa\\anaconda3\\lib\\shutil.py\", line 621, in _rmtree_unsafe\n",
      "    _rmtree_unsafe(fullname, onerror)\n",
      "  File \"C:\\Users\\asifa\\anaconda3\\lib\\shutil.py\", line 626, in _rmtree_unsafe\n",
      "    onerror(os.unlink, fullname, sys.exc_info())\n",
      "  File \"C:\\Users\\asifa\\anaconda3\\lib\\shutil.py\", line 624, in _rmtree_unsafe\n",
      "    os.unlink(fullname)\n",
      "PermissionError: [WinError 5] Access is denied: 'C:\\\\Users\\\\asifa\\\\anaconda3\\\\Lib\\\\site-packages\\\\~-mpy\\\\.libs\\\\libopenblas64__v0.3.21-gcc_10_3_0.dll'\n"
     ]
    },
    {
     "name": "stdout",
     "output_type": "stream",
     "text": [
      "Found existing installation: numpy 1.24.3\n",
      "Uninstalling numpy-1.24.3:\n",
      "  Successfully uninstalled numpy-1.24.3\n",
      "Collecting numpy\n",
      "  Using cached numpy-1.24.3-cp39-cp39-win_amd64.whl (14.9 MB)\n",
      "Installing collected packages: numpy\n",
      "Successfully installed numpy-1.24.3\n"
     ]
    },
    {
     "name": "stderr",
     "output_type": "stream",
     "text": [
      "ERROR: pip's dependency resolver does not currently take into account all the packages that are installed. This behaviour is the source of the following dependency conflicts.\n",
      "daal4py 2021.3.0 requires daal==2021.2.3, which is not installed.\n",
      "pandas-profiling 3.3.0 requires joblib~=1.1.0, but you have joblib 1.2.0 which is incompatible.\n",
      "pandas-profiling 3.3.0 requires numpy<1.24,>=1.16.0, but you have numpy 1.24.3 which is incompatible.\n",
      "pandas-profiling 3.3.0 requires pandas!=1.4.0,<1.5,>1.1, but you have pandas 2.0.2 which is incompatible.\n",
      "pandas-profiling 3.3.0 requires scipy<1.10,>=1.4.1, but you have scipy 1.10.1 which is incompatible.\n",
      "numba 0.54.1 requires numpy<1.21,>=1.17, but you have numpy 1.24.3 which is incompatible.\n"
     ]
    }
   ],
   "source": [
    "!pip uninstall -y numpy\n",
    "!pip install numpy\n"
   ]
  },
  {
   "cell_type": "code",
   "execution_count": 2,
   "id": "35b4d167",
   "metadata": {},
   "outputs": [
    {
     "name": "stdout",
     "output_type": "stream",
     "text": [
      "Requirement already satisfied: gensim in c:\\users\\asifa\\anaconda3\\lib\\site-packages (4.3.1)\n",
      "Requirement already satisfied: numpy>=1.18.5 in c:\\users\\asifa\\anaconda3\\lib\\site-packages (from gensim) (1.24.3)\n",
      "Requirement already satisfied: smart-open>=1.8.1 in c:\\users\\asifa\\anaconda3\\lib\\site-packages (from gensim) (6.3.0)\n",
      "Requirement already satisfied: scipy>=1.7.0 in c:\\users\\asifa\\anaconda3\\lib\\site-packages (from gensim) (1.10.1)\n"
     ]
    }
   ],
   "source": [
    "# Import packages\n",
    "!pip install --user gensim\n",
    "\n",
    "import csv\n",
    "import pandas as pd\n",
    "import numpy as np\n",
    "import nltk \n",
    "import re\n",
    "from bs4 import BeautifulSoup\n",
    "from nltk.tokenize import word_tokenize\n",
    "from nltk.corpus import stopwords\n",
    "from nltk.stem import WordNetLemmatizer \n",
    "\n",
    "import gensim         \n",
    "import gensim.corpora as corpora\n",
    "from gensim.utils import simple_preprocess\n",
    "from gensim.models import CoherenceModel\n",
    "\n",
    "import spacy\n",
    "\n",
    "import pyLDAvis\n",
    "#import pyLDAvis.gensim\n",
    "\n",
    "# For pyLDAvis new version - replace the previous line\n",
    "import pyLDAvis.gensim_models as gensimvis\n",
    "pyLDAvis.enable_notebook()\n",
    "\n",
    "\n",
    "import matplotlib.pyplot as plt"
   ]
  },
  {
   "cell_type": "code",
   "execution_count": 6,
   "id": "92817fc9",
   "metadata": {},
   "outputs": [
    {
     "name": "stdout",
     "output_type": "stream",
     "text": [
      "Collecting pyLDAvis\n",
      "  Downloading pyLDAvis-3.4.1-py3-none-any.whl (2.6 MB)\n",
      "Requirement already satisfied: gensim in c:\\users\\asifa\\anaconda3\\lib\\site-packages (from pyLDAvis) (4.3.1)\n",
      "Requirement already satisfied: scipy in c:\\users\\asifa\\anaconda3\\lib\\site-packages (from pyLDAvis) (1.7.1)\n",
      "Collecting pandas>=2.0.0\n",
      "  Downloading pandas-2.0.2-cp39-cp39-win_amd64.whl (10.7 MB)\n",
      "Collecting numpy>=1.24.2\n",
      "  Using cached numpy-1.24.3-cp39-cp39-win_amd64.whl (14.9 MB)\n",
      "Requirement already satisfied: numexpr in c:\\users\\asifa\\anaconda3\\lib\\site-packages (from pyLDAvis) (2.7.3)\n",
      "Collecting funcy\n",
      "  Downloading funcy-2.0-py2.py3-none-any.whl (30 kB)\n",
      "Requirement already satisfied: scikit-learn>=1.0.0 in c:\\users\\asifa\\anaconda3\\lib\\site-packages (from pyLDAvis) (1.1.3)\n",
      "Collecting joblib>=1.2.0\n",
      "  Downloading joblib-1.2.0-py3-none-any.whl (297 kB)\n",
      "Requirement already satisfied: jinja2 in c:\\users\\asifa\\anaconda3\\lib\\site-packages (from pyLDAvis) (2.11.3)\n",
      "Requirement already satisfied: setuptools in c:\\users\\asifa\\anaconda3\\lib\\site-packages (from pyLDAvis) (58.0.4)\n",
      "Collecting tzdata>=2022.1\n",
      "  Downloading tzdata-2023.3-py2.py3-none-any.whl (341 kB)\n",
      "Requirement already satisfied: pytz>=2020.1 in c:\\users\\asifa\\anaconda3\\lib\\site-packages (from pandas>=2.0.0->pyLDAvis) (2021.3)\n",
      "Requirement already satisfied: python-dateutil>=2.8.2 in c:\\users\\asifa\\anaconda3\\lib\\site-packages (from pandas>=2.0.0->pyLDAvis) (2.8.2)\n",
      "Requirement already satisfied: six>=1.5 in c:\\users\\asifa\\anaconda3\\lib\\site-packages (from python-dateutil>=2.8.2->pandas>=2.0.0->pyLDAvis) (1.16.0)\n",
      "Requirement already satisfied: threadpoolctl>=2.0.0 in c:\\users\\asifa\\anaconda3\\lib\\site-packages (from scikit-learn>=1.0.0->pyLDAvis) (2.2.0)\n",
      "Collecting scipy\n",
      "  Downloading scipy-1.10.1-cp39-cp39-win_amd64.whl (42.5 MB)\n",
      "Requirement already satisfied: smart-open>=1.8.1 in c:\\users\\asifa\\anaconda3\\lib\\site-packages (from gensim->pyLDAvis) (6.3.0)\n",
      "Requirement already satisfied: MarkupSafe>=0.23 in c:\\users\\asifa\\anaconda3\\lib\\site-packages (from jinja2->pyLDAvis) (1.1.1)\n",
      "Installing collected packages: numpy, tzdata, scipy, joblib, pandas, funcy, pyLDAvis\n",
      "  Attempting uninstall: numpy\n",
      "    Found existing installation: numpy 1.21.2\n",
      "    Uninstalling numpy-1.21.2:\n",
      "      Successfully uninstalled numpy-1.21.2\n",
      "  Attempting uninstall: scipy\n",
      "    Found existing installation: scipy 1.7.1\n",
      "    Uninstalling scipy-1.7.1:\n",
      "      Successfully uninstalled scipy-1.7.1\n",
      "  Attempting uninstall: joblib\n",
      "    Found existing installation: joblib 1.1.0\n",
      "    Uninstalling joblib-1.1.0:\n",
      "      Successfully uninstalled joblib-1.1.0\n",
      "  Attempting uninstall: pandas\n",
      "    Found existing installation: pandas 1.3.4\n",
      "    Uninstalling pandas-1.3.4:\n",
      "      Successfully uninstalled pandas-1.3.4\n",
      "Successfully installed funcy-2.0 joblib-1.2.0 numpy-1.24.3 pandas-2.0.2 pyLDAvis-3.4.1 scipy-1.10.1 tzdata-2023.3\n"
     ]
    },
    {
     "name": "stderr",
     "output_type": "stream",
     "text": [
      "ERROR: pip's dependency resolver does not currently take into account all the packages that are installed. This behaviour is the source of the following dependency conflicts.\n",
      "daal4py 2021.3.0 requires daal==2021.2.3, which is not installed.\n",
      "pandas-profiling 3.3.0 requires joblib~=1.1.0, but you have joblib 1.2.0 which is incompatible.\n",
      "pandas-profiling 3.3.0 requires numpy<1.24,>=1.16.0, but you have numpy 1.24.3 which is incompatible.\n",
      "pandas-profiling 3.3.0 requires pandas!=1.4.0,<1.5,>1.1, but you have pandas 2.0.2 which is incompatible.\n",
      "pandas-profiling 3.3.0 requires scipy<1.10,>=1.4.1, but you have scipy 1.10.1 which is incompatible.\n",
      "numba 0.54.1 requires numpy<1.21,>=1.17, but you have numpy 1.24.3 which is incompatible.\n"
     ]
    },
    {
     "ename": "NameError",
     "evalue": "name 'pyLDAvis' is not defined",
     "output_type": "error",
     "traceback": [
      "\u001b[1;31m---------------------------------------------------------------------------\u001b[0m",
      "\u001b[1;31mNameError\u001b[0m                                 Traceback (most recent call last)",
      "\u001b[1;32m~\\AppData\\Local\\Temp/ipykernel_3988/1806356822.py\u001b[0m in \u001b[0;36m<module>\u001b[1;34m\u001b[0m\n\u001b[0;32m      3\u001b[0m \u001b[1;33m\u001b[0m\u001b[0m\n\u001b[0;32m      4\u001b[0m \u001b[1;32mimport\u001b[0m \u001b[0mpyLDAvis\u001b[0m\u001b[1;33m.\u001b[0m\u001b[0mgensim_models\u001b[0m \u001b[1;32mas\u001b[0m \u001b[0mgensimvis\u001b[0m\u001b[1;33m\u001b[0m\u001b[1;33m\u001b[0m\u001b[0m\n\u001b[1;32m----> 5\u001b[1;33m \u001b[0mpyLDAvis\u001b[0m\u001b[1;33m.\u001b[0m\u001b[0menable_notebook\u001b[0m\u001b[1;33m(\u001b[0m\u001b[1;33m)\u001b[0m\u001b[1;33m\u001b[0m\u001b[1;33m\u001b[0m\u001b[0m\n\u001b[0m",
      "\u001b[1;31mNameError\u001b[0m: name 'pyLDAvis' is not defined"
     ]
    }
   ],
   "source": [
    "!pip install pyLDAvis\n",
    "import spacy\n",
    "\n",
    "import pyLDAvis.gensim_models as gensimvis\n",
    "pyLDAvis.enable_notebook()\n"
   ]
  },
  {
   "cell_type": "code",
   "execution_count": 3,
   "id": "a0507991",
   "metadata": {},
   "outputs": [],
   "source": [
    "# Just because of versions on my computer\n",
    "import warnings\n",
    "warnings.filterwarnings(\"ignore\", category=DeprecationWarning)"
   ]
  },
  {
   "cell_type": "code",
   "execution_count": 4,
   "id": "92b77064",
   "metadata": {},
   "outputs": [],
   "source": [
    "# Load dataset\n",
    "dtypes = {'type':'category','subreddit':'category','score':'float64','title':'category','reviews':'category','author':'category'}\n",
    "ds= pd.read_excel(\"reddit_FINAL_v12.xlsx\", sheet_name=\"Sheet1\", engine='openpyxl', dtype=dtypes)"
   ]
  },
  {
   "cell_type": "code",
   "execution_count": 5,
   "id": "9108752e",
   "metadata": {},
   "outputs": [],
   "source": [
    "# Text preprocessing\n",
    "def textPreProcess(rawText, removeHTML=True, charsToRemove = r'\\?|\\.|\\!|\\;|\\.|\\\"|\\,|\\(|\\)|\\&|\\:|\\-', removeNumbers=True, removeLineBreaks=False, specialCharsToRemove = r'[^\\x00-\\xfd]', convertToLower=True, removeConsecutiveSpaces=True):\n",
    "    if type(rawText) != str:\n",
    "        return rawText\n",
    "    procText = rawText\n",
    "        \n",
    "    # Remove HTML\n",
    "    if removeHTML:\n",
    "        procText = BeautifulSoup(procText,'html.parser').get_text()\n",
    "\n",
    "    # Remove punctuation and other special characters\n",
    "    if len(charsToRemove)>0:\n",
    "        procText = re.sub(charsToRemove,' ',procText)\n",
    "\n",
    "    # Remove numbers\n",
    "    if removeNumbers:\n",
    "        procText = re.sub(r'\\d+',' ',procText)\n",
    "\n",
    "    # Remove line breaks\n",
    "    if removeLineBreaks:\n",
    "        procText = procText.replace('\\n',' ').replace('\\r', '')\n",
    "\n",
    "    # Remove special characters\n",
    "    if len(specialCharsToRemove)>0:\n",
    "        procText = re.sub(specialCharsToRemove,' ',procText)\n",
    "\n",
    "    # Normalize to lower case\n",
    "    if convertToLower:\n",
    "        procText = procText.lower() \n",
    "\n",
    "    # Replace multiple consecutive spaces with just one space\n",
    "    if removeConsecutiveSpaces:\n",
    "        procText = re.sub(' +', ' ', procText)\n",
    "\n",
    "    return procText"
   ]
  },
  {
   "cell_type": "code",
   "execution_count": 6,
   "id": "a36fa7a4",
   "metadata": {},
   "outputs": [],
   "source": [
    "# Tokenize words\n",
    "def tokenize_words(words):\n",
    "    if (type(words) != str) or (word_tokenize(words) == ''):\n",
    "        return np.nan\n",
    "    else:\n",
    "        return word_tokenize(words)"
   ]
  },
  {
   "cell_type": "code",
   "execution_count": 7,
   "id": "7829ec73",
   "metadata": {},
   "outputs": [],
   "source": [
    "# Function to create text from words\n",
    "def recreateText(words):\n",
    "    if type(words) == list:\n",
    "        temp_str = (' ').join(words)\n",
    "        return temp_str\n",
    "    else:\n",
    "        return np.nan"
   ]
  },
  {
   "cell_type": "code",
   "execution_count": 8,
   "id": "3316b7a0",
   "metadata": {},
   "outputs": [],
   "source": [
    "# Function to remove stop words\n",
    "def removeStopWords(t, stop_words):\n",
    "    if type(t) == list:\n",
    "        return [w for w in t if not w in stop_words]\n",
    "    else:\n",
    "        return np.nan"
   ]
  },
  {
   "cell_type": "code",
   "execution_count": 9,
   "id": "dd23d244",
   "metadata": {},
   "outputs": [],
   "source": [
    "# Function to lemmatize words\n",
    "def lemmatize(words):\n",
    "    if type(words) == list:\n",
    "        lemmatizer = WordNetLemmatizer()\n",
    "        return [lemmatizer.lemmatize(x) for x in words]\n",
    "    else:\n",
    "        return np.nan"
   ]
  },
  {
   "cell_type": "code",
   "execution_count": 10,
   "id": "3f704565",
   "metadata": {},
   "outputs": [
    {
     "name": "stdout",
     "output_type": "stream",
     "text": [
      "Index(['type', 'subreddit', 'title', 'reviews', 'author', 'date_published',\n",
      "       'score'],\n",
      "      dtype='object')\n"
     ]
    }
   ],
   "source": [
    "dtypes = {'type':'category','subreddit':'category','score':'float64','title':'category','reviews':'category','author':'category'}\n",
    "ds= pd.read_excel(\"reddit_FINAL_v12.xlsx\", sheet_name=\"Sheet1\", engine='openpyxl', dtype=dtypes)\n",
    "print(ds.columns)  # Check column names"
   ]
  },
  {
   "cell_type": "code",
   "execution_count": 12,
   "id": "c97672f7",
   "metadata": {},
   "outputs": [
    {
     "name": "stderr",
     "output_type": "stream",
     "text": [
      "C:\\Users\\asifa\\anaconda3\\lib\\site-packages\\bs4\\__init__.py:431: MarkupResemblesLocatorWarning: \"https://iaohi.com/products/aohi-magcube-65w-pd-fast-charger\" looks like a URL. Beautiful Soup is not an HTTP client. You should probably use an HTTP client like requests to get the document behind the URL, and feed that document to Beautiful Soup.\n",
      "  warnings.warn(\n",
      "C:\\Users\\asifa\\anaconda3\\lib\\site-packages\\bs4\\__init__.py:431: MarkupResemblesLocatorWarning: \"https://preview.redd.it/yqvdvjj1r8wa1.jpeg?width=640&format=pjpg&auto=webp&v=enabled&s=10f145dc1c4c69eb3b08c6716b4ab2676564fe19\" looks like a URL. Beautiful Soup is not an HTTP client. You should probably use an HTTP client like requests to get the document behind the URL, and feed that document to Beautiful Soup.\n",
      "  warnings.warn(\n"
     ]
    }
   ],
   "source": [
    "# Create a dataframe with only the description\n",
    "processedReviews = pd.DataFrame(data=ds.reviews.apply(textPreProcess).values, index=ds.index, columns=['PreProcessedText'])"
   ]
  },
  {
   "cell_type": "code",
   "execution_count": 13,
   "id": "2e34ed56",
   "metadata": {},
   "outputs": [
    {
     "name": "stderr",
     "output_type": "stream",
     "text": [
      "C:\\Users\\asifa\\anaconda3\\lib\\site-packages\\bs4\\__init__.py:431: MarkupResemblesLocatorWarning: \"https://iaohi.com/products/aohi-magcube-65w-pd-fast-charger\" looks like a URL. Beautiful Soup is not an HTTP client. You should probably use an HTTP client like requests to get the document behind the URL, and feed that document to Beautiful Soup.\n",
      "  warnings.warn(\n",
      "C:\\Users\\asifa\\anaconda3\\lib\\site-packages\\bs4\\__init__.py:431: MarkupResemblesLocatorWarning: \"https://preview.redd.it/yqvdvjj1r8wa1.jpeg?width=640&format=pjpg&auto=webp&v=enabled&s=10f145dc1c4c69eb3b08c6716b4ab2676564fe19\" looks like a URL. Beautiful Soup is not an HTTP client. You should probably use an HTTP client like requests to get the document behind the URL, and feed that document to Beautiful Soup.\n",
      "  warnings.warn(\n"
     ]
    }
   ],
   "source": [
    "# Create a dataframe with only the description\n",
    "processedReviews = pd.DataFrame(data=ds.reviews.apply(textPreProcess).values, index=ds.index, columns=['PreProcessedText'])"
   ]
  },
  {
   "cell_type": "code",
   "execution_count": 14,
   "id": "d3d53808",
   "metadata": {},
   "outputs": [
    {
     "name": "stderr",
     "output_type": "stream",
     "text": [
      "[nltk_data] Downloading package wordnet to\n",
      "[nltk_data]     C:\\Users\\asifa\\AppData\\Roaming\\nltk_data...\n",
      "[nltk_data]   Package wordnet is already up-to-date!\n",
      "[nltk_data] Downloading package omw-1.4 to\n",
      "[nltk_data]     C:\\Users\\asifa\\AppData\\Roaming\\nltk_data...\n",
      "[nltk_data]   Package omw-1.4 is already up-to-date!\n"
     ]
    },
    {
     "data": {
      "text/plain": [
       "True"
      ]
     },
     "execution_count": 14,
     "metadata": {},
     "output_type": "execute_result"
    }
   ],
   "source": [
    "import nltk\n",
    "nltk.download('wordnet')\n",
    "nltk.download('omw-1.4')"
   ]
  },
  {
   "cell_type": "code",
   "execution_count": 15,
   "id": "a3d2d3f8",
   "metadata": {},
   "outputs": [],
   "source": [
    "# Tokekinze words\n",
    "processedReviews['Words'] =  processedReviews['PreProcessedText'].apply(tokenize_words)\n",
    "\n",
    "# Remove stopwords\n",
    "stop_words = set(stopwords.words('english'))\n",
    "processedReviews['WordsCleaned'] = processedReviews['Words'].apply(removeStopWords,stop_words=stop_words)\n",
    "\n",
    "# Remove all reviews with no words\n",
    "processedReviews = processedReviews[processedReviews['WordsCleaned'].str.len()>0]\n",
    "\n",
    "# Lemmative words\n",
    "processedReviews['WordsLemmatized'] = processedReviews['WordsCleaned'].apply(lemmatize)"
   ]
  },
  {
   "cell_type": "code",
   "execution_count": 16,
   "id": "59eab2bb",
   "metadata": {},
   "outputs": [],
   "source": [
    "# Create dictionary (needed for LDA)\n",
    "id2word = corpora.Dictionary(processedReviews['WordsLemmatized'])"
   ]
  },
  {
   "cell_type": "code",
   "execution_count": 17,
   "id": "dd970e7d",
   "metadata": {},
   "outputs": [],
   "source": [
    "# Create corpus\n",
    "corpus = processedReviews['WordsLemmatized']"
   ]
  },
  {
   "cell_type": "code",
   "execution_count": 18,
   "id": "b400ad3e",
   "metadata": {},
   "outputs": [],
   "source": [
    "# Create TDM (Frequency)\n",
    "tdm = [id2word.doc2bow(text) for text in corpus]"
   ]
  },
  {
   "cell_type": "code",
   "execution_count": 19,
   "id": "39f901f3",
   "metadata": {},
   "outputs": [],
   "source": [
    "# Build LDA model (can take from 2 to 10 minutes depending on the computer)\n",
    "lda_model = gensim.models.ldamodel.LdaModel(corpus=tdm,\n",
    "                                           id2word=id2word,\n",
    "                                           num_topics=8, \n",
    "                                           random_state=123,\n",
    "                                           update_every=1,\n",
    "                                           chunksize=100,\n",
    "                                           passes=10,\n",
    "                                           alpha='auto',\n",
    "                                           per_word_topics=True)"
   ]
  },
  {
   "cell_type": "code",
   "execution_count": 20,
   "id": "d67c6d65",
   "metadata": {},
   "outputs": [
    {
     "name": "stdout",
     "output_type": "stream",
     "text": [
      "[(0, '0.064*\"phone\" + 0.026*\"need\" + 0.023*\"icloud\" + 0.022*\"use\" + 0.020*\"iphone\" + 0.018*\"want\" + 0.014*\"get\" + 0.014*\"apps\" + 0.013*\"got\" + 0.012*\"backup\"'), (1, '0.040*\"carrier\" + 0.037*\"sim\" + 0.036*\"esim\" + 0.022*\"phone\" + 0.021*\"[\" + 0.021*\"]\" + 0.021*\"know\" + 0.020*\"apple\" + 0.015*\"support\" + 0.014*\"take\"'), (2, '0.044*\"photo\" + 0.026*\"device\" + 0.024*\"think\" + 0.023*\"right\" + 0.017*\"like\" + 0.016*\"check\" + 0.015*\"thank\" + 0.014*\"video\" + 0.014*\"make\" + 0.013*\"show\"'), (3, '0.026*\"e\" + 0.024*\"http\" + 0.021*\"call\" + 0.021*\"someone\" + 0.019*\"sound\" + 0.019*\"%\" + 0.019*\"every\" + 0.018*\"fine\" + 0.017*\"//www\" + 0.013*\"lol\"'), (4, '0.025*\"u\" + 0.023*\"since\" + 0.022*\"problem\" + 0.020*\"case\" + 0.017*\"thanks\" + 0.016*\"http\" + 0.016*\"review\" + 0.015*\"battery\" + 0.015*\"thing\" + 0.013*\"good\"'), (5, '0.034*\"iphone\" + 0.031*\"new\" + 0.026*\"phone\" + 0.024*\"work\" + 0.023*\"n\\'t\" + 0.021*\"get\" + 0.019*\"apple\" + 0.018*\"esim\" + 0.016*\"one\" + 0.014*\"would\"'), (6, '0.063*\"*\" + 0.038*\"even\" + 0.020*\"io\" + 0.014*\"looking\" + 0.013*\"issue\" + 0.013*\"said\" + 0.013*\"version\" + 0.012*\"link\" + 0.012*\"send\" + 0.011*\"running\"'), (7, '0.023*\"go\" + 0.018*\"iphone\" + 0.018*\"screen\" + 0.018*\"different\" + 0.015*\"using\" + 0.014*\"button\" + 0.014*\"gb\" + 0.013*\"use\" + 0.012*\"\\'s\" + 0.011*\"case\"')]\n"
     ]
    }
   ],
   "source": [
    "# Print the keywords in the 10 topics\n",
    "print(lda_model.print_topics())\n",
    "doc_lda = lda_model[tdm]\n",
    "# Interpretation: Topic 0 is represented as 0.055\"walking\" + 0.054\"garden\" + ..."
   ]
  },
  {
   "cell_type": "code",
   "execution_count": 21,
   "id": "e4cf6df0",
   "metadata": {},
   "outputs": [
    {
     "data": {
      "text/html": [
       "\n",
       "<link rel=\"stylesheet\" type=\"text/css\" href=\"https://cdn.jsdelivr.net/gh/bmabey/pyLDAvis@3.4.0/pyLDAvis/js/ldavis.v1.0.0.css\">\n",
       "\n",
       "\n",
       "<div id=\"ldavis_el1077218493218704961865001403\" style=\"background-color:white;\"></div>\n",
       "<script type=\"text/javascript\">\n",
       "\n",
       "var ldavis_el1077218493218704961865001403_data = {\"mdsDat\": {\"x\": [0.23397593432791775, 0.08164284745543737, 0.13485061804622359, 0.071134831470711, -0.08504213453790974, -0.13683081238011968, -0.16242292393740948, -0.13730836044485129], \"y\": [0.07453468147421102, 0.132496000355452, 0.03325991357359182, -0.3221960126190407, 0.04005526973425029, 0.04351149557843641, 0.027492071863590095, -0.029153419960491037], \"topics\": [1, 2, 3, 4, 5, 6, 7, 8], \"cluster\": [1, 1, 1, 1, 1, 1, 1, 1], \"Freq\": [23.138285631782786, 16.769055433187642, 15.630800480436784, 13.599937825972638, 9.203131669336456, 9.092578066024844, 7.124079869607744, 5.442131023651104]}, \"tinfo\": {\"Term\": [\"phone\", \"esim\", \"carrier\", \"new\", \"*\", \"sim\", \"photo\", \"work\", \"n't\", \"apple\", \"iphone\", \"need\", \"device\", \"icloud\", \"use\", \"even\", \"http\", \"go\", \"]\", \"[\", \"case\", \"u\", \"think\", \"get\", \"different\", \"right\", \"want\", \"since\", \"e\", \"know\", \"new\", \"work\", \"n't\", \"way\", \"store\", \"charge\", \"year\", \"people\", \"turn\", \"yes\", \"price\", \"website\", \"charger\", \"product\", \"mean\", \"buy\", \"anyone\", \"charging\", \"option\", \"fee\", \"mobile\", \"service\", \"anything\", \"pocket\", \"already\", \"close\", \"android\", \"sell\", \"'ll\", \"power\", \"country\", \"old\", \"one\", \"app\", \"transfer\", \"get\", \"iphone\", \"apple\", \"would\", \"still\", \"also\", \"download\", \"esim\", \"going\", \"'s\", \"phone\", \"time\", \"like\", \"see\", \"probably\", \"device\", \"different\", \"button\", \"gb\", \"'m\", \"sure\", \"last\", \"always\", \"car\", \"scratch\", \"feel\", \"camera\", \"let\", \"glass\", \"bit\", \"protector\", \"currently\", \"side\", \"upgrade\", \"definitely\", \"le\", \"worth\", \"keeping\", \"thought\", \"thinking\", \"tell\", \"plus\", \"small\", \"yet\", \"activated\", \"metal\", \"screen\", \"using\", \"go\", \"little\", \"really\", \"next\", \"say\", \"reason\", \"much\", \"maybe\", \"case\", \"use\", \"iphone\", \"'s\", \"time\", \"would\", \"back\", \"could\", \"phone\", \"never\", \"also\", \"change\", \"icloud\", \"want\", \"apps\", \"backup\", \"update\", \"keep\", \"another\", \"code\", \"enough\", \"longer\", \"remove\", \"need\", \"info\", \"ago\", \"dont\", \"possible\", \"minute\", \"qr\", \"else\", \"activate\", \"file\", \"part\", \"full\", \"lost\", \"scan\", \"ram\", \"big\", \"space\", \"done\", \"deal\", \"tried\", \"got\", \"phone\", \"use\", \"back\", \"everything\", \"iphone\", \"get\", \"never\", \"know\", \"help\", \"sim\", \"[\", \"]\", \"support\", \"take\", \"physical\", \"message\", \"number\", \"card\", \"start\", \"bar\", \"long\", \"yeah\", \"tray\", \"deleted\", \"activation\", \"hope\", \"location\", \"software\", \"id\", \"sims\", \"open\", \"carrier\", \"//support\", \"information\", \"unless\", \"left\", \"imei\", \"process\", \"play\", \"might\", \"question\", \"know\", \"esim\", \"apple\", \"phone\", \"help\", \"right\", \"check\", \"thank\", \"show\", \"lot\", \"many\", \"idea\", \"sorry\", \"stop\", \"pc\", \"available\", \"cost\", \"put\", \"live\", \"add\", \"normal\", \"week\", \"hour\", \"ask\", \"via\", \"usually\", \"manage\", \"simple\", \"leave\", \"think\", \"suggestion\", \"amazon\", \"downloaded\", \"end\", \"click\", \"photo\", \"video\", \"something\", \"first\", \"device\", \"make\", \"like\", \"storage\", \"case\", \"go\", \"u\", \"since\", \"problem\", \"thanks\", \"review\", \"$\", \"samsung\", \"'ve\", \"life\", \"answer\", \"saying\", \"pretty\", \"'re\", \"getting\", \"fix\", \"love\", \"agree\", \"come\", \"guess\", \"solid\", \"canada\", \"'d\", \"worry\", \"great\", \"basically\", \"person\", \"g\", \"panama\", \"cause\", \"ignore\", \"battery\", \"easy\", \"thing\", \"good\", \"c\", \"case\", \"http\", \"better\", \"'s\", \"e\", \"call\", \"someone\", \"%\", \"sound\", \"every\", \"fine\", \"//www\", \"lol\", \"ring\", \"im\", \"depends\", \"pay\", \"safari\", \"friend\", \"annoying\", \"playing\", \"similar\", \"single\", \"bad\", \"exactly\", \"bought\", \"tap\", \"type\", \"na\", \"ad\", \"international\", \"headset\", \"mess\", \"protection\", \"two\", \"http\", \"pro\", \"switch\", \"thing\", \"etc\", \"like\", \"*\", \"even\", \"said\", \"version\", \"link\", \"send\", \"running\", \"please\", \"noise\", \"\\\\\", \"chat\", \"recommend\", \"concern\", \"search\", \"action\", \"known\", \"/message/compose/\", \"bot\", \"moderator\", \"performed\", \"subreddit\", \"to=/r/iphone\", \"instagram\", \"ringtone\", \"group\", \"basic\", \"working\", \"believe\", \"smaller\", \"true\", \"io\", \"looking\", \"contact\", \"issue\", \"find\", \"look\"], \"Freq\": [261.0, 115.0, 73.0, 91.0, 43.0, 63.0, 63.0, 69.0, 68.0, 90.0, 178.0, 53.0, 50.0, 45.0, 70.0, 26.0, 39.0, 58.0, 36.0, 36.0, 56.0, 28.0, 30.0, 96.0, 37.0, 27.0, 35.0, 26.0, 23.0, 56.0, 90.40707861440914, 69.19860156334346, 67.85780610015367, 32.9513426416289, 32.4454085832976, 25.693106139744547, 25.621050501334466, 25.210440835579774, 21.638217213384458, 24.399639381936755, 17.10881528282812, 15.755650952461837, 15.510277254701116, 15.243286055318004, 14.979809337024337, 14.796298877464624, 14.386954316888882, 14.279058532293908, 13.192087453433723, 12.668675501248082, 12.65118140540639, 12.652283140546222, 12.201402085066276, 11.992156118765923, 11.352127662293904, 11.23716173546886, 11.135048710192397, 10.847668659894305, 10.64372141854037, 10.413514806188125, 10.461607030224023, 34.02105185313275, 47.44107696560684, 38.92553654168099, 19.93682221872848, 60.31837870713912, 97.71247910147076, 56.17671868735786, 41.096899883081406, 30.649977254059376, 30.378348235797183, 17.653315471716038, 52.96638130445748, 21.87499305652452, 36.542729164363, 75.24467017961355, 32.336841766393185, 31.633705219025398, 18.650596399100746, 17.331862642019864, 20.117051775849717, 36.886964155701634, 30.343476357323027, 28.37230683421668, 22.625078118695225, 21.99029245740481, 18.91128531646299, 18.351940679629926, 15.736143659854918, 14.529029536554072, 14.078765078745207, 12.742169859160164, 12.583000824381635, 12.398910164503826, 12.048501489009006, 11.50751757985912, 11.538712420966547, 10.908393649564946, 10.199138622450167, 10.412790014757567, 8.883413025548288, 8.719056918852868, 8.722109864406669, 8.463171156034845, 8.202047928128128, 8.10099543029732, 8.020949057042225, 7.873288257090059, 7.783177437843419, 7.818875373642701, 7.73521243411618, 37.22226368622971, 30.93512154951858, 47.414001851236485, 15.033817449235801, 23.015389379683135, 10.444144352700016, 14.16315162507847, 12.963235408025623, 18.13058451383194, 14.332767213296863, 23.923302118105028, 26.833467670807, 38.7145082466327, 24.484421768795336, 21.16743556491836, 20.634812029746577, 16.538162241920293, 14.579117413800212, 20.542775506381385, 13.817721599256, 14.0925043122455, 13.09088180145297, 45.057605935074996, 35.04717685758475, 26.58209422441459, 24.004338141293992, 22.891889069033358, 22.863130911718624, 21.59261504025221, 17.232874742983473, 15.947320352715746, 14.619103924698596, 14.565526009158406, 50.805005306365196, 13.853230323939805, 13.606739259678788, 13.178677782008267, 13.123699810284185, 12.966357209521409, 15.43810122081544, 12.552641063225646, 11.802687058970864, 11.251712505507962, 11.235115227085627, 10.726015578807528, 10.502172589531675, 10.43930961083056, 9.920277316400938, 9.815170036583766, 19.23878221021475, 9.757800568238078, 9.737364308396849, 21.640846291720752, 25.3242071333535, 125.65110775358349, 43.37084013485103, 23.407293986626925, 14.662456413608417, 38.9053486231294, 26.64389370766918, 15.834186692170071, 15.307818468172345, 12.69085625145917, 62.860673447073346, 35.54170704917313, 35.54170704917313, 25.86087363580011, 24.609542781283903, 21.729220895681426, 21.717220321622413, 15.467154381658606, 15.134084091031408, 14.757374627840715, 14.249019137041124, 13.959846727292675, 13.41530222854181, 11.907429542518027, 11.6988106488676, 11.535251442763187, 11.480303701204786, 11.41020485794458, 11.295455816373543, 10.987827822025409, 10.426629173876153, 10.315860748591323, 68.68205494716209, 9.36915576094902, 8.665354073814541, 8.12702968480277, 7.989699216512433, 7.468144046548473, 7.430710699215865, 7.355280560060377, 15.270255133405845, 14.246449512731965, 35.46203758541618, 61.822177003295344, 33.65195549515635, 38.040416710935745, 11.516813317006863, 26.402441017688115, 18.51040197450535, 17.134594253190873, 15.538314590962152, 14.401038836412722, 13.150039158153094, 10.77319798256721, 10.591999482346438, 10.087682792590446, 10.011283996347824, 9.934651058824473, 9.510109955157963, 8.96141167823533, 8.112910527933847, 8.107424855496559, 8.015558772172314, 7.994920507127044, 7.887931367365552, 7.116138874588759, 7.097380184044764, 7.00687491265944, 6.5308887808505025, 6.508555139605084, 6.469513692107203, 28.09709760931349, 6.137132422408423, 5.8822046587581225, 5.642252270691397, 5.533998982822478, 5.356733626500941, 51.11680932471817, 15.974105216529427, 14.52949217995747, 8.729634902227858, 29.46648470413162, 15.952317188910664, 20.06879263691611, 12.555976545110294, 9.052417453459277, 8.604852636194739, 27.982625712660514, 25.85841127281962, 25.55055106261336, 19.83515908121042, 17.79444260553805, 14.290586317441349, 13.090519157257404, 11.881586168021292, 11.188373838788573, 11.068003363799612, 11.000028824311423, 10.236424677483889, 10.157551163705474, 9.736003541510918, 9.543790669835063, 9.47492265002827, 7.979106606973425, 7.9085847996648, 7.80580909565298, 7.611571567863239, 7.1235838153737205, 6.583535447788039, 6.526558568658517, 6.3022456656550006, 6.041028417615418, 5.888729816063179, 5.780066373871113, 5.260448144734432, 5.255731905689266, 5.233724912426198, 17.37172136192737, 7.475604980068264, 16.57272075074398, 14.525309539525212, 9.630102778665028, 23.202760681860717, 18.171583619213735, 10.450300732894037, 10.30484489599086, 23.028402083837676, 18.723461867390874, 18.570627305133506, 16.755693391027414, 16.804611824622764, 16.620938645503525, 15.977559562422973, 15.210254002609892, 11.833861945878423, 10.669923651277761, 9.380623036870038, 8.95398475688282, 8.691654481207694, 8.022617289775633, 7.995028650087089, 7.364482362522092, 6.862391651370286, 6.840331880497968, 6.644572511005576, 6.336951654228272, 6.20723732482444, 5.48599139929474, 5.18274874149281, 5.096240651217882, 4.904343175808403, 4.879679016730547, 4.55174434765447, 3.938507576528482, 3.9206551501139852, 3.9062314537743927, 8.773716196981995, 21.190634357224994, 8.307443825966462, 8.343028124512998, 7.442541676118752, 5.226096320125286, 7.636108620488079, 42.82713672801499, 26.09134919873211, 8.888343633587109, 8.739271763706125, 8.034833742926562, 8.00719655562336, 7.741178386542089, 7.380738400570263, 6.160589766082456, 6.1605199030328555, 6.075991329084322, 5.582601324604704, 5.2705183186509155, 5.216601192562654, 5.116878675563344, 4.911396838960636, 4.625904979921944, 4.625904979921944, 4.625904979921944, 4.625904979921944, 4.625904979921944, 4.625904979921944, 4.636203746110961, 4.636203746110961, 4.583288837225145, 4.50728387288715, 4.419309780356062, 4.277853300440814, 4.1845692985807945, 3.5566522760283195, 13.902405176613172, 9.619399476264343, 7.428345623042363, 9.021028807625054, 5.907241578605495, 6.953432489826097], \"Total\": [261.0, 115.0, 73.0, 91.0, 43.0, 63.0, 63.0, 69.0, 68.0, 90.0, 178.0, 53.0, 50.0, 45.0, 70.0, 26.0, 39.0, 58.0, 36.0, 36.0, 56.0, 28.0, 30.0, 96.0, 37.0, 27.0, 35.0, 26.0, 23.0, 56.0, 91.04846187505007, 69.83985094026355, 68.4994364411729, 33.5961793338119, 33.08651404759419, 26.334578993190657, 26.26268559748703, 25.862333132095905, 22.279252598951427, 25.153132139864574, 17.749838566826245, 16.39767117574377, 16.150679485848322, 15.884145705576147, 15.621525066870497, 15.437670849572854, 15.02900385996623, 14.919550181446194, 13.833268980278152, 13.309930334606126, 13.291980719756651, 13.29327975551185, 12.842328468996802, 12.633667754036075, 11.993284761130324, 11.879077235175114, 11.775995274779895, 11.488994886441304, 11.284896447982522, 11.054834961744605, 11.106582185883227, 37.12569404859268, 53.549151279688886, 44.620312042446464, 23.116536023982654, 96.89121455504028, 178.73293676732126, 90.3865312982932, 62.26875253196347, 44.381761725316835, 45.00836298235092, 21.39278382567812, 115.34761165943623, 29.964679746390544, 71.77291660350865, 261.9613037499788, 66.14953762548534, 65.1174206079273, 25.94340858048067, 24.902525462466702, 50.12104886999821, 37.524351423199256, 30.98081864076907, 29.008583184641388, 23.26156163720722, 22.626551544660334, 19.548963987570872, 18.988341111931742, 16.373273564651587, 15.165453217522169, 14.716322842558576, 13.378204525449911, 13.220237790429469, 13.034796335506606, 12.6864136048596, 12.143335034913736, 12.176583607932146, 11.54485683898353, 10.836012166011624, 11.068439473792962, 9.520492521923437, 9.355138510334106, 9.361107627199681, 9.099692567837105, 8.838547195566832, 8.737317573393288, 8.657244106584974, 8.509796474295538, 8.42017073868519, 8.459056342491758, 8.371148398288183, 42.16458156722357, 35.92732925254233, 58.0993732451138, 17.22990537345001, 28.5524798100973, 12.178784879044487, 18.974083740178738, 16.839557640011723, 28.526921487477434, 20.183382414609508, 56.615923316025146, 70.73919965022448, 178.73293676732126, 71.77291660350865, 66.14953762548534, 62.26875253196347, 40.48009678729971, 28.73222593559845, 261.9613037499788, 30.1860467568521, 45.00836298235092, 19.60296370094137, 45.695583608677126, 35.68585477449038, 27.23141760291566, 24.642435898616437, 23.53018449141971, 23.50157833628161, 22.233146805854325, 17.873135754916586, 16.585753313780277, 15.257905206773671, 15.203410894771558, 53.14376442197571, 14.492397405622246, 14.245551947026286, 13.81769373698013, 13.763425155513515, 13.60571347287343, 16.216125319614576, 13.191237540050818, 12.442146751414766, 11.890028728072648, 11.875948905865293, 11.364141708673023, 11.140594870125671, 11.078469073450197, 10.559117472649787, 10.453974119956614, 20.49102990251011, 10.396650573309396, 10.377089061117388, 26.428451923534116, 32.084168077810176, 261.9613037499788, 70.73919965022448, 40.48009678729971, 20.51714099110851, 178.73293676732126, 96.89121455504028, 30.1860467568521, 56.85499769455968, 26.88153053716745, 63.517874830020645, 36.199513307768854, 36.199513307768854, 26.51830668305459, 25.267678558032113, 22.386466574341874, 22.375223044191554, 16.124535056751057, 15.791391180393324, 15.416224455483729, 14.907710217907407, 14.618788959643961, 14.072684914434756, 12.564452428498408, 12.355685150827053, 12.193328892267878, 12.137753594515067, 12.06775565332307, 11.958035646338486, 11.663033278966218, 11.084327965841048, 10.974804154917738, 73.12928515979652, 10.026712290932888, 9.323757858318801, 8.785325131459942, 8.647552971689821, 8.125831120219964, 8.08819780439821, 8.013905234641266, 17.71957519276875, 18.014126677505708, 56.85499769455968, 115.34761165943623, 90.3865312982932, 261.9613037499788, 26.88153053716745, 27.040346978586125, 19.150591723707638, 17.773229618845058, 16.175735825431794, 15.03969814695406, 13.786741244158268, 11.41045064892319, 11.23073942184663, 10.726442549842774, 10.64965162194053, 10.572454208530727, 10.15039739114249, 9.599338230887062, 8.752071667884065, 8.747792892070507, 8.653938664245514, 8.632564119522426, 8.527632263701825, 7.753028576779631, 7.7367490367981295, 7.643827085192373, 7.169322870942025, 7.146905061060105, 7.11053709982762, 30.984139225724693, 6.779379996389892, 6.519279150475423, 6.279706014424502, 6.172851392833662, 5.994499137111698, 63.6548334853563, 18.87473458350203, 17.634743852318824, 10.277926677949154, 50.12104886999821, 28.65376633034673, 65.1174206079273, 27.608846073218867, 56.615923316025146, 58.0993732451138, 28.62682152713588, 26.50456517314084, 26.195453214235528, 20.479989275216912, 18.44079691908681, 14.93457020499016, 13.735813035318847, 12.526463692251193, 11.835615737181367, 11.713637435470412, 11.646289655643521, 10.881408459525858, 10.802384229908833, 10.380919906398669, 10.188523409988065, 10.119390293551756, 8.624337457551295, 8.553123295370762, 8.45188691447874, 8.257156816238401, 7.767408865214293, 7.228281559019456, 7.172983685124377, 6.9470649724663085, 6.686678764207185, 6.534837757569001, 6.424047344407857, 5.905255088940377, 5.901047802056348, 5.880635825224305, 20.504610014889227, 8.718753660353824, 24.57577261116794, 24.764829974832892, 13.907312537342108, 56.615923316025146, 39.922441499478545, 24.939995141117315, 71.77291660350865, 23.68405812926501, 19.380478065432836, 19.228264473594475, 17.410746347697426, 17.46594886191495, 17.27944858345536, 16.63465322461655, 15.868140450000299, 12.489626244572879, 11.327038580949159, 10.036754328808927, 9.611256447923838, 9.349108935904445, 8.678262904450996, 8.651927554486063, 8.021737649934325, 7.5185271191082785, 7.496559858197434, 7.301664955236188, 6.993473541741644, 6.862977028967871, 6.142084577832104, 5.838817850188942, 5.752566080475922, 5.559491498086209, 5.5352143775433245, 5.2075295845488085, 4.594429957848325, 4.577684085014878, 4.562769629761956, 12.6997031159224, 39.922441499478545, 16.34207243404831, 19.836095437408886, 24.57577261116794, 7.908674880942394, 65.1174206079273, 43.5000545559566, 26.76650438553958, 9.562848877546807, 9.412961293486989, 8.707876692906863, 8.681618914524227, 8.415380480325748, 8.054341332728265, 6.8344326015388726, 6.834630590731086, 6.7489602149047645, 6.255866969327499, 5.943691191300871, 5.889842347140742, 5.789925813501245, 5.592051835703241, 5.2986186318959625, 5.2986186318959625, 5.2986186318959625, 5.2986186318959625, 5.2986186318959625, 5.2986186318959625, 5.310434599770832, 5.310434599770832, 5.25625764907523, 5.181542085266964, 5.093749830698467, 4.952323768778899, 4.858263378478463, 4.2298993100827, 16.689368057172814, 13.283582544523075, 11.08776032980015, 29.90988808255847, 11.037672840805449, 25.099677083759694], \"Category\": [\"Default\", \"Default\", \"Default\", \"Default\", \"Default\", \"Default\", \"Default\", \"Default\", \"Default\", \"Default\", \"Default\", \"Default\", \"Default\", \"Default\", \"Default\", \"Default\", \"Default\", \"Default\", \"Default\", \"Default\", \"Default\", \"Default\", \"Default\", \"Default\", \"Default\", \"Default\", \"Default\", \"Default\", \"Default\", \"Default\", \"Topic1\", \"Topic1\", \"Topic1\", \"Topic1\", \"Topic1\", \"Topic1\", \"Topic1\", \"Topic1\", \"Topic1\", \"Topic1\", \"Topic1\", \"Topic1\", \"Topic1\", \"Topic1\", \"Topic1\", \"Topic1\", \"Topic1\", \"Topic1\", \"Topic1\", \"Topic1\", \"Topic1\", \"Topic1\", \"Topic1\", \"Topic1\", \"Topic1\", \"Topic1\", \"Topic1\", \"Topic1\", \"Topic1\", \"Topic1\", \"Topic1\", \"Topic1\", \"Topic1\", \"Topic1\", \"Topic1\", \"Topic1\", \"Topic1\", \"Topic1\", \"Topic1\", \"Topic1\", \"Topic1\", \"Topic1\", \"Topic1\", \"Topic1\", \"Topic1\", \"Topic1\", \"Topic1\", \"Topic1\", \"Topic1\", \"Topic1\", \"Topic1\", \"Topic2\", \"Topic2\", \"Topic2\", \"Topic2\", \"Topic2\", \"Topic2\", \"Topic2\", \"Topic2\", \"Topic2\", \"Topic2\", \"Topic2\", \"Topic2\", \"Topic2\", \"Topic2\", \"Topic2\", \"Topic2\", \"Topic2\", \"Topic2\", \"Topic2\", \"Topic2\", \"Topic2\", \"Topic2\", \"Topic2\", \"Topic2\", \"Topic2\", \"Topic2\", \"Topic2\", \"Topic2\", \"Topic2\", \"Topic2\", \"Topic2\", \"Topic2\", \"Topic2\", \"Topic2\", \"Topic2\", \"Topic2\", \"Topic2\", \"Topic2\", \"Topic2\", \"Topic2\", \"Topic2\", \"Topic2\", \"Topic2\", \"Topic2\", \"Topic2\", \"Topic2\", \"Topic2\", \"Topic2\", \"Topic2\", \"Topic2\", \"Topic2\", \"Topic2\", \"Topic3\", \"Topic3\", \"Topic3\", \"Topic3\", \"Topic3\", \"Topic3\", \"Topic3\", \"Topic3\", \"Topic3\", \"Topic3\", \"Topic3\", \"Topic3\", \"Topic3\", \"Topic3\", \"Topic3\", \"Topic3\", \"Topic3\", \"Topic3\", \"Topic3\", \"Topic3\", \"Topic3\", \"Topic3\", \"Topic3\", \"Topic3\", \"Topic3\", \"Topic3\", \"Topic3\", \"Topic3\", \"Topic3\", \"Topic3\", \"Topic3\", \"Topic3\", \"Topic3\", \"Topic3\", \"Topic3\", \"Topic3\", \"Topic3\", \"Topic3\", \"Topic3\", \"Topic3\", \"Topic3\", \"Topic4\", \"Topic4\", \"Topic4\", \"Topic4\", \"Topic4\", \"Topic4\", \"Topic4\", \"Topic4\", \"Topic4\", \"Topic4\", \"Topic4\", \"Topic4\", \"Topic4\", \"Topic4\", \"Topic4\", \"Topic4\", \"Topic4\", \"Topic4\", \"Topic4\", \"Topic4\", \"Topic4\", \"Topic4\", \"Topic4\", \"Topic4\", \"Topic4\", \"Topic4\", \"Topic4\", \"Topic4\", \"Topic4\", \"Topic4\", \"Topic4\", \"Topic4\", \"Topic4\", \"Topic4\", \"Topic4\", \"Topic4\", \"Topic4\", \"Topic5\", \"Topic5\", \"Topic5\", \"Topic5\", \"Topic5\", \"Topic5\", \"Topic5\", \"Topic5\", \"Topic5\", \"Topic5\", \"Topic5\", \"Topic5\", \"Topic5\", \"Topic5\", \"Topic5\", \"Topic5\", \"Topic5\", \"Topic5\", \"Topic5\", \"Topic5\", \"Topic5\", \"Topic5\", \"Topic5\", \"Topic5\", \"Topic5\", \"Topic5\", \"Topic5\", \"Topic5\", \"Topic5\", \"Topic5\", \"Topic5\", \"Topic5\", \"Topic5\", \"Topic5\", \"Topic5\", \"Topic5\", \"Topic5\", \"Topic5\", \"Topic5\", \"Topic5\", \"Topic6\", \"Topic6\", \"Topic6\", \"Topic6\", \"Topic6\", \"Topic6\", \"Topic6\", \"Topic6\", \"Topic6\", \"Topic6\", \"Topic6\", \"Topic6\", \"Topic6\", \"Topic6\", \"Topic6\", \"Topic6\", \"Topic6\", \"Topic6\", \"Topic6\", \"Topic6\", \"Topic6\", \"Topic6\", \"Topic6\", \"Topic6\", \"Topic6\", \"Topic6\", \"Topic6\", \"Topic6\", \"Topic6\", \"Topic6\", \"Topic6\", \"Topic6\", \"Topic6\", \"Topic6\", \"Topic6\", \"Topic6\", \"Topic6\", \"Topic6\", \"Topic6\", \"Topic7\", \"Topic7\", \"Topic7\", \"Topic7\", \"Topic7\", \"Topic7\", \"Topic7\", \"Topic7\", \"Topic7\", \"Topic7\", \"Topic7\", \"Topic7\", \"Topic7\", \"Topic7\", \"Topic7\", \"Topic7\", \"Topic7\", \"Topic7\", \"Topic7\", \"Topic7\", \"Topic7\", \"Topic7\", \"Topic7\", \"Topic7\", \"Topic7\", \"Topic7\", \"Topic7\", \"Topic7\", \"Topic7\", \"Topic7\", \"Topic7\", \"Topic7\", \"Topic7\", \"Topic7\", \"Topic7\", \"Topic7\", \"Topic7\", \"Topic8\", \"Topic8\", \"Topic8\", \"Topic8\", \"Topic8\", \"Topic8\", \"Topic8\", \"Topic8\", \"Topic8\", \"Topic8\", \"Topic8\", \"Topic8\", \"Topic8\", \"Topic8\", \"Topic8\", \"Topic8\", \"Topic8\", \"Topic8\", \"Topic8\", \"Topic8\", \"Topic8\", \"Topic8\", \"Topic8\", \"Topic8\", \"Topic8\", \"Topic8\", \"Topic8\", \"Topic8\", \"Topic8\", \"Topic8\", \"Topic8\", \"Topic8\", \"Topic8\", \"Topic8\", \"Topic8\", \"Topic8\"], \"logprob\": [30.0, 29.0, 28.0, 27.0, 26.0, 25.0, 24.0, 23.0, 22.0, 21.0, 20.0, 19.0, 18.0, 17.0, 16.0, 15.0, 14.0, 13.0, 12.0, 11.0, 10.0, 9.0, 8.0, 7.0, 6.0, 5.0, 4.0, 3.0, 2.0, 1.0, -3.468, -3.7353, -3.7549, -4.4772, -4.4927, -4.7261, -4.7289, -4.745, -4.8978, -4.7777, -5.1327, -5.2151, -5.2308, -5.2481, -5.2656, -5.2779, -5.306, -5.3135, -5.3927, -5.4331, -5.4345, -5.4344, -5.4707, -5.488, -5.5429, -5.5531, -5.5622, -5.5883, -5.6073, -5.6292, -5.6246, -4.4453, -4.1128, -4.3106, -4.9797, -3.8726, -3.3903, -3.9438, -4.2563, -4.5496, -4.5585, -5.1014, -4.0026, -4.8869, -4.3738, -3.6515, -4.4961, -4.5181, -5.0464, -5.1197, -4.9707, -4.0425, -4.2377, -4.3049, -4.5313, -4.5597, -4.7106, -4.7406, -4.8944, -4.9742, -5.0057, -5.1054, -5.118, -5.1327, -5.1614, -5.2073, -5.2046, -5.2608, -5.328, -5.3073, -5.4661, -5.4848, -5.4845, -5.5146, -5.5459, -5.5583, -5.5683, -5.5869, -5.5984, -5.5938, -5.6045, -4.0334, -4.2184, -3.7914, -4.94, -4.5142, -5.3043, -4.9997, -5.0882, -4.7527, -4.9878, -4.4755, -4.3607, -3.9941, -4.4523, -4.5979, -4.6233, -4.8447, -4.9707, -4.6278, -5.0244, -5.0047, -5.0784, -3.7721, -4.0233, -4.2998, -4.4018, -4.4493, -4.4505, -4.5077, -4.7332, -4.8107, -4.8977, -4.9014, -3.652, -4.9515, -4.9695, -5.0014, -5.0056, -5.0177, -4.8432, -5.0501, -5.1117, -5.1595, -5.161, -5.2074, -5.2285, -5.2345, -5.2855, -5.2961, -4.6231, -5.302, -5.3041, -4.5055, -4.3483, -2.7465, -3.8102, -4.427, -4.8947, -3.9189, -4.2975, -4.8179, -4.8517, -5.0392, -3.2999, -3.8701, -3.8701, -4.1881, -4.2377, -4.3622, -4.3628, -4.7021, -4.7239, -4.7491, -4.7842, -4.8047, -4.8445, -4.9637, -4.9814, -4.9954, -5.0002, -5.0063, -5.0165, -5.0441, -5.0965, -5.1072, -3.2114, -5.2034, -5.2815, -5.3457, -5.3627, -5.4302, -5.4352, -5.4454, -4.7149, -4.7843, -3.8724, -3.3166, -3.9248, -3.8022, -4.997, -3.7769, -4.132, -4.2092, -4.307, -4.383, -4.4739, -4.6733, -4.6902, -4.739, -4.7466, -4.7543, -4.798, -4.8574, -4.9569, -4.9576, -4.9689, -4.9715, -4.985, -5.088, -5.0906, -5.1034, -5.1738, -5.1772, -5.1832, -3.7147, -5.236, -5.2784, -5.3201, -5.3394, -5.372, -3.1162, -4.2794, -4.3742, -4.8836, -3.6671, -4.2807, -4.0512, -4.5201, -4.8473, -4.898, -3.7067, -3.7856, -3.7976, -4.0508, -4.1594, -4.3786, -4.4664, -4.5633, -4.6234, -4.6342, -4.6404, -4.7123, -4.72, -4.7624, -4.7824, -4.7896, -4.9614, -4.9703, -4.9834, -5.0086, -5.0748, -5.1537, -5.1624, -5.1973, -5.2397, -5.2652, -5.2838, -5.378, -5.3789, -5.3831, -4.1834, -5.0266, -4.2305, -4.3624, -4.7734, -3.894, -4.1384, -4.6916, -4.7056, -3.6575, -3.8645, -3.8727, -3.9755, -3.9726, -3.9836, -4.0231, -4.0723, -4.3233, -4.4268, -4.5556, -4.6022, -4.6319, -4.712, -4.7155, -4.7976, -4.8682, -4.8714, -4.9005, -4.9479, -4.9686, -5.0921, -5.1489, -5.1658, -5.2042, -5.2092, -5.2788, -5.4235, -5.428, -5.4317, -4.6225, -3.7407, -4.6771, -4.6728, -4.7871, -5.1406, -4.7614, -2.7678, -3.2634, -4.3402, -4.3571, -4.4412, -4.4446, -4.4784, -4.5261, -4.7068, -4.7068, -4.7206, -4.8053, -4.8628, -4.8731, -4.8924, -4.9334, -4.9933, -4.9933, -4.9933, -4.9933, -4.9933, -4.9933, -4.9911, -4.9911, -5.0025, -5.0193, -5.039, -5.0715, -5.0936, -5.2561, -3.8929, -4.2612, -4.5197, -4.3254, -4.7488, -4.5857], \"loglift\": [30.0, 29.0, 28.0, 27.0, 26.0, 25.0, 24.0, 23.0, 22.0, 21.0, 20.0, 19.0, 18.0, 17.0, 16.0, 15.0, 14.0, 13.0, 12.0, 11.0, 10.0, 9.0, 8.0, 7.0, 6.0, 5.0, 4.0, 3.0, 2.0, 1.0, 1.4566, 1.4545, 1.4543, 1.4443, 1.4441, 1.439, 1.4389, 1.4382, 1.4345, 1.4333, 1.4269, 1.4237, 1.4232, 1.4225, 1.4217, 1.4212, 1.42, 1.4198, 1.4162, 1.4143, 1.4143, 1.4143, 1.4125, 1.4116, 1.4087, 1.4081, 1.4077, 1.4062, 1.4052, 1.4039, 1.4039, 1.3764, 1.3426, 1.3271, 1.3157, 0.9897, 0.8598, 0.9881, 1.0482, 1.0935, 1.0706, 1.2716, 0.6854, 1.149, 0.7887, 0.2162, 0.748, 0.7417, 1.1336, 1.1013, 0.5508, 1.7685, 1.7648, 1.7635, 1.7579, 1.7571, 1.7525, 1.7515, 1.7459, 1.7428, 1.7413, 1.7369, 1.7362, 1.7356, 1.734, 1.7319, 1.7318, 1.7289, 1.7251, 1.7246, 1.7164, 1.7152, 1.7149, 1.7131, 1.7109, 1.71, 1.7093, 1.7079, 1.707, 1.7069, 1.7066, 1.661, 1.636, 1.5824, 1.6493, 1.5701, 1.632, 1.4932, 1.524, 1.3324, 1.4433, 0.9242, 0.8163, 0.256, 0.7102, 0.6462, 0.6812, 0.8905, 1.1072, -0.7601, 1.0042, 0.6244, 1.3819, 1.8419, 1.8379, 1.8318, 1.8297, 1.8284, 1.8284, 1.8267, 1.8194, 1.8167, 1.8132, 1.8131, 1.8109, 1.8108, 1.81, 1.8086, 1.8083, 1.8078, 1.8068, 1.8063, 1.8032, 1.8007, 1.8005, 1.7981, 1.7969, 1.7965, 1.7935, 1.7929, 1.7929, 1.7925, 1.7923, 1.6561, 1.6193, 1.1212, 1.3667, 1.3082, 1.52, 0.3312, 0.5649, 1.2107, 0.5438, 1.1054, 1.9847, 1.9768, 1.9768, 1.97, 1.9687, 1.9653, 1.9653, 1.9535, 1.9526, 1.9514, 1.9499, 1.949, 1.9473, 1.9414, 1.9405, 1.9396, 1.9394, 1.9391, 1.9381, 1.9355, 1.9339, 1.9332, 1.9324, 1.9273, 1.9219, 1.9172, 1.916, 1.9107, 1.9103, 1.9093, 1.8463, 1.7605, 1.5231, 1.3714, 1.0071, 0.0656, 1.1475, 2.3618, 2.3516, 2.349, 2.3454, 2.3422, 2.3383, 2.3282, 2.3271, 2.3242, 2.3238, 2.3234, 2.3205, 2.3169, 2.3098, 2.3096, 2.309, 2.3089, 2.3076, 2.2999, 2.2994, 2.2986, 2.2924, 2.2921, 2.2911, 2.2878, 2.2861, 2.2828, 2.2786, 2.2764, 2.2731, 2.1663, 2.2188, 2.1919, 2.2224, 1.8544, 1.7999, 1.2086, 1.5977, 0.5524, 0.4758, 2.375, 2.373, 2.3728, 2.3657, 2.362, 2.3536, 2.3496, 2.3449, 2.3415, 2.341, 2.3406, 2.3366, 2.3362, 2.3336, 2.3323, 2.3319, 2.3199, 2.3194, 2.3182, 2.3163, 2.3112, 2.3043, 2.3033, 2.3003, 2.2962, 2.2936, 2.2921, 2.2821, 2.2819, 2.2812, 2.2319, 2.2439, 2.0037, 1.8642, 2.0302, 1.5057, 1.6106, 1.5279, 0.4568, 2.6136, 2.6072, 2.6069, 2.6033, 2.6031, 2.6028, 2.6014, 2.5993, 2.5878, 2.5819, 2.5741, 2.5709, 2.5688, 2.5631, 2.5627, 2.5562, 2.5504, 2.5501, 2.5474, 2.5431, 2.5413, 2.5287, 2.5225, 2.5205, 2.5163, 2.5156, 2.5071, 2.4876, 2.4868, 2.4863, 2.2719, 2.0083, 1.9651, 1.7756, 1.4471, 2.2274, 0.4984, 2.8954, 2.8855, 2.8379, 2.8367, 2.8306, 2.8301, 2.8275, 2.8237, 2.8072, 2.8072, 2.806, 2.7971, 2.7908, 2.7896, 2.7874, 2.7812, 2.7752, 2.7752, 2.7752, 2.7752, 2.7752, 2.7752, 2.7752, 2.7752, 2.774, 2.7716, 2.769, 2.7646, 2.7617, 2.7376, 2.7283, 2.5883, 2.5105, 1.7124, 2.2859, 1.6274]}, \"token.table\": {\"Topic\": [6, 7, 6, 1, 2, 6, 1, 2, 6, 6, 8, 4, 7, 8, 4, 8, 4, 8, 3, 2, 4, 7, 5, 3, 6, 1, 1, 2, 2, 5, 1, 7, 3, 6, 1, 1, 1, 5, 1, 4, 3, 5, 5, 2, 3, 3, 7, 4, 8, 6, 1, 6, 8, 1, 3, 6, 3, 2, 8, 7, 2, 1, 6, 7, 7, 2, 6, 2, 4, 2, 4, 2, 5, 6, 6, 2, 4, 1, 1, 1, 8, 5, 5, 1, 3, 6, 8, 1, 8, 5, 1, 2, 1, 2, 3, 2, 4, 7, 1, 5, 2, 3, 3, 1, 3, 5, 7, 3, 6, 3, 5, 3, 1, 4, 2, 7, 8, 7, 3, 4, 7, 1, 2, 3, 7, 8, 7, 5, 7, 6, 7, 3, 6, 2, 1, 2, 3, 6, 2, 2, 3, 5, 1, 3, 2, 6, 1, 3, 6, 8, 6, 7, 3, 4, 6, 4, 5, 6, 7, 3, 4, 5, 6, 7, 4, 3, 4, 8, 7, 4, 8, 1, 2, 3, 6, 1, 2, 3, 8, 3, 2, 3, 4, 6, 8, 2, 2, 5, 4, 2, 6, 1, 3, 5, 7, 8, 8, 2, 5, 5, 4, 7, 4, 3, 2, 6, 8, 4, 8, 3, 5, 6, 1, 4, 5, 5, 5, 1, 2, 1, 7, 4, 2, 4, 6, 3, 1, 8, 1, 2, 6, 1, 7, 3, 6, 2, 3, 1, 2, 4, 8, 5, 4, 1, 2, 1, 2, 7, 4, 1, 6, 3, 7, 5, 1, 8, 6, 1, 2, 3, 4, 5, 3, 5, 4, 4, 7, 8, 2, 1, 3, 1, 6, 1, 3, 7, 1, 3, 6, 4, 1, 7, 2, 5, 3, 2, 4, 3, 2, 7, 2, 4, 8, 3, 6, 5, 7, 8, 8, 7, 8, 6, 2, 6, 7, 6, 3, 2, 2, 5, 8, 1, 3, 5, 1, 8, 1, 5, 2, 4, 7, 5, 4, 6, 7, 2, 8, 4, 6, 7, 3, 5, 5, 7, 3, 5, 4, 1, 2, 4, 5, 2, 5, 6, 1, 8, 5, 4, 2, 1, 7, 4, 7, 2, 5, 6, 6, 7, 5, 7, 2, 2, 1, 2, 3, 5, 8, 1, 5, 4, 3, 8, 8, 1, 6, 7, 7, 6, 4, 3, 2, 2, 3, 2, 6, 5, 8, 5, 2, 5, 3, 1, 1, 5, 1, 8, 6, 2, 1, 2, 4, 1, 1, 2], \"Freq\": [0.9374223568430587, 0.9764084583455122, 0.9684182807275118, 0.9747541814587537, 0.9887556286509652, 0.9257215617560379, 0.5155147895744179, 0.3343879716158386, 0.1393283215065994, 0.9579718821540304, 0.988504507383701, 0.8976022986257081, 0.9452903474899428, 0.9436421730565066, 0.9944885085588696, 0.8778821211108343, 0.9944885085588696, 0.8635689231700938, 0.9644637890672291, 0.9457319677390238, 0.9841446996159946, 0.9033073805208486, 0.9145163927293766, 0.9827629039619244, 0.927607487459267, 0.9171799235227438, 0.6665427936529011, 0.3110533037046872, 0.9479501075894041, 0.9203471521176456, 0.9341036356865896, 0.8726288873405514, 0.989513548941577, 0.9390763595508407, 0.9315321315002616, 0.9344099887313814, 0.8740413998651563, 0.11205658972630209, 0.6195613350310907, 0.3761622391260193, 0.991501815796366, 0.902872978046933, 0.9458541794327353, 0.41995947018915253, 0.5681804596676769, 0.9739296918024039, 0.8579427610883288, 0.9391113588445629, 0.9649636956953115, 0.897306452362737, 0.1463085617244892, 0.8290818497721055, 0.80770163397178, 0.44105862642550614, 0.1202887162978653, 0.40096238765955106, 0.9565740153220794, 0.9458938021225585, 0.9436421730565066, 0.8140558692476991, 0.9683410999514918, 0.9716491656132853, 0.719046183304596, 0.28761847332183843, 0.9803679731661801, 0.9717297994113906, 0.901201432996392, 0.9772022642156636, 0.9498846446552525, 0.05469764939257243, 0.9435344520218744, 0.42390900994467745, 0.15896587872925405, 0.4062461345303159, 0.8473071508177992, 0.6631650294478542, 0.3060761674374712, 0.9872950696011822, 0.9906703934047882, 0.9383660921232239, 0.8890258364168867, 0.992136445396556, 0.8340980431618057, 0.9259978517041644, 0.9511481495530855, 0.9353308404112296, 0.8412280919503273, 0.2705686189786241, 0.6313267776167896, 0.9851831031488746, 0.4872577582878596, 0.5220618838798495, 0.9003669925308144, 0.9854980991698595, 0.9636613833709563, 0.903469727930235, 0.9712128347003691, 0.9364020249344323, 0.3990339478304839, 0.5785992243542016, 0.9860263694557801, 0.961848234629748, 0.9408227051094825, 0.84140522087613, 0.140234203479355, 0.9554587406190647, 0.9711173598066896, 0.11469529234978042, 0.802867046448463, 0.9855026839240679, 0.9719981282824445, 0.9646833458391303, 0.45948068830833255, 0.537505710851257, 0.25288686538618727, 0.6322171634654682, 0.9713632989015302, 0.9838276909065881, 0.7310960141327943, 0.2436986713775981, 0.8742561682305886, 0.9767143533576356, 0.9513246039637687, 0.9251449472135195, 0.4529940388806755, 0.5435928466568106, 0.9618475229963095, 0.8756629894343486, 0.09729588771492763, 0.9814964934169704, 0.9246494436782431, 0.9679569546026418, 0.9339906258977075, 0.9652315599758287, 0.6192511908901321, 0.09288767863351982, 0.27866303590055946, 0.9633057657863371, 0.9206127730060627, 0.8089588127175319, 0.03442377926457583, 0.1549070066905912, 0.7341977350066641, 0.2669809945478779, 0.4037984516817777, 0.6056976775226666, 0.18700812143387557, 0.7792005059744816, 0.8636740873707294, 0.9512471293867577, 0.9465341977417348, 0.8706194319421707, 0.4836034161829325, 0.44640315339963005, 0.07440052556660501, 0.9062632483304648, 0.9381267569489703, 0.45087422822662565, 0.5260199329310632, 0.9847778810610257, 0.9431508713807779, 0.9640285330043539, 0.850248195705825, 0.8967042238113684, 0.8614503423017869, 0.9660237439092567, 0.965276033200504, 0.9415425246392775, 0.960148169841499, 0.11983677231807667, 0.8388574062265367, 0.5483040886167427, 0.21820264751074459, 0.21820264751074459, 0.016784819039288044, 0.20060255603225796, 0.16716879669354828, 0.33433759338709657, 0.30090383404838694, 0.9786576744291562, 0.9614246901562754, 0.2638290494809978, 0.6156011154556614, 0.10553161979239911, 0.8941261896173417, 0.9719185125145302, 0.9453292441830224, 0.8438181132822523, 0.9251172009226464, 0.9833408601327197, 0.9293982032082796, 0.491419956460996, 0.015356873639406125, 0.30713747278812253, 0.122854989115249, 0.07678436819703063, 0.918708461560615, 0.8705793604133122, 0.11607724805510829, 0.9140692973706088, 0.9115199475364713, 0.960797366151318, 0.9576716675128039, 0.9830969452701033, 0.4780938001694209, 0.19920575007059205, 0.27888805009882883, 0.22584268889396283, 0.7528089629798761, 0.9873799494762451, 0.9308697464008195, 0.889381646415491, 0.244295982569887, 0.17449713040706213, 0.5583908173025989, 0.9763823063920991, 0.9429349379795151, 0.24772854704377043, 0.6936399317225572, 0.9602135473835008, 0.8738042918020629, 0.9832304221749888, 0.9556633832504894, 0.8465214225971629, 0.11286952301295505, 0.955480947465116, 0.9780333175383964, 0.9436421730565066, 0.14021842496239542, 0.6309829123307794, 0.21032763744359312, 0.9927088970782728, 0.8993628287265467, 0.9596610355835231, 0.03763376610131463, 0.4637904430735721, 0.530046220655511, 0.9884845734517853, 0.8210999783078993, 0.08210999783078993, 0.8779075528009468, 0.924434562155228, 0.9302593809500117, 0.9158077948791596, 0.05387104675759762, 0.8776983178410716, 0.09337216147245442, 0.018674432294490884, 0.9111779908636516, 0.9397634079503457, 0.8467034742265784, 0.9262417754733957, 0.9626585872196095, 0.93899785223001, 0.966656792807849, 0.9436421730565066, 0.9181559240779126, 0.2863018275080106, 0.08016451170224297, 0.48098707021345777, 0.1450595926040587, 0.007634715400213616, 0.18851671338926027, 0.8011960319043561, 0.9827365978879034, 0.8734817539071321, 0.9310334177301235, 0.8690965171237502, 0.9240816016629295, 0.9498429303055214, 0.9445323277536266, 0.9045815730949512, 0.9189986790033371, 0.9577551894906997, 0.428342245345558, 0.4895339946806377, 0.6826616852825849, 0.28109598805753494, 0.9925386588032266, 0.8654585569350853, 0.9443378497047048, 0.8766605208180726, 0.9881964028414246, 0.9375646303451819, 0.9250051849227149, 0.16653596667253975, 0.7771678444718523, 0.9470488443662065, 0.8055342356591486, 0.17511613818677144, 0.7719917754318724, 0.17815194817658592, 0.9590996786565292, 0.986620706617782, 0.9760966447913879, 0.9615261231888037, 0.9711276183433151, 0.9415425246392775, 0.9506403208628698, 0.9218434712201308, 0.9411421340278256, 0.9464310533765381, 0.7378485407626918, 0.10540693439467026, 0.10540693439467026, 0.9445068193602463, 0.9026517954511628, 0.9890901237734852, 0.8775137479073614, 0.09486635112512015, 0.8489191569664474, 0.7323632876173117, 0.23127261714230898, 0.03854543619038483, 0.95743797509925, 0.921487118792569, 0.9779377429117712, 0.9891358373227449, 0.9528052320974901, 0.9918467859416499, 0.9337616363251673, 0.9794449401796986, 0.9021746767884657, 0.9809630842896394, 0.9586854563876069, 0.9400929886119586, 0.8233394709968856, 0.9198835264693467, 0.9688564935895755, 0.9881287011675992, 0.17011871706917506, 0.8505935853458753, 0.979454654481807, 0.9733224421072842, 0.927234994551081, 0.04880184181847795, 0.9730008824997568, 0.6984851162930868, 0.1351906676696297, 0.157722445614568, 0.9322755380950208, 0.3984230261137288, 0.47086357631622494, 0.10866082530374423, 0.9671614227467038, 0.9436421730565066, 0.8850366852418773, 0.9804547594516737, 0.9723090130007817, 0.5545446196661821, 0.40330517793904147, 0.9894062860813534, 0.8563377259385136, 0.9156128219902923, 0.9564947038086316, 0.9765630113977768, 0.69173817112365, 0.2848333645803265, 0.9036881675497023, 0.06454915482497874, 0.905126127969603, 0.8791505801279516, 0.48375243650488353, 0.3174625364563298, 0.1662899000485537, 0.01511726364077761, 0.9436421730565066, 0.865181529760802, 0.0865181529760802, 0.9550754454513172, 0.8324361965526006, 0.15135203573683648, 0.9456489875457095, 0.987465800402812, 0.23622599462492277, 0.7086779838747683, 0.8691773253974233, 0.9781036980811263, 0.9106094402075434, 0.9774678990888047, 0.9228487239398022, 0.3816837076685009, 0.607866645546131, 0.8628528934642795, 0.11133585722119736, 0.915771631407048, 0.9561284402844911, 0.9047727885066523, 0.10596175491379646, 0.8476940393103717, 0.9807807665299177, 0.9822545496055294, 0.97574831380129, 0.9267234959666397, 0.987974617228466, 0.7852760997199406, 0.975883998525869, 0.9620381344496606, 0.6584361872185266, 0.3372478032094892, 0.9237753903425726, 0.9899977633090133, 0.9541555249082875, 0.950099498962084], \"Term\": [\"$\", \"%\", \"'d\", \"'ll\", \"'m\", \"'re\", \"'s\", \"'s\", \"'s\", \"'ve\", \"*\", \"//support\", \"//www\", \"/message/compose/\", \"[\", \"\\\\\", \"]\", \"action\", \"activate\", \"activated\", \"activation\", \"ad\", \"add\", \"ago\", \"agree\", \"already\", \"also\", \"also\", \"always\", \"amazon\", \"android\", \"annoying\", \"another\", \"answer\", \"anyone\", \"anything\", \"app\", \"app\", \"apple\", \"apple\", \"apps\", \"ask\", \"available\", \"back\", \"back\", \"backup\", \"bad\", \"bar\", \"basic\", \"basically\", \"battery\", \"battery\", \"believe\", \"better\", \"better\", \"better\", \"big\", \"bit\", \"bot\", \"bought\", \"button\", \"buy\", \"c\", \"c\", \"call\", \"camera\", \"canada\", \"car\", \"card\", \"carrier\", \"carrier\", \"case\", \"case\", \"case\", \"cause\", \"change\", \"change\", \"charge\", \"charger\", \"charging\", \"chat\", \"check\", \"click\", \"close\", \"code\", \"come\", \"concern\", \"contact\", \"contact\", \"cost\", \"could\", \"could\", \"country\", \"currently\", \"deal\", \"definitely\", \"deleted\", \"depends\", \"device\", \"device\", \"different\", \"done\", \"dont\", \"download\", \"download\", \"downloaded\", \"e\", \"easy\", \"easy\", \"else\", \"end\", \"enough\", \"esim\", \"esim\", \"etc\", \"etc\", \"even\", \"every\", \"everything\", \"everything\", \"exactly\", \"fee\", \"feel\", \"file\", \"find\", \"find\", \"fine\", \"first\", \"first\", \"fix\", \"friend\", \"full\", \"g\", \"gb\", \"get\", \"get\", \"get\", \"getting\", \"glass\", \"go\", \"go\", \"go\", \"going\", \"going\", \"good\", \"good\", \"got\", \"got\", \"great\", \"group\", \"guess\", \"headset\", \"help\", \"help\", \"help\", \"hope\", \"hour\", \"http\", \"http\", \"icloud\", \"id\", \"idea\", \"ignore\", \"im\", \"imei\", \"info\", \"information\", \"instagram\", \"international\", \"io\", \"io\", \"iphone\", \"iphone\", \"iphone\", \"iphone\", \"issue\", \"issue\", \"issue\", \"issue\", \"keep\", \"keeping\", \"know\", \"know\", \"know\", \"known\", \"last\", \"le\", \"leave\", \"left\", \"let\", \"life\", \"like\", \"like\", \"like\", \"like\", \"like\", \"link\", \"little\", \"little\", \"live\", \"location\", \"lol\", \"long\", \"longer\", \"look\", \"look\", \"look\", \"looking\", \"looking\", \"lost\", \"lot\", \"love\", \"make\", \"make\", \"make\", \"manage\", \"many\", \"maybe\", \"maybe\", \"mean\", \"mess\", \"message\", \"metal\", \"might\", \"might\", \"minute\", \"mobile\", \"moderator\", \"much\", \"much\", \"much\", \"n't\", \"na\", \"need\", \"need\", \"never\", \"never\", \"new\", \"next\", \"next\", \"noise\", \"normal\", \"number\", \"old\", \"old\", \"one\", \"one\", \"one\", \"open\", \"option\", \"panama\", \"part\", \"pay\", \"pc\", \"people\", \"performed\", \"person\", \"phone\", \"phone\", \"phone\", \"phone\", \"phone\", \"photo\", \"photo\", \"physical\", \"play\", \"playing\", \"please\", \"plus\", \"pocket\", \"possible\", \"power\", \"pretty\", \"price\", \"pro\", \"pro\", \"probably\", \"probably\", \"problem\", \"process\", \"product\", \"protection\", \"protector\", \"put\", \"qr\", \"question\", \"question\", \"ram\", \"really\", \"really\", \"reason\", \"reason\", \"recommend\", \"remove\", \"review\", \"right\", \"ring\", \"ringtone\", \"running\", \"safari\", \"said\", \"samsung\", \"say\", \"say\", \"say\", \"saying\", \"scan\", \"scratch\", \"screen\", \"screen\", \"search\", \"see\", \"see\", \"see\", \"sell\", \"send\", \"service\", \"show\", \"side\", \"sim\", \"similar\", \"simple\", \"sims\", \"since\", \"single\", \"small\", \"smaller\", \"software\", \"solid\", \"someone\", \"something\", \"something\", \"sorry\", \"sound\", \"space\", \"space\", \"start\", \"still\", \"still\", \"still\", \"stop\", \"storage\", \"storage\", \"storage\", \"store\", \"subreddit\", \"suggestion\", \"support\", \"sure\", \"switch\", \"switch\", \"take\", \"tap\", \"tell\", \"thank\", \"thanks\", \"thing\", \"thing\", \"think\", \"think\", \"thinking\", \"thought\", \"time\", \"time\", \"time\", \"time\", \"to=/r/iphone\", \"transfer\", \"transfer\", \"tray\", \"tried\", \"tried\", \"true\", \"turn\", \"two\", \"two\", \"type\", \"u\", \"unless\", \"update\", \"upgrade\", \"use\", \"use\", \"using\", \"using\", \"usually\", \"version\", \"via\", \"video\", \"video\", \"want\", \"way\", \"website\", \"week\", \"work\", \"working\", \"worry\", \"worth\", \"would\", \"would\", \"yeah\", \"year\", \"yes\", \"yet\"]}, \"R\": 30, \"lambda.step\": 0.01, \"plot.opts\": {\"xlab\": \"PC1\", \"ylab\": \"PC2\"}, \"topic.order\": [6, 8, 1, 2, 3, 5, 4, 7]};\n",
       "\n",
       "function LDAvis_load_lib(url, callback){\n",
       "  var s = document.createElement('script');\n",
       "  s.src = url;\n",
       "  s.async = true;\n",
       "  s.onreadystatechange = s.onload = callback;\n",
       "  s.onerror = function(){console.warn(\"failed to load library \" + url);};\n",
       "  document.getElementsByTagName(\"head\")[0].appendChild(s);\n",
       "}\n",
       "\n",
       "if(typeof(LDAvis) !== \"undefined\"){\n",
       "   // already loaded: just create the visualization\n",
       "   !function(LDAvis){\n",
       "       new LDAvis(\"#\" + \"ldavis_el1077218493218704961865001403\", ldavis_el1077218493218704961865001403_data);\n",
       "   }(LDAvis);\n",
       "}else if(typeof define === \"function\" && define.amd){\n",
       "   // require.js is available: use it to load d3/LDAvis\n",
       "   require.config({paths: {d3: \"https://d3js.org/d3.v5\"}});\n",
       "   require([\"d3\"], function(d3){\n",
       "      window.d3 = d3;\n",
       "      LDAvis_load_lib(\"https://cdn.jsdelivr.net/gh/bmabey/pyLDAvis@3.4.0/pyLDAvis/js/ldavis.v3.0.0.js\", function(){\n",
       "        new LDAvis(\"#\" + \"ldavis_el1077218493218704961865001403\", ldavis_el1077218493218704961865001403_data);\n",
       "      });\n",
       "    });\n",
       "}else{\n",
       "    // require.js not available: dynamically load d3 & LDAvis\n",
       "    LDAvis_load_lib(\"https://d3js.org/d3.v5.js\", function(){\n",
       "         LDAvis_load_lib(\"https://cdn.jsdelivr.net/gh/bmabey/pyLDAvis@3.4.0/pyLDAvis/js/ldavis.v3.0.0.js\", function(){\n",
       "                 new LDAvis(\"#\" + \"ldavis_el1077218493218704961865001403\", ldavis_el1077218493218704961865001403_data);\n",
       "            })\n",
       "         });\n",
       "}\n",
       "</script>"
      ],
      "text/plain": [
       "<IPython.core.display.HTML object>"
      ]
     },
     "execution_count": 21,
     "metadata": {},
     "output_type": "execute_result"
    }
   ],
   "source": [
    "# Visualize the topics (can take some mintues to run)\n",
    "#vis = pyLDAvis.gensim.prepare(lda_model, tdm, id2word)\n",
    "#pyLDAvis.show(vis)\n",
    "\n",
    "# If it is a newwer version of puLDavis, use this instead of the previous\n",
    "vis = gensimvis.prepare(lda_model, tdm, id2word)\n",
    "pyLDAvis.display(vis)\n",
    "\n",
    "#pyLDAvis.enable_notebook() # Remove remarks to see in notebook instead of the browser"
   ]
  },
  {
   "cell_type": "markdown",
   "id": "401bc9d1",
   "metadata": {},
   "source": [
    "### Insights of graphs:\n",
    "The LDA model identifies eight topics (as specified by num_topics=8) and assigns keywords to each topic. The keywords provide an insight into the main themes or areas of discussion in the analyzed dataset. Each topic is represented by a list of words and their corresponding weights.\n",
    "\n",
    "We can see here that in Topic 1 there are several words that show a higher weight. Some of them are:\"work\", \"esim\",\"app\", \"time\" and \"charge\". The weight of a keyword indicates the likelihood of that word occurring in the given topic. The higher the weight, the more representative and important the word is for the topic.\n",
    "\n",
    "In topic 2 we can see that the words that have more weight are: \"screen\", \"button\" , \"gb\", and \"use\", which complements the previous insights that we got from the other analysis within Best Buy and Reddit."
   ]
  },
  {
   "cell_type": "code",
   "execution_count": 25,
   "id": "4f5046af",
   "metadata": {},
   "outputs": [
    {
     "name": "stdout",
     "output_type": "stream",
     "text": [
      "\n",
      "Perplexity:  -7.667577983872887\n"
     ]
    }
   ],
   "source": [
    "# Compute Perplexity\n",
    "print('\\nPerplexity: ', lda_model.log_perplexity(tdm))  # lower value is better (some liteture do not recommend the use of this measure)"
   ]
  },
  {
   "cell_type": "code",
   "execution_count": 26,
   "id": "4ceb13ee",
   "metadata": {},
   "outputs": [
    {
     "name": "stdout",
     "output_type": "stream",
     "text": [
      "\n",
      "Coherence Score:  0.3927006689358542\n"
     ]
    }
   ],
   "source": [
    "# Compute Coherence Score\n",
    "coherence_model_lda = CoherenceModel(model=lda_model, texts=corpus, dictionary=id2word, coherence='c_v')\n",
    "coherence_lda = coherence_model_lda.get_coherence()\n",
    "print('\\nCoherence Score: ', coherence_lda)"
   ]
  },
  {
   "cell_type": "code",
   "execution_count": 27,
   "id": "862828c5",
   "metadata": {},
   "outputs": [
    {
     "data": {
      "image/png": "[encoded data removed]",
      "text/plain": [
       "<Figure size 432x288 with 1 Axes>"
      ]
     },
     "metadata": {
      "needs_background": "light"
     },
     "output_type": "display_data"
    }
   ],
   "source": [
    "# HOW TO SELECT K (based on https://www.machinelearningplus.com/nlp/topic-modeling-gensim-python/)\n",
    "def compute_coherence_values(dictionary, corpus, texts, limit, start=2, step=3):\n",
    "    \"\"\"\n",
    "    Compute c_v coherence for various number of topics\n",
    "\n",
    "    Parameters:\n",
    "    ----------\n",
    "    dictionary : Gensim dictionary\n",
    "    corpus : Gensim corpus\n",
    "    texts : List of input texts\n",
    "    limit : Max num of topics\n",
    "\n",
    "    Returns:\n",
    "    -------\n",
    "    model_list : List of LDA topic models\n",
    "    coherence_values : Coherence values corresponding to the LDA model with respective number of topics\n",
    "    \"\"\"\n",
    "    coherence_values = []\n",
    "    model_list = []\n",
    "    for num_topics in range(start, limit, step):\n",
    "        model = gensim.models.ldamodel.LdaModel(corpus=corpus,\n",
    "                                           id2word=id2word,\n",
    "                                           num_topics=num_topics,\n",
    "                                           random_state=123,\n",
    "                                           update_every=1,\n",
    "                                           chunksize=100,\n",
    "                                           passes=10,\n",
    "                                           alpha='auto',\n",
    "                                           per_word_topics=True)\n",
    "        model_list.append(model)\n",
    "        coherencemodel = CoherenceModel(model=model, texts=texts, dictionary=dictionary, coherence='c_v')\n",
    "        coherence_values.append(coherencemodel.get_coherence())\n",
    "\n",
    "    return model_list, coherence_values\n",
    "\n",
    "# ATTENTION!!!! Can take a LONG time to run.\n",
    "lowerBound = 2\n",
    "upperBound = 20\n",
    "step = 6\n",
    "model_list, coherence_values = compute_coherence_values(dictionary=id2word, corpus=tdm, texts=corpus, start=lowerBound, limit=upperBound, step= step)\n",
    "\n",
    "# Show graph\n",
    "x = range(lowerBound, upperBound, step)\n",
    "plt.plot(x, coherence_values)\n",
    "plt.xlabel(\"Num Topics\")\n",
    "plt.ylabel(\"Coherence score\")\n",
    "plt.legend((\"coherence_values\"), loc='best')\n",
    "plt.show()\n",
    "# The coherence score is decreasing. A higher value should be chosen, because as K increases the probability of having repeated keywords increases.\n",
    "# ...So, in this case we may choose 8, as there is an inflaction at K=8"
   ]
  },
  {
   "cell_type": "markdown",
   "id": "4f5c9caf",
   "metadata": {},
   "source": [
    "### Insights from the graph:\n",
    "This code snippet computes the perplexity of an LDA (Latent Dirichlet Allocation) model. The perplexity is a measure of how well the model predicts a sample or a set of documents. A lower perplexity value indicates better performance.\n",
    "\n",
    "Then code calculates the coherence score of an LDA model. Coherence is a measure of the interpretability and consistency of the topics generated by the model. The code creates a CoherenceModel object with the LDA model (lda_model), the corpus, the dictionary, and the coherence measure ('c_v'). The coherence score is obtained using the get_coherence method of the coherence_model_lda object. The code then prints the coherence score.\n",
    "\n",
    "Finally the code defines a function called compute_coherence_values that computes the coherence values for different numbers of topics in an LDA model. The function takes in a Gensim dictionary, a Gensim corpus, a list of input texts, a limit on the maximum number of topics to consider, and the start and step values for the range of topics.\n",
    "\n",
    "A perplexity value of -7.667577983872887 suggests a very low perplexity, which indicates that the LDA model is performing well in predicting the sample or set of documents. Lower perplexity values generally indicate better model performance. In this case, the negative value may be due to the logarithmic transformation typically applied to perplexity calculations. Therefore, a lower negative value still indicates a good performance.\n",
    "\n",
    "A coherence score of 0.3927006689358542 indicates a moderate level of coherence and interpretability for the topics generated by the LDA model. Coherence scores typically range between 0 and 1, where higher values indicate better topic quality.\n",
    "\n",
    "It also suggests that the topics have some level of coherence and are reasonably interpretable. However, there is room for improvement, as a higher coherence score would indicate more distinct and coherent topics."
   ]
  },
  {
   "cell_type": "code",
   "execution_count": null,
   "id": "922a20b6",
   "metadata": {},
   "outputs": [],
   "source": []
  }
 ],
 "metadata": {
  "kernelspec": {
   "display_name": "Python 3 (ipykernel)",
   "language": "python",
   "name": "python3"
  },
  "language_info": {
   "codemirror_mode": {
    "name": "ipython",
    "version": 3
   },
   "file_extension": ".py",
   "mimetype": "text/x-python",
   "name": "python",
   "nbconvert_exporter": "python",
   "pygments_lexer": "ipython3",
   "version": "3.9.7"
  }
 },
 "nbformat": 4,
 "nbformat_minor": 5
}
