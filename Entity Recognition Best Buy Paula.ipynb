{
 "cells": [
  {
   "cell_type": "markdown",
   "id": "a9dddcd5",
   "metadata": {},
   "source": [
    "# Social Media Analytics\n",
    "## Webscraping Project\n",
    "### Introduction to Text Mining\n",
    "### Named Entity Recognition\n",
    "\n",
    "Felix Funes 20220306 | Paula Catalan 20221048 | Efstathia Styliagkatzi 20220078 | Alisson Tapia 20221156 | S M Abrar Hossain Asif 20220223\n",
    "\n",
    "Some of the importan reason of doing Entity Recognition in our data are:\n",
    "\n",
    "Information Extraction: Entity Recognition helps extract important information from unstructured text by identifying and classifying entities such as names, locations, organizations, dates, and more. This can be valuable for generating insights from large amounts of text data.\n",
    "\n",
    "Text Understanding: Entity Recognition enhances text understanding by identifying and labeling entities within the text. This can help in better comprehending the context, relationships, and key elements mentioned in the text.\n",
    "\n",
    "Document Organization and Summarization: Can aid in organizing and summarizing documents by identifying and categorizing entities. It can help in creating structured databases, indexing documents, and generating summaries that capture the most important entities and their relationships.\n",
    "\n",
    "Information Retrieval and Search: Enables more accurate and relevant information retrieval by recognizing entities within a text and allowing users to search based on specific entities or entity types. \n",
    "\n",
    "Data Cleaning and Standardization: It assists in data cleaning and standardization processes by identifying and normalizing entity mentions. \n",
    "\n",
    "\n"
   ]
  },
  {
   "cell_type": "code",
   "execution_count": 1,
   "id": "757afbc5",
   "metadata": {},
   "outputs": [
    {
     "name": "stderr",
     "output_type": "stream",
     "text": [
      "[nltk_data] Downloading package stopwords to C:\\Users\\Paula\n",
      "[nltk_data]     Muñoz\\AppData\\Roaming\\nltk_data...\n",
      "[nltk_data]   Package stopwords is already up-to-date!\n",
      "[nltk_data] Downloading package punkt to C:\\Users\\Paula\n",
      "[nltk_data]     Muñoz\\AppData\\Roaming\\nltk_data...\n",
      "[nltk_data]   Package punkt is already up-to-date!\n"
     ]
    },
    {
     "name": "stdout",
     "output_type": "stream",
     "text": [
      "Defaulting to user installation because normal site-packages is not writeable\n",
      "Requirement already satisfied: plotly in c:\\programdata\\anaconda3\\lib\\site-packages (5.6.0)\n",
      "Requirement already satisfied: tenacity>=6.2.0 in c:\\programdata\\anaconda3\\lib\\site-packages (from plotly) (8.0.1)\n",
      "Requirement already satisfied: six in c:\\programdata\\anaconda3\\lib\\site-packages (from plotly) (1.16.0)\n"
     ]
    }
   ],
   "source": [
    "# Import packages\n",
    "import csv\n",
    "import pandas as pd\n",
    "import numpy as np\n",
    "import nltk \n",
    "nltk.download('stopwords')\n",
    "nltk.download('punkt')\n",
    "from nltk.tokenize import word_tokenize\n",
    "from nltk.corpus import stopwords\n",
    "import re\n",
    "from nltk.stem.wordnet import WordNetLemmatizer\n",
    "from nltk.stem.porter import PorterStemmer\n",
    "from rake_nltk import Rake\n",
    "from sklearn.feature_extraction.text import CountVectorizer\n",
    "from bs4 import BeautifulSoup\n",
    "import spacy\n",
    "from spacy import displacy\n",
    "from collections import Counter\n",
    "!pip install plotly\n",
    "from plotly.offline import iplot\n",
    "import plotly.graph_objs as go\n",
    "import plotly.express as px"
   ]
  },
  {
   "cell_type": "code",
   "execution_count": 2,
   "id": "1438027b",
   "metadata": {},
   "outputs": [],
   "source": [
    "# Load dataset\n",
    "dtypes = {'device':'category','user':'category','rating':'integer','ownership_lenght':'category'}\n",
    "ds = pd.read_excel(\"ExtractedReviewsDataCollection_bestbuy.xlsx\", sheet_name=\"Sheet1\", index_col = 0)"
   ]
  },
  {
   "cell_type": "code",
   "execution_count": 3,
   "id": "01a97a39",
   "metadata": {},
   "outputs": [
    {
     "name": "stdout",
     "output_type": "stream",
     "text": [
      "                                         device          user  rating  \\\n",
      "0  Apple - iPhone 14 128GB - Midnight (Verizon)          BigG       5   \n",
      "1  Apple - iPhone 14 128GB - Midnight (Verizon)       Jp44087       5   \n",
      "2  Apple - iPhone 14 128GB - Midnight (Verizon)  GamerDadLife       5   \n",
      "3  Apple - iPhone 14 128GB - Midnight (Verizon)       LevanaP       5   \n",
      "4  Apple - iPhone 14 128GB - Midnight (Verizon)     Anonymous       5   \n",
      "\n",
      "                                                text       date  \\\n",
      "0  Apple makes the best cellphone on the market h... 2023-02-03   \n",
      "1  Ease of use, good battery life, 128gb fits me ... 2023-02-03   \n",
      "2  Love it works great and the red color is the m... 2022-12-24   \n",
      "3  Been a long time iPhone user. This is a awesom... 2023-04-14   \n",
      "4  My wife dropped her phone right AFTER the Appl... 2023-04-15   \n",
      "\n",
      "   ownership_length  \n",
      "0  less than 1 week  \n",
      "1           3 weeks  \n",
      "2           2 weeks  \n",
      "3            1 week  \n",
      "4           3 weeks  \n"
     ]
    }
   ],
   "source": [
    "# Drop non-English reviews\n",
    "print(ds.head())"
   ]
  },
  {
   "cell_type": "code",
   "execution_count": 4,
   "id": "974474bb",
   "metadata": {},
   "outputs": [
    {
     "name": "stdout",
     "output_type": "stream",
     "text": [
      "     key                                        device          user  rating  \\\n",
      "0      0  Apple - iPhone 14 128GB - Midnight (Verizon)          BigG       5   \n",
      "1      1  Apple - iPhone 14 128GB - Midnight (Verizon)       Jp44087       5   \n",
      "2      2  Apple - iPhone 14 128GB - Midnight (Verizon)  GamerDadLife       5   \n",
      "3      3  Apple - iPhone 14 128GB - Midnight (Verizon)       LevanaP       5   \n",
      "4      4  Apple - iPhone 14 128GB - Midnight (Verizon)     Anonymous       5   \n",
      "..   ...                                           ...           ...     ...   \n",
      "369  369   Apple - iPhone 14 128GB - Purple (T-Mobile)         Heart       3   \n",
      "370  370   Apple - iPhone 14 128GB - Purple (T-Mobile)      CharlesK       5   \n",
      "371  371   Apple - iPhone 14 128GB - Purple (T-Mobile)     Darklight       5   \n",
      "372  372   Apple - iPhone 14 128GB - Purple (T-Mobile)    user482290       1   \n",
      "373  373   Apple - iPhone 14 128GB - Purple (T-Mobile)    user849170       1   \n",
      "\n",
      "                                                  text       date  \\\n",
      "0    Apple makes the best cellphone on the market h... 2023-02-03   \n",
      "1    Ease of use, good battery life, 128gb fits me ... 2023-02-03   \n",
      "2    Love it works great and the red color is the m... 2022-12-24   \n",
      "3    Been a long time iPhone user. This is a awesom... 2023-04-14   \n",
      "4    My wife dropped her phone right AFTER the Appl... 2023-04-15   \n",
      "..                                                 ...        ...   \n",
      "369  Value for the $$$. Security a headache. It is ... 2023-02-24   \n",
      "370  My mom got this and she loves this phone the n... 2023-01-08   \n",
      "371  I loved it because the camra looks great abd d... 2022-09-19   \n",
      "372  I went into the store with my wife and child t... 2023-02-05   \n",
      "373  The camera did not work and I had to get a rep... 2022-11-18   \n",
      "\n",
      "     ownership_length  \n",
      "0    less than 1 week  \n",
      "1             3 weeks  \n",
      "2             2 weeks  \n",
      "3              1 week  \n",
      "4             3 weeks  \n",
      "..                ...  \n",
      "369            1 week  \n",
      "370           Unknown  \n",
      "371           Unknown  \n",
      "372           Unknown  \n",
      "373           Unknown  \n",
      "\n",
      "[374 rows x 7 columns]\n"
     ]
    }
   ],
   "source": [
    "# Defining Key\n",
    "ds.reset_index(inplace=True)\n",
    "ds.rename(columns={'index': 'key'}, inplace=True)\n",
    "print(ds)"
   ]
  },
  {
   "cell_type": "markdown",
   "id": "d203d744",
   "metadata": {},
   "source": [
    "## Functions"
   ]
  },
  {
   "cell_type": "code",
   "execution_count": 5,
   "id": "1082b307",
   "metadata": {},
   "outputs": [],
   "source": [
    "# Text preprocessing\n",
    "def textPreProcess(rawText, removeHTML=True, charsToRemove = r'\\?|\\.|\\!|\\;|\\.|\\\"|\\,|\\(|\\)|\\&|\\:|\\-', removeNumbers=True, removeLineBreaks=False, specialCharsToRemove = r'[^\\x00-\\xfd]', convertToLower=True, removeConsecutiveSpaces=True):\n",
    "    if type(rawText) != str:\n",
    "        return rawText\n",
    "    procText = rawText\n",
    "        \n",
    "    # Remove HTML\n",
    "    if removeHTML:\n",
    "        procText = BeautifulSoup(procText,'html.parser').get_text()\n",
    "\n",
    "    # Remove punctuation and other special characters\n",
    "    if len(charsToRemove)>0:\n",
    "        procText = re.sub(charsToRemove,' ',procText)\n",
    "\n",
    "    # Remove numbers\n",
    "    if removeNumbers:\n",
    "        procText = re.sub(r'\\d+',' ',procText)\n",
    "\n",
    "    # Remove line breaks\n",
    "    if removeLineBreaks:\n",
    "        procText = procText.replace('\\n',' ').replace('\\r', '')\n",
    "\n",
    "    # Remove special characters\n",
    "    if len(specialCharsToRemove)>0:\n",
    "        procText = re.sub(specialCharsToRemove,' ',procText)\n",
    "\n",
    "    # Normalize to lower case\n",
    "    if convertToLower:\n",
    "        procText = procText.lower() \n",
    "\n",
    "    # Replace multiple consecutive spaces with just one space\n",
    "    if removeConsecutiveSpaces:\n",
    "        procText = re.sub(' +', ' ', procText)\n",
    "\n",
    "    return procText"
   ]
  },
  {
   "cell_type": "markdown",
   "id": "6d105f27",
   "metadata": {},
   "source": [
    "## Analysis"
   ]
  },
  {
   "cell_type": "code",
   "execution_count": 6,
   "id": "b1b1e221",
   "metadata": {},
   "outputs": [
    {
     "name": "stderr",
     "output_type": "stream",
     "text": [
      "C:\\ProgramData\\Anaconda3\\lib\\site-packages\\bs4\\__init__.py:435: MarkupResemblesLocatorWarning:\n",
      "\n",
      "The input looks more like a filename than markup. You may want to open this file and pass the filehandle into Beautiful Soup.\n",
      "\n"
     ]
    }
   ],
   "source": [
    "# Create a dataframe with only the description\n",
    "processedReviews = pd.DataFrame(data=ds.text.apply(textPreProcess,charsToRemove ='', removeLineBreaks=False, removeNumbers=False).values, index=ds.index, columns=['PreProcessedText'])"
   ]
  },
  {
   "cell_type": "code",
   "execution_count": 7,
   "id": "94a287c1",
   "metadata": {},
   "outputs": [],
   "source": [
    "# Remove rows with empty text\n",
    "processedReviews.PreProcessedText = processedReviews.PreProcessedText.str.strip()\n",
    "processedReviews = processedReviews[processedReviews.PreProcessedText != '']"
   ]
  },
  {
   "cell_type": "code",
   "execution_count": 8,
   "id": "c819c1c8",
   "metadata": {},
   "outputs": [],
   "source": [
    "# Load Spacy English model\n",
    "nlp = spacy.load(\"en_core_web_sm\")"
   ]
  },
  {
   "cell_type": "code",
   "execution_count": 10,
   "id": "418ae523",
   "metadata": {},
   "outputs": [
    {
     "name": "stdout",
     "output_type": "stream",
     "text": [
      "the perfect iphone! this thing is amazing for anyone in the family! kids or grandma! or anyone else! super powerful, you can run a business off of it!\n",
      "[]\n"
     ]
    }
   ],
   "source": [
    "# Check entities in review \n",
    "print(processedReviews.at[5, 'PreProcessedText'])\n",
    "doc = nlp(processedReviews.at[5, 'PreProcessedText'])\n",
    "print([(X.text, X.label_) for X in doc.ents])"
   ]
  },
  {
   "cell_type": "code",
   "execution_count": 12,
   "id": "df25dec0",
   "metadata": {},
   "outputs": [
    {
     "name": "stdout",
     "output_type": "stream",
     "text": [
      "not much different than the iphone11. great service from the staff at the best buy phone booths.\n",
      "[('iphone11', 'GPE')]\n"
     ]
    }
   ],
   "source": [
    "# Check entities in review \n",
    "print(processedReviews.at[305, 'PreProcessedText'])\n",
    "doc = nlp(processedReviews.at[305, 'PreProcessedText'])\n",
    "print([(X.text, X.label_) for X in doc.ents])"
   ]
  },
  {
   "cell_type": "code",
   "execution_count": 14,
   "id": "1ac43bd5",
   "metadata": {},
   "outputs": [
    {
     "name": "stdout",
     "output_type": "stream",
     "text": [
      "iphone 14 was easy to setup. it runs smoothly and has great battery life.\n",
      "[('14', 'CARDINAL')]\n"
     ]
    }
   ],
   "source": [
    "# Check entities in review \n",
    "print(processedReviews.at[350, 'PreProcessedText'])\n",
    "doc = nlp(processedReviews.at[350, 'PreProcessedText'])\n",
    "print([(X.text, X.label_) for X in doc.ents])"
   ]
  },
  {
   "cell_type": "code",
   "execution_count": 15,
   "id": "d0439673",
   "metadata": {},
   "outputs": [
    {
     "data": {
      "text/plain": [
       "Counter({'CARDINAL': 1})"
      ]
     },
     "execution_count": 15,
     "metadata": {},
     "output_type": "execute_result"
    }
   ],
   "source": [
    "# Count the labels\n",
    "labels = [x.label_ for x in doc.ents]\n",
    "Counter(labels)"
   ]
  },
  {
   "cell_type": "code",
   "execution_count": 16,
   "id": "df4d0681",
   "metadata": {},
   "outputs": [
    {
     "data": {
      "text/plain": [
       "[('14', 1)]"
      ]
     },
     "execution_count": 16,
     "metadata": {},
     "output_type": "execute_result"
    }
   ],
   "source": [
    "# Show top 3 labels\n",
    "top_labels = [x.text for x in doc.ents]\n",
    "Counter(top_labels).most_common(3)"
   ]
  },
  {
   "cell_type": "code",
   "execution_count": 17,
   "id": "10f3622f",
   "metadata": {},
   "outputs": [
    {
     "data": {
      "text/html": [
       "<span class=\"tex2jax_ignore\"><div class=\"entities\" style=\"line-height: 2.5; direction: ltr\">iphone \n",
       "<mark class=\"entity\" style=\"background: #e4e7d2; padding: 0.45em 0.6em; margin: 0 0.25em; line-height: 1; border-radius: 0.35em;\">\n",
       "    14\n",
       "    <span style=\"font-size: 0.8em; font-weight: bold; line-height: 1; border-radius: 0.35em; vertical-align: middle; margin-left: 0.5rem\">CARDINAL</span>\n",
       "</mark>\n",
       " was easy to setup. it runs smoothly and has great battery life.</div></span>"
      ],
      "text/plain": [
       "<IPython.core.display.HTML object>"
      ]
     },
     "metadata": {},
     "output_type": "display_data"
    }
   ],
   "source": [
    "# Entities visualization\n",
    "displacy.render(doc, jupyter=True, style='ent')"
   ]
  },
  {
   "cell_type": "code",
   "execution_count": 18,
   "id": "9cd68da4",
   "metadata": {},
   "outputs": [
    {
     "data": {
      "text/plain": [
       "['ease of use, good battery life, 128gb fits me just fine',\n",
       " 'long overdue upgrade from iphone 7 to 14. totally worth it, especially when adding a verizon plan upgrade (that actually reduced our monthly cost) and the 0% financing and best buy incentives.',\n",
       " 'i waited a month before entering this review-very pleased with the iphone 14 and just as happy with the service. they had all of the data transferred within 15 minutes and i was up and running>']"
      ]
     },
     "execution_count": 18,
     "metadata": {},
     "output_type": "execute_result"
    }
   ],
   "source": [
    "# For example, if our objective was understand what customers say about the Iphone 14 cardinal we could look for reviews that mention 14 cardinal\n",
    "counter=0   # to stop after x for demostration speed\n",
    "annReviews=[]\n",
    "for r in processedReviews['PreProcessedText']:\n",
    "  doc = nlp(r)\n",
    "  for i in doc.ents:\n",
    "      if i.label_=='CARDINAL':\n",
    "          annReviews.append(r)\n",
    "          counter = counter + 1\n",
    "          break\n",
    "  if counter>=3:    # Stop after the first three reviews have been found\n",
    "      break\n",
    "\n",
    "annReviews"
   ]
  },
  {
   "cell_type": "code",
   "execution_count": null,
   "id": "51ac7500",
   "metadata": {},
   "outputs": [],
   "source": []
  }
 ],
 "metadata": {
  "kernelspec": {
   "display_name": "Python 3 (ipykernel)",
   "language": "python",
   "name": "python3"
  },
  "language_info": {
   "codemirror_mode": {
    "name": "ipython",
    "version": 3
   },
   "file_extension": ".py",
   "mimetype": "text/x-python",
   "name": "python",
   "nbconvert_exporter": "python",
   "pygments_lexer": "ipython3",
   "version": "3.9.12"
  }
 },
 "nbformat": 4,
 "nbformat_minor": 5
}
